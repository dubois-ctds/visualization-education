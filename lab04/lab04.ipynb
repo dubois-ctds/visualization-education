{
 "cells": [
  {
   "cell_type": "raw",
   "id": "3b089a40-141a-4a76-9ff0-1ecb7f484142",
   "metadata": {},
   "source": [
    "# ASSIGNMENT CONFIG\n",
    "name: lab04\n",
    "export_cell:\n",
    "    pdf: false\n",
    "    run_tests: false\n",
    "files:\n",
    "    - data/riverside_by_college.csv\n",
    "    - data/riverside.csv\n",
    "generate:\n",
    "    show_hidden: true\n",
    "    requirements: requirements.txt\n",
    "    overwrite_requirements: true\n",
    "    run_tests: false\n",
    "    template_pdf: false\n",
    "    solutions_pdf: false"
   ]
  },
  {
   "cell_type": "code",
   "execution_count": 1,
   "id": "27bf6c26-c5fb-4f8b-bcab-42e6f403c1d1",
   "metadata": {},
   "outputs": [],
   "source": [
    "from datascience import *\n",
    "import numpy as np\n",
    "\n",
    "import matplotlib.pyplot as plt\n",
    "plt.style.use(\"ggplot\")\n",
    "%matplotlib inline"
   ]
  },
  {
   "cell_type": "markdown",
   "id": "0ed9d56b-03c6-49dd-91b6-27563c33a1d2",
   "metadata": {},
   "source": [
    "# Lab 4 – Tables\n",
    "\n",
    "## Data 6, Summer 2024\n",
    "\n",
    "In this lab, we will be talking all about **tables**. We use tables to store all sorts of data form sports statistics to population information. If there's data you have ever been curious about, it is very likely that the internet has a table somewhere with that data!\n",
    "\n",
    "Tables are integral to the foundation of Data Science, and in this lab we will go over how to **query** a table. **Querying** a table is basically asking information about the table. Some examples of common queries (in English, not code):\n",
    "\n",
    "- How many data points are there?\n",
    "- Which data points have a specific characteristic?\n",
    "- What is the attribute of a specific data point?\n",
    "- And many more!\n",
    "\n",
    "There are so many ways we can use tables to get information we need, and there are several existing libraries in Python that we can use to do this! In this course, we will be using the `datascience` library, and if you take Data Science classes beyond this one, you'll likely learn many more."
   ]
  },
  {
   "cell_type": "markdown",
   "id": "85998cd6-8606-41f3-b2d7-59da66bfb425",
   "metadata": {},
   "source": [
    "<hr style=\"border: 5px solid #003262;\" />\n",
    "<hr style=\"border: 1px solid #fdb515;\" />\n",
    "\n",
    "## Part 1: Basic Table Functions"
   ]
  },
  {
   "cell_type": "markdown",
   "id": "4231c60f-8625-442a-ad41-b7266f385125",
   "metadata": {},
   "source": [
    "### Loading a Table\n",
    "\n",
    "Recall in Lab 2, we introduced the `Table.read_table` method, which takes a *file path* and constructs a `Table` with the information from that file. Let's see how this works using the file `\"data/riverside.csv\"`, which contains information about UC Riverside's admissions.\n",
    "\n",
    "*Note*: If you want to check where the `riverside.csv` file is, you can look in your DataHub directory by clicking `File` > `Open...` in the top left."
   ]
  },
  {
   "cell_type": "code",
   "execution_count": 2,
   "id": "c8593c93-5ca8-409a-9209-f99de073bdd9",
   "metadata": {},
   "outputs": [
    {
     "data": {
      "text/html": [
       "<table border=\"1\" class=\"dataframe\">\n",
       "    <thead>\n",
       "        <tr>\n",
       "            <th>Year</th> <th>Level</th> <th>Original Entry Type</th> <th>New/Continuing Status</th> <th>Full-Time Status</th> <th>Gender</th> <th>IPEDS Race/Ethnicity</th> <th>Fall Headcount</th>\n",
       "        </tr>\n",
       "    </thead>\n",
       "    <tbody>\n",
       "        <tr>\n",
       "            <td>2022</td> <td>Undergraduate</td> <td>Undergraduate Frosh</td> <td>New                  </td> <td>Full-Time       </td> <td>Female</td> <td>Asian                 </td> <td>1129          </td>\n",
       "        </tr>\n",
       "        <tr>\n",
       "            <td>2022</td> <td>Undergraduate</td> <td>Undergraduate Frosh</td> <td>New                  </td> <td>Full-Time       </td> <td>Female</td> <td>Black/African American</td> <td>90            </td>\n",
       "        </tr>\n",
       "        <tr>\n",
       "            <td>2022</td> <td>Undergraduate</td> <td>Undergraduate Frosh</td> <td>New                  </td> <td>Full-Time       </td> <td>Female</td> <td>Chicano/Latino        </td> <td>1219          </td>\n",
       "        </tr>\n",
       "        <tr>\n",
       "            <td>2022</td> <td>Undergraduate</td> <td>Undergraduate Frosh</td> <td>New                  </td> <td>Full-Time       </td> <td>Female</td> <td>Domestic Unknown      </td> <td>37            </td>\n",
       "        </tr>\n",
       "        <tr>\n",
       "            <td>2022</td> <td>Undergraduate</td> <td>Undergraduate Frosh</td> <td>New                  </td> <td>Full-Time       </td> <td>Female</td> <td>International         </td> <td>99            </td>\n",
       "        </tr>\n",
       "    </tbody>\n",
       "</table>\n",
       "<p>... (5016 rows omitted)</p>"
      ],
      "text/plain": [
       "<IPython.core.display.HTML object>"
      ]
     },
     "metadata": {},
     "output_type": "display_data"
    }
   ],
   "source": [
    "ucr = Table.read_table(\"data/riverside.csv\")\n",
    "ucr.show(5)"
   ]
  },
  {
   "cell_type": "raw",
   "id": "3d555607-1520-4397-a008-324c953cf138",
   "metadata": {},
   "source": [
    "# BEGIN QUESTION\n",
    "name: q1_1\n",
    "manual: true"
   ]
  },
  {
   "cell_type": "markdown",
   "id": "e4bd705b-8867-4bf8-b243-99e2737fe50c",
   "metadata": {},
   "source": [
    "### Question 1.1 (Discussion)\n",
    "What does each row in the dataset correspond to? In other words, what is the granularity of our data?"
   ]
  },
  {
   "cell_type": "raw",
   "id": "9c4550dc-7482-4266-87d7-75e8f9abac77",
   "metadata": {},
   "source": [
    "# BEGIN SOLUTION"
   ]
  },
  {
   "cell_type": "markdown",
   "id": "fe515859-c8f1-4d85-b513-10af6056d972",
   "metadata": {},
   "source": [
    "**SOLUTION:** Each row in the dataset corresponds to a specific status/level/gender/ethnicity stratification of students for each year."
   ]
  },
  {
   "cell_type": "raw",
   "id": "8d2a3c6c-40df-4f51-8474-09f2d0b8e2d5",
   "metadata": {},
   "source": [
    "# END SOLUTION"
   ]
  },
  {
   "cell_type": "raw",
   "id": "093359cf-b60f-454c-b149-5bcadc63dcc4",
   "metadata": {},
   "source": [
    "# END QUESTION"
   ]
  },
  {
   "cell_type": "markdown",
   "id": "69873750-5827-4275-bfef-1d12d02fa6df",
   "metadata": {},
   "source": [
    "---\n",
    "### Excluding columns: `drop`\n",
    "\n",
    "We now have information about UC Riverside Admissions in a `datascience` Table. It is common in data analysis for our tables to have columns that may not be relevant to what our exploration is focused on. Along with this, it is very common for our datasets to have many rows or columns with `NaN` values (`nan` stands for \"Not A Number\", and it is typically used to denote a missing value). One way of cleaning up our table to remove these unnecessary columns is to use the `drop` method!\n",
    "\n",
    "**However**, it is not a good idea to blindly drop columns with several NaN values from a table. Think back to what you saw with the missing values in Lab 2. What information would have been lost if we just dropped all missing values?\n",
    "\n",
    "Fortunately, our table below does not have any missing values! However, for the sake of demonstrating how to use this method, let's use the `drop` method to remove a column from our table, such as the `\"New/Continuing Status\"` column:"
   ]
  },
  {
   "cell_type": "code",
   "execution_count": 3,
   "id": "2bafe445-7f36-4943-956c-0f78ca6a3928",
   "metadata": {},
   "outputs": [
    {
     "data": {
      "text/html": [
       "<table border=\"1\" class=\"dataframe\">\n",
       "    <thead>\n",
       "        <tr>\n",
       "            <th>Year</th> <th>Level</th> <th>Original Entry Type</th> <th>Full-Time Status</th> <th>Gender</th> <th>IPEDS Race/Ethnicity</th> <th>Fall Headcount</th>\n",
       "        </tr>\n",
       "    </thead>\n",
       "    <tbody>\n",
       "        <tr>\n",
       "            <td>2022</td> <td>Undergraduate</td> <td>Undergraduate Frosh</td> <td>Full-Time       </td> <td>Female</td> <td>Asian                 </td> <td>1129          </td>\n",
       "        </tr>\n",
       "        <tr>\n",
       "            <td>2022</td> <td>Undergraduate</td> <td>Undergraduate Frosh</td> <td>Full-Time       </td> <td>Female</td> <td>Black/African American</td> <td>90            </td>\n",
       "        </tr>\n",
       "        <tr>\n",
       "            <td>2022</td> <td>Undergraduate</td> <td>Undergraduate Frosh</td> <td>Full-Time       </td> <td>Female</td> <td>Chicano/Latino        </td> <td>1219          </td>\n",
       "        </tr>\n",
       "        <tr>\n",
       "            <td>2022</td> <td>Undergraduate</td> <td>Undergraduate Frosh</td> <td>Full-Time       </td> <td>Female</td> <td>Domestic Unknown      </td> <td>37            </td>\n",
       "        </tr>\n",
       "        <tr>\n",
       "            <td>2022</td> <td>Undergraduate</td> <td>Undergraduate Frosh</td> <td>Full-Time       </td> <td>Female</td> <td>International         </td> <td>99            </td>\n",
       "        </tr>\n",
       "    </tbody>\n",
       "</table>\n",
       "<p>... (5016 rows omitted)</p>"
      ],
      "text/plain": [
       "<IPython.core.display.HTML object>"
      ]
     },
     "metadata": {},
     "output_type": "display_data"
    }
   ],
   "source": [
    "ucr_dropped = ucr.drop(\"New/Continuing Status\")\n",
    "ucr_dropped.show(5)"
   ]
  },
  {
   "cell_type": "markdown",
   "id": "bff85ebd-07c9-42f5-8d7c-7fcbbd6c62d9",
   "metadata": {},
   "source": [
    "*Note:* We created a new table called `ucr_dropped` with the `New/Continuing Status` dropped. The original `ucr` table still has this column, and we'll continue using that original table in the following exercises!"
   ]
  },
  {
   "cell_type": "raw",
   "id": "30cb8db2-43a6-4075-8610-76a9dc0ec8e8",
   "metadata": {},
   "source": [
    "# BEGIN QUESTION\n",
    "name: q1_2"
   ]
  },
  {
   "cell_type": "markdown",
   "id": "d569537a-0e59-4b3c-80e6-3338ca28ed1f",
   "metadata": {},
   "source": [
    "### Question 1.2 (Multiple Choice)\n",
    "If the `New/Continuing Status` column is dropped using the `drop` method, what would `ucr_dropped` look like? You can answer the question by assigning `q1_3` to `make_array(...)` where `...` is the choice of your answer (eg. `make_array(3)`).\n",
    "\n",
    "1. It contains only rows with NaN values.\n",
    "2. It contains only the columns before the `New/Continuing Status` column.\n",
    "3. It contains all columns except the `New/Continuing Status` column.\n",
    "4. It contains the same columns as the original table but all NaN values in the `New/Continuing Status` column are dropped."
   ]
  },
  {
   "cell_type": "raw",
   "id": "9a6b074e-7f85-4fb9-b84a-dd6999314a0b",
   "metadata": {},
   "source": [
    "# BEGIN SOLUTION"
   ]
  },
  {
   "cell_type": "code",
   "execution_count": 4,
   "id": "f306a5cc-28a4-458a-ba52-109ef2f51609",
   "metadata": {},
   "outputs": [],
   "source": [
    "q1_2 = make_array(3) # SOLUTION"
   ]
  },
  {
   "cell_type": "raw",
   "id": "fcf4ae24-265b-40b9-8d91-1ca57e90403c",
   "metadata": {},
   "source": [
    "# END SOLUTION"
   ]
  },
  {
   "cell_type": "raw",
   "id": "6a60ec42-cab7-4e75-8b03-f65b834d71c0",
   "metadata": {},
   "source": [
    "# BEGIN TESTS"
   ]
  },
  {
   "cell_type": "code",
   "execution_count": 5,
   "id": "a5adf012-7842-443a-adf9-f3f78d3f5487",
   "metadata": {},
   "outputs": [],
   "source": [
    "assert isinstance(q1_2, np.ndarray)"
   ]
  },
  {
   "cell_type": "code",
   "execution_count": 6,
   "id": "fa60c781-ff53-43a3-b496-516f83ea9e63",
   "metadata": {},
   "outputs": [],
   "source": [
    "# HIDDEN\n",
    "assert q1_2 == make_array(3)"
   ]
  },
  {
   "cell_type": "raw",
   "id": "267e9d50-3992-44fc-aecf-b6edf360123d",
   "metadata": {},
   "source": [
    "# END TESTS"
   ]
  },
  {
   "cell_type": "raw",
   "id": "3cb37979-c485-4aa5-9c4b-db595017e9f9",
   "metadata": {},
   "source": [
    "# END QUESTION"
   ]
  },
  {
   "cell_type": "raw",
   "id": "96810346-aab1-4365-89aa-025152d69be1",
   "metadata": {},
   "source": [
    "# BEGIN QUESTION\n",
    "name: q1_3"
   ]
  },
  {
   "cell_type": "markdown",
   "id": "8632c123-ac88-462d-a04b-d004f1e992fe",
   "metadata": {},
   "source": [
    "### Question 1.3\n",
    "Each row in the dataset corresponds to a specific status/level/gender/ethnicity combination of students for each year. Let's take a look at how many rows we have overall. Assign the variable `ucr_rows` to the number of rows in `ucr`. \n",
    "\n",
    "You should not write an integer, but instead use one of the table attributes we have talked about so far to **calculate** the number of rows.\n",
    "\n",
    "*Hint:* Stuck? Remember, you can reference all of the Table tools in `datascience` by looking at the Data 6 Python Reference sheet [here](http://data6.org/su23/reference). "
   ]
  },
  {
   "cell_type": "raw",
   "id": "37d9813d-8425-45fb-9b48-abd36251a24b",
   "metadata": {},
   "source": [
    "# BEGIN SOLUTION"
   ]
  },
  {
   "cell_type": "code",
   "execution_count": 7,
   "id": "d1b8588e-a15b-4a24-ae33-b744c21defc9",
   "metadata": {},
   "outputs": [
    {
     "data": {
      "text/plain": [
       "5021"
      ]
     },
     "execution_count": 7,
     "metadata": {},
     "output_type": "execute_result"
    }
   ],
   "source": [
    "ucr_rows = ucr.num_rows # SOLUTION\n",
    "ucr_rows"
   ]
  },
  {
   "cell_type": "raw",
   "id": "98b26427-080e-491d-9be0-6a7eb76ce4e2",
   "metadata": {},
   "source": [
    "# END SOLUTION"
   ]
  },
  {
   "cell_type": "raw",
   "id": "82741b31-75fa-403d-aa9b-0a0a6adeb865",
   "metadata": {},
   "source": [
    "# BEGIN TESTS"
   ]
  },
  {
   "cell_type": "code",
   "execution_count": 8,
   "id": "f4759e04-8fd9-4a0a-a6fa-0c1dda697879",
   "metadata": {},
   "outputs": [],
   "source": [
    "assert isinstance(ucr_rows, int)"
   ]
  },
  {
   "cell_type": "code",
   "execution_count": 9,
   "id": "798da61a-64c4-450a-b039-49163bf9e901",
   "metadata": {},
   "outputs": [],
   "source": [
    "assert ucr_rows == 5021"
   ]
  },
  {
   "cell_type": "raw",
   "id": "9299c51e-935b-4b70-bb46-0f8a739614c8",
   "metadata": {},
   "source": [
    "# END TESTS"
   ]
  },
  {
   "cell_type": "raw",
   "id": "8eb2b58a-2073-424c-b62a-7485692dbcb5",
   "metadata": {},
   "source": [
    "# END QUESTION"
   ]
  },
  {
   "cell_type": "markdown",
   "id": "c8a9b09c-b3b1-41d9-a4b3-7cba6d6a8da3",
   "metadata": {},
   "source": [
    "---\n",
    "### Querying the table: `column`\n",
    "\n",
    "Let's try querying our new table using the `column` method to determine which values of race/ethnicity exist in the dataset. This information is contained within the `\"IPEDS Race/Ethnicity\"` column of the `ucr` table."
   ]
  },
  {
   "cell_type": "code",
   "execution_count": 10,
   "id": "522f31c7-6d50-46cc-ba1b-e962242bfb19",
   "metadata": {},
   "outputs": [
    {
     "data": {
      "text/plain": [
       "array(['Asian', 'Black/African American', 'Chicano/Latino', ...,\n",
       "       'Domestic Unknown', 'International', 'White'],\n",
       "      dtype='<U32')"
      ]
     },
     "execution_count": 10,
     "metadata": {},
     "output_type": "execute_result"
    }
   ],
   "source": [
    "ethnicity_list = ucr.column(\"IPEDS Race/Ethnicity\")\n",
    "ethnicity_list"
   ]
  },
  {
   "cell_type": "markdown",
   "id": "b1ee1a9a-18ed-4055-8bfc-d3d4433bb500",
   "metadata": {},
   "source": [
    "One downside of doing it this way is that the list would be long and repetitive, since it will include the race/ethnicity for every row, resulting in repeated values. To work around this, we can use the `np.unique` method to tell us all the race/ethnicity values only once as they appear:"
   ]
  },
  {
   "cell_type": "code",
   "execution_count": 11,
   "id": "f982471b-e6bd-45af-90af-76863d55cef2",
   "metadata": {},
   "outputs": [
    {
     "data": {
      "text/plain": [
       "array(['American Indian/Alaskan Native', 'Asian', 'Black/African American',\n",
       "       'Chicano/Latino', 'Domestic Unknown', 'International',\n",
       "       'Native Hawaiian/Pacific Islander', 'Two or More Races', 'White'],\n",
       "      dtype='<U32')"
      ]
     },
     "execution_count": 11,
     "metadata": {},
     "output_type": "execute_result"
    }
   ],
   "source": [
    "np.unique(ethnicity_list)"
   ]
  },
  {
   "cell_type": "markdown",
   "id": "9a5e3edb-64f6-43fb-abc2-8d457f24e864",
   "metadata": {},
   "source": [
    "---\n",
    "### Picking columns: `select`\n",
    "\n",
    "What if we had several columns we weren't interested in, and only a few that we were? Instead of dropping several columns, we can use the `select` method to grab only the columns we want. "
   ]
  },
  {
   "cell_type": "raw",
   "id": "587401ba-fcbd-4b27-8567-e75e9b0ffe1d",
   "metadata": {},
   "source": [
    "# BEGIN QUESTION\n",
    "name: q1_4"
   ]
  },
  {
   "cell_type": "markdown",
   "id": "08b23186-24b9-4640-9ef2-215427aa1d07",
   "metadata": {},
   "source": [
    "### Question 1.4\n",
    "For this example, we only want to keep the `\"Year\"`, `\"Level\"`, `\"Full-Time Status\"`, `\"IPEDS Race/Ethnicity\"`, and `\"Fall Headcount\"`  columns. Fill in the following code so that the `ucr` table has only the relevant columns."
   ]
  },
  {
   "cell_type": "raw",
   "id": "73864d6b-6554-44cd-8b4d-e5c715b844bb",
   "metadata": {},
   "source": [
    "# BEGIN SOLUTION"
   ]
  },
  {
   "cell_type": "code",
   "execution_count": 12,
   "id": "7f1c8887-8dc7-4224-9608-9bc45f648723",
   "metadata": {},
   "outputs": [
    {
     "data": {
      "text/html": [
       "<table border=\"1\" class=\"dataframe\">\n",
       "    <thead>\n",
       "        <tr>\n",
       "            <th>Year</th> <th>Level</th> <th>Full-Time Status</th> <th>IPEDS Race/Ethnicity</th> <th>Fall Headcount</th>\n",
       "        </tr>\n",
       "    </thead>\n",
       "    <tbody>\n",
       "        <tr>\n",
       "            <td>2022</td> <td>Undergraduate</td> <td>Full-Time       </td> <td>Asian                           </td> <td>1129          </td>\n",
       "        </tr>\n",
       "        <tr>\n",
       "            <td>2022</td> <td>Undergraduate</td> <td>Full-Time       </td> <td>Black/African American          </td> <td>90            </td>\n",
       "        </tr>\n",
       "        <tr>\n",
       "            <td>2022</td> <td>Undergraduate</td> <td>Full-Time       </td> <td>Chicano/Latino                  </td> <td>1219          </td>\n",
       "        </tr>\n",
       "        <tr>\n",
       "            <td>2022</td> <td>Undergraduate</td> <td>Full-Time       </td> <td>Domestic Unknown                </td> <td>37            </td>\n",
       "        </tr>\n",
       "        <tr>\n",
       "            <td>2022</td> <td>Undergraduate</td> <td>Full-Time       </td> <td>International                   </td> <td>99            </td>\n",
       "        </tr>\n",
       "        <tr>\n",
       "            <td>2022</td> <td>Undergraduate</td> <td>Full-Time       </td> <td>Native Hawaiian/Pacific Islander</td> <td>6             </td>\n",
       "        </tr>\n",
       "        <tr>\n",
       "            <td>2022</td> <td>Undergraduate</td> <td>Full-Time       </td> <td>Two or More Races               </td> <td>128           </td>\n",
       "        </tr>\n",
       "        <tr>\n",
       "            <td>2022</td> <td>Undergraduate</td> <td>Full-Time       </td> <td>White                           </td> <td>221           </td>\n",
       "        </tr>\n",
       "        <tr>\n",
       "            <td>2022</td> <td>Undergraduate</td> <td>Full-Time       </td> <td>Asian                           </td> <td>1107          </td>\n",
       "        </tr>\n",
       "        <tr>\n",
       "            <td>2022</td> <td>Undergraduate</td> <td>Full-Time       </td> <td>Black/African American          </td> <td>64            </td>\n",
       "        </tr>\n",
       "    </tbody>\n",
       "</table>\n",
       "<p>... (5011 rows omitted)</p>"
      ],
      "text/plain": [
       "Year | Level         | Full-Time Status | IPEDS Race/Ethnicity             | Fall Headcount\n",
       "2022 | Undergraduate | Full-Time        | Asian                            | 1129\n",
       "2022 | Undergraduate | Full-Time        | Black/African American           | 90\n",
       "2022 | Undergraduate | Full-Time        | Chicano/Latino                   | 1219\n",
       "2022 | Undergraduate | Full-Time        | Domestic Unknown                 | 37\n",
       "2022 | Undergraduate | Full-Time        | International                    | 99\n",
       "2022 | Undergraduate | Full-Time        | Native Hawaiian/Pacific Islander | 6\n",
       "2022 | Undergraduate | Full-Time        | Two or More Races                | 128\n",
       "2022 | Undergraduate | Full-Time        | White                            | 221\n",
       "2022 | Undergraduate | Full-Time        | Asian                            | 1107\n",
       "2022 | Undergraduate | Full-Time        | Black/African American           | 64\n",
       "... (5011 rows omitted)"
      ]
     },
     "execution_count": 12,
     "metadata": {},
     "output_type": "execute_result"
    }
   ],
   "source": [
    "ucr_selected = ucr.select('Year', 'Level', 'Full-Time Status', 'IPEDS Race/Ethnicity', 'Fall Headcount') # SOLUTION\n",
    "ucr_selected"
   ]
  },
  {
   "cell_type": "raw",
   "id": "91d222c5-2d42-4ef8-9c80-a9cf22d53625",
   "metadata": {},
   "source": [
    "# END SOLUTION"
   ]
  },
  {
   "cell_type": "raw",
   "id": "d07fbf15-9134-4079-98cc-b2b50bde1a60",
   "metadata": {},
   "source": [
    "# BEGIN TESTS"
   ]
  },
  {
   "cell_type": "code",
   "execution_count": 13,
   "id": "16f695f4-7dee-4efc-9854-92c56e7ace5d",
   "metadata": {},
   "outputs": [],
   "source": [
    "assert isinstance(ucr_selected, Table)"
   ]
  },
  {
   "cell_type": "code",
   "execution_count": 14,
   "id": "d9c87df5-4e92-4af5-8385-c1a3d75e158e",
   "metadata": {},
   "outputs": [],
   "source": [
    "assert ucr_selected.num_columns == 5"
   ]
  },
  {
   "cell_type": "code",
   "execution_count": 15,
   "id": "b90e9916-b191-4737-83ec-5471ca1a8ec0",
   "metadata": {},
   "outputs": [],
   "source": [
    "# HIDDEN\n",
    "assert all(ucr_selected) == all(ucr.select('Year', 'Level', 'Full-Time Status', 'IPEDS Race/Ethnicity', 'Fall Headcount'))"
   ]
  },
  {
   "cell_type": "raw",
   "id": "86b331aa-afe8-462e-a215-b49dc53296b6",
   "metadata": {},
   "source": [
    "# END TESTS"
   ]
  },
  {
   "cell_type": "raw",
   "id": "05dba689-28c9-4cd3-870f-c2606f7f2190",
   "metadata": {},
   "source": [
    "# END QUESTION"
   ]
  },
  {
   "cell_type": "markdown",
   "id": "73a420f6-c68a-4969-b162-2979f73f050c",
   "metadata": {},
   "source": [
    "*Note:* As before, we created a new table for the sake of this example. We'll continue using the `ucr` table below!"
   ]
  },
  {
   "cell_type": "raw",
   "id": "abae6700-f1b7-4f73-9325-404eabfe7b68",
   "metadata": {},
   "source": [
    "# BEGIN QUESTION\n",
    "name: q1_5"
   ]
  },
  {
   "cell_type": "markdown",
   "id": "58995571-7b67-46ff-b58e-189d38119ee2",
   "metadata": {},
   "source": [
    "### Question 1.5 (Multiple Choice)\n",
    "What is the purpose of using the `select` method in this context? You can answer the question by assigning `q1_5` to `make_array(...)` where `...` is the choice of your answer (eg. `make_array(3)`).\n",
    "\n",
    "1. To drop specific columns from the table selectively.\n",
    "2. To filter rows based on a corresponding condition to keep relevant information.\n",
    "3. To rearrange and rename columns in the table based on a criteria.\n",
    "4. To choose specific columns to keep in the table and create a new table with only the selected columns."
   ]
  },
  {
   "cell_type": "raw",
   "id": "216cfdfb-ac70-47ea-a3dd-1ba94dddc434",
   "metadata": {},
   "source": [
    "# BEGIN SOLUTION"
   ]
  },
  {
   "cell_type": "code",
   "execution_count": 16,
   "id": "d8c11d77-51e0-4ddd-8861-8940c8d26c44",
   "metadata": {},
   "outputs": [],
   "source": [
    "q1_5 = make_array(4) # SOLUTION"
   ]
  },
  {
   "cell_type": "raw",
   "id": "2a93a5e3-1d10-4e4f-a1ce-67a84888aabe",
   "metadata": {},
   "source": [
    "# END SOLUTION"
   ]
  },
  {
   "cell_type": "raw",
   "id": "cf21017d-ae46-42eb-a2ab-16320ab09684",
   "metadata": {},
   "source": [
    "# BEGIN TESTS"
   ]
  },
  {
   "cell_type": "code",
   "execution_count": 17,
   "id": "b9bf4923-89c8-47b4-aefd-5c650267668c",
   "metadata": {},
   "outputs": [],
   "source": [
    "assert isinstance(q1_5, np.ndarray)"
   ]
  },
  {
   "cell_type": "code",
   "execution_count": 18,
   "id": "5199ec38-a6cb-44bb-9dee-bc4ada02734d",
   "metadata": {},
   "outputs": [],
   "source": [
    "# HIDDEN\n",
    "assert q1_5 == make_array(4)"
   ]
  },
  {
   "cell_type": "raw",
   "id": "ddb0ae24-b4a0-48a0-94e2-fb79cd267433",
   "metadata": {},
   "source": [
    "# END TESTS"
   ]
  },
  {
   "cell_type": "raw",
   "id": "9cb5e29f-6b65-424e-b338-db4c4cfb683b",
   "metadata": {},
   "source": [
    "# END QUESTION"
   ]
  },
  {
   "cell_type": "markdown",
   "id": "cea709d7-592c-4024-b109-553de8dac900",
   "metadata": {},
   "source": [
    "---\n",
    "### Changing column labels: `relabeled`\n",
    "\n",
    "We can rename column labels using the `relabeled` method. With this function, you are able to:\n",
    "1. Relabel a *single column*\n",
    "2. Relabel *several columns* at once\n",
    "\n",
    "To change the names of multiple columns, we pass in an array of the old names and an array of the new names as the 2 inputs to `relabeled`.\n",
    "\n",
    "*Note*: You may see another method called `relabel` in the `datascience` documentation. Please avoid using this, as it can change your data when you may not want to."
   ]
  },
  {
   "cell_type": "raw",
   "id": "8936a2d2-6509-4d2f-8b0d-12df14ca4d7e",
   "metadata": {},
   "source": [
    "# BEGIN QUESTION\n",
    "name: q1_6"
   ]
  },
  {
   "cell_type": "markdown",
   "id": "c6a4f081-e438-4140-9732-810b1458b37f",
   "metadata": {},
   "source": [
    "### Question 1.6\n",
    "If we're accessing the `\"IPEDS Race/Ethnicity\"` column a lot, it could be cumbersome to type the long column name multiple times. Let's change the column label instead to `\"Race/Ethnicity\"`.\n",
    "\n",
    "*Hint*: We've provided skeleton code for you to use."
   ]
  },
  {
   "cell_type": "raw",
   "id": "41775450-3dd1-464e-9b2b-8febb64e4fb6",
   "metadata": {},
   "source": [
    "# BEGIN SOLUTION"
   ]
  },
  {
   "cell_type": "code",
   "execution_count": 19,
   "id": "e632da9a-4094-417a-9d99-64e680548b0d",
   "metadata": {},
   "outputs": [
    {
     "data": {
      "text/html": [
       "<table border=\"1\" class=\"dataframe\">\n",
       "    <thead>\n",
       "        <tr>\n",
       "            <th>Year</th> <th>Level</th> <th>Original Entry Type</th> <th>New/Continuing Status</th> <th>Full-Time Status</th> <th>Gender</th> <th>Race/Ethnicity</th> <th>Fall Headcount</th>\n",
       "        </tr>\n",
       "    </thead>\n",
       "    <tbody>\n",
       "        <tr>\n",
       "            <td>2022</td> <td>Undergraduate</td> <td>Undergraduate Frosh</td> <td>New                  </td> <td>Full-Time       </td> <td>Female</td> <td>Asian                 </td> <td>1129          </td>\n",
       "        </tr>\n",
       "        <tr>\n",
       "            <td>2022</td> <td>Undergraduate</td> <td>Undergraduate Frosh</td> <td>New                  </td> <td>Full-Time       </td> <td>Female</td> <td>Black/African American</td> <td>90            </td>\n",
       "        </tr>\n",
       "        <tr>\n",
       "            <td>2022</td> <td>Undergraduate</td> <td>Undergraduate Frosh</td> <td>New                  </td> <td>Full-Time       </td> <td>Female</td> <td>Chicano/Latino        </td> <td>1219          </td>\n",
       "        </tr>\n",
       "        <tr>\n",
       "            <td>2022</td> <td>Undergraduate</td> <td>Undergraduate Frosh</td> <td>New                  </td> <td>Full-Time       </td> <td>Female</td> <td>Domestic Unknown      </td> <td>37            </td>\n",
       "        </tr>\n",
       "        <tr>\n",
       "            <td>2022</td> <td>Undergraduate</td> <td>Undergraduate Frosh</td> <td>New                  </td> <td>Full-Time       </td> <td>Female</td> <td>International         </td> <td>99            </td>\n",
       "        </tr>\n",
       "    </tbody>\n",
       "</table>\n",
       "<p>... (5016 rows omitted)</p>"
      ],
      "text/plain": [
       "<IPython.core.display.HTML object>"
      ]
     },
     "metadata": {},
     "output_type": "display_data"
    }
   ],
   "source": [
    "# BEGIN SOLUTION NO PROMPT\n",
    "ucr_relabeled = ucr.relabeled('IPEDS Race/Ethnicity', 'Race/Ethnicity')\n",
    "# END SOLUTION\n",
    "\"\"\" # BEGIN PROMPT\n",
    "ucr_relabeled = ucr.relabeled(..., ...)\n",
    "\"\"\" # END PROMPT\n",
    "ucr_relabeled.show(5)"
   ]
  },
  {
   "cell_type": "raw",
   "id": "39d9ba10-371f-427d-9c0a-815ad701039d",
   "metadata": {},
   "source": [
    "# END SOLUTION"
   ]
  },
  {
   "cell_type": "raw",
   "id": "64547717-55c5-45b4-ace3-eaed98bfc287",
   "metadata": {},
   "source": [
    "# BEGIN TESTS"
   ]
  },
  {
   "cell_type": "code",
   "execution_count": 20,
   "id": "9d4d112b-1864-4d06-9e97-1075f16fabb1",
   "metadata": {},
   "outputs": [],
   "source": [
    "assert isinstance(ucr_relabeled, Table)"
   ]
  },
  {
   "cell_type": "code",
   "execution_count": 21,
   "id": "25fcde5f-dbdd-4205-ab04-5d9f47a2239d",
   "metadata": {},
   "outputs": [],
   "source": [
    "assert \"Race/Ethnicity\" in ucr_relabeled.labels"
   ]
  },
  {
   "cell_type": "code",
   "execution_count": 22,
   "id": "cac10c09-ee03-4058-a640-3d1d427c45a0",
   "metadata": {},
   "outputs": [],
   "source": [
    "assert \"IPEDS Race/Ethnicity\" not in ucr_relabeled.labels"
   ]
  },
  {
   "cell_type": "code",
   "execution_count": 23,
   "id": "9eef9b8b-04fa-463a-9892-a3cb154b39e8",
   "metadata": {},
   "outputs": [],
   "source": [
    "# HIDDEN\n",
    "assert all(ucr_relabeled) == all(ucr.relabeled('IPEDS Race/Ethnicity', 'Race/Ethnicity'))"
   ]
  },
  {
   "cell_type": "raw",
   "id": "b10e4827-1c39-4f33-88f5-7748947b2694",
   "metadata": {},
   "source": [
    "# END TESTS"
   ]
  },
  {
   "cell_type": "raw",
   "id": "a7194431-3756-480a-9853-cd0783add9bd",
   "metadata": {},
   "source": [
    "# END QUESTION"
   ]
  },
  {
   "cell_type": "markdown",
   "id": "53424cc0-1a17-4d38-8abe-53141a545fc4",
   "metadata": {},
   "source": [
    "<hr style=\"border: 5px solid #003262;\" />\n",
    "<hr style=\"border: 1px solid #fdb515;\" />\n",
    "\n",
    "## Part 2: More Table Functions"
   ]
  },
  {
   "cell_type": "markdown",
   "id": "0366d925-e58c-443c-9555-0055081bcb33",
   "metadata": {},
   "source": [
    "### Sorting a column: `sort`\n",
    "\n",
    "We will now introduce a new table method: `sort`. The `sort` table method allows us to see a table's column values sorted by its values in either **decreasing** (`descending=True`) or **increasing** (`descending=False`) order.\n",
    "\n",
    "Let's say we want to ask the question: among all years, which fall headcount was the highest? Let's use the `sort` method to find out:"
   ]
  },
  {
   "cell_type": "code",
   "execution_count": 24,
   "id": "a25ae57b-37d5-4887-bed4-4a2267d28c08",
   "metadata": {},
   "outputs": [
    {
     "data": {
      "text/html": [
       "<table border=\"1\" class=\"dataframe\">\n",
       "    <thead>\n",
       "        <tr>\n",
       "            <th>Year</th> <th>Level</th> <th>Original Entry Type</th> <th>New/Continuing Status</th> <th>Full-Time Status</th> <th>Gender</th> <th>Race/Ethnicity</th> <th>Fall Headcount</th>\n",
       "        </tr>\n",
       "    </thead>\n",
       "    <tbody>\n",
       "        <tr>\n",
       "            <td>2019</td> <td>Undergraduate</td> <td>Undergraduate Frosh</td> <td>Continuing           </td> <td>Full-Time       </td> <td>Female</td> <td>Chicano/Latino</td> <td>3432          </td>\n",
       "        </tr>\n",
       "        <tr>\n",
       "            <td>2018</td> <td>Undergraduate</td> <td>Undergraduate Frosh</td> <td>Continuing           </td> <td>Full-Time       </td> <td>Female</td> <td>Chicano/Latino</td> <td>3240          </td>\n",
       "        </tr>\n",
       "        <tr>\n",
       "            <td>2017</td> <td>Undergraduate</td> <td>Undergraduate Frosh</td> <td>Continuing           </td> <td>Full-Time       </td> <td>Female</td> <td>Chicano/Latino</td> <td>3191          </td>\n",
       "        </tr>\n",
       "        <tr>\n",
       "            <td>2020</td> <td>Undergraduate</td> <td>Undergraduate Frosh</td> <td>Continuing           </td> <td>Full-Time       </td> <td>Female</td> <td>Chicano/Latino</td> <td>3093          </td>\n",
       "        </tr>\n",
       "        <tr>\n",
       "            <td>2021</td> <td>Undergraduate</td> <td>Undergraduate Frosh</td> <td>Continuing           </td> <td>Full-Time       </td> <td>Female</td> <td>Chicano/Latino</td> <td>3052          </td>\n",
       "        </tr>\n",
       "        <tr>\n",
       "            <td>2022</td> <td>Undergraduate</td> <td>Undergraduate Frosh</td> <td>Continuing           </td> <td>Full-Time       </td> <td>Female</td> <td>Chicano/Latino</td> <td>2970          </td>\n",
       "        </tr>\n",
       "        <tr>\n",
       "            <td>2014</td> <td>Undergraduate</td> <td>Undergraduate Frosh</td> <td>Continuing           </td> <td>Full-Time       </td> <td>Female</td> <td>Chicano/Latino</td> <td>2609          </td>\n",
       "        </tr>\n",
       "        <tr>\n",
       "            <td>2016</td> <td>Undergraduate</td> <td>Undergraduate Frosh</td> <td>Continuing           </td> <td>Full-Time       </td> <td>Female</td> <td>Chicano/Latino</td> <td>2572          </td>\n",
       "        </tr>\n",
       "        <tr>\n",
       "            <td>2015</td> <td>Undergraduate</td> <td>Undergraduate Frosh</td> <td>Continuing           </td> <td>Full-Time       </td> <td>Female</td> <td>Chicano/Latino</td> <td>2569          </td>\n",
       "        </tr>\n",
       "        <tr>\n",
       "            <td>2013</td> <td>Undergraduate</td> <td>Undergraduate Frosh</td> <td>Continuing           </td> <td>Full-Time       </td> <td>Female</td> <td>Chicano/Latino</td> <td>2503          </td>\n",
       "        </tr>\n",
       "    </tbody>\n",
       "</table>\n",
       "<p>... (5011 rows omitted)</p>"
      ],
      "text/plain": [
       "Year | Level         | Original Entry Type | New/Continuing Status | Full-Time Status | Gender | Race/Ethnicity | Fall Headcount\n",
       "2019 | Undergraduate | Undergraduate Frosh | Continuing            | Full-Time        | Female | Chicano/Latino | 3432\n",
       "2018 | Undergraduate | Undergraduate Frosh | Continuing            | Full-Time        | Female | Chicano/Latino | 3240\n",
       "2017 | Undergraduate | Undergraduate Frosh | Continuing            | Full-Time        | Female | Chicano/Latino | 3191\n",
       "2020 | Undergraduate | Undergraduate Frosh | Continuing            | Full-Time        | Female | Chicano/Latino | 3093\n",
       "2021 | Undergraduate | Undergraduate Frosh | Continuing            | Full-Time        | Female | Chicano/Latino | 3052\n",
       "2022 | Undergraduate | Undergraduate Frosh | Continuing            | Full-Time        | Female | Chicano/Latino | 2970\n",
       "2014 | Undergraduate | Undergraduate Frosh | Continuing            | Full-Time        | Female | Chicano/Latino | 2609\n",
       "2016 | Undergraduate | Undergraduate Frosh | Continuing            | Full-Time        | Female | Chicano/Latino | 2572\n",
       "2015 | Undergraduate | Undergraduate Frosh | Continuing            | Full-Time        | Female | Chicano/Latino | 2569\n",
       "2013 | Undergraduate | Undergraduate Frosh | Continuing            | Full-Time        | Female | Chicano/Latino | 2503\n",
       "... (5011 rows omitted)"
      ]
     },
     "execution_count": 24,
     "metadata": {},
     "output_type": "execute_result"
    }
   ],
   "source": [
    "ucr_relabeled.sort(\"Fall Headcount\", descending=True)"
   ]
  },
  {
   "cell_type": "markdown",
   "id": "e10d2381-88a2-4e39-b66d-0f63bd74ac03",
   "metadata": {},
   "source": [
    "Using the same method but changing the `descending` parameter to `True`, we can also discover the lowest headcounts:"
   ]
  },
  {
   "cell_type": "code",
   "execution_count": 25,
   "id": "b7ecad5a-a4a1-4e70-b263-bcfda79f841a",
   "metadata": {},
   "outputs": [
    {
     "data": {
      "text/html": [
       "<table border=\"1\" class=\"dataframe\">\n",
       "    <thead>\n",
       "        <tr>\n",
       "            <th>Year</th> <th>Level</th> <th>Original Entry Type</th> <th>New/Continuing Status</th> <th>Full-Time Status</th> <th>Gender</th> <th>Race/Ethnicity</th> <th>Fall Headcount</th>\n",
       "        </tr>\n",
       "    </thead>\n",
       "    <tbody>\n",
       "        <tr>\n",
       "            <td>2022</td> <td>Undergraduate</td> <td>Undergraduate Frosh   </td> <td>New                  </td> <td>Part_Time       </td> <td>Female</td> <td>Two or More Races             </td> <td>1             </td>\n",
       "        </tr>\n",
       "        <tr>\n",
       "            <td>2022</td> <td>Undergraduate</td> <td>Undergraduate Other   </td> <td>Continuing           </td> <td>Full-Time       </td> <td>Female</td> <td>Asian                         </td> <td>1             </td>\n",
       "        </tr>\n",
       "        <tr>\n",
       "            <td>2022</td> <td>Undergraduate</td> <td>Undergraduate Other   </td> <td>Continuing           </td> <td>Full-Time       </td> <td>Female</td> <td>Two or More Races             </td> <td>1             </td>\n",
       "        </tr>\n",
       "        <tr>\n",
       "            <td>2022</td> <td>Undergraduate</td> <td>Undergraduate Other   </td> <td>Continuing           </td> <td>Full-Time       </td> <td>Female</td> <td>White                         </td> <td>1             </td>\n",
       "        </tr>\n",
       "        <tr>\n",
       "            <td>2022</td> <td>Undergraduate</td> <td>Undergraduate Other   </td> <td>Continuing           </td> <td>Part_Time       </td> <td>Male  </td> <td>Chicano/Latino                </td> <td>1             </td>\n",
       "        </tr>\n",
       "        <tr>\n",
       "            <td>2022</td> <td>Undergraduate</td> <td>Undergraduate Other   </td> <td>Continuing           </td> <td>Part_Time       </td> <td>Male  </td> <td>International                 </td> <td>1             </td>\n",
       "        </tr>\n",
       "        <tr>\n",
       "            <td>2022</td> <td>Undergraduate</td> <td>Undergraduate Other   </td> <td>Continuing           </td> <td>Part_Time       </td> <td>Male  </td> <td>Two or More Races             </td> <td>1             </td>\n",
       "        </tr>\n",
       "        <tr>\n",
       "            <td>2022</td> <td>Undergraduate</td> <td>Undergraduate Other   </td> <td>Continuing           </td> <td>Part_Time       </td> <td>Male  </td> <td>White                         </td> <td>1             </td>\n",
       "        </tr>\n",
       "        <tr>\n",
       "            <td>2022</td> <td>Undergraduate</td> <td>Undergraduate Transfer</td> <td>New                  </td> <td>Full-Time       </td> <td>Male  </td> <td>American Indian/Alaskan Native</td> <td>1             </td>\n",
       "        </tr>\n",
       "        <tr>\n",
       "            <td>2022</td> <td>Undergraduate</td> <td>Undergraduate Transfer</td> <td>New                  </td> <td>Part_Time       </td> <td>Female</td> <td>Black/African American        </td> <td>1             </td>\n",
       "        </tr>\n",
       "    </tbody>\n",
       "</table>\n",
       "<p>... (5011 rows omitted)</p>"
      ],
      "text/plain": [
       "Year | Level         | Original Entry Type    | New/Continuing Status | Full-Time Status | Gender | Race/Ethnicity                 | Fall Headcount\n",
       "2022 | Undergraduate | Undergraduate Frosh    | New                   | Part_Time        | Female | Two or More Races              | 1\n",
       "2022 | Undergraduate | Undergraduate Other    | Continuing            | Full-Time        | Female | Asian                          | 1\n",
       "2022 | Undergraduate | Undergraduate Other    | Continuing            | Full-Time        | Female | Two or More Races              | 1\n",
       "2022 | Undergraduate | Undergraduate Other    | Continuing            | Full-Time        | Female | White                          | 1\n",
       "2022 | Undergraduate | Undergraduate Other    | Continuing            | Part_Time        | Male   | Chicano/Latino                 | 1\n",
       "2022 | Undergraduate | Undergraduate Other    | Continuing            | Part_Time        | Male   | International                  | 1\n",
       "2022 | Undergraduate | Undergraduate Other    | Continuing            | Part_Time        | Male   | Two or More Races              | 1\n",
       "2022 | Undergraduate | Undergraduate Other    | Continuing            | Part_Time        | Male   | White                          | 1\n",
       "2022 | Undergraduate | Undergraduate Transfer | New                   | Full-Time        | Male   | American Indian/Alaskan Native | 1\n",
       "2022 | Undergraduate | Undergraduate Transfer | New                   | Part_Time        | Female | Black/African American         | 1\n",
       "... (5011 rows omitted)"
      ]
     },
     "execution_count": 25,
     "metadata": {},
     "output_type": "execute_result"
    }
   ],
   "source": [
    "ucr_relabeled.sort(\"Fall Headcount\", descending=False)"
   ]
  },
  {
   "cell_type": "raw",
   "id": "2f91de85-a4fc-41ab-8b8a-d2cc0100c915",
   "metadata": {},
   "source": [
    "# BEGIN QUESTION\n",
    "name: q2_1"
   ]
  },
  {
   "cell_type": "markdown",
   "id": "925cfa3d-606a-4297-b9ee-c8690ada0975",
   "metadata": {},
   "source": [
    "### Question 2.1\n",
    "Let's say we wanted to sort the table so that we see the most recent years in the dataset first. Fill in the following code using the `sort` method to accomplish this.\n",
    "\n",
    "*Note:* Be sure to use the `ucr_relabeled` table for this question!"
   ]
  },
  {
   "cell_type": "raw",
   "id": "2d11d7eb-e208-4ddc-9c49-1509e2bc0732",
   "metadata": {},
   "source": [
    "# BEGIN SOLUTION"
   ]
  },
  {
   "cell_type": "code",
   "execution_count": 26,
   "id": "b951d03d-6abd-446d-9889-8abec62a7199",
   "metadata": {},
   "outputs": [
    {
     "data": {
      "text/html": [
       "<table border=\"1\" class=\"dataframe\">\n",
       "    <thead>\n",
       "        <tr>\n",
       "            <th>Year</th> <th>Level</th> <th>Original Entry Type</th> <th>New/Continuing Status</th> <th>Full-Time Status</th> <th>Gender</th> <th>Race/Ethnicity</th> <th>Fall Headcount</th>\n",
       "        </tr>\n",
       "    </thead>\n",
       "    <tbody>\n",
       "        <tr>\n",
       "            <td>2022</td> <td>Undergraduate</td> <td>Undergraduate Frosh</td> <td>New                  </td> <td>Full-Time       </td> <td>Female</td> <td>Asian                 </td> <td>1129          </td>\n",
       "        </tr>\n",
       "        <tr>\n",
       "            <td>2022</td> <td>Undergraduate</td> <td>Undergraduate Frosh</td> <td>New                  </td> <td>Full-Time       </td> <td>Female</td> <td>Black/African American</td> <td>90            </td>\n",
       "        </tr>\n",
       "        <tr>\n",
       "            <td>2022</td> <td>Undergraduate</td> <td>Undergraduate Frosh</td> <td>New                  </td> <td>Full-Time       </td> <td>Female</td> <td>Chicano/Latino        </td> <td>1219          </td>\n",
       "        </tr>\n",
       "        <tr>\n",
       "            <td>2022</td> <td>Undergraduate</td> <td>Undergraduate Frosh</td> <td>New                  </td> <td>Full-Time       </td> <td>Female</td> <td>Domestic Unknown      </td> <td>37            </td>\n",
       "        </tr>\n",
       "        <tr>\n",
       "            <td>2022</td> <td>Undergraduate</td> <td>Undergraduate Frosh</td> <td>New                  </td> <td>Full-Time       </td> <td>Female</td> <td>International         </td> <td>99            </td>\n",
       "        </tr>\n",
       "    </tbody>\n",
       "</table>\n",
       "<p>... (5016 rows omitted)</p>"
      ],
      "text/plain": [
       "<IPython.core.display.HTML object>"
      ]
     },
     "metadata": {},
     "output_type": "display_data"
    }
   ],
   "source": [
    "ucr_sorted_year = ucr_relabeled.sort(\"Year\", descending=True) # SOLUTION\n",
    "ucr_sorted_year.show(5)"
   ]
  },
  {
   "cell_type": "raw",
   "id": "dac82956-c077-4c0f-b46a-1753679d5ccd",
   "metadata": {},
   "source": [
    "# END SOLUTION"
   ]
  },
  {
   "cell_type": "raw",
   "id": "da60c643-c1c0-4c05-aa86-5966ac9e0076",
   "metadata": {},
   "source": [
    "# BEGIN TESTS"
   ]
  },
  {
   "cell_type": "code",
   "execution_count": 27,
   "id": "f64fa5ba-c6d9-4d7a-9402-24b0e765a7de",
   "metadata": {},
   "outputs": [],
   "source": [
    "assert isinstance(ucr_sorted_year, Table)"
   ]
  },
  {
   "cell_type": "code",
   "execution_count": 28,
   "id": "0330c972-b290-41a8-95d3-fc89bf90898e",
   "metadata": {},
   "outputs": [],
   "source": [
    "assert ucr_sorted_year.take(0).column('Year')[0] == 2022"
   ]
  },
  {
   "cell_type": "code",
   "execution_count": 29,
   "id": "4db14032-0a17-461b-aadf-fa7ff8aaa82a",
   "metadata": {},
   "outputs": [],
   "source": [
    "assert ucr_sorted_year.take(1).column('Fall Headcount')[0] == 90"
   ]
  },
  {
   "cell_type": "code",
   "execution_count": 30,
   "id": "d9a3e4ec-2219-4cf9-a602-3b30b4852066",
   "metadata": {},
   "outputs": [],
   "source": [
    "# HIDDEN\n",
    "assert all(ucr_sorted_year) == all(ucr_relabeled.sort(\"Year\", descending=True))"
   ]
  },
  {
   "cell_type": "raw",
   "id": "1bc74371-8569-4b80-8885-b535ef46d397",
   "metadata": {},
   "source": [
    "# END TESTS"
   ]
  },
  {
   "cell_type": "raw",
   "id": "30c0a677-8202-4fed-bfd2-f01dc52b0f85",
   "metadata": {},
   "source": [
    "# END QUESTION"
   ]
  },
  {
   "cell_type": "markdown",
   "id": "3df5ee82-aded-486b-9417-69ae4b9f41b1",
   "metadata": {},
   "source": [
    "---\n",
    "### Row selection: `where` and the `are` Predicates\n",
    "\n",
    "The last table method we will talk about is the `where` method. The `where` method keeps all rows that satisfiy a particular boolean condition. It takes in a column label and an `are` statement, which can be crafted using the `are` library. These are the most important `are` library methods, but there are many more if you would like to investigate: [explore the 'are' library here.](https://data6.org/su23/reference/#tablewhere-predicates)\n",
    "\n",
    "| Method | Input Type | Method Description |\n",
    "| --- | --- | --- |\n",
    "| `are.equal_to(n)` | number | Is the value from the column equal to `n`? |\n",
    "| `are.above(n)` | number | Is the value from the column above `n`? |\n",
    "| `are.above_or_equal_to(n)` | number | Is the value from the column above or equal to `n`? |\n",
    "| `are.below(n)` | number | Is the value from the column below `n`? |\n",
    "| `are.below_or_equal_to(n)` | number | Is the value from the column below or equal `n`? |\n",
    "| `are.containing(s)` | string | Is `s` contained in the string value from the given column? |\n",
    "| `are.containined_in(s)` | string | Is the string value from the given column contained in `s`? |\n",
    "\n",
    "Adding a `not_` in front of all of these methods makes each method do the opposite of what it does (ex: `are.not_equal_to(n)`).\n",
    "\n",
    "*Note*: As we've seen in lecture, we can achieve an **exact match** by not explicitly using an `are` predicate. That is, `where(\"col\", are.equal_to(\"something\")` is identical to `where(\"col\", \"something\")`; the latter is shorthand for the former.\n",
    "\n",
    "For example, if we only wanted to see the rows in which the `\"Fall Headcount\"` was above 500, we could use the `where()` method combined with an `are` method:"
   ]
  },
  {
   "cell_type": "code",
   "execution_count": 31,
   "id": "309ec6e4-694f-45cc-a93b-bd5b3589c61b",
   "metadata": {},
   "outputs": [
    {
     "data": {
      "text/html": [
       "<table border=\"1\" class=\"dataframe\">\n",
       "    <thead>\n",
       "        <tr>\n",
       "            <th>Year</th> <th>Level</th> <th>Original Entry Type</th> <th>New/Continuing Status</th> <th>Full-Time Status</th> <th>Gender</th> <th>Race/Ethnicity</th> <th>Fall Headcount</th>\n",
       "        </tr>\n",
       "    </thead>\n",
       "    <tbody>\n",
       "        <tr>\n",
       "            <td>2022</td> <td>Undergraduate</td> <td>Undergraduate Frosh</td> <td>New                  </td> <td>Full-Time       </td> <td>Female</td> <td>Asian         </td> <td>1129          </td>\n",
       "        </tr>\n",
       "        <tr>\n",
       "            <td>2022</td> <td>Undergraduate</td> <td>Undergraduate Frosh</td> <td>New                  </td> <td>Full-Time       </td> <td>Female</td> <td>Chicano/Latino</td> <td>1219          </td>\n",
       "        </tr>\n",
       "        <tr>\n",
       "            <td>2022</td> <td>Undergraduate</td> <td>Undergraduate Frosh</td> <td>New                  </td> <td>Full-Time       </td> <td>Male  </td> <td>Asian         </td> <td>1107          </td>\n",
       "        </tr>\n",
       "        <tr>\n",
       "            <td>2022</td> <td>Undergraduate</td> <td>Undergraduate Frosh</td> <td>New                  </td> <td>Full-Time       </td> <td>Male  </td> <td>Chicano/Latino</td> <td>773           </td>\n",
       "        </tr>\n",
       "        <tr>\n",
       "            <td>2022</td> <td>Undergraduate</td> <td>Undergraduate Frosh</td> <td>Continuing           </td> <td>Full-Time       </td> <td>Female</td> <td>Asian         </td> <td>2365          </td>\n",
       "        </tr>\n",
       "        <tr>\n",
       "            <td>2022</td> <td>Undergraduate</td> <td>Undergraduate Frosh</td> <td>Continuing           </td> <td>Full-Time       </td> <td>Female</td> <td>Chicano/Latino</td> <td>2970          </td>\n",
       "        </tr>\n",
       "        <tr>\n",
       "            <td>2022</td> <td>Undergraduate</td> <td>Undergraduate Frosh</td> <td>Continuing           </td> <td>Full-Time       </td> <td>Female</td> <td>White         </td> <td>545           </td>\n",
       "        </tr>\n",
       "        <tr>\n",
       "            <td>2022</td> <td>Undergraduate</td> <td>Undergraduate Frosh</td> <td>Continuing           </td> <td>Full-Time       </td> <td>Male  </td> <td>Asian         </td> <td>2466          </td>\n",
       "        </tr>\n",
       "        <tr>\n",
       "            <td>2022</td> <td>Undergraduate</td> <td>Undergraduate Frosh</td> <td>Continuing           </td> <td>Full-Time       </td> <td>Male  </td> <td>Chicano/Latino</td> <td>1803          </td>\n",
       "        </tr>\n",
       "        <tr>\n",
       "            <td>2022</td> <td>Undergraduate</td> <td>Undergraduate Frosh</td> <td>Continuing           </td> <td>Full-Time       </td> <td>Male  </td> <td>White         </td> <td>601           </td>\n",
       "        </tr>\n",
       "    </tbody>\n",
       "</table>\n",
       "<p>... (253 rows omitted)</p>"
      ],
      "text/plain": [
       "Year | Level         | Original Entry Type | New/Continuing Status | Full-Time Status | Gender | Race/Ethnicity | Fall Headcount\n",
       "2022 | Undergraduate | Undergraduate Frosh | New                   | Full-Time        | Female | Asian          | 1129\n",
       "2022 | Undergraduate | Undergraduate Frosh | New                   | Full-Time        | Female | Chicano/Latino | 1219\n",
       "2022 | Undergraduate | Undergraduate Frosh | New                   | Full-Time        | Male   | Asian          | 1107\n",
       "2022 | Undergraduate | Undergraduate Frosh | New                   | Full-Time        | Male   | Chicano/Latino | 773\n",
       "2022 | Undergraduate | Undergraduate Frosh | Continuing            | Full-Time        | Female | Asian          | 2365\n",
       "2022 | Undergraduate | Undergraduate Frosh | Continuing            | Full-Time        | Female | Chicano/Latino | 2970\n",
       "2022 | Undergraduate | Undergraduate Frosh | Continuing            | Full-Time        | Female | White          | 545\n",
       "2022 | Undergraduate | Undergraduate Frosh | Continuing            | Full-Time        | Male   | Asian          | 2466\n",
       "2022 | Undergraduate | Undergraduate Frosh | Continuing            | Full-Time        | Male   | Chicano/Latino | 1803\n",
       "2022 | Undergraduate | Undergraduate Frosh | Continuing            | Full-Time        | Male   | White          | 601\n",
       "... (253 rows omitted)"
      ]
     },
     "execution_count": 31,
     "metadata": {},
     "output_type": "execute_result"
    }
   ],
   "source": [
    "ucr_relabeled.where(\"Fall Headcount\", are.above(500))"
   ]
  },
  {
   "cell_type": "markdown",
   "id": "0ad85153-6d2a-40d7-8472-50ec1c71095f",
   "metadata": {},
   "source": [
    "Alternatively, if we wanted to see the rows of only undergrads, we could use the shorthand above by omitting the `are` predicate completely:"
   ]
  },
  {
   "cell_type": "code",
   "execution_count": 32,
   "id": "888ad5aa-470b-4149-aa2c-896c40491085",
   "metadata": {},
   "outputs": [
    {
     "data": {
      "text/html": [
       "<table border=\"1\" class=\"dataframe\">\n",
       "    <thead>\n",
       "        <tr>\n",
       "            <th>Year</th> <th>Level</th> <th>Original Entry Type</th> <th>New/Continuing Status</th> <th>Full-Time Status</th> <th>Gender</th> <th>Race/Ethnicity</th> <th>Fall Headcount</th>\n",
       "        </tr>\n",
       "    </thead>\n",
       "    <tbody>\n",
       "        <tr>\n",
       "            <td>2022</td> <td>Undergraduate</td> <td>Undergraduate Frosh</td> <td>New                  </td> <td>Full-Time       </td> <td>Female</td> <td>Asian                           </td> <td>1129          </td>\n",
       "        </tr>\n",
       "        <tr>\n",
       "            <td>2022</td> <td>Undergraduate</td> <td>Undergraduate Frosh</td> <td>New                  </td> <td>Full-Time       </td> <td>Female</td> <td>Black/African American          </td> <td>90            </td>\n",
       "        </tr>\n",
       "        <tr>\n",
       "            <td>2022</td> <td>Undergraduate</td> <td>Undergraduate Frosh</td> <td>New                  </td> <td>Full-Time       </td> <td>Female</td> <td>Chicano/Latino                  </td> <td>1219          </td>\n",
       "        </tr>\n",
       "        <tr>\n",
       "            <td>2022</td> <td>Undergraduate</td> <td>Undergraduate Frosh</td> <td>New                  </td> <td>Full-Time       </td> <td>Female</td> <td>Domestic Unknown                </td> <td>37            </td>\n",
       "        </tr>\n",
       "        <tr>\n",
       "            <td>2022</td> <td>Undergraduate</td> <td>Undergraduate Frosh</td> <td>New                  </td> <td>Full-Time       </td> <td>Female</td> <td>International                   </td> <td>99            </td>\n",
       "        </tr>\n",
       "        <tr>\n",
       "            <td>2022</td> <td>Undergraduate</td> <td>Undergraduate Frosh</td> <td>New                  </td> <td>Full-Time       </td> <td>Female</td> <td>Native Hawaiian/Pacific Islander</td> <td>6             </td>\n",
       "        </tr>\n",
       "        <tr>\n",
       "            <td>2022</td> <td>Undergraduate</td> <td>Undergraduate Frosh</td> <td>New                  </td> <td>Full-Time       </td> <td>Female</td> <td>Two or More Races               </td> <td>128           </td>\n",
       "        </tr>\n",
       "        <tr>\n",
       "            <td>2022</td> <td>Undergraduate</td> <td>Undergraduate Frosh</td> <td>New                  </td> <td>Full-Time       </td> <td>Female</td> <td>White                           </td> <td>221           </td>\n",
       "        </tr>\n",
       "        <tr>\n",
       "            <td>2022</td> <td>Undergraduate</td> <td>Undergraduate Frosh</td> <td>New                  </td> <td>Full-Time       </td> <td>Male  </td> <td>Asian                           </td> <td>1107          </td>\n",
       "        </tr>\n",
       "        <tr>\n",
       "            <td>2022</td> <td>Undergraduate</td> <td>Undergraduate Frosh</td> <td>New                  </td> <td>Full-Time       </td> <td>Male  </td> <td>Black/African American          </td> <td>64            </td>\n",
       "        </tr>\n",
       "    </tbody>\n",
       "</table>\n",
       "<p>... (3479 rows omitted)</p>"
      ],
      "text/plain": [
       "Year | Level         | Original Entry Type | New/Continuing Status | Full-Time Status | Gender | Race/Ethnicity                   | Fall Headcount\n",
       "2022 | Undergraduate | Undergraduate Frosh | New                   | Full-Time        | Female | Asian                            | 1129\n",
       "2022 | Undergraduate | Undergraduate Frosh | New                   | Full-Time        | Female | Black/African American           | 90\n",
       "2022 | Undergraduate | Undergraduate Frosh | New                   | Full-Time        | Female | Chicano/Latino                   | 1219\n",
       "2022 | Undergraduate | Undergraduate Frosh | New                   | Full-Time        | Female | Domestic Unknown                 | 37\n",
       "2022 | Undergraduate | Undergraduate Frosh | New                   | Full-Time        | Female | International                    | 99\n",
       "2022 | Undergraduate | Undergraduate Frosh | New                   | Full-Time        | Female | Native Hawaiian/Pacific Islander | 6\n",
       "2022 | Undergraduate | Undergraduate Frosh | New                   | Full-Time        | Female | Two or More Races                | 128\n",
       "2022 | Undergraduate | Undergraduate Frosh | New                   | Full-Time        | Female | White                            | 221\n",
       "2022 | Undergraduate | Undergraduate Frosh | New                   | Full-Time        | Male   | Asian                            | 1107\n",
       "2022 | Undergraduate | Undergraduate Frosh | New                   | Full-Time        | Male   | Black/African American           | 64\n",
       "... (3479 rows omitted)"
      ]
     },
     "execution_count": 32,
     "metadata": {},
     "output_type": "execute_result"
    }
   ],
   "source": [
    "ucr_relabeled.where(\"Level\", \"Undergraduate\")"
   ]
  },
  {
   "cell_type": "markdown",
   "id": "243b5c51-c001-4881-b314-16c8baf3c51f",
   "metadata": {},
   "source": [
    "When we omit the `are` predicate, the function is just using `are.equal_to` behind the scenes as the default option!"
   ]
  },
  {
   "cell_type": "raw",
   "id": "50c7166f-3012-4e90-a644-bfb1fcd47ea1",
   "metadata": {},
   "source": [
    "# BEGIN QUESTION\n",
    "name: q2_2"
   ]
  },
  {
   "cell_type": "markdown",
   "id": "75d486f5-2e8e-4b7e-ab38-3397c09deae9",
   "metadata": {},
   "source": [
    "### Question 2.2\n",
    "Suppose we only wanted to take a look at female-identifying individuals in the dataset. Use the shorthand in the example above with the `where` method to keep only these individuals."
   ]
  },
  {
   "cell_type": "raw",
   "id": "b8befa65-688a-40a9-ab41-3d97b7ff0a69",
   "metadata": {},
   "source": [
    "# BEGIN SOLUTION"
   ]
  },
  {
   "cell_type": "code",
   "execution_count": 33,
   "id": "70f2f0c2-695a-4816-9a9f-ab35052464f7",
   "metadata": {},
   "outputs": [
    {
     "data": {
      "text/html": [
       "<table border=\"1\" class=\"dataframe\">\n",
       "    <thead>\n",
       "        <tr>\n",
       "            <th>Year</th> <th>Level</th> <th>Original Entry Type</th> <th>New/Continuing Status</th> <th>Full-Time Status</th> <th>Gender</th> <th>Race/Ethnicity</th> <th>Fall Headcount</th>\n",
       "        </tr>\n",
       "    </thead>\n",
       "    <tbody>\n",
       "        <tr>\n",
       "            <td>2022</td> <td>Undergraduate</td> <td>Undergraduate Frosh</td> <td>New                  </td> <td>Full-Time       </td> <td>Female</td> <td>Asian                 </td> <td>1129          </td>\n",
       "        </tr>\n",
       "        <tr>\n",
       "            <td>2022</td> <td>Undergraduate</td> <td>Undergraduate Frosh</td> <td>New                  </td> <td>Full-Time       </td> <td>Female</td> <td>Black/African American</td> <td>90            </td>\n",
       "        </tr>\n",
       "        <tr>\n",
       "            <td>2022</td> <td>Undergraduate</td> <td>Undergraduate Frosh</td> <td>New                  </td> <td>Full-Time       </td> <td>Female</td> <td>Chicano/Latino        </td> <td>1219          </td>\n",
       "        </tr>\n",
       "        <tr>\n",
       "            <td>2022</td> <td>Undergraduate</td> <td>Undergraduate Frosh</td> <td>New                  </td> <td>Full-Time       </td> <td>Female</td> <td>Domestic Unknown      </td> <td>37            </td>\n",
       "        </tr>\n",
       "        <tr>\n",
       "            <td>2022</td> <td>Undergraduate</td> <td>Undergraduate Frosh</td> <td>New                  </td> <td>Full-Time       </td> <td>Female</td> <td>International         </td> <td>99            </td>\n",
       "        </tr>\n",
       "    </tbody>\n",
       "</table>\n",
       "<p>... (2511 rows omitted)</p>"
      ],
      "text/plain": [
       "<IPython.core.display.HTML object>"
      ]
     },
     "metadata": {},
     "output_type": "display_data"
    }
   ],
   "source": [
    "ucr_f = ucr_relabeled.where(\"Gender\", \"Female\") # SOLUTION\n",
    "ucr_f.show(5)"
   ]
  },
  {
   "cell_type": "raw",
   "id": "bdcb8378-0b40-4321-8c02-e1fd03610d3f",
   "metadata": {},
   "source": [
    "# END SOLUTION"
   ]
  },
  {
   "cell_type": "raw",
   "id": "8de3aa17-829a-48d8-b959-33b7664bf4af",
   "metadata": {},
   "source": [
    "# BEGIN TESTS"
   ]
  },
  {
   "cell_type": "code",
   "execution_count": 34,
   "id": "fe3de6d0-56a9-4f3d-a973-3e6a937fb1a1",
   "metadata": {},
   "outputs": [],
   "source": [
    "assert isinstance(ucr_f, Table)"
   ]
  },
  {
   "cell_type": "code",
   "execution_count": 35,
   "id": "5320dacc-84c4-44af-9f4b-8c307a641734",
   "metadata": {},
   "outputs": [],
   "source": [
    "assert ucr_f.num_rows == 2516"
   ]
  },
  {
   "cell_type": "code",
   "execution_count": 36,
   "id": "cddc5405-e3b5-4fb7-9bd3-48b603e1708b",
   "metadata": {},
   "outputs": [],
   "source": [
    "assert all(ucr_f.column('Gender') == 'Female')"
   ]
  },
  {
   "cell_type": "raw",
   "id": "6fa49ec9-bc0c-4add-837f-de6985ea475f",
   "metadata": {},
   "source": [
    "# END TESTS"
   ]
  },
  {
   "cell_type": "raw",
   "id": "4089bd57-b7e3-49e5-be12-c16454e1ef4d",
   "metadata": {},
   "source": [
    "# END QUESTION"
   ]
  },
  {
   "cell_type": "markdown",
   "id": "de064584-924a-4c4f-acd8-1adf08e186ad",
   "metadata": {},
   "source": [
    "Let's dig a little deeper into what the `\"Gender\"` column looks like. Utilizing the `np.unique` method that we used in the first section above, we can find the distinct values in the `\"Gender\"` column, to see which values are used to represent gender in this dataset."
   ]
  },
  {
   "cell_type": "code",
   "execution_count": 37,
   "id": "b4e94c7d-ba22-46ad-84c2-6415e2c9ba4f",
   "metadata": {},
   "outputs": [
    {
     "data": {
      "text/plain": [
       "array(['Female', 'Male'],\n",
       "      dtype='<U6')"
      ]
     },
     "execution_count": 37,
     "metadata": {},
     "output_type": "execute_result"
    }
   ],
   "source": [
    "# Just run this cell\n",
    "np.unique(ucr.column(\"Gender\"))"
   ]
  },
  {
   "cell_type": "markdown",
   "id": "dcfd79b0-19af-407b-a5b0-56589ec37cda",
   "metadata": {},
   "source": [
    "As we can see above, the only two options for representing gender in this dataset are \"Female\" and \"Male\". It can often be hard to determine how to represent complex pieces of information (especially when this information is about individual people) as categorized versions in data."
   ]
  },
  {
   "cell_type": "raw",
   "id": "0a65b8df-b5b3-45c8-823a-d94a9a93c71e",
   "metadata": {},
   "source": [
    "# BEGIN QUESTION\n",
    "name: q2_3\n",
    "manual: true"
   ]
  },
  {
   "cell_type": "markdown",
   "id": "5da309a1-d5f5-4c84-b156-c7f544e0f6b6",
   "metadata": {},
   "source": [
    "### Question 2.3 (Discussion)\n",
    "Because this categorization of gender may not be the best way to represent this information, what do you think some potential issues with looking only at the female-identifying individuals from our data are? Additionally, what are the implications and potential sources of harm when we have to categorize information like this?"
   ]
  },
  {
   "cell_type": "raw",
   "id": "44180118-4555-49a8-81d5-c7a74445f2e7",
   "metadata": {},
   "source": [
    "# BEGIN SOLUTION"
   ]
  },
  {
   "cell_type": "markdown",
   "id": "11f46a3c-921b-4759-90fb-c896338c15c3",
   "metadata": {},
   "source": [
    "**SOLUTION:** Female category may not accurately capture all female-identifying students, or it may include individuals who are non-binary or would otherwise pick 'Other' as their gender selection, but were only given two options. People get left out when we have to binarize qualitative information about someone that may be more complex, like gender identity."
   ]
  },
  {
   "cell_type": "raw",
   "id": "c9cfa471-bb84-4159-bfa0-f4ec43a33a0c",
   "metadata": {},
   "source": [
    "# END SOLUTION"
   ]
  },
  {
   "cell_type": "raw",
   "id": "ea6e0d1d-cebb-49ef-ac5b-f263b8f1e4aa",
   "metadata": {},
   "source": [
    "# END QUESTION"
   ]
  },
  {
   "cell_type": "markdown",
   "id": "b381ec97-d6d1-4403-84e5-be4b6522188e",
   "metadata": {},
   "source": [
    "When working with data, it is always important to consider not only **the impacts that the representation of the data can have in the real world**, but also **the effects that the conclusions from your data analysis and visualizations can have!** Let's explore this a bit more next."
   ]
  },
  {
   "cell_type": "markdown",
   "id": "25c6951b-2d69-4d6f-aa81-9e16ff5c12eb",
   "metadata": {},
   "source": [
    "<hr style=\"border: 5px solid #003262;\" />\n",
    "<hr style=\"border: 1px solid #fdb515;\" />\n",
    "\n",
    "## Part 3: Data Context Exploration"
   ]
  },
  {
   "cell_type": "markdown",
   "id": "f6ffb3e3-cc86-453c-88bf-4ddc873dc0ce",
   "metadata": {},
   "source": [
    "### A Further Look Into the `Gender` Column"
   ]
  },
  {
   "cell_type": "markdown",
   "id": "201a1095-f407-4861-b659-ed4dac6189c6",
   "metadata": {},
   "source": [
    "Let's continue with a bit more analysis on the `\"Gender\"` column. The [source of this data](https://ir.ucr.edu/stats/enrollment/demographic) from UC Riverside also included a second dataset that displays the same admissions data, broken down by college. We'll load that dataset into a Table object below."
   ]
  },
  {
   "cell_type": "code",
   "execution_count": 38,
   "id": "3c4c2a44-fb91-4c7b-af54-5688e87388a4",
   "metadata": {},
   "outputs": [
    {
     "data": {
      "text/html": [
       "<table border=\"1\" class=\"dataframe\">\n",
       "    <thead>\n",
       "        <tr>\n",
       "            <th>Year</th> <th>College</th> <th>Level</th> <th>Original Entry Type</th> <th>New/Continuing Status</th> <th>Full-Time Status</th> <th>Gender</th> <th>IPEDS Race/Ethnicity</th> <th>Fall Headcount</th>\n",
       "        </tr>\n",
       "    </thead>\n",
       "    <tbody>\n",
       "        <tr>\n",
       "            <td>2023</td> <td>Bourns College of Engineering</td> <td>Undergraduate</td> <td>Undergraduate Frosh</td> <td>New                  </td> <td>Full-Time       </td> <td>Female</td> <td>Asian                 </td> <td>81            </td>\n",
       "        </tr>\n",
       "        <tr>\n",
       "            <td>2023</td> <td>Bourns College of Engineering</td> <td>Undergraduate</td> <td>Undergraduate Frosh</td> <td>New                  </td> <td>Full-Time       </td> <td>Female</td> <td>Black/African American</td> <td>5             </td>\n",
       "        </tr>\n",
       "        <tr>\n",
       "            <td>2023</td> <td>Bourns College of Engineering</td> <td>Undergraduate</td> <td>Undergraduate Frosh</td> <td>New                  </td> <td>Full-Time       </td> <td>Female</td> <td>Chicano/Latino        </td> <td>78            </td>\n",
       "        </tr>\n",
       "        <tr>\n",
       "            <td>2023</td> <td>Bourns College of Engineering</td> <td>Undergraduate</td> <td>Undergraduate Frosh</td> <td>New                  </td> <td>Full-Time       </td> <td>Female</td> <td>International         </td> <td>10            </td>\n",
       "        </tr>\n",
       "        <tr>\n",
       "            <td>2023</td> <td>Bourns College of Engineering</td> <td>Undergraduate</td> <td>Undergraduate Frosh</td> <td>New                  </td> <td>Full-Time       </td> <td>Female</td> <td>Two or More Races     </td> <td>7             </td>\n",
       "        </tr>\n",
       "    </tbody>\n",
       "</table>\n",
       "<p>... (16865 rows omitted)</p>"
      ],
      "text/plain": [
       "<IPython.core.display.HTML object>"
      ]
     },
     "metadata": {},
     "output_type": "display_data"
    }
   ],
   "source": [
    "ucr_college = Table.read_table(\"data/riverside_by_college.csv\")\n",
    "ucr_college.show(5)"
   ]
  },
  {
   "cell_type": "markdown",
   "id": "9d8ff8d5-e6e9-4539-9a84-7af37d54f719",
   "metadata": {},
   "source": [
    "As we can see from the `\"Year\"` column, this dataset also contains more updated information, including data up until 2023. Let's take a look at the way the data is represented in the `\"Gender\"` column for this dataset:"
   ]
  },
  {
   "cell_type": "code",
   "execution_count": 39,
   "id": "95bd6b09-14cc-4b15-8497-60ac2d57b028",
   "metadata": {},
   "outputs": [
    {
     "data": {
      "text/plain": [
       "array(['Female', 'Male', 'Nonbinary', 'Unknown'],\n",
       "      dtype='<U9')"
      ]
     },
     "execution_count": 39,
     "metadata": {},
     "output_type": "execute_result"
    }
   ],
   "source": [
    "np.unique(ucr_college.column(\"Gender\"))"
   ]
  },
  {
   "cell_type": "markdown",
   "id": "d22a4d6c-f109-46d3-a068-728d21612dff",
   "metadata": {},
   "source": [
    "It looks like this dataset contains the additional values of `\"Nonbinary\"` and `\"Unknown\"` for `\"Gender\"`. The website that provides this data also provides some context on how the data was collected at the bottom of the page:"
   ]
  },
  {
   "cell_type": "markdown",
   "id": "636980f5-d28b-499b-9ce9-4df2a8cfda09",
   "metadata": {},
   "source": [
    "> \"Gender identity has been collected on the UC admission application only since 2016. Therefore, there is no earlier data available in the nonbinary category.\""
   ]
  },
  {
   "cell_type": "markdown",
   "id": "5f1c5f2e-1a83-4650-b657-712d8112cfde",
   "metadata": {},
   "source": [
    "Something to note is that these datasets are supposed to represent the same information. However, because UCR utilized two methods of representing the `\"Gender\"` column, it may not be completely appropriate to compare the raw numbers of the values alone -- some of the individuals who are in the `\"Nonbinary\"` or `\"Unknown\"` category in this dataset were likely placed into the `\"Female\"` or `\"Male\"` categories in the other dataset. Therefore, the numbers could be a bit skewed, and it may be beneficial to compare by proportions as an additional step. Doing this type of **extra basic background research on the source of our data can be incredibly helpful in our understanding of our data!**"
   ]
  },
  {
   "cell_type": "markdown",
   "id": "704b9ee9-e1a0-4723-acc7-82e86b658c9d",
   "metadata": {},
   "source": [
    "---\n",
    "### Exploration of Aggregation by College"
   ]
  },
  {
   "cell_type": "markdown",
   "id": "2d382616-48eb-48f9-ba43-05fef57da1d4",
   "metadata": {},
   "source": [
    "We can also use the information at the bottom of the page of the data source to find some information about how STEM majors are classified:"
   ]
  },
  {
   "cell_type": "markdown",
   "id": "e66058d8-a252-4fca-8e52-27ea98def4bf",
   "metadata": {},
   "source": [
    "> \"STEM Majors include those in the Bourns College of Engineering (BCOE) and the College of Natural and Agricultural Sciences (CNAS).\""
   ]
  },
  {
   "cell_type": "markdown",
   "id": "01319d99-bdf5-4501-84e1-dea72b4c5547",
   "metadata": {},
   "source": [
    "Using this information, we can use the `where` method to create two different tables: one for STEM majors, and one for non-STEM majors."
   ]
  },
  {
   "cell_type": "code",
   "execution_count": 40,
   "id": "94c69717-5478-48e2-b5cb-0010a347b993",
   "metadata": {},
   "outputs": [
    {
     "data": {
      "text/plain": [
       "array(['Bourns College of Engineering',\n",
       "       'College of Humanities, Arts, and Social Sciences',\n",
       "       'College of Natural and Agricultural Sciences',\n",
       "       'Graduate School of Education', 'School of Business',\n",
       "       'School of Medicine', 'School of Public Policy'],\n",
       "      dtype='<U48')"
      ]
     },
     "execution_count": 40,
     "metadata": {},
     "output_type": "execute_result"
    }
   ],
   "source": [
    "np.unique(ucr_college.column(\"College\"))"
   ]
  },
  {
   "cell_type": "code",
   "execution_count": 41,
   "id": "56ec588c-e56c-4aee-a4b1-59c62bef59fe",
   "metadata": {},
   "outputs": [
    {
     "data": {
      "text/html": [
       "<table border=\"1\" class=\"dataframe\">\n",
       "    <thead>\n",
       "        <tr>\n",
       "            <th>Year</th> <th>College</th> <th>Level</th> <th>Original Entry Type</th> <th>New/Continuing Status</th> <th>Full-Time Status</th> <th>Gender</th> <th>IPEDS Race/Ethnicity</th> <th>Fall Headcount</th>\n",
       "        </tr>\n",
       "    </thead>\n",
       "    <tbody>\n",
       "        <tr>\n",
       "            <td>2023</td> <td>Bourns College of Engineering</td> <td>Undergraduate</td> <td>Undergraduate Frosh</td> <td>New                  </td> <td>Full-Time       </td> <td>Female</td> <td>Asian                 </td> <td>81            </td>\n",
       "        </tr>\n",
       "        <tr>\n",
       "            <td>2023</td> <td>Bourns College of Engineering</td> <td>Undergraduate</td> <td>Undergraduate Frosh</td> <td>New                  </td> <td>Full-Time       </td> <td>Female</td> <td>Black/African American</td> <td>5             </td>\n",
       "        </tr>\n",
       "        <tr>\n",
       "            <td>2023</td> <td>Bourns College of Engineering</td> <td>Undergraduate</td> <td>Undergraduate Frosh</td> <td>New                  </td> <td>Full-Time       </td> <td>Female</td> <td>Chicano/Latino        </td> <td>78            </td>\n",
       "        </tr>\n",
       "    </tbody>\n",
       "</table>\n",
       "<p>... (7416 rows omitted)</p>"
      ],
      "text/plain": [
       "<IPython.core.display.HTML object>"
      ]
     },
     "metadata": {},
     "output_type": "display_data"
    }
   ],
   "source": [
    "ucr_s = ucr_college.where(\"College\", are.contained_in([\"Bourns College of Engineering\", \"College of Natural and Agricultural Sciences\"]))\n",
    "ucr_s.show(3)"
   ]
  },
  {
   "cell_type": "code",
   "execution_count": 42,
   "id": "a89a5674-b9e5-4d4d-bc58-23b7f50efc7e",
   "metadata": {},
   "outputs": [
    {
     "data": {
      "text/html": [
       "<table border=\"1\" class=\"dataframe\">\n",
       "    <thead>\n",
       "        <tr>\n",
       "            <th>Year</th> <th>College</th> <th>Level</th> <th>Original Entry Type</th> <th>New/Continuing Status</th> <th>Full-Time Status</th> <th>Gender</th> <th>IPEDS Race/Ethnicity</th> <th>Fall Headcount</th>\n",
       "        </tr>\n",
       "    </thead>\n",
       "    <tbody>\n",
       "        <tr>\n",
       "            <td>2023</td> <td>College of Humanities, Arts, and Social Sciences</td> <td>Undergraduate</td> <td>Undergraduate Frosh</td> <td>New                  </td> <td>Full-Time       </td> <td>Female</td> <td>Asian                 </td> <td>486           </td>\n",
       "        </tr>\n",
       "        <tr>\n",
       "            <td>2023</td> <td>College of Humanities, Arts, and Social Sciences</td> <td>Undergraduate</td> <td>Undergraduate Frosh</td> <td>New                  </td> <td>Full-Time       </td> <td>Female</td> <td>Black/African American</td> <td>72            </td>\n",
       "        </tr>\n",
       "        <tr>\n",
       "            <td>2023</td> <td>College of Humanities, Arts, and Social Sciences</td> <td>Undergraduate</td> <td>Undergraduate Frosh</td> <td>New                  </td> <td>Full-Time       </td> <td>Female</td> <td>Chicano/Latino        </td> <td>867           </td>\n",
       "        </tr>\n",
       "    </tbody>\n",
       "</table>\n",
       "<p>... (9448 rows omitted)</p>"
      ],
      "text/plain": [
       "<IPython.core.display.HTML object>"
      ]
     },
     "metadata": {},
     "output_type": "display_data"
    }
   ],
   "source": [
    "ucr_ns = ucr_college.where(\"College\", are.contained_in([\"College of Humanities, Arts, and Social Sciences\", \"Graduate School of Education\", \"School of Business\", \"School of Medicine\", \"School of Public Policy\"]))\n",
    "ucr_ns.show(3)"
   ]
  },
  {
   "cell_type": "markdown",
   "id": "371b94b0-ffa4-4fa9-9a68-bd53c1c41abe",
   "metadata": {},
   "source": [
    "Now, if we wanted to do a rough tabular comparison of the STEM vs. non-STEM majors, we can group by `\"Gender\"` and compare the numbers.\n",
    "\n",
    "For now, don't worry too much about understanding the syntax for the group method: we'll cover it in the next lab! The code in the two cells below simply aggregates the data by calculating the sums of the `\"Fall Headcount\"` column for each gender category."
   ]
  },
  {
   "cell_type": "code",
   "execution_count": 43,
   "id": "4778b204-1d90-4fc0-9d63-fc761e0173b3",
   "metadata": {},
   "outputs": [
    {
     "data": {
      "text/html": [
       "<table border=\"1\" class=\"dataframe\">\n",
       "    <thead>\n",
       "        <tr>\n",
       "            <th>Gender</th> <th>Fall Headcount sum</th>\n",
       "        </tr>\n",
       "    </thead>\n",
       "    <tbody>\n",
       "        <tr>\n",
       "            <td>Male     </td> <td>132516            </td>\n",
       "        </tr>\n",
       "        <tr>\n",
       "            <td>Female   </td> <td>96494             </td>\n",
       "        </tr>\n",
       "        <tr>\n",
       "            <td>Unknown  </td> <td>1063              </td>\n",
       "        </tr>\n",
       "        <tr>\n",
       "            <td>Nonbinary</td> <td>428               </td>\n",
       "        </tr>\n",
       "    </tbody>\n",
       "</table>"
      ],
      "text/plain": [
       "Gender    | Fall Headcount sum\n",
       "Male      | 132516\n",
       "Female    | 96494\n",
       "Unknown   | 1063\n",
       "Nonbinary | 428"
      ]
     },
     "execution_count": 43,
     "metadata": {},
     "output_type": "execute_result"
    }
   ],
   "source": [
    "ucr_s_grouped = ucr_s.group(\"Gender\", np.sum).select([\"Gender\", \"Fall Headcount sum\"]).sort(\"Fall Headcount sum\", descending=True)\n",
    "ucr_s_grouped "
   ]
  },
  {
   "cell_type": "code",
   "execution_count": 44,
   "id": "ac612f3c-c557-4d8d-9bec-b1b002992306",
   "metadata": {},
   "outputs": [
    {
     "data": {
      "text/html": [
       "<table border=\"1\" class=\"dataframe\">\n",
       "    <thead>\n",
       "        <tr>\n",
       "            <th>Gender</th> <th>Fall Headcount sum</th>\n",
       "        </tr>\n",
       "    </thead>\n",
       "    <tbody>\n",
       "        <tr>\n",
       "            <td>Female   </td> <td>195432            </td>\n",
       "        </tr>\n",
       "        <tr>\n",
       "            <td>Male     </td> <td>136041            </td>\n",
       "        </tr>\n",
       "        <tr>\n",
       "            <td>Unknown  </td> <td>1499              </td>\n",
       "        </tr>\n",
       "        <tr>\n",
       "            <td>Nonbinary</td> <td>1166              </td>\n",
       "        </tr>\n",
       "    </tbody>\n",
       "</table>"
      ],
      "text/plain": [
       "Gender    | Fall Headcount sum\n",
       "Female    | 195432\n",
       "Male      | 136041\n",
       "Unknown   | 1499\n",
       "Nonbinary | 1166"
      ]
     },
     "execution_count": 44,
     "metadata": {},
     "output_type": "execute_result"
    }
   ],
   "source": [
    "ucr_ns_grouped = ucr_ns.group(\"Gender\", np.sum).select([\"Gender\", \"Fall Headcount sum\"]).sort(\"Fall Headcount sum\", descending=True)\n",
    "ucr_ns_grouped "
   ]
  },
  {
   "cell_type": "markdown",
   "id": "481a44ee-c7ea-4e9f-a471-5449624e1cec",
   "metadata": {},
   "source": [
    "From the above two tables, we can see an interesting discrepancy that we see quite often with this type of data: there are more male-identifying individuals represented by the STEM majors, and more female-identifying individuals repesented by the non-STEM majors. Thanks to the other two representations of `\"Unknown\"` and `\"Nonbinary\"` though, we can also see that there are more of these individuals in the non-STEM majors table as well."
   ]
  },
  {
   "cell_type": "markdown",
   "id": "9f90e41e-8392-454f-a755-7facc605e1b1",
   "metadata": {},
   "source": [
    "Using what we learned in Lab 3, we can also visualize the data below to be able to see the trends and proportions of the data more clearly:"
   ]
  },
  {
   "cell_type": "code",
   "execution_count": 45,
   "id": "f7d4221f-1476-4d64-adda-a4f4199a4896",
   "metadata": {},
   "outputs": [
    {
     "data": {
      "image/png": "[encoded data removed]",
      "text/plain": [
       "<Figure size 600x400 with 1 Axes>"
      ]
     },
     "metadata": {},
     "output_type": "display_data"
    }
   ],
   "source": [
    "ucr_s_grouped.barh(\"Gender\", \"Fall Headcount sum\")"
   ]
  },
  {
   "cell_type": "code",
   "execution_count": 46,
   "id": "8a0fd41a-af52-4867-bf44-6d3424e3cf4f",
   "metadata": {},
   "outputs": [
    {
     "data": {
      "image/png": "[encoded data removed]",
      "text/plain": [
       "<Figure size 600x400 with 1 Axes>"
      ]
     },
     "metadata": {},
     "output_type": "display_data"
    }
   ],
   "source": [
    "ucr_ns_grouped.barh(\"Gender\", \"Fall Headcount sum\")"
   ]
  },
  {
   "cell_type": "markdown",
   "id": "6a13ca49-6d7d-4112-ba18-4a8353d845e3",
   "metadata": {},
   "source": [
    "Going back to an idea we posed when starting to look into the `\"Gender\"` column: while this type of exploration is very important and can also be informative, **it is also important to remember that it is not always enough to simply look at a trend like this and state it.** Ultimately, it is typically very **hard to encode data about humans into numbers and categories, because in doing so, we lose information and context about the individual we are looking at.** In your analysis in the future, try to strike a balance of looking at interesting trends in the data and considering the original context of the data you're working with."
   ]
  },
  {
   "cell_type": "markdown",
   "id": "def96d13-8ae3-4942-bfbb-a711a5feac80",
   "metadata": {},
   "source": [
    "**Finally, for reference, here is the link to the Data 6 Python Reference (our Python cheat-sheet) so you can review some of the methods we've used for tables in this lab!**\n",
    "\n",
    "[Python Reference](http://data6.org/su23/reference)"
   ]
  },
  {
   "cell_type": "markdown",
   "id": "ae1572b7-e179-43e5-9944-e9fcc56a5f0e",
   "metadata": {},
   "source": [
    "---\n",
    "## Done! 😇\n",
    "\n",
    "That's it! There's nowhere for you to submit this, as labs are not assignments. However, please ask any questions you have with this notebook in lab or on Ed."
   ]
  },
  {
   "cell_type": "markdown",
   "id": "fad69802-4819-4e73-971b-187def132785",
   "metadata": {},
   "source": [
    "---\n",
    "\n",
    "To double-check your work, the cell below will rerun all of the autograder tests."
   ]
  },
  {
   "cell_type": "code",
   "execution_count": null,
   "id": "b77dbc1d-4c04-436e-afb2-53d9c98d2e53",
   "metadata": {},
   "outputs": [],
   "source": [
    "grader.check_all()"
   ]
  }
 ],
 "metadata": {
  "kernelspec": {
   "display_name": "Python 3 (ipykernel)",
   "language": "python",
   "name": "python3"
  },
  "language_info": {
   "codemirror_mode": {
    "name": "ipython",
    "version": 3
   },
   "file_extension": ".py",
   "mimetype": "text/x-python",
   "name": "python",
   "nbconvert_exporter": "python",
   "pygments_lexer": "ipython3",
   "version": "3.9.15"
  }
 },
 "nbformat": 4,
 "nbformat_minor": 5
}
