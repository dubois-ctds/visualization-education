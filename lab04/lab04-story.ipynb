{
 "cells": [
  {
   "cell_type": "raw",
   "id": "3b089a40-141a-4a76-9ff0-1ecb7f484142",
   "metadata": {},
   "source": [
    "# ASSIGNMENT CONFIG\n",
    "name: lab04\n",
    "export_cell:\n",
    "    pdf: false\n",
    "    run_tests: false\n",
    "files:\n",
    "    - data/riverside_by_college.csv\n",
    "    - data/riverside.csv\n",
    "generate:\n",
    "    show_hidden: true\n",
    "    requirements: requirements.txt\n",
    "    overwrite_requirements: true\n",
    "    run_tests: false\n",
    "    template_pdf: false\n",
    "    solutions_pdf: false"
   ]
  },
  {
   "cell_type": "code",
   "execution_count": 1,
   "id": "27bf6c26-c5fb-4f8b-bcab-42e6f403c1d1",
   "metadata": {},
   "outputs": [],
   "source": [
    "from datascience import *\n",
    "import numpy as np\n",
    "\n",
    "import matplotlib.pyplot as plt\n",
    "plt.style.use(\"ggplot\")\n",
    "%matplotlib inline"
   ]
  },
  {
   "cell_type": "markdown",
   "id": "0ed9d56b-03c6-49dd-91b6-27563c33a1d2",
   "metadata": {},
   "source": [
    "# Lab 4 – Tables\n",
    "\n",
    "## Data 6, Summer 2024\n",
    "\n",
    "In this lab, we will be talking all about **tables**. We use tables to store all sorts of data form sports statistics to population information. If there's data you have ever been curious about, it is very likely that the internet has a table somewhere with that data!\n",
    "\n",
    "Tables are integral to the foundation of Data Science, and in this lab we will go over how to **query** a table. **Querying** a table is basically asking information about the table. Some examples of common queries (in English, not code):\n",
    "\n",
    "- How many data points are there?\n",
    "- Which data points have a specific characteristic?\n",
    "- What is the attribute of a specific data point?\n",
    "- And many more!\n",
    "\n",
    "There are so many ways we can use tables to get information we need, and there are several existing libraries in Python that we can use to do this! In this course, we will be using the `datascience` library, and if you take Data Science classes beyond this one, you'll likely learn many more."
   ]
  },
  {
   "cell_type": "markdown",
   "id": "299c8639-4c58-4326-b32b-3d284dcdb482",
   "metadata": {},
   "source": [
    "<div class=\"alert alert-warning\">\n",
    "The data that we'll be using in this lab contains data on <a href=https://ir.ucr.edu/stats/admission/undergraduate>University of California, Riverside's undergraduate admissions.</a> We'll be looking at this data today as we are interested in exploring the context and ethics behind education-related data (UC Riverside specifically was chosen as it was the UC that provided the most publicly accessible method of downloading the data). In this case, we are looking at the demographics of undergraduate students. This leads us to many important questions to consider: why does UC Riverside make this data publicly available? Why does it choose this format and these categories to represent students? Who or what is affected by the conclusions we make from analyzing this data? Think about these questions as you work through the lab.\n",
    "</div>"
   ]
  },
  {
   "cell_type": "markdown",
   "id": "85998cd6-8606-41f3-b2d7-59da66bfb425",
   "metadata": {},
   "source": [
    "<hr style=\"border: 5px solid #003262;\" />\n",
    "<hr style=\"border: 1px solid #fdb515;\" />\n",
    "\n",
    "## Part 1: Basic Table Functions"
   ]
  },
  {
   "cell_type": "markdown",
   "id": "bee18e50-d7f7-465f-b509-00b2a4a5830e",
   "metadata": {},
   "source": [
    "<div class=\"alert alert-warning\">\n",
    "In the first part of this lab, we'll be learning about some of the various basic table functions that we can utilize in the <code>datascience</code> library in order to answer questions about student demographics at UC Riverside. In this part, we'll be focusing on the demographic categories of <code>Gender</code> and <code>IPEDS Race/Ethnicity</code> to explore what the breakdown of students at UC Riverside looks like, as well as getting a better understanding of how and why UC Riverside chose to represent their data publicly in this format.\n",
    "</div>"
   ]
  },
  {
   "cell_type": "markdown",
   "id": "4231c60f-8625-442a-ad41-b7266f385125",
   "metadata": {},
   "source": [
    "### Loading a Table\n",
    "\n",
    "Recall in Lab 2, we introduced the `Table.read_table` method, which takes a *file path* and constructs a `Table` with the information from that file. Let's see how this works using the file `\"data/riverside.csv\"`, which contains information about UC Riverside's admissions.\n",
    "\n",
    "*Note*: If you want to check where the `riverside.csv` file is, you can look in your DataHub directory by clicking `File` > `Open...` in the top left."
   ]
  },
  {
   "cell_type": "code",
   "execution_count": 2,
   "id": "c8593c93-5ca8-409a-9209-f99de073bdd9",
   "metadata": {},
   "outputs": [
    {
     "data": {
      "text/html": [
       "<table border=\"1\" class=\"dataframe\">\n",
       "    <thead>\n",
       "        <tr>\n",
       "            <th>Year</th> <th>Level</th> <th>Original Entry Type</th> <th>New/Continuing Status</th> <th>Full-Time Status</th> <th>Gender</th> <th>IPEDS Race/Ethnicity</th> <th>Fall Headcount</th>\n",
       "        </tr>\n",
       "    </thead>\n",
       "    <tbody>\n",
       "        <tr>\n",
       "            <td>2022</td> <td>Undergraduate</td> <td>Undergraduate Frosh</td> <td>New                  </td> <td>Full-Time       </td> <td>Female</td> <td>Asian                 </td> <td>1129          </td>\n",
       "        </tr>\n",
       "        <tr>\n",
       "            <td>2022</td> <td>Undergraduate</td> <td>Undergraduate Frosh</td> <td>New                  </td> <td>Full-Time       </td> <td>Female</td> <td>Black/African American</td> <td>90            </td>\n",
       "        </tr>\n",
       "        <tr>\n",
       "            <td>2022</td> <td>Undergraduate</td> <td>Undergraduate Frosh</td> <td>New                  </td> <td>Full-Time       </td> <td>Female</td> <td>Chicano/Latino        </td> <td>1219          </td>\n",
       "        </tr>\n",
       "        <tr>\n",
       "            <td>2022</td> <td>Undergraduate</td> <td>Undergraduate Frosh</td> <td>New                  </td> <td>Full-Time       </td> <td>Female</td> <td>Domestic Unknown      </td> <td>37            </td>\n",
       "        </tr>\n",
       "        <tr>\n",
       "            <td>2022</td> <td>Undergraduate</td> <td>Undergraduate Frosh</td> <td>New                  </td> <td>Full-Time       </td> <td>Female</td> <td>International         </td> <td>99            </td>\n",
       "        </tr>\n",
       "    </tbody>\n",
       "</table>\n",
       "<p>... (5016 rows omitted)</p>"
      ],
      "text/plain": [
       "<IPython.core.display.HTML object>"
      ]
     },
     "metadata": {},
     "output_type": "display_data"
    }
   ],
   "source": [
    "ucr = Table.read_table(\"data/riverside.csv\")\n",
    "ucr.show(5)"
   ]
  },
  {
   "cell_type": "raw",
   "id": "3d555607-1520-4397-a008-324c953cf138",
   "metadata": {},
   "source": [
    "# BEGIN QUESTION\n",
    "name: q1_1\n",
    "manual: true"
   ]
  },
  {
   "cell_type": "markdown",
   "id": "e4bd705b-8867-4bf8-b243-99e2737fe50c",
   "metadata": {},
   "source": [
    "### Question 1.1 (Discussion)\n",
    "What does each row in the dataset correspond to? In other words, what is the granularity of our data?"
   ]
  },
  {
   "cell_type": "raw",
   "id": "9c4550dc-7482-4266-87d7-75e8f9abac77",
   "metadata": {},
   "source": [
    "# BEGIN SOLUTION"
   ]
  },
  {
   "cell_type": "markdown",
   "id": "fe515859-c8f1-4d85-b513-10af6056d972",
   "metadata": {},
   "source": [
    "**SOLUTION:** Each row in the dataset corresponds to a specific status/level/gender/ethnicity stratification of students for each year."
   ]
  },
  {
   "cell_type": "raw",
   "id": "8d2a3c6c-40df-4f51-8474-09f2d0b8e2d5",
   "metadata": {},
   "source": [
    "# END SOLUTION"
   ]
  },
  {
   "cell_type": "raw",
   "id": "093359cf-b60f-454c-b149-5bcadc63dcc4",
   "metadata": {},
   "source": [
    "# END QUESTION"
   ]
  },
  {
   "cell_type": "raw",
   "id": "96810346-aab1-4365-89aa-025152d69be1",
   "metadata": {},
   "source": [
    "# BEGIN QUESTION\n",
    "name: q1_2"
   ]
  },
  {
   "cell_type": "markdown",
   "id": "8632c123-ac88-462d-a04b-d004f1e992fe",
   "metadata": {},
   "source": [
    "### Question 1.2\n",
    "Now that we have considered what each row in the data represents, let's take a look at how many rows we have overall. This gives us a better idea of approximately how many years and stratifications of students per year we have in our data. Assign the variable `ucr_rows` to the number of rows in `ucr`. \n",
    "\n",
    "You should not write an integer, but instead use one of the table attributes we have talked about so far to **calculate** the number of rows.\n",
    "\n",
    "*Hint:* Stuck? Remember, you can reference all of the Table tools in `datascience` by looking at the Data 6 Python Reference sheet [here](http://data6.org/su23/reference). "
   ]
  },
  {
   "cell_type": "raw",
   "id": "37d9813d-8425-45fb-9b48-abd36251a24b",
   "metadata": {},
   "source": [
    "# BEGIN SOLUTION"
   ]
  },
  {
   "cell_type": "code",
   "execution_count": 3,
   "id": "d1b8588e-a15b-4a24-ae33-b744c21defc9",
   "metadata": {},
   "outputs": [
    {
     "data": {
      "text/plain": [
       "5021"
      ]
     },
     "execution_count": 3,
     "metadata": {},
     "output_type": "execute_result"
    }
   ],
   "source": [
    "ucr_rows = ucr.num_rows # SOLUTION\n",
    "ucr_rows"
   ]
  },
  {
   "cell_type": "raw",
   "id": "98b26427-080e-491d-9be0-6a7eb76ce4e2",
   "metadata": {},
   "source": [
    "# END SOLUTION"
   ]
  },
  {
   "cell_type": "raw",
   "id": "82741b31-75fa-403d-aa9b-0a0a6adeb865",
   "metadata": {},
   "source": [
    "# BEGIN TESTS"
   ]
  },
  {
   "cell_type": "code",
   "execution_count": 4,
   "id": "f4759e04-8fd9-4a0a-a6fa-0c1dda697879",
   "metadata": {},
   "outputs": [],
   "source": [
    "assert isinstance(ucr_rows, int)"
   ]
  },
  {
   "cell_type": "code",
   "execution_count": 5,
   "id": "798da61a-64c4-450a-b039-49163bf9e901",
   "metadata": {},
   "outputs": [],
   "source": [
    "assert ucr_rows == 5021"
   ]
  },
  {
   "cell_type": "raw",
   "id": "9299c51e-935b-4b70-bb46-0f8a739614c8",
   "metadata": {},
   "source": [
    "# END TESTS"
   ]
  },
  {
   "cell_type": "raw",
   "id": "8eb2b58a-2073-424c-b62a-7485692dbcb5",
   "metadata": {},
   "source": [
    "# END QUESTION"
   ]
  },
  {
   "cell_type": "markdown",
   "id": "824e9ddd-01b1-4bf5-adf8-adf7ec6f5b2c",
   "metadata": {},
   "source": [
    "<div class=\"alert alert-warning\">\n",
    "To get our analysis started, let's take a look at the <code>drop</code> and <code>relabeled</code> methods to see how we can clean up the appearance of the columns and tables to make viewing and working with the data easier.\n",
    "</div>"
   ]
  },
  {
   "cell_type": "markdown",
   "id": "69873750-5827-4275-bfef-1d12d02fa6df",
   "metadata": {},
   "source": [
    "---\n",
    "### Excluding columns: `drop`\n",
    "\n",
    "We now have information about UC Riverside's admissions in a `datascience` Table. It is common in data analysis for our tables to have columns that may not be relevant to what our exploration is focused on. One way of cleaning up our table to remove these unnecessary columns is to use the `drop` method!\n",
    "\n",
    "Along with having columns that may not be relevant to our exploration, it is very common for our datasets to have many rows or columns with `NaN` values (`nan` stands for \"Not A Number\", and it is typically used to denote a missing value). **However**, it is not a good idea to blindly drop columns with several NaN values from a table. Think back to what you saw with the missing values in Lab 2. What information would have been lost if we just dropped all missing values?\n",
    "\n",
    "Our table below fortunately doesn't have any missing values, so we'll be using the `drop` method to get rid of columns that aren't relevant in our analysis. This will make it easier to focus on the columns that we do care about. Below, let's use the `drop` method to remove a column from our table, such as the `\"New/Continuing Status\"` column:"
   ]
  },
  {
   "cell_type": "code",
   "execution_count": 6,
   "id": "2bafe445-7f36-4943-956c-0f78ca6a3928",
   "metadata": {},
   "outputs": [
    {
     "data": {
      "text/html": [
       "<table border=\"1\" class=\"dataframe\">\n",
       "    <thead>\n",
       "        <tr>\n",
       "            <th>Year</th> <th>Level</th> <th>Original Entry Type</th> <th>Full-Time Status</th> <th>Gender</th> <th>IPEDS Race/Ethnicity</th> <th>Fall Headcount</th>\n",
       "        </tr>\n",
       "    </thead>\n",
       "    <tbody>\n",
       "        <tr>\n",
       "            <td>2022</td> <td>Undergraduate</td> <td>Undergraduate Frosh</td> <td>Full-Time       </td> <td>Female</td> <td>Asian                 </td> <td>1129          </td>\n",
       "        </tr>\n",
       "        <tr>\n",
       "            <td>2022</td> <td>Undergraduate</td> <td>Undergraduate Frosh</td> <td>Full-Time       </td> <td>Female</td> <td>Black/African American</td> <td>90            </td>\n",
       "        </tr>\n",
       "        <tr>\n",
       "            <td>2022</td> <td>Undergraduate</td> <td>Undergraduate Frosh</td> <td>Full-Time       </td> <td>Female</td> <td>Chicano/Latino        </td> <td>1219          </td>\n",
       "        </tr>\n",
       "        <tr>\n",
       "            <td>2022</td> <td>Undergraduate</td> <td>Undergraduate Frosh</td> <td>Full-Time       </td> <td>Female</td> <td>Domestic Unknown      </td> <td>37            </td>\n",
       "        </tr>\n",
       "        <tr>\n",
       "            <td>2022</td> <td>Undergraduate</td> <td>Undergraduate Frosh</td> <td>Full-Time       </td> <td>Female</td> <td>International         </td> <td>99            </td>\n",
       "        </tr>\n",
       "    </tbody>\n",
       "</table>\n",
       "<p>... (5016 rows omitted)</p>"
      ],
      "text/plain": [
       "<IPython.core.display.HTML object>"
      ]
     },
     "metadata": {},
     "output_type": "display_data"
    }
   ],
   "source": [
    "ucr = ucr.drop(\"New/Continuing Status\")\n",
    "ucr.show(5)"
   ]
  },
  {
   "cell_type": "markdown",
   "id": "bff85ebd-07c9-42f5-8d7c-7fcbbd6c62d9",
   "metadata": {},
   "source": [
    "*Note:* By dropping the `\"New/Continuing Status\"` column above, we no longer have information on whether the students in the stratification are new or continuing, so there may be some rows that appear to be duplicates. This is one of the downsides of dropping columns we aren't focusing on -- we may lose some data and context in the process! However, for our exploration's purposes, this information isn't that important, so we'll continue without it."
   ]
  },
  {
   "cell_type": "raw",
   "id": "30cb8db2-43a6-4075-8610-76a9dc0ec8e8",
   "metadata": {},
   "source": [
    "# BEGIN QUESTION\n",
    "name: q1_3"
   ]
  },
  {
   "cell_type": "markdown",
   "id": "d569537a-0e59-4b3c-80e6-3338ca28ed1f",
   "metadata": {},
   "source": [
    "### Question 1.3 (Multiple Choice)\n",
    "If the `\"Full-Time Status\"` column is dropped using the `drop` method, what would `ucr_dropped` look like? You can answer the question by assigning `q1_3` to `make_array(...)` where `...` is the choice of your answer (eg. `make_array(3)`).\n",
    "\n",
    "1. It contains only rows with NaN values.\n",
    "2. It contains only the columns before the `\"Full-Time Status\"` column.\n",
    "3. It contains all columns except the `\"Full-Time Status\"` column.\n",
    "4. It contains the same columns as the original table, but all NaN values in the `\"Full-Time Status\"` column are dropped."
   ]
  },
  {
   "cell_type": "raw",
   "id": "9a6b074e-7f85-4fb9-b84a-dd6999314a0b",
   "metadata": {},
   "source": [
    "# BEGIN SOLUTION"
   ]
  },
  {
   "cell_type": "code",
   "execution_count": 7,
   "id": "f306a5cc-28a4-458a-ba52-109ef2f51609",
   "metadata": {},
   "outputs": [],
   "source": [
    "q1_3 = make_array(3) # SOLUTION"
   ]
  },
  {
   "cell_type": "raw",
   "id": "fcf4ae24-265b-40b9-8d91-1ca57e90403c",
   "metadata": {},
   "source": [
    "# END SOLUTION"
   ]
  },
  {
   "cell_type": "raw",
   "id": "6a60ec42-cab7-4e75-8b03-f65b834d71c0",
   "metadata": {},
   "source": [
    "# BEGIN TESTS"
   ]
  },
  {
   "cell_type": "code",
   "execution_count": 8,
   "id": "a5adf012-7842-443a-adf9-f3f78d3f5487",
   "metadata": {},
   "outputs": [],
   "source": [
    "assert isinstance(q1_3, np.ndarray)"
   ]
  },
  {
   "cell_type": "code",
   "execution_count": 9,
   "id": "fa60c781-ff53-43a3-b496-516f83ea9e63",
   "metadata": {},
   "outputs": [],
   "source": [
    "# HIDDEN\n",
    "assert q1_3 == make_array(3)"
   ]
  },
  {
   "cell_type": "raw",
   "id": "267e9d50-3992-44fc-aecf-b6edf360123d",
   "metadata": {},
   "source": [
    "# END TESTS"
   ]
  },
  {
   "cell_type": "raw",
   "id": "3cb37979-c485-4aa5-9c4b-db595017e9f9",
   "metadata": {},
   "source": [
    "# END QUESTION"
   ]
  },
  {
   "cell_type": "markdown",
   "id": "cea709d7-592c-4024-b109-553de8dac900",
   "metadata": {},
   "source": [
    "---\n",
    "### Changing column labels: `relabeled`\n",
    "\n",
    "Sometimes the original column names of the data are long or not descriptive enough. We can rename column labels using the `relabeled` method. With this function, you are able to:\n",
    "1. Relabel a *single column*\n",
    "2. Relabel *several columns* at once\n",
    "\n",
    "To change the names of multiple columns, we pass in an array of the old names and an array of the new names as the 2 inputs to `relabeled`.\n",
    "\n",
    "*Note*: You may see another method called `relabel` in the `datascience` documentation. Please avoid using this, as it can change your data when you may not want to."
   ]
  },
  {
   "cell_type": "raw",
   "id": "8936a2d2-6509-4d2f-8b0d-12df14ca4d7e",
   "metadata": {},
   "source": [
    "# BEGIN QUESTION\n",
    "name: q1_4"
   ]
  },
  {
   "cell_type": "markdown",
   "id": "c6a4f081-e438-4140-9732-810b1458b37f",
   "metadata": {},
   "source": [
    "### Question 1.4\n",
    "If we're accessing the `\"IPEDS Race/Ethnicity\"` column a lot, it could be cumbersome to type the long column name multiple times. Let's change the column label instead to `\"Race/Ethnicity\"`.\n",
    "\n",
    "*Hint*: We've provided skeleton code for you to use."
   ]
  },
  {
   "cell_type": "raw",
   "id": "41775450-3dd1-464e-9b2b-8febb64e4fb6",
   "metadata": {},
   "source": [
    "# BEGIN SOLUTION"
   ]
  },
  {
   "cell_type": "code",
   "execution_count": 10,
   "id": "e632da9a-4094-417a-9d99-64e680548b0d",
   "metadata": {},
   "outputs": [
    {
     "data": {
      "text/html": [
       "<table border=\"1\" class=\"dataframe\">\n",
       "    <thead>\n",
       "        <tr>\n",
       "            <th>Year</th> <th>Level</th> <th>Original Entry Type</th> <th>Full-Time Status</th> <th>Gender</th> <th>Race/Ethnicity</th> <th>Fall Headcount</th>\n",
       "        </tr>\n",
       "    </thead>\n",
       "    <tbody>\n",
       "        <tr>\n",
       "            <td>2022</td> <td>Undergraduate</td> <td>Undergraduate Frosh</td> <td>Full-Time       </td> <td>Female</td> <td>Asian                 </td> <td>1129          </td>\n",
       "        </tr>\n",
       "        <tr>\n",
       "            <td>2022</td> <td>Undergraduate</td> <td>Undergraduate Frosh</td> <td>Full-Time       </td> <td>Female</td> <td>Black/African American</td> <td>90            </td>\n",
       "        </tr>\n",
       "        <tr>\n",
       "            <td>2022</td> <td>Undergraduate</td> <td>Undergraduate Frosh</td> <td>Full-Time       </td> <td>Female</td> <td>Chicano/Latino        </td> <td>1219          </td>\n",
       "        </tr>\n",
       "        <tr>\n",
       "            <td>2022</td> <td>Undergraduate</td> <td>Undergraduate Frosh</td> <td>Full-Time       </td> <td>Female</td> <td>Domestic Unknown      </td> <td>37            </td>\n",
       "        </tr>\n",
       "        <tr>\n",
       "            <td>2022</td> <td>Undergraduate</td> <td>Undergraduate Frosh</td> <td>Full-Time       </td> <td>Female</td> <td>International         </td> <td>99            </td>\n",
       "        </tr>\n",
       "    </tbody>\n",
       "</table>\n",
       "<p>... (5016 rows omitted)</p>"
      ],
      "text/plain": [
       "<IPython.core.display.HTML object>"
      ]
     },
     "metadata": {},
     "output_type": "display_data"
    }
   ],
   "source": [
    "# BEGIN SOLUTION NO PROMPT\n",
    "ucr_relabeled = ucr.relabeled('IPEDS Race/Ethnicity', 'Race/Ethnicity')\n",
    "# END SOLUTION\n",
    "\"\"\" # BEGIN PROMPT\n",
    "ucr_relabeled = ucr.relabeled(..., ...)\n",
    "\"\"\" # END PROMPT\n",
    "ucr_relabeled.show(5)"
   ]
  },
  {
   "cell_type": "raw",
   "id": "39d9ba10-371f-427d-9c0a-815ad701039d",
   "metadata": {},
   "source": [
    "# END SOLUTION"
   ]
  },
  {
   "cell_type": "raw",
   "id": "64547717-55c5-45b4-ace3-eaed98bfc287",
   "metadata": {},
   "source": [
    "# BEGIN TESTS"
   ]
  },
  {
   "cell_type": "code",
   "execution_count": 11,
   "id": "9d4d112b-1864-4d06-9e97-1075f16fabb1",
   "metadata": {},
   "outputs": [],
   "source": [
    "assert isinstance(ucr_relabeled, Table)"
   ]
  },
  {
   "cell_type": "code",
   "execution_count": 12,
   "id": "25fcde5f-dbdd-4205-ab04-5d9f47a2239d",
   "metadata": {},
   "outputs": [],
   "source": [
    "assert \"Race/Ethnicity\" in ucr_relabeled.labels"
   ]
  },
  {
   "cell_type": "code",
   "execution_count": 13,
   "id": "cac10c09-ee03-4058-a640-3d1d427c45a0",
   "metadata": {},
   "outputs": [],
   "source": [
    "assert \"IPEDS Race/Ethnicity\" not in ucr_relabeled.labels"
   ]
  },
  {
   "cell_type": "code",
   "execution_count": 14,
   "id": "9eef9b8b-04fa-463a-9892-a3cb154b39e8",
   "metadata": {},
   "outputs": [],
   "source": [
    "# HIDDEN\n",
    "assert all(ucr_relabeled) == all(ucr.relabeled('IPEDS Race/Ethnicity', 'Race/Ethnicity'))"
   ]
  },
  {
   "cell_type": "raw",
   "id": "b10e4827-1c39-4f33-88f5-7748947b2694",
   "metadata": {},
   "source": [
    "# END TESTS"
   ]
  },
  {
   "cell_type": "raw",
   "id": "a7194431-3756-480a-9853-cd0783add9bd",
   "metadata": {},
   "source": [
    "# END QUESTION"
   ]
  },
  {
   "cell_type": "markdown",
   "id": "347f2ef7-8e40-4210-88ad-3403e0fecf0d",
   "metadata": {},
   "source": [
    "<div class=\"alert alert-warning\">\n",
    "In the next two sections of this part, we'll be looking at the <code>column</code> and <code>select</code> methods to discover ways of focusing on certain subsections of columns in our data.\n",
    "</div>"
   ]
  },
  {
   "cell_type": "markdown",
   "id": "c8a9b09c-b3b1-41d9-a4b3-7cba6d6a8da3",
   "metadata": {},
   "source": [
    "---\n",
    "### Querying the table: `column`\n",
    "\n",
    "Looking at the first five rows of `ucr_relabeled` above, we can see some of the possible values for each of the columns. For example, in the `\"Race/Ethnicity\"` column, we see that there are values such as \"Asian\", \"Black/African American\", etc. In order to get a better idea of the individual values that exist within a column of our dataset, we can query the table using the `column` method. Let's use this method on `\"Race/Ethnicity\"`."
   ]
  },
  {
   "cell_type": "code",
   "execution_count": 16,
   "id": "522f31c7-6d50-46cc-ba1b-e962242bfb19",
   "metadata": {},
   "outputs": [
    {
     "data": {
      "text/plain": [
       "array(['Asian', 'Black/African American', 'Chicano/Latino', ...,\n",
       "       'Domestic Unknown', 'International', 'White'],\n",
       "      dtype='<U32')"
      ]
     },
     "execution_count": 16,
     "metadata": {},
     "output_type": "execute_result"
    }
   ],
   "source": [
    "ethnicity_list = ucr_relabeled.column(\"Race/Ethnicity\")\n",
    "ethnicity_list"
   ]
  },
  {
   "cell_type": "markdown",
   "id": "b1ee1a9a-18ed-4055-8bfc-d3d4433bb500",
   "metadata": {},
   "source": [
    "One downside of doing it this way is that the list would be long and repetitive, since it will include the race/ethnicity for every row, resulting in repeated values. To work around this, we can use the `np.unique` method to tell us all the race/ethnicity values only once as they appear:"
   ]
  },
  {
   "cell_type": "code",
   "execution_count": 17,
   "id": "f982471b-e6bd-45af-90af-76863d55cef2",
   "metadata": {},
   "outputs": [
    {
     "data": {
      "text/plain": [
       "array(['American Indian/Alaskan Native', 'Asian', 'Black/African American',\n",
       "       'Chicano/Latino', 'Domestic Unknown', 'International',\n",
       "       'Native Hawaiian/Pacific Islander', 'Two or More Races', 'White'],\n",
       "      dtype='<U32')"
      ]
     },
     "execution_count": 17,
     "metadata": {},
     "output_type": "execute_result"
    }
   ],
   "source": [
    "np.unique(ethnicity_list)"
   ]
  },
  {
   "cell_type": "markdown",
   "id": "b656bcb8-351c-468d-8f13-e7e39d2681af",
   "metadata": {},
   "source": [
    "<div class=\"alert alert-warning\">\n",
    "This gives us a much clearer picture of what the possible representations of race/ethnicity are in this dataset. Looking at the values above, here's something to consider: do you find any issues with how the individuals can be categorized? Are there any labels that could be misleading or misrepresentative? Are there any groups of people who might not be included by this breakdown? <br><br>\n",
    "\n",
    "We'll consider this idea of representation of the data as we continue through the lab.\n",
    "</div>"
   ]
  },
  {
   "cell_type": "markdown",
   "id": "9a5e3edb-64f6-43fb-abc2-8d457f24e864",
   "metadata": {},
   "source": [
    "---\n",
    "### Picking columns: `select`\n",
    "\n",
    "In many cases during data analysis, there will be several columns that we aren't interested in, and only a few that we are. Instead of dropping several columns as we learned about earlier, we can use the `select` method to grab only the columns we want. "
   ]
  },
  {
   "cell_type": "raw",
   "id": "587401ba-fcbd-4b27-8567-e75e9b0ffe1d",
   "metadata": {},
   "source": [
    "# BEGIN QUESTION\n",
    "name: q1_5"
   ]
  },
  {
   "cell_type": "markdown",
   "id": "08b23186-24b9-4640-9ef2-215427aa1d07",
   "metadata": {},
   "source": [
    "### Question 1.5\n",
    "For this example, we only want to keep the `\"Year\"`, `\"Level\"`, `\"Full-Time Status\"`, `\"Race/Ethnicity\"`, and `\"Fall Headcount\"`  columns. Fill in the following code so that the `ucr_relabeled` table has only the relevant columns."
   ]
  },
  {
   "cell_type": "raw",
   "id": "73864d6b-6554-44cd-8b4d-e5c715b844bb",
   "metadata": {},
   "source": [
    "# BEGIN SOLUTION"
   ]
  },
  {
   "cell_type": "code",
   "execution_count": 18,
   "id": "7f1c8887-8dc7-4224-9608-9bc45f648723",
   "metadata": {},
   "outputs": [
    {
     "data": {
      "text/html": [
       "<table border=\"1\" class=\"dataframe\">\n",
       "    <thead>\n",
       "        <tr>\n",
       "            <th>Year</th> <th>Level</th> <th>Full-Time Status</th> <th>Race/Ethnicity</th> <th>Fall Headcount</th>\n",
       "        </tr>\n",
       "    </thead>\n",
       "    <tbody>\n",
       "        <tr>\n",
       "            <td>2022</td> <td>Undergraduate</td> <td>Full-Time       </td> <td>Asian                           </td> <td>1129          </td>\n",
       "        </tr>\n",
       "        <tr>\n",
       "            <td>2022</td> <td>Undergraduate</td> <td>Full-Time       </td> <td>Black/African American          </td> <td>90            </td>\n",
       "        </tr>\n",
       "        <tr>\n",
       "            <td>2022</td> <td>Undergraduate</td> <td>Full-Time       </td> <td>Chicano/Latino                  </td> <td>1219          </td>\n",
       "        </tr>\n",
       "        <tr>\n",
       "            <td>2022</td> <td>Undergraduate</td> <td>Full-Time       </td> <td>Domestic Unknown                </td> <td>37            </td>\n",
       "        </tr>\n",
       "        <tr>\n",
       "            <td>2022</td> <td>Undergraduate</td> <td>Full-Time       </td> <td>International                   </td> <td>99            </td>\n",
       "        </tr>\n",
       "        <tr>\n",
       "            <td>2022</td> <td>Undergraduate</td> <td>Full-Time       </td> <td>Native Hawaiian/Pacific Islander</td> <td>6             </td>\n",
       "        </tr>\n",
       "        <tr>\n",
       "            <td>2022</td> <td>Undergraduate</td> <td>Full-Time       </td> <td>Two or More Races               </td> <td>128           </td>\n",
       "        </tr>\n",
       "        <tr>\n",
       "            <td>2022</td> <td>Undergraduate</td> <td>Full-Time       </td> <td>White                           </td> <td>221           </td>\n",
       "        </tr>\n",
       "        <tr>\n",
       "            <td>2022</td> <td>Undergraduate</td> <td>Full-Time       </td> <td>Asian                           </td> <td>1107          </td>\n",
       "        </tr>\n",
       "        <tr>\n",
       "            <td>2022</td> <td>Undergraduate</td> <td>Full-Time       </td> <td>Black/African American          </td> <td>64            </td>\n",
       "        </tr>\n",
       "    </tbody>\n",
       "</table>\n",
       "<p>... (5011 rows omitted)</p>"
      ],
      "text/plain": [
       "Year | Level         | Full-Time Status | Race/Ethnicity                   | Fall Headcount\n",
       "2022 | Undergraduate | Full-Time        | Asian                            | 1129\n",
       "2022 | Undergraduate | Full-Time        | Black/African American           | 90\n",
       "2022 | Undergraduate | Full-Time        | Chicano/Latino                   | 1219\n",
       "2022 | Undergraduate | Full-Time        | Domestic Unknown                 | 37\n",
       "2022 | Undergraduate | Full-Time        | International                    | 99\n",
       "2022 | Undergraduate | Full-Time        | Native Hawaiian/Pacific Islander | 6\n",
       "2022 | Undergraduate | Full-Time        | Two or More Races                | 128\n",
       "2022 | Undergraduate | Full-Time        | White                            | 221\n",
       "2022 | Undergraduate | Full-Time        | Asian                            | 1107\n",
       "2022 | Undergraduate | Full-Time        | Black/African American           | 64\n",
       "... (5011 rows omitted)"
      ]
     },
     "execution_count": 18,
     "metadata": {},
     "output_type": "execute_result"
    }
   ],
   "source": [
    "ucr_selected = ucr_relabeled.select('Year', 'Level', 'Full-Time Status', 'Race/Ethnicity', 'Fall Headcount') # SOLUTION\n",
    "ucr_selected"
   ]
  },
  {
   "cell_type": "raw",
   "id": "91d222c5-2d42-4ef8-9c80-a9cf22d53625",
   "metadata": {},
   "source": [
    "# END SOLUTION"
   ]
  },
  {
   "cell_type": "raw",
   "id": "d07fbf15-9134-4079-98cc-b2b50bde1a60",
   "metadata": {},
   "source": [
    "# BEGIN TESTS"
   ]
  },
  {
   "cell_type": "code",
   "execution_count": 19,
   "id": "16f695f4-7dee-4efc-9854-92c56e7ace5d",
   "metadata": {},
   "outputs": [],
   "source": [
    "assert isinstance(ucr_selected, Table)"
   ]
  },
  {
   "cell_type": "code",
   "execution_count": 20,
   "id": "d9c87df5-4e92-4af5-8385-c1a3d75e158e",
   "metadata": {},
   "outputs": [],
   "source": [
    "assert ucr_selected.num_columns == 5"
   ]
  },
  {
   "cell_type": "code",
   "execution_count": 21,
   "id": "b90e9916-b191-4737-83ec-5471ca1a8ec0",
   "metadata": {},
   "outputs": [],
   "source": [
    "# HIDDEN\n",
    "assert all(ucr_selected) == all(ucr_relabeled.select('Year', 'Level', 'Full-Time Status', 'Race/Ethnicity', 'Fall Headcount'))"
   ]
  },
  {
   "cell_type": "raw",
   "id": "86b331aa-afe8-462e-a215-b49dc53296b6",
   "metadata": {},
   "source": [
    "# END TESTS"
   ]
  },
  {
   "cell_type": "raw",
   "id": "05dba689-28c9-4cd3-870f-c2606f7f2190",
   "metadata": {},
   "source": [
    "# END QUESTION"
   ]
  },
  {
   "cell_type": "markdown",
   "id": "73a420f6-c68a-4969-b162-2979f73f050c",
   "metadata": {},
   "source": [
    "*Note:* As before, we created a new table for the sake of this example. We'll continue using the `ucr` table below!"
   ]
  },
  {
   "cell_type": "raw",
   "id": "abae6700-f1b7-4f73-9325-404eabfe7b68",
   "metadata": {},
   "source": [
    "# BEGIN QUESTION\n",
    "name: q1_6"
   ]
  },
  {
   "cell_type": "markdown",
   "id": "58995571-7b67-46ff-b58e-189d38119ee2",
   "metadata": {},
   "source": [
    "### Question 1.6 (Multiple Choice)\n",
    "What is the purpose of using the `select` method in this context? You can answer the question by assigning `q1_6` to `make_array(...)` where `...` is the choice of your answer (eg. `make_array(3)`).\n",
    "\n",
    "1. To drop specific columns from the table selectively.\n",
    "2. To filter rows based on a corresponding condition to keep relevant information.\n",
    "3. To rearrange and rename columns in the table based on a criteria.\n",
    "4. To choose specific columns to keep in the table and create a new table with only the selected columns."
   ]
  },
  {
   "cell_type": "raw",
   "id": "216cfdfb-ac70-47ea-a3dd-1ba94dddc434",
   "metadata": {},
   "source": [
    "# BEGIN SOLUTION"
   ]
  },
  {
   "cell_type": "code",
   "execution_count": 22,
   "id": "d8c11d77-51e0-4ddd-8861-8940c8d26c44",
   "metadata": {},
   "outputs": [],
   "source": [
    "q1_6 = make_array(4) # SOLUTION"
   ]
  },
  {
   "cell_type": "raw",
   "id": "2a93a5e3-1d10-4e4f-a1ce-67a84888aabe",
   "metadata": {},
   "source": [
    "# END SOLUTION"
   ]
  },
  {
   "cell_type": "raw",
   "id": "cf21017d-ae46-42eb-a2ab-16320ab09684",
   "metadata": {},
   "source": [
    "# BEGIN TESTS"
   ]
  },
  {
   "cell_type": "code",
   "execution_count": 23,
   "id": "b9bf4923-89c8-47b4-aefd-5c650267668c",
   "metadata": {},
   "outputs": [],
   "source": [
    "assert isinstance(q1_6, np.ndarray)"
   ]
  },
  {
   "cell_type": "code",
   "execution_count": 24,
   "id": "5199ec38-a6cb-44bb-9dee-bc4ada02734d",
   "metadata": {},
   "outputs": [],
   "source": [
    "# HIDDEN\n",
    "assert q1_6 == make_array(4)"
   ]
  },
  {
   "cell_type": "raw",
   "id": "ddb0ae24-b4a0-48a0-94e2-fb79cd267433",
   "metadata": {},
   "source": [
    "# END TESTS"
   ]
  },
  {
   "cell_type": "raw",
   "id": "9cb5e29f-6b65-424e-b338-db4c4cfb683b",
   "metadata": {},
   "source": [
    "# END QUESTION"
   ]
  },
  {
   "cell_type": "markdown",
   "id": "53424cc0-1a17-4d38-8abe-53141a545fc4",
   "metadata": {},
   "source": [
    "<hr style=\"border: 5px solid #003262;\" />\n",
    "<hr style=\"border: 1px solid #fdb515;\" />\n",
    "\n",
    "## Part 2: More Table Functions"
   ]
  },
  {
   "cell_type": "markdown",
   "id": "a072294b-b41d-448e-94f4-b6910a4c52d7",
   "metadata": {},
   "source": [
    "<div class=\"alert alert-warning\">\n",
    "In Part 1 of this lab, we learned about several Table methods that help clean up and reorganize the appearance of a table to make our analysis easier. In this part, we'll learn about a couple more Table methods that help us filter and hone in on specific aspects of our data that we're interested in. In our case, these methods will help us better explore the breakdown of the gender and race/ethnicity demographics of students at UC Riverside.\n",
    "</div>"
   ]
  },
  {
   "cell_type": "markdown",
   "id": "0366d925-e58c-443c-9555-0055081bcb33",
   "metadata": {},
   "source": [
    "### Sorting a column: `sort`\n",
    "\n",
    "We will now introduce a new table method: `sort`. The `sort` table method allows us to see a table's column values sorted by its values in either **decreasing** (`descending=True`) or **increasing** (`descending=False`) order.\n",
    "\n",
    "Let's say we want to ask the question: among all years, and particularly among the different groups of students based on their demographics, which fall headcount was the highest? Sorting the table will not only allow us to see a potential trend of headcounts over the years, but it will also show us if there are any trends among which groups of students have the highest headcounts. Let's use the `sort` method to find out:"
   ]
  },
  {
   "cell_type": "code",
   "execution_count": 25,
   "id": "a25ae57b-37d5-4887-bed4-4a2267d28c08",
   "metadata": {},
   "outputs": [
    {
     "data": {
      "text/html": [
       "<table border=\"1\" class=\"dataframe\">\n",
       "    <thead>\n",
       "        <tr>\n",
       "            <th>Year</th> <th>Level</th> <th>Original Entry Type</th> <th>Full-Time Status</th> <th>Gender</th> <th>Race/Ethnicity</th> <th>Fall Headcount</th>\n",
       "        </tr>\n",
       "    </thead>\n",
       "    <tbody>\n",
       "        <tr>\n",
       "            <td>2019</td> <td>Undergraduate</td> <td>Undergraduate Frosh</td> <td>Full-Time       </td> <td>Female</td> <td>Chicano/Latino</td> <td>3432          </td>\n",
       "        </tr>\n",
       "        <tr>\n",
       "            <td>2018</td> <td>Undergraduate</td> <td>Undergraduate Frosh</td> <td>Full-Time       </td> <td>Female</td> <td>Chicano/Latino</td> <td>3240          </td>\n",
       "        </tr>\n",
       "        <tr>\n",
       "            <td>2017</td> <td>Undergraduate</td> <td>Undergraduate Frosh</td> <td>Full-Time       </td> <td>Female</td> <td>Chicano/Latino</td> <td>3191          </td>\n",
       "        </tr>\n",
       "        <tr>\n",
       "            <td>2020</td> <td>Undergraduate</td> <td>Undergraduate Frosh</td> <td>Full-Time       </td> <td>Female</td> <td>Chicano/Latino</td> <td>3093          </td>\n",
       "        </tr>\n",
       "        <tr>\n",
       "            <td>2021</td> <td>Undergraduate</td> <td>Undergraduate Frosh</td> <td>Full-Time       </td> <td>Female</td> <td>Chicano/Latino</td> <td>3052          </td>\n",
       "        </tr>\n",
       "        <tr>\n",
       "            <td>2022</td> <td>Undergraduate</td> <td>Undergraduate Frosh</td> <td>Full-Time       </td> <td>Female</td> <td>Chicano/Latino</td> <td>2970          </td>\n",
       "        </tr>\n",
       "        <tr>\n",
       "            <td>2014</td> <td>Undergraduate</td> <td>Undergraduate Frosh</td> <td>Full-Time       </td> <td>Female</td> <td>Chicano/Latino</td> <td>2609          </td>\n",
       "        </tr>\n",
       "        <tr>\n",
       "            <td>2016</td> <td>Undergraduate</td> <td>Undergraduate Frosh</td> <td>Full-Time       </td> <td>Female</td> <td>Chicano/Latino</td> <td>2572          </td>\n",
       "        </tr>\n",
       "        <tr>\n",
       "            <td>2015</td> <td>Undergraduate</td> <td>Undergraduate Frosh</td> <td>Full-Time       </td> <td>Female</td> <td>Chicano/Latino</td> <td>2569          </td>\n",
       "        </tr>\n",
       "        <tr>\n",
       "            <td>2013</td> <td>Undergraduate</td> <td>Undergraduate Frosh</td> <td>Full-Time       </td> <td>Female</td> <td>Chicano/Latino</td> <td>2503          </td>\n",
       "        </tr>\n",
       "    </tbody>\n",
       "</table>\n",
       "<p>... (5011 rows omitted)</p>"
      ],
      "text/plain": [
       "Year | Level         | Original Entry Type | Full-Time Status | Gender | Race/Ethnicity | Fall Headcount\n",
       "2019 | Undergraduate | Undergraduate Frosh | Full-Time        | Female | Chicano/Latino | 3432\n",
       "2018 | Undergraduate | Undergraduate Frosh | Full-Time        | Female | Chicano/Latino | 3240\n",
       "2017 | Undergraduate | Undergraduate Frosh | Full-Time        | Female | Chicano/Latino | 3191\n",
       "2020 | Undergraduate | Undergraduate Frosh | Full-Time        | Female | Chicano/Latino | 3093\n",
       "2021 | Undergraduate | Undergraduate Frosh | Full-Time        | Female | Chicano/Latino | 3052\n",
       "2022 | Undergraduate | Undergraduate Frosh | Full-Time        | Female | Chicano/Latino | 2970\n",
       "2014 | Undergraduate | Undergraduate Frosh | Full-Time        | Female | Chicano/Latino | 2609\n",
       "2016 | Undergraduate | Undergraduate Frosh | Full-Time        | Female | Chicano/Latino | 2572\n",
       "2015 | Undergraduate | Undergraduate Frosh | Full-Time        | Female | Chicano/Latino | 2569\n",
       "2013 | Undergraduate | Undergraduate Frosh | Full-Time        | Female | Chicano/Latino | 2503\n",
       "... (5011 rows omitted)"
      ]
     },
     "execution_count": 25,
     "metadata": {},
     "output_type": "execute_result"
    }
   ],
   "source": [
    "ucr_relabeled.sort(\"Fall Headcount\", descending=True)"
   ]
  },
  {
   "cell_type": "markdown",
   "id": "272ae73b-ebda-443b-bbeb-d84be4400f6c",
   "metadata": {},
   "source": [
    "<div class=\"alert alert-warning\">\n",
    "The results that we see above are very interesting: firstly, we notice that the highest headcounts have all been in the most recent 10 years of the dataset (2013-2022), which shows us that student admissions at UC Riverside are higher than they were in the past; and secondly, we notice that the gender and race/ethnicity category is the same for the top 10 highest headcounts, female-identifying Chicanx/Latinx students. We may wonder how this breakdown would look by major or college as well, which we'll explore later in the lab.\n",
    "</div>"
   ]
  },
  {
   "cell_type": "raw",
   "id": "2f91de85-a4fc-41ab-8b8a-d2cc0100c915",
   "metadata": {},
   "source": [
    "# BEGIN QUESTION\n",
    "name: q2_1"
   ]
  },
  {
   "cell_type": "markdown",
   "id": "925cfa3d-606a-4297-b9ee-c8690ada0975",
   "metadata": {},
   "source": [
    "### Question 2.1\n",
    "\n",
    "Using the same method but changing the `descending` parameter to True, we can discover the lowest fall headcounts. Fill in the following code using the `sort` method to accomplish this.\n",
    "\n",
    "*Note:* Be sure to use the `ucr_relabeled` table for this question!"
   ]
  },
  {
   "cell_type": "raw",
   "id": "2d11d7eb-e208-4ddc-9c49-1509e2bc0732",
   "metadata": {},
   "source": [
    "# BEGIN SOLUTION"
   ]
  },
  {
   "cell_type": "code",
   "execution_count": 26,
   "id": "b951d03d-6abd-446d-9889-8abec62a7199",
   "metadata": {},
   "outputs": [
    {
     "data": {
      "text/html": [
       "<table border=\"1\" class=\"dataframe\">\n",
       "    <thead>\n",
       "        <tr>\n",
       "            <th>Year</th> <th>Level</th> <th>Original Entry Type</th> <th>Full-Time Status</th> <th>Gender</th> <th>Race/Ethnicity</th> <th>Fall Headcount</th>\n",
       "        </tr>\n",
       "    </thead>\n",
       "    <tbody>\n",
       "        <tr>\n",
       "            <td>2022</td> <td>Undergraduate</td> <td>Undergraduate Frosh</td> <td>Part_Time       </td> <td>Female</td> <td>Two or More Races</td> <td>1             </td>\n",
       "        </tr>\n",
       "        <tr>\n",
       "            <td>2022</td> <td>Undergraduate</td> <td>Undergraduate Other</td> <td>Full-Time       </td> <td>Female</td> <td>Asian            </td> <td>1             </td>\n",
       "        </tr>\n",
       "        <tr>\n",
       "            <td>2022</td> <td>Undergraduate</td> <td>Undergraduate Other</td> <td>Full-Time       </td> <td>Female</td> <td>Two or More Races</td> <td>1             </td>\n",
       "        </tr>\n",
       "        <tr>\n",
       "            <td>2022</td> <td>Undergraduate</td> <td>Undergraduate Other</td> <td>Full-Time       </td> <td>Female</td> <td>White            </td> <td>1             </td>\n",
       "        </tr>\n",
       "        <tr>\n",
       "            <td>2022</td> <td>Undergraduate</td> <td>Undergraduate Other</td> <td>Part_Time       </td> <td>Male  </td> <td>Chicano/Latino   </td> <td>1             </td>\n",
       "        </tr>\n",
       "    </tbody>\n",
       "</table>\n",
       "<p>... (5016 rows omitted)</p>"
      ],
      "text/plain": [
       "<IPython.core.display.HTML object>"
      ]
     },
     "metadata": {},
     "output_type": "display_data"
    }
   ],
   "source": [
    "ucr_sorted_lowest = ucr_relabeled.sort(\"Fall Headcount\", descending=False) # SOLUTION\n",
    "ucr_sorted_lowest.show(5)"
   ]
  },
  {
   "cell_type": "raw",
   "id": "dac82956-c077-4c0f-b46a-1753679d5ccd",
   "metadata": {},
   "source": [
    "# END SOLUTION"
   ]
  },
  {
   "cell_type": "raw",
   "id": "da60c643-c1c0-4c05-aa86-5966ac9e0076",
   "metadata": {},
   "source": [
    "# BEGIN TESTS"
   ]
  },
  {
   "cell_type": "code",
   "execution_count": 27,
   "id": "f64fa5ba-c6d9-4d7a-9402-24b0e765a7de",
   "metadata": {},
   "outputs": [],
   "source": [
    "assert isinstance(ucr_sorted_lowest, Table)"
   ]
  },
  {
   "cell_type": "code",
   "execution_count": 28,
   "id": "0330c972-b290-41a8-95d3-fc89bf90898e",
   "metadata": {},
   "outputs": [],
   "source": [
    "assert ucr_sorted_lowest.take(0).column('Fall Headcount')[0] == 1"
   ]
  },
  {
   "cell_type": "code",
   "execution_count": 29,
   "id": "4db14032-0a17-461b-aadf-fa7ff8aaa82a",
   "metadata": {},
   "outputs": [],
   "source": [
    "assert ucr_sorted_lowest.take(1).column('Race/Ethnicity')[0] == 'Asian'"
   ]
  },
  {
   "cell_type": "code",
   "execution_count": 30,
   "id": "d9a3e4ec-2219-4cf9-a602-3b30b4852066",
   "metadata": {},
   "outputs": [],
   "source": [
    "# HIDDEN\n",
    "assert all(ucr_sorted_lowest) == all(ucr_relabeled.sort(\"Fall Headcount\", descending=False))"
   ]
  },
  {
   "cell_type": "raw",
   "id": "1bc74371-8569-4b80-8885-b535ef46d397",
   "metadata": {},
   "source": [
    "# END TESTS"
   ]
  },
  {
   "cell_type": "raw",
   "id": "30c0a677-8202-4fed-bfd2-f01dc52b0f85",
   "metadata": {},
   "source": [
    "# END QUESTION"
   ]
  },
  {
   "cell_type": "markdown",
   "id": "a8a4e819-d401-4b82-9dd5-cce0e013d0d6",
   "metadata": {},
   "source": [
    "<div class=\"alert alert-warning\">\n",
    "The results from this call may not be as interesting as the previous one: we notice that there's a greater breakdown of full-time statuses and new/continuing statuses among these students, and each of these categories only had one individual in the 2022 fall semester. However, if we were to take a look at the next twenty or thirty lowest rows, this may yield some more valuable information about which groups of students are witnessing much lower admission rates.\n",
    "</div>"
   ]
  },
  {
   "cell_type": "markdown",
   "id": "3df5ee82-aded-486b-9417-69ae4b9f41b1",
   "metadata": {},
   "source": [
    "---\n",
    "### Row selection: `where` and the `are` Predicates\n",
    "\n",
    "The last table method we will talk about is the `where` method. The `where` method keeps all rows that satisfiy a particular boolean condition. It takes in a column label and an `are` statement, which can be crafted using the `are` library. These are the most important `are` library predicates, but there are many more if you would like to investigate: [explore the 'are' library here.](https://data6.org/su23/reference/#tablewhere-predicates)\n",
    "\n",
    "| Method | Input Type | Method Description |\n",
    "| --- | --- | --- |\n",
    "| `are.equal_to(n)` | number | Is the value from the column equal to `n`? |\n",
    "| `are.above(n)` | number | Is the value from the column above `n`? |\n",
    "| `are.above_or_equal_to(n)` | number | Is the value from the column above or equal to `n`? |\n",
    "| `are.below(n)` | number | Is the value from the column below `n`? |\n",
    "| `are.below_or_equal_to(n)` | number | Is the value from the column below or equal `n`? |\n",
    "| `are.containing(s)` | string | Is `s` contained in the string value from the given column? |\n",
    "| `are.containined_in(s)` | string | Is the string value from the given column contained in `s`? |\n",
    "\n",
    "Adding a `not_` in front of all of these predicates makes each method do the opposite of what it does (ex: `are.not_equal_to(n)`).\n",
    "\n",
    "*Note*: As we've seen in lecture, we can achieve an **exact match** by not explicitly using an `are` predicate. That is, `where(\"col\", are.equal_to(\"something\")` is identical to `where(\"col\", \"something\")`; the latter is shorthand for the former.\n",
    "\n",
    "For example, if we only wanted to see the rows in which the `\"Fall Headcount\"` was above 500, we could use the `where()` method combined with an `are` method:"
   ]
  },
  {
   "cell_type": "code",
   "execution_count": 31,
   "id": "309ec6e4-694f-45cc-a93b-bd5b3589c61b",
   "metadata": {},
   "outputs": [
    {
     "data": {
      "text/html": [
       "<table border=\"1\" class=\"dataframe\">\n",
       "    <thead>\n",
       "        <tr>\n",
       "            <th>Year</th> <th>Level</th> <th>Original Entry Type</th> <th>Full-Time Status</th> <th>Gender</th> <th>Race/Ethnicity</th> <th>Fall Headcount</th>\n",
       "        </tr>\n",
       "    </thead>\n",
       "    <tbody>\n",
       "        <tr>\n",
       "            <td>2022</td> <td>Undergraduate</td> <td>Undergraduate Frosh</td> <td>Full-Time       </td> <td>Female</td> <td>Asian         </td> <td>1129          </td>\n",
       "        </tr>\n",
       "        <tr>\n",
       "            <td>2022</td> <td>Undergraduate</td> <td>Undergraduate Frosh</td> <td>Full-Time       </td> <td>Female</td> <td>Chicano/Latino</td> <td>1219          </td>\n",
       "        </tr>\n",
       "        <tr>\n",
       "            <td>2022</td> <td>Undergraduate</td> <td>Undergraduate Frosh</td> <td>Full-Time       </td> <td>Male  </td> <td>Asian         </td> <td>1107          </td>\n",
       "        </tr>\n",
       "        <tr>\n",
       "            <td>2022</td> <td>Undergraduate</td> <td>Undergraduate Frosh</td> <td>Full-Time       </td> <td>Male  </td> <td>Chicano/Latino</td> <td>773           </td>\n",
       "        </tr>\n",
       "        <tr>\n",
       "            <td>2022</td> <td>Undergraduate</td> <td>Undergraduate Frosh</td> <td>Full-Time       </td> <td>Female</td> <td>Asian         </td> <td>2365          </td>\n",
       "        </tr>\n",
       "        <tr>\n",
       "            <td>2022</td> <td>Undergraduate</td> <td>Undergraduate Frosh</td> <td>Full-Time       </td> <td>Female</td> <td>Chicano/Latino</td> <td>2970          </td>\n",
       "        </tr>\n",
       "        <tr>\n",
       "            <td>2022</td> <td>Undergraduate</td> <td>Undergraduate Frosh</td> <td>Full-Time       </td> <td>Female</td> <td>White         </td> <td>545           </td>\n",
       "        </tr>\n",
       "        <tr>\n",
       "            <td>2022</td> <td>Undergraduate</td> <td>Undergraduate Frosh</td> <td>Full-Time       </td> <td>Male  </td> <td>Asian         </td> <td>2466          </td>\n",
       "        </tr>\n",
       "        <tr>\n",
       "            <td>2022</td> <td>Undergraduate</td> <td>Undergraduate Frosh</td> <td>Full-Time       </td> <td>Male  </td> <td>Chicano/Latino</td> <td>1803          </td>\n",
       "        </tr>\n",
       "        <tr>\n",
       "            <td>2022</td> <td>Undergraduate</td> <td>Undergraduate Frosh</td> <td>Full-Time       </td> <td>Male  </td> <td>White         </td> <td>601           </td>\n",
       "        </tr>\n",
       "    </tbody>\n",
       "</table>\n",
       "<p>... (253 rows omitted)</p>"
      ],
      "text/plain": [
       "Year | Level         | Original Entry Type | Full-Time Status | Gender | Race/Ethnicity | Fall Headcount\n",
       "2022 | Undergraduate | Undergraduate Frosh | Full-Time        | Female | Asian          | 1129\n",
       "2022 | Undergraduate | Undergraduate Frosh | Full-Time        | Female | Chicano/Latino | 1219\n",
       "2022 | Undergraduate | Undergraduate Frosh | Full-Time        | Male   | Asian          | 1107\n",
       "2022 | Undergraduate | Undergraduate Frosh | Full-Time        | Male   | Chicano/Latino | 773\n",
       "2022 | Undergraduate | Undergraduate Frosh | Full-Time        | Female | Asian          | 2365\n",
       "2022 | Undergraduate | Undergraduate Frosh | Full-Time        | Female | Chicano/Latino | 2970\n",
       "2022 | Undergraduate | Undergraduate Frosh | Full-Time        | Female | White          | 545\n",
       "2022 | Undergraduate | Undergraduate Frosh | Full-Time        | Male   | Asian          | 2466\n",
       "2022 | Undergraduate | Undergraduate Frosh | Full-Time        | Male   | Chicano/Latino | 1803\n",
       "2022 | Undergraduate | Undergraduate Frosh | Full-Time        | Male   | White          | 601\n",
       "... (253 rows omitted)"
      ]
     },
     "execution_count": 31,
     "metadata": {},
     "output_type": "execute_result"
    }
   ],
   "source": [
    "ucr_relabeled.where(\"Fall Headcount\", are.above(500))"
   ]
  },
  {
   "cell_type": "markdown",
   "id": "e423808a-aabc-4722-8b54-9eb3edcfb517",
   "metadata": {},
   "source": [
    "<div class=\"alert alert-warning\">\n",
    "In the context of our exploration of student demographics, this method can be incredibly useful. For example, if we wanted to delve further into fall headcounts that were above 3 (to avoid getting tons of random rows like we did when using the <code>sort</code> method) but below 20, in order to find groups of students that had relatively low values for fall headcounts, we could use the <code>are.strictly_between</code> predicate:\n",
    "</div>"
   ]
  },
  {
   "cell_type": "code",
   "execution_count": 32,
   "id": "8cf71fea-5319-4a74-b104-33286ff08279",
   "metadata": {},
   "outputs": [
    {
     "data": {
      "text/html": [
       "<table border=\"1\" class=\"dataframe\">\n",
       "    <thead>\n",
       "        <tr>\n",
       "            <th>Year</th> <th>Level</th> <th>Original Entry Type</th> <th>Full-Time Status</th> <th>Gender</th> <th>Race/Ethnicity</th> <th>Fall Headcount</th>\n",
       "        </tr>\n",
       "    </thead>\n",
       "    <tbody>\n",
       "        <tr>\n",
       "            <td>2022</td> <td>Undergraduate</td> <td>Undergraduate Frosh</td> <td>Full-Time       </td> <td>Female</td> <td>Native Hawaiian/Pacific Islander</td> <td>6             </td>\n",
       "        </tr>\n",
       "        <tr>\n",
       "            <td>2022</td> <td>Undergraduate</td> <td>Undergraduate Frosh</td> <td>Full-Time       </td> <td>Male  </td> <td>Native Hawaiian/Pacific Islander</td> <td>5             </td>\n",
       "        </tr>\n",
       "        <tr>\n",
       "            <td>2022</td> <td>Undergraduate</td> <td>Undergraduate Frosh</td> <td>Part_Time       </td> <td>Female</td> <td>Asian                           </td> <td>9             </td>\n",
       "        </tr>\n",
       "        <tr>\n",
       "            <td>2022</td> <td>Undergraduate</td> <td>Undergraduate Frosh</td> <td>Part_Time       </td> <td>Female</td> <td>Chicano/Latino                  </td> <td>15            </td>\n",
       "        </tr>\n",
       "        <tr>\n",
       "            <td>2022</td> <td>Undergraduate</td> <td>Undergraduate Frosh</td> <td>Part_Time       </td> <td>Female</td> <td>International                   </td> <td>2             </td>\n",
       "        </tr>\n",
       "        <tr>\n",
       "            <td>2022</td> <td>Undergraduate</td> <td>Undergraduate Frosh</td> <td>Part_Time       </td> <td>Female</td> <td>White                           </td> <td>2             </td>\n",
       "        </tr>\n",
       "        <tr>\n",
       "            <td>2022</td> <td>Undergraduate</td> <td>Undergraduate Frosh</td> <td>Part_Time       </td> <td>Male  </td> <td>Asian                           </td> <td>6             </td>\n",
       "        </tr>\n",
       "        <tr>\n",
       "            <td>2022</td> <td>Undergraduate</td> <td>Undergraduate Frosh</td> <td>Part_Time       </td> <td>Male  </td> <td>Black/African American          </td> <td>2             </td>\n",
       "        </tr>\n",
       "        <tr>\n",
       "            <td>2022</td> <td>Undergraduate</td> <td>Undergraduate Frosh</td> <td>Part_Time       </td> <td>Male  </td> <td>Chicano/Latino                  </td> <td>8             </td>\n",
       "        </tr>\n",
       "        <tr>\n",
       "            <td>2022</td> <td>Undergraduate</td> <td>Undergraduate Frosh</td> <td>Part_Time       </td> <td>Male  </td> <td>International                   </td> <td>6             </td>\n",
       "        </tr>\n",
       "    </tbody>\n",
       "</table>\n",
       "<p>... (2094 rows omitted)</p>"
      ],
      "text/plain": [
       "Year | Level         | Original Entry Type | Full-Time Status | Gender | Race/Ethnicity                   | Fall Headcount\n",
       "2022 | Undergraduate | Undergraduate Frosh | Full-Time        | Female | Native Hawaiian/Pacific Islander | 6\n",
       "2022 | Undergraduate | Undergraduate Frosh | Full-Time        | Male   | Native Hawaiian/Pacific Islander | 5\n",
       "2022 | Undergraduate | Undergraduate Frosh | Part_Time        | Female | Asian                            | 9\n",
       "2022 | Undergraduate | Undergraduate Frosh | Part_Time        | Female | Chicano/Latino                   | 15\n",
       "2022 | Undergraduate | Undergraduate Frosh | Part_Time        | Female | International                    | 2\n",
       "2022 | Undergraduate | Undergraduate Frosh | Part_Time        | Female | White                            | 2\n",
       "2022 | Undergraduate | Undergraduate Frosh | Part_Time        | Male   | Asian                            | 6\n",
       "2022 | Undergraduate | Undergraduate Frosh | Part_Time        | Male   | Black/African American           | 2\n",
       "2022 | Undergraduate | Undergraduate Frosh | Part_Time        | Male   | Chicano/Latino                   | 8\n",
       "2022 | Undergraduate | Undergraduate Frosh | Part_Time        | Male   | International                    | 6\n",
       "... (2094 rows omitted)"
      ]
     },
     "execution_count": 32,
     "metadata": {},
     "output_type": "execute_result"
    }
   ],
   "source": [
    "ucr_relabeled.where(\"Fall Headcount\", are.strictly_between(1, 21))"
   ]
  },
  {
   "cell_type": "markdown",
   "id": "8846a6b5-98c3-41af-a5be-4fbc8792a977",
   "metadata": {},
   "source": [
    "<div class=\"alert alert-warning\">\n",
    "From this view of our data, we might be able to see more interesting trends, such as the low values of full-time Native Hawaiian / Pacific Islander undergrads in 2022. We could also chain together multiple <code>where</code> calls in order to satisfy conditions for different rows in our table. If we wanted to get even more specific in looking at these lower headcounts, we could specify the values as we did previously, but then also look for only full-time students:\n",
    "</div>"
   ]
  },
  {
   "cell_type": "code",
   "execution_count": 35,
   "id": "50c2a31d-16c7-457c-b60d-e34e4bc5ca49",
   "metadata": {},
   "outputs": [
    {
     "data": {
      "text/html": [
       "<table border=\"1\" class=\"dataframe\">\n",
       "    <thead>\n",
       "        <tr>\n",
       "            <th>Year</th> <th>Level</th> <th>Original Entry Type</th> <th>Full-Time Status</th> <th>Gender</th> <th>Race/Ethnicity</th> <th>Fall Headcount</th>\n",
       "        </tr>\n",
       "    </thead>\n",
       "    <tbody>\n",
       "        <tr>\n",
       "            <td>2022</td> <td>Undergraduate</td> <td>Undergraduate Frosh   </td> <td>Full-Time       </td> <td>Female</td> <td>Native Hawaiian/Pacific Islander</td> <td>6             </td>\n",
       "        </tr>\n",
       "        <tr>\n",
       "            <td>2022</td> <td>Undergraduate</td> <td>Undergraduate Frosh   </td> <td>Full-Time       </td> <td>Male  </td> <td>Native Hawaiian/Pacific Islander</td> <td>5             </td>\n",
       "        </tr>\n",
       "        <tr>\n",
       "            <td>2022</td> <td>Undergraduate</td> <td>Undergraduate Frosh   </td> <td>Full-Time       </td> <td>Female</td> <td>Native Hawaiian/Pacific Islander</td> <td>10            </td>\n",
       "        </tr>\n",
       "        <tr>\n",
       "            <td>2022</td> <td>Undergraduate</td> <td>Undergraduate Frosh   </td> <td>Full-Time       </td> <td>Male  </td> <td>American Indian/Alaskan Native  </td> <td>2             </td>\n",
       "        </tr>\n",
       "        <tr>\n",
       "            <td>2022</td> <td>Undergraduate</td> <td>Undergraduate Frosh   </td> <td>Full-Time       </td> <td>Male  </td> <td>Native Hawaiian/Pacific Islander</td> <td>3             </td>\n",
       "        </tr>\n",
       "        <tr>\n",
       "            <td>2022</td> <td>Undergraduate</td> <td>Undergraduate Other   </td> <td>Full-Time       </td> <td>Female</td> <td>Chicano/Latino                  </td> <td>4             </td>\n",
       "        </tr>\n",
       "        <tr>\n",
       "            <td>2022</td> <td>Undergraduate</td> <td>Undergraduate Other   </td> <td>Full-Time       </td> <td>Male  </td> <td>Asian                           </td> <td>4             </td>\n",
       "        </tr>\n",
       "        <tr>\n",
       "            <td>2022</td> <td>Undergraduate</td> <td>Undergraduate Other   </td> <td>Full-Time       </td> <td>Male  </td> <td>Chicano/Latino                  </td> <td>6             </td>\n",
       "        </tr>\n",
       "        <tr>\n",
       "            <td>2022</td> <td>Undergraduate</td> <td>Undergraduate Transfer</td> <td>Full-Time       </td> <td>Female</td> <td>American Indian/Alaskan Native  </td> <td>4             </td>\n",
       "        </tr>\n",
       "        <tr>\n",
       "            <td>2022</td> <td>Undergraduate</td> <td>Undergraduate Transfer</td> <td>Full-Time       </td> <td>Female</td> <td>Domestic Unknown                </td> <td>6             </td>\n",
       "        </tr>\n",
       "    </tbody>\n",
       "</table>\n",
       "<p>... (780 rows omitted)</p>"
      ],
      "text/plain": [
       "Year | Level         | Original Entry Type    | Full-Time Status | Gender | Race/Ethnicity                   | Fall Headcount\n",
       "2022 | Undergraduate | Undergraduate Frosh    | Full-Time        | Female | Native Hawaiian/Pacific Islander | 6\n",
       "2022 | Undergraduate | Undergraduate Frosh    | Full-Time        | Male   | Native Hawaiian/Pacific Islander | 5\n",
       "2022 | Undergraduate | Undergraduate Frosh    | Full-Time        | Female | Native Hawaiian/Pacific Islander | 10\n",
       "2022 | Undergraduate | Undergraduate Frosh    | Full-Time        | Male   | American Indian/Alaskan Native   | 2\n",
       "2022 | Undergraduate | Undergraduate Frosh    | Full-Time        | Male   | Native Hawaiian/Pacific Islander | 3\n",
       "2022 | Undergraduate | Undergraduate Other    | Full-Time        | Female | Chicano/Latino                   | 4\n",
       "2022 | Undergraduate | Undergraduate Other    | Full-Time        | Male   | Asian                            | 4\n",
       "2022 | Undergraduate | Undergraduate Other    | Full-Time        | Male   | Chicano/Latino                   | 6\n",
       "2022 | Undergraduate | Undergraduate Transfer | Full-Time        | Female | American Indian/Alaskan Native   | 4\n",
       "2022 | Undergraduate | Undergraduate Transfer | Full-Time        | Female | Domestic Unknown                 | 6\n",
       "... (780 rows omitted)"
      ]
     },
     "execution_count": 35,
     "metadata": {},
     "output_type": "execute_result"
    }
   ],
   "source": [
    "ucr_relabeled.where(\"Fall Headcount\", are.strictly_between(1, 21)).where(\"Full-Time Status\", are.equal_to(\"Full-Time\"))"
   ]
  },
  {
   "cell_type": "markdown",
   "id": "4b1e617e-14de-4887-94ad-6408b7cc9f13",
   "metadata": {},
   "source": [
    "<div class=\"alert alert-warning\">\n",
    "You may notice that some of the rows appear to be duplicates, but they are different -- we just can't see it because we dropped the <code>\"New/Continuing Status\"</code> column earlier. Now, when we really limit the data like this, we can see some trends about which races/ethnicities have less students belonging to them. This table still includes both transfers and frosh, undergraduates and graduates, but we can see some consistencies with Native Hawaiian/Pacific Islander, Domestic Unknown, and Black/African American students tending to have lower numbers. This type of more complex use of the <code>where</code> method showcases just how useful it can be.\n",
    "</div>"
   ]
  },
  {
   "cell_type": "markdown",
   "id": "0ad85153-6d2a-40d7-8472-50ec1c71095f",
   "metadata": {},
   "source": [
    "In the example above, you can see the use of the predicate `are.equal_to` in order to match strings (you can also match exact numbers this way). You can also use a shorthand of omitting the `are` predicate completely to achieve the same effect. For example, if we wanted to see the rows of only undergrads, we could use the shorthand in this way:"
   ]
  },
  {
   "cell_type": "code",
   "execution_count": 36,
   "id": "888ad5aa-470b-4149-aa2c-896c40491085",
   "metadata": {},
   "outputs": [
    {
     "data": {
      "text/html": [
       "<table border=\"1\" class=\"dataframe\">\n",
       "    <thead>\n",
       "        <tr>\n",
       "            <th>Year</th> <th>Level</th> <th>Original Entry Type</th> <th>Full-Time Status</th> <th>Gender</th> <th>Race/Ethnicity</th> <th>Fall Headcount</th>\n",
       "        </tr>\n",
       "    </thead>\n",
       "    <tbody>\n",
       "        <tr>\n",
       "            <td>2022</td> <td>Undergraduate</td> <td>Undergraduate Frosh</td> <td>Full-Time       </td> <td>Female</td> <td>Asian                           </td> <td>1129          </td>\n",
       "        </tr>\n",
       "        <tr>\n",
       "            <td>2022</td> <td>Undergraduate</td> <td>Undergraduate Frosh</td> <td>Full-Time       </td> <td>Female</td> <td>Black/African American          </td> <td>90            </td>\n",
       "        </tr>\n",
       "        <tr>\n",
       "            <td>2022</td> <td>Undergraduate</td> <td>Undergraduate Frosh</td> <td>Full-Time       </td> <td>Female</td> <td>Chicano/Latino                  </td> <td>1219          </td>\n",
       "        </tr>\n",
       "        <tr>\n",
       "            <td>2022</td> <td>Undergraduate</td> <td>Undergraduate Frosh</td> <td>Full-Time       </td> <td>Female</td> <td>Domestic Unknown                </td> <td>37            </td>\n",
       "        </tr>\n",
       "        <tr>\n",
       "            <td>2022</td> <td>Undergraduate</td> <td>Undergraduate Frosh</td> <td>Full-Time       </td> <td>Female</td> <td>International                   </td> <td>99            </td>\n",
       "        </tr>\n",
       "        <tr>\n",
       "            <td>2022</td> <td>Undergraduate</td> <td>Undergraduate Frosh</td> <td>Full-Time       </td> <td>Female</td> <td>Native Hawaiian/Pacific Islander</td> <td>6             </td>\n",
       "        </tr>\n",
       "        <tr>\n",
       "            <td>2022</td> <td>Undergraduate</td> <td>Undergraduate Frosh</td> <td>Full-Time       </td> <td>Female</td> <td>Two or More Races               </td> <td>128           </td>\n",
       "        </tr>\n",
       "        <tr>\n",
       "            <td>2022</td> <td>Undergraduate</td> <td>Undergraduate Frosh</td> <td>Full-Time       </td> <td>Female</td> <td>White                           </td> <td>221           </td>\n",
       "        </tr>\n",
       "        <tr>\n",
       "            <td>2022</td> <td>Undergraduate</td> <td>Undergraduate Frosh</td> <td>Full-Time       </td> <td>Male  </td> <td>Asian                           </td> <td>1107          </td>\n",
       "        </tr>\n",
       "        <tr>\n",
       "            <td>2022</td> <td>Undergraduate</td> <td>Undergraduate Frosh</td> <td>Full-Time       </td> <td>Male  </td> <td>Black/African American          </td> <td>64            </td>\n",
       "        </tr>\n",
       "    </tbody>\n",
       "</table>\n",
       "<p>... (3479 rows omitted)</p>"
      ],
      "text/plain": [
       "Year | Level         | Original Entry Type | Full-Time Status | Gender | Race/Ethnicity                   | Fall Headcount\n",
       "2022 | Undergraduate | Undergraduate Frosh | Full-Time        | Female | Asian                            | 1129\n",
       "2022 | Undergraduate | Undergraduate Frosh | Full-Time        | Female | Black/African American           | 90\n",
       "2022 | Undergraduate | Undergraduate Frosh | Full-Time        | Female | Chicano/Latino                   | 1219\n",
       "2022 | Undergraduate | Undergraduate Frosh | Full-Time        | Female | Domestic Unknown                 | 37\n",
       "2022 | Undergraduate | Undergraduate Frosh | Full-Time        | Female | International                    | 99\n",
       "2022 | Undergraduate | Undergraduate Frosh | Full-Time        | Female | Native Hawaiian/Pacific Islander | 6\n",
       "2022 | Undergraduate | Undergraduate Frosh | Full-Time        | Female | Two or More Races                | 128\n",
       "2022 | Undergraduate | Undergraduate Frosh | Full-Time        | Female | White                            | 221\n",
       "2022 | Undergraduate | Undergraduate Frosh | Full-Time        | Male   | Asian                            | 1107\n",
       "2022 | Undergraduate | Undergraduate Frosh | Full-Time        | Male   | Black/African American           | 64\n",
       "... (3479 rows omitted)"
      ]
     },
     "execution_count": 36,
     "metadata": {},
     "output_type": "execute_result"
    }
   ],
   "source": [
    "ucr_relabeled.where(\"Level\", \"Undergraduate\")"
   ]
  },
  {
   "cell_type": "markdown",
   "id": "243b5c51-c001-4881-b314-16c8baf3c51f",
   "metadata": {},
   "source": [
    "When we omit the `are` predicate, the function is just using `are.equal_to` behind the scenes as the default option!"
   ]
  },
  {
   "cell_type": "raw",
   "id": "50c7166f-3012-4e90-a644-bfb1fcd47ea1",
   "metadata": {},
   "source": [
    "# BEGIN QUESTION\n",
    "name: q2_2"
   ]
  },
  {
   "cell_type": "markdown",
   "id": "75d486f5-2e8e-4b7e-ab38-3397c09deae9",
   "metadata": {},
   "source": [
    "### Question 2.2\n",
    "At this point in our analysis of the data, we have many tools under our belt to take a deeper look into the demographics of gender and race/ethnicity. For the following question, looking only at rows where the `\"Year\"` is equal to 2022, keep only the female-identifying students, and then sort by descending `\"Fall Headcount\"` value. Because this question is more complex and requires chaining together of multiple calls, we've provided skeleton code for you.\n",
    "\n",
    "*Hint:* Use the shorthand in the example above with the `where` methods."
   ]
  },
  {
   "cell_type": "raw",
   "id": "b8befa65-688a-40a9-ab41-3d97b7ff0a69",
   "metadata": {},
   "source": [
    "# BEGIN SOLUTION"
   ]
  },
  {
   "cell_type": "code",
   "execution_count": 37,
   "id": "b22dea9b-9754-4068-9a05-d24c48cf91f7",
   "metadata": {},
   "outputs": [
    {
     "data": {
      "text/html": [
       "<table border=\"1\" class=\"dataframe\">\n",
       "    <thead>\n",
       "        <tr>\n",
       "            <th>Year</th> <th>Level</th> <th>Original Entry Type</th> <th>Full-Time Status</th> <th>Gender</th> <th>Race/Ethnicity</th> <th>Fall Headcount</th>\n",
       "        </tr>\n",
       "    </thead>\n",
       "    <tbody>\n",
       "        <tr>\n",
       "            <td>2022</td> <td>Undergraduate</td> <td>Undergraduate Frosh   </td> <td>Full-Time       </td> <td>Female</td> <td>Chicano/Latino</td> <td>2970          </td>\n",
       "        </tr>\n",
       "        <tr>\n",
       "            <td>2022</td> <td>Undergraduate</td> <td>Undergraduate Frosh   </td> <td>Full-Time       </td> <td>Female</td> <td>Asian         </td> <td>2365          </td>\n",
       "        </tr>\n",
       "        <tr>\n",
       "            <td>2022</td> <td>Undergraduate</td> <td>Undergraduate Frosh   </td> <td>Full-Time       </td> <td>Female</td> <td>Chicano/Latino</td> <td>1219          </td>\n",
       "        </tr>\n",
       "        <tr>\n",
       "            <td>2022</td> <td>Undergraduate</td> <td>Undergraduate Frosh   </td> <td>Full-Time       </td> <td>Female</td> <td>Asian         </td> <td>1129          </td>\n",
       "        </tr>\n",
       "        <tr>\n",
       "            <td>2022</td> <td>Undergraduate</td> <td>Undergraduate Transfer</td> <td>Full-Time       </td> <td>Female</td> <td>Chicano/Latino</td> <td>680           </td>\n",
       "        </tr>\n",
       "    </tbody>\n",
       "</table>\n",
       "<p>... (89 rows omitted)</p>"
      ],
      "text/plain": [
       "<IPython.core.display.HTML object>"
      ]
     },
     "metadata": {},
     "output_type": "display_data"
    }
   ],
   "source": [
    "# BEGIN SOLUTION NO PROMPT\n",
    "ucr_f_2022 = ucr_relabeled.where(\"Gender\", \"Female\").where(\"Year\", 2022).sort(\"Fall Headcount\", descending=True) # SOLUTION NO PROMPT\n",
    "# END SOLUTION\n",
    "\"\"\" # BEGIN PROMPT\n",
    "ucr_f_2022 = ucr_relabeled.where(..., ...).where(..., ...).sort(..., ...)\n",
    "\"\"\" # END PROMPT\n",
    "ucr_f_2022.show(5)"
   ]
  },
  {
   "cell_type": "raw",
   "id": "bdcb8378-0b40-4321-8c02-e1fd03610d3f",
   "metadata": {},
   "source": [
    "# END SOLUTION"
   ]
  },
  {
   "cell_type": "raw",
   "id": "8de3aa17-829a-48d8-b959-33b7664bf4af",
   "metadata": {},
   "source": [
    "# BEGIN TESTS"
   ]
  },
  {
   "cell_type": "code",
   "execution_count": 38,
   "id": "fe3de6d0-56a9-4f3d-a973-3e6a937fb1a1",
   "metadata": {},
   "outputs": [],
   "source": [
    "assert isinstance(ucr_f_2022, Table)"
   ]
  },
  {
   "cell_type": "code",
   "execution_count": 39,
   "id": "5320dacc-84c4-44af-9f4b-8c307a641734",
   "metadata": {},
   "outputs": [],
   "source": [
    "assert ucr_f_2022.num_rows == 94"
   ]
  },
  {
   "cell_type": "code",
   "execution_count": 40,
   "id": "cddc5405-e3b5-4fb7-9bd3-48b603e1708b",
   "metadata": {},
   "outputs": [],
   "source": [
    "assert all(ucr_f_2022.column('Gender') == 'Female')"
   ]
  },
  {
   "cell_type": "code",
   "execution_count": 41,
   "id": "54f8c276-b242-4fdb-a42b-2b1341b686e7",
   "metadata": {},
   "outputs": [],
   "source": [
    "assert all(ucr_f_2022.column('Year') == 2022)"
   ]
  },
  {
   "cell_type": "code",
   "execution_count": 42,
   "id": "f054b3ed-44d8-458e-9030-49b44ec7ce6c",
   "metadata": {},
   "outputs": [],
   "source": [
    "assert ucr_f_2022.take(1).column('Fall Headcount')[0] == 2365"
   ]
  },
  {
   "cell_type": "raw",
   "id": "6fa49ec9-bc0c-4add-837f-de6985ea475f",
   "metadata": {},
   "source": [
    "# END TESTS"
   ]
  },
  {
   "cell_type": "raw",
   "id": "4089bd57-b7e3-49e5-be12-c16454e1ef4d",
   "metadata": {},
   "source": [
    "# END QUESTION"
   ]
  },
  {
   "cell_type": "markdown",
   "id": "dcdc2352-2dad-4f8b-ae44-5176705db152",
   "metadata": {},
   "source": [
    "<div class=\"alert alert-warning\">\n",
    "From the result above, you should see some similarities to what we found earlier when looking at the highest fall headcounts: female-identifying Chicanx/Latinx students make up some of the highest headcount values, regardless of <code>\"New/Continuing Status\"</code> or <code>\"Original Entry Type\"</code>. Additionally from this view, we can see that the next largest proportion of female-identifying students in 2022 had a race/ethnicity of Asian.\n",
    "</div>"
   ]
  },
  {
   "cell_type": "markdown",
   "id": "de064584-924a-4c4f-acd8-1adf08e186ad",
   "metadata": {},
   "source": [
    "Now that we've learned a bit of surface-level information about the distribution of race/ethnicity, let's dig a little deeper into what the `\"Gender\"` column looks like. Utilizing the `np.unique` method that we used in the first section above, we can find the distinct values in the `\"Gender\"` column, to see which values are used to represent gender in this dataset."
   ]
  },
  {
   "cell_type": "code",
   "execution_count": 43,
   "id": "b4e94c7d-ba22-46ad-84c2-6415e2c9ba4f",
   "metadata": {},
   "outputs": [
    {
     "data": {
      "text/plain": [
       "array(['Female', 'Male'],\n",
       "      dtype='<U6')"
      ]
     },
     "execution_count": 43,
     "metadata": {},
     "output_type": "execute_result"
    }
   ],
   "source": [
    "# Just run this cell\n",
    "np.unique(ucr.column(\"Gender\"))"
   ]
  },
  {
   "cell_type": "markdown",
   "id": "dcfd79b0-19af-407b-a5b0-56589ec37cda",
   "metadata": {},
   "source": [
    "As we can see above, the only two options for representing gender in this dataset are \"Female\" and \"Male\". It can often be hard to determine how to represent complex pieces of information (especially when this information is about individual people) as categorized versions in data."
   ]
  },
  {
   "cell_type": "raw",
   "id": "0a65b8df-b5b3-45c8-823a-d94a9a93c71e",
   "metadata": {},
   "source": [
    "# BEGIN QUESTION\n",
    "name: q2_3\n",
    "manual: true"
   ]
  },
  {
   "cell_type": "markdown",
   "id": "5da309a1-d5f5-4c84-b156-c7f544e0f6b6",
   "metadata": {},
   "source": [
    "### Question 2.3 (Discussion)\n",
    "Because this categorization of gender may not be the best way to represent this information, what do you think some potential issues with looking only at the female-identifying individuals from our data are? Additionally, what are the implications and potential sources of harm when we have to categorize information like this?"
   ]
  },
  {
   "cell_type": "raw",
   "id": "44180118-4555-49a8-81d5-c7a74445f2e7",
   "metadata": {},
   "source": [
    "# BEGIN SOLUTION"
   ]
  },
  {
   "cell_type": "markdown",
   "id": "11f46a3c-921b-4759-90fb-c896338c15c3",
   "metadata": {},
   "source": [
    "**SOLUTION:** Female category may not accurately capture all female-identifying students, or it may include individuals who are non-binary or would otherwise pick 'Other' as their gender selection, but were only given two options. People get left out when we have to binarize qualitative information about someone that may be more complex, like gender identity."
   ]
  },
  {
   "cell_type": "raw",
   "id": "c9cfa471-bb84-4159-bfa0-f4ec43a33a0c",
   "metadata": {},
   "source": [
    "# END SOLUTION"
   ]
  },
  {
   "cell_type": "raw",
   "id": "ea6e0d1d-cebb-49ef-ac5b-f263b8f1e4aa",
   "metadata": {},
   "source": [
    "# END QUESTION"
   ]
  },
  {
   "cell_type": "markdown",
   "id": "b7adeafb-7ed6-4d65-af5f-305b61440f91",
   "metadata": {},
   "source": [
    "<div class=\"alert alert-warning\">\n",
    "We can tie your takeaways from this question back to one we asked earlier in the lab, while looking at the unique values available for race/ethnicity. There are certainly some issues with the representation of this demographic as well, as many individuals have to be lumped in together (e.g. students with origins from Middle Eastern or Arab countries having to identify themselves as \"White\", even when that likely does not accurately capture how they would identify themselves).\n",
    "</div>"
   ]
  },
  {
   "cell_type": "markdown",
   "id": "25c6951b-2d69-4d6f-aa81-9e16ff5c12eb",
   "metadata": {},
   "source": [
    "<hr style=\"border: 5px solid #003262;\" />\n",
    "<hr style=\"border: 1px solid #fdb515;\" />\n",
    "\n",
    "## Part 3: Data Context Exploration"
   ]
  },
  {
   "cell_type": "markdown",
   "id": "961457bb-23d8-494c-9cf3-f976cfd1cc18",
   "metadata": {},
   "source": [
    "<div class=\"alert alert-warning\">\n",
    "As we saw at the end of Part 2, when working with data, it is always important to consider not only <strong>the impacts that the representation of the data can have in the real world</strong>, but also <strong>the effects that the conclusions from your data analysis and visualizations can have!</strong> While we were able to observe some interesting trends in Part 2, it is important to consider what types of conclusions we're making with our analysis and how applicable they are. In this part, we'll delve further into representations of data, while also utilizing additional data from UC Riverside broken down by college to try to analyze more interesting trends with student demographics.\n",
    "</div>"
   ]
  },
  {
   "cell_type": "markdown",
   "id": "f6ffb3e3-cc86-453c-88bf-4ddc873dc0ce",
   "metadata": {},
   "source": [
    "### A Further Look Into the `Gender` Column"
   ]
  },
  {
   "cell_type": "markdown",
   "id": "201a1095-f407-4861-b659-ed4dac6189c6",
   "metadata": {},
   "source": [
    "Let's continue with a bit more analysis on the `\"Gender\"` column. As stated above, the [source of the original data](https://ir.ucr.edu/stats/enrollment/demographic) from UC Riverside also included a second dataset that displays the same admissions data, broken down by college. An interesting question you may want to consider is why UC Riverside would make this type of breakdown available alongside the original dataset of the whole university. \n",
    "\n",
    "Let's load the dataset into a Table object below called `ucr_college`."
   ]
  },
  {
   "cell_type": "code",
   "execution_count": 44,
   "id": "3c4c2a44-fb91-4c7b-af54-5688e87388a4",
   "metadata": {},
   "outputs": [
    {
     "data": {
      "text/html": [
       "<table border=\"1\" class=\"dataframe\">\n",
       "    <thead>\n",
       "        <tr>\n",
       "            <th>Year</th> <th>College</th> <th>Level</th> <th>Original Entry Type</th> <th>New/Continuing Status</th> <th>Full-Time Status</th> <th>Gender</th> <th>IPEDS Race/Ethnicity</th> <th>Fall Headcount</th>\n",
       "        </tr>\n",
       "    </thead>\n",
       "    <tbody>\n",
       "        <tr>\n",
       "            <td>2023</td> <td>Bourns College of Engineering</td> <td>Undergraduate</td> <td>Undergraduate Frosh</td> <td>New                  </td> <td>Full-Time       </td> <td>Female</td> <td>Asian                 </td> <td>81            </td>\n",
       "        </tr>\n",
       "        <tr>\n",
       "            <td>2023</td> <td>Bourns College of Engineering</td> <td>Undergraduate</td> <td>Undergraduate Frosh</td> <td>New                  </td> <td>Full-Time       </td> <td>Female</td> <td>Black/African American</td> <td>5             </td>\n",
       "        </tr>\n",
       "        <tr>\n",
       "            <td>2023</td> <td>Bourns College of Engineering</td> <td>Undergraduate</td> <td>Undergraduate Frosh</td> <td>New                  </td> <td>Full-Time       </td> <td>Female</td> <td>Chicano/Latino        </td> <td>78            </td>\n",
       "        </tr>\n",
       "        <tr>\n",
       "            <td>2023</td> <td>Bourns College of Engineering</td> <td>Undergraduate</td> <td>Undergraduate Frosh</td> <td>New                  </td> <td>Full-Time       </td> <td>Female</td> <td>International         </td> <td>10            </td>\n",
       "        </tr>\n",
       "        <tr>\n",
       "            <td>2023</td> <td>Bourns College of Engineering</td> <td>Undergraduate</td> <td>Undergraduate Frosh</td> <td>New                  </td> <td>Full-Time       </td> <td>Female</td> <td>Two or More Races     </td> <td>7             </td>\n",
       "        </tr>\n",
       "    </tbody>\n",
       "</table>\n",
       "<p>... (16865 rows omitted)</p>"
      ],
      "text/plain": [
       "<IPython.core.display.HTML object>"
      ]
     },
     "metadata": {},
     "output_type": "display_data"
    }
   ],
   "source": [
    "ucr_college = Table.read_table(\"data/riverside_by_college.csv\")\n",
    "ucr_college.show(5)"
   ]
  },
  {
   "cell_type": "markdown",
   "id": "9d8ff8d5-e6e9-4539-9a84-7af37d54f719",
   "metadata": {},
   "source": [
    "As we can see from the `\"Year\"` column, this dataset also contains slightly more updated information, including data from 2023. Let's take a look at the way the data is represented in the `\"Gender\"` column for this dataset:"
   ]
  },
  {
   "cell_type": "code",
   "execution_count": 45,
   "id": "95bd6b09-14cc-4b15-8497-60ac2d57b028",
   "metadata": {},
   "outputs": [
    {
     "data": {
      "text/plain": [
       "array(['Female', 'Male', 'Nonbinary', 'Unknown'],\n",
       "      dtype='<U9')"
      ]
     },
     "execution_count": 45,
     "metadata": {},
     "output_type": "execute_result"
    }
   ],
   "source": [
    "np.unique(ucr_college.column(\"Gender\"))"
   ]
  },
  {
   "cell_type": "markdown",
   "id": "d22a4d6c-f109-46d3-a068-728d21612dff",
   "metadata": {},
   "source": [
    "It looks like this dataset contains the additional values of `\"Nonbinary\"` and `\"Unknown\"` for `\"Gender\"`. The website that provides this data also provides some context on how the data was collected at the bottom of the page:"
   ]
  },
  {
   "cell_type": "markdown",
   "id": "636980f5-d28b-499b-9ce9-4df2a8cfda09",
   "metadata": {},
   "source": [
    "> \"Gender identity has been collected on the UC admission application only since 2016. Therefore, there is no earlier data available in the nonbinary category.\""
   ]
  },
  {
   "cell_type": "markdown",
   "id": "5f1c5f2e-1a83-4650-b657-712d8112cfde",
   "metadata": {},
   "source": [
    "Something to note is that these datasets are supposed to represent the same information. However, because UCR utilized two methods of representing the `\"Gender\"` column, it may not be completely appropriate to compare the raw numbers of the values alone -- some of the individuals who are in the `\"Nonbinary\"` or `\"Unknown\"` category in this dataset were likely placed into the `\"Female\"` or `\"Male\"` categories in the other dataset. Therefore, the numbers could be a bit skewed, and it may be beneficial to compare by proportions as an additional step. Doing this type of **extra basic background research on the source of our data can be incredibly helpful in our understanding of our data!**"
   ]
  },
  {
   "cell_type": "markdown",
   "id": "704b9ee9-e1a0-4723-acc7-82e86b658c9d",
   "metadata": {},
   "source": [
    "---\n",
    "### Exploration of Aggregation by College"
   ]
  },
  {
   "cell_type": "markdown",
   "id": "2d382616-48eb-48f9-ba43-05fef57da1d4",
   "metadata": {},
   "source": [
    "We can also use the information at the bottom of the page of the data source to find some information about how STEM majors are classified:"
   ]
  },
  {
   "cell_type": "markdown",
   "id": "e66058d8-a252-4fca-8e52-27ea98def4bf",
   "metadata": {},
   "source": [
    "> \"STEM Majors include those in the Bourns College of Engineering (BCOE) and the College of Natural and Agricultural Sciences (CNAS).\""
   ]
  },
  {
   "cell_type": "markdown",
   "id": "01319d99-bdf5-4501-84e1-dea72b4c5547",
   "metadata": {},
   "source": [
    "Using this information, we can use the `where` method to create two different tables: one for STEM majors, and one for non-STEM majors."
   ]
  },
  {
   "cell_type": "code",
   "execution_count": 46,
   "id": "94c69717-5478-48e2-b5cb-0010a347b993",
   "metadata": {},
   "outputs": [
    {
     "data": {
      "text/plain": [
       "array(['Bourns College of Engineering',\n",
       "       'College of Humanities, Arts, and Social Sciences',\n",
       "       'College of Natural and Agricultural Sciences',\n",
       "       'Graduate School of Education', 'School of Business',\n",
       "       'School of Medicine', 'School of Public Policy'],\n",
       "      dtype='<U48')"
      ]
     },
     "execution_count": 46,
     "metadata": {},
     "output_type": "execute_result"
    }
   ],
   "source": [
    "np.unique(ucr_college.column(\"College\"))"
   ]
  },
  {
   "cell_type": "code",
   "execution_count": 47,
   "id": "56ec588c-e56c-4aee-a4b1-59c62bef59fe",
   "metadata": {},
   "outputs": [
    {
     "data": {
      "text/html": [
       "<table border=\"1\" class=\"dataframe\">\n",
       "    <thead>\n",
       "        <tr>\n",
       "            <th>Year</th> <th>College</th> <th>Level</th> <th>Original Entry Type</th> <th>New/Continuing Status</th> <th>Full-Time Status</th> <th>Gender</th> <th>IPEDS Race/Ethnicity</th> <th>Fall Headcount</th>\n",
       "        </tr>\n",
       "    </thead>\n",
       "    <tbody>\n",
       "        <tr>\n",
       "            <td>2023</td> <td>Bourns College of Engineering</td> <td>Undergraduate</td> <td>Undergraduate Frosh</td> <td>New                  </td> <td>Full-Time       </td> <td>Female</td> <td>Asian                 </td> <td>81            </td>\n",
       "        </tr>\n",
       "        <tr>\n",
       "            <td>2023</td> <td>Bourns College of Engineering</td> <td>Undergraduate</td> <td>Undergraduate Frosh</td> <td>New                  </td> <td>Full-Time       </td> <td>Female</td> <td>Black/African American</td> <td>5             </td>\n",
       "        </tr>\n",
       "        <tr>\n",
       "            <td>2023</td> <td>Bourns College of Engineering</td> <td>Undergraduate</td> <td>Undergraduate Frosh</td> <td>New                  </td> <td>Full-Time       </td> <td>Female</td> <td>Chicano/Latino        </td> <td>78            </td>\n",
       "        </tr>\n",
       "    </tbody>\n",
       "</table>\n",
       "<p>... (7416 rows omitted)</p>"
      ],
      "text/plain": [
       "<IPython.core.display.HTML object>"
      ]
     },
     "metadata": {},
     "output_type": "display_data"
    }
   ],
   "source": [
    "ucr_s = ucr_college.where(\"College\", are.contained_in([\"Bourns College of Engineering\", \"College of Natural and Agricultural Sciences\"]))\n",
    "ucr_s.show(3)"
   ]
  },
  {
   "cell_type": "code",
   "execution_count": 48,
   "id": "a89a5674-b9e5-4d4d-bc58-23b7f50efc7e",
   "metadata": {},
   "outputs": [
    {
     "data": {
      "text/html": [
       "<table border=\"1\" class=\"dataframe\">\n",
       "    <thead>\n",
       "        <tr>\n",
       "            <th>Year</th> <th>College</th> <th>Level</th> <th>Original Entry Type</th> <th>New/Continuing Status</th> <th>Full-Time Status</th> <th>Gender</th> <th>IPEDS Race/Ethnicity</th> <th>Fall Headcount</th>\n",
       "        </tr>\n",
       "    </thead>\n",
       "    <tbody>\n",
       "        <tr>\n",
       "            <td>2023</td> <td>College of Humanities, Arts, and Social Sciences</td> <td>Undergraduate</td> <td>Undergraduate Frosh</td> <td>New                  </td> <td>Full-Time       </td> <td>Female</td> <td>Asian                 </td> <td>486           </td>\n",
       "        </tr>\n",
       "        <tr>\n",
       "            <td>2023</td> <td>College of Humanities, Arts, and Social Sciences</td> <td>Undergraduate</td> <td>Undergraduate Frosh</td> <td>New                  </td> <td>Full-Time       </td> <td>Female</td> <td>Black/African American</td> <td>72            </td>\n",
       "        </tr>\n",
       "        <tr>\n",
       "            <td>2023</td> <td>College of Humanities, Arts, and Social Sciences</td> <td>Undergraduate</td> <td>Undergraduate Frosh</td> <td>New                  </td> <td>Full-Time       </td> <td>Female</td> <td>Chicano/Latino        </td> <td>867           </td>\n",
       "        </tr>\n",
       "    </tbody>\n",
       "</table>\n",
       "<p>... (9448 rows omitted)</p>"
      ],
      "text/plain": [
       "<IPython.core.display.HTML object>"
      ]
     },
     "metadata": {},
     "output_type": "display_data"
    }
   ],
   "source": [
    "ucr_ns = ucr_college.where(\"College\", are.contained_in([\"College of Humanities, Arts, and Social Sciences\", \"Graduate School of Education\", \"School of Business\", \"School of Medicine\", \"School of Public Policy\"]))\n",
    "ucr_ns.show(3)"
   ]
  },
  {
   "cell_type": "markdown",
   "id": "371b94b0-ffa4-4fa9-9a68-bd53c1c41abe",
   "metadata": {},
   "source": [
    "Now, if we wanted to do a rough tabular comparison of the STEM vs. non-STEM majors, we can group by `\"Gender\"` and compare the numbers.\n",
    "\n",
    "For now, don't worry too much about understanding the syntax for the group method: we'll cover it in the next lab! The code in the two cells below simply aggregates the data by calculating the sums of the `\"Fall Headcount\"` column for each gender category."
   ]
  },
  {
   "cell_type": "code",
   "execution_count": 49,
   "id": "4778b204-1d90-4fc0-9d63-fc761e0173b3",
   "metadata": {},
   "outputs": [
    {
     "data": {
      "text/html": [
       "<table border=\"1\" class=\"dataframe\">\n",
       "    <thead>\n",
       "        <tr>\n",
       "            <th>Gender</th> <th>Fall Headcount sum</th>\n",
       "        </tr>\n",
       "    </thead>\n",
       "    <tbody>\n",
       "        <tr>\n",
       "            <td>Male     </td> <td>132516            </td>\n",
       "        </tr>\n",
       "        <tr>\n",
       "            <td>Female   </td> <td>96494             </td>\n",
       "        </tr>\n",
       "        <tr>\n",
       "            <td>Unknown  </td> <td>1063              </td>\n",
       "        </tr>\n",
       "        <tr>\n",
       "            <td>Nonbinary</td> <td>428               </td>\n",
       "        </tr>\n",
       "    </tbody>\n",
       "</table>"
      ],
      "text/plain": [
       "Gender    | Fall Headcount sum\n",
       "Male      | 132516\n",
       "Female    | 96494\n",
       "Unknown   | 1063\n",
       "Nonbinary | 428"
      ]
     },
     "execution_count": 49,
     "metadata": {},
     "output_type": "execute_result"
    }
   ],
   "source": [
    "ucr_s_grouped = ucr_s.group(\"Gender\", np.sum).select([\"Gender\", \"Fall Headcount sum\"]).sort(\"Fall Headcount sum\", descending=True)\n",
    "ucr_s_grouped "
   ]
  },
  {
   "cell_type": "code",
   "execution_count": 50,
   "id": "ac612f3c-c557-4d8d-9bec-b1b002992306",
   "metadata": {},
   "outputs": [
    {
     "data": {
      "text/html": [
       "<table border=\"1\" class=\"dataframe\">\n",
       "    <thead>\n",
       "        <tr>\n",
       "            <th>Gender</th> <th>Fall Headcount sum</th>\n",
       "        </tr>\n",
       "    </thead>\n",
       "    <tbody>\n",
       "        <tr>\n",
       "            <td>Female   </td> <td>195432            </td>\n",
       "        </tr>\n",
       "        <tr>\n",
       "            <td>Male     </td> <td>136041            </td>\n",
       "        </tr>\n",
       "        <tr>\n",
       "            <td>Unknown  </td> <td>1499              </td>\n",
       "        </tr>\n",
       "        <tr>\n",
       "            <td>Nonbinary</td> <td>1166              </td>\n",
       "        </tr>\n",
       "    </tbody>\n",
       "</table>"
      ],
      "text/plain": [
       "Gender    | Fall Headcount sum\n",
       "Female    | 195432\n",
       "Male      | 136041\n",
       "Unknown   | 1499\n",
       "Nonbinary | 1166"
      ]
     },
     "execution_count": 50,
     "metadata": {},
     "output_type": "execute_result"
    }
   ],
   "source": [
    "ucr_ns_grouped = ucr_ns.group(\"Gender\", np.sum).select([\"Gender\", \"Fall Headcount sum\"]).sort(\"Fall Headcount sum\", descending=True)\n",
    "ucr_ns_grouped "
   ]
  },
  {
   "cell_type": "markdown",
   "id": "481a44ee-c7ea-4e9f-a471-5449624e1cec",
   "metadata": {},
   "source": [
    "From the above two tables, we can see an interesting discrepancy that we see quite often with this type of data: there are more male-identifying individuals represented by the STEM majors, and more female-identifying individuals repesented by the non-STEM majors. Thanks to the other two representations of `\"Unknown\"` and `\"Nonbinary\"` though, we can also see that there are more of these individuals in the non-STEM majors table as well."
   ]
  },
  {
   "cell_type": "markdown",
   "id": "9f90e41e-8392-454f-a755-7facc605e1b1",
   "metadata": {},
   "source": [
    "Using what we learned in Lab 3, we can also visualize the data below to be able to see the trends and proportions of the data more clearly:"
   ]
  },
  {
   "cell_type": "code",
   "execution_count": 51,
   "id": "f7d4221f-1476-4d64-adda-a4f4199a4896",
   "metadata": {},
   "outputs": [
    {
     "data": {
      "image/png": "[encoded data removed]",
      "text/plain": [
       "<Figure size 600x400 with 1 Axes>"
      ]
     },
     "metadata": {},
     "output_type": "display_data"
    }
   ],
   "source": [
    "ucr_s_grouped.barh(\"Gender\", \"Fall Headcount sum\")"
   ]
  },
  {
   "cell_type": "code",
   "execution_count": 52,
   "id": "8a0fd41a-af52-4867-bf44-6d3424e3cf4f",
   "metadata": {},
   "outputs": [
    {
     "data": {
      "image/png": "[encoded data removed]",
      "text/plain": [
       "<Figure size 600x400 with 1 Axes>"
      ]
     },
     "metadata": {},
     "output_type": "display_data"
    }
   ],
   "source": [
    "ucr_ns_grouped.barh(\"Gender\", \"Fall Headcount sum\")"
   ]
  },
  {
   "cell_type": "markdown",
   "id": "0e279eb6-9e7b-40f2-8632-15a1e7bd9003",
   "metadata": {},
   "source": [
    "<div class=\"alert alert-warning\">We looked into some aspects of the students' race/ethnicities in Part 2, but now we can dig a little deeper by performing the same process of grouping our data and visualizing the distribution between the STEM and non-STEM colleges.</div>"
   ]
  },
  {
   "cell_type": "code",
   "execution_count": 53,
   "id": "885929fe-dcd1-4bbb-a699-7253f20a7aac",
   "metadata": {},
   "outputs": [
    {
     "data": {
      "text/html": [
       "<table border=\"1\" class=\"dataframe\">\n",
       "    <thead>\n",
       "        <tr>\n",
       "            <th>IPEDS Race/Ethnicity</th> <th>Fall Headcount sum</th>\n",
       "        </tr>\n",
       "    </thead>\n",
       "    <tbody>\n",
       "        <tr>\n",
       "            <td>Asian                           </td> <td>89621             </td>\n",
       "        </tr>\n",
       "        <tr>\n",
       "            <td>Chicano/Latino                  </td> <td>54809             </td>\n",
       "        </tr>\n",
       "        <tr>\n",
       "            <td>White                           </td> <td>43765             </td>\n",
       "        </tr>\n",
       "        <tr>\n",
       "            <td>International                   </td> <td>18424             </td>\n",
       "        </tr>\n",
       "        <tr>\n",
       "            <td>Domestic Unknown                </td> <td>8060              </td>\n",
       "        </tr>\n",
       "        <tr>\n",
       "            <td>Black/African American          </td> <td>7889              </td>\n",
       "        </tr>\n",
       "        <tr>\n",
       "            <td>Two or More Races               </td> <td>7356              </td>\n",
       "        </tr>\n",
       "        <tr>\n",
       "            <td>American Indian/Alaskan Native  </td> <td>440               </td>\n",
       "        </tr>\n",
       "        <tr>\n",
       "            <td>Native Hawaiian/Pacific Islander</td> <td>137               </td>\n",
       "        </tr>\n",
       "    </tbody>\n",
       "</table>"
      ],
      "text/plain": [
       "IPEDS Race/Ethnicity             | Fall Headcount sum\n",
       "Asian                            | 89621\n",
       "Chicano/Latino                   | 54809\n",
       "White                            | 43765\n",
       "International                    | 18424\n",
       "Domestic Unknown                 | 8060\n",
       "Black/African American           | 7889\n",
       "Two or More Races                | 7356\n",
       "American Indian/Alaskan Native   | 440\n",
       "Native Hawaiian/Pacific Islander | 137"
      ]
     },
     "execution_count": 53,
     "metadata": {},
     "output_type": "execute_result"
    }
   ],
   "source": [
    "ucr_s_grouped_re = ucr_s.group(\"IPEDS Race/Ethnicity\", np.sum).select([\"IPEDS Race/Ethnicity\", \"Fall Headcount sum\"]).sort(\"Fall Headcount sum\", descending=True)\n",
    "ucr_s_grouped_re "
   ]
  },
  {
   "cell_type": "code",
   "execution_count": 54,
   "id": "eb2a846c-c3f5-4a08-84d5-81ee644a871a",
   "metadata": {},
   "outputs": [
    {
     "data": {
      "text/html": [
       "<table border=\"1\" class=\"dataframe\">\n",
       "    <thead>\n",
       "        <tr>\n",
       "            <th>IPEDS Race/Ethnicity</th> <th>Fall Headcount sum</th>\n",
       "        </tr>\n",
       "    </thead>\n",
       "    <tbody>\n",
       "        <tr>\n",
       "            <td>Chicano/Latino                  </td> <td>112421            </td>\n",
       "        </tr>\n",
       "        <tr>\n",
       "            <td>Asian                           </td> <td>101707            </td>\n",
       "        </tr>\n",
       "        <tr>\n",
       "            <td>White                           </td> <td>64222             </td>\n",
       "        </tr>\n",
       "        <tr>\n",
       "            <td>Black/African American          </td> <td>18210             </td>\n",
       "        </tr>\n",
       "        <tr>\n",
       "            <td>International                   </td> <td>14528             </td>\n",
       "        </tr>\n",
       "        <tr>\n",
       "            <td>Domestic Unknown                </td> <td>13140             </td>\n",
       "        </tr>\n",
       "        <tr>\n",
       "            <td>Two or More Races               </td> <td>8466              </td>\n",
       "        </tr>\n",
       "        <tr>\n",
       "            <td>American Indian/Alaskan Native  </td> <td>1082              </td>\n",
       "        </tr>\n",
       "        <tr>\n",
       "            <td>Native Hawaiian/Pacific Islander</td> <td>362               </td>\n",
       "        </tr>\n",
       "    </tbody>\n",
       "</table>"
      ],
      "text/plain": [
       "IPEDS Race/Ethnicity             | Fall Headcount sum\n",
       "Chicano/Latino                   | 112421\n",
       "Asian                            | 101707\n",
       "White                            | 64222\n",
       "Black/African American           | 18210\n",
       "International                    | 14528\n",
       "Domestic Unknown                 | 13140\n",
       "Two or More Races                | 8466\n",
       "American Indian/Alaskan Native   | 1082\n",
       "Native Hawaiian/Pacific Islander | 362"
      ]
     },
     "execution_count": 54,
     "metadata": {},
     "output_type": "execute_result"
    }
   ],
   "source": [
    "ucr_ns_grouped_re = ucr_ns.group(\"IPEDS Race/Ethnicity\", np.sum).select([\"IPEDS Race/Ethnicity\", \"Fall Headcount sum\"]).sort(\"Fall Headcount sum\", descending=True)\n",
    "ucr_ns_grouped_re "
   ]
  },
  {
   "cell_type": "code",
   "execution_count": 55,
   "id": "c616a891-62b7-4774-8883-a58b29b1364b",
   "metadata": {},
   "outputs": [
    {
     "data": {
      "image/png": "[encoded data removed]",
      "text/plain": [
       "<Figure size 600x450 with 1 Axes>"
      ]
     },
     "metadata": {},
     "output_type": "display_data"
    }
   ],
   "source": [
    "ucr_s_grouped_re.barh(\"IPEDS Race/Ethnicity\", \"Fall Headcount sum\")"
   ]
  },
  {
   "cell_type": "code",
   "execution_count": 56,
   "id": "ef5c1bf1-3fd6-41b0-a7e2-7263fd37f841",
   "metadata": {},
   "outputs": [
    {
     "data": {
      "image/png": "[encoded data removed]",
      "text/plain": [
       "<Figure size 600x450 with 1 Axes>"
      ]
     },
     "metadata": {},
     "output_type": "display_data"
    }
   ],
   "source": [
    "ucr_ns_grouped_re.barh(\"IPEDS Race/Ethnicity\", \"Fall Headcount sum\")"
   ]
  },
  {
   "cell_type": "markdown",
   "id": "478aa335-85d8-4cbe-87e0-25f826e82e8d",
   "metadata": {},
   "source": [
    "<div class=\"alert alert-warning\">Here, we see that for non-STEM colleges, we witness a handful of the trends that we saw in Part 2, with Chicanx/Latinx and Asian students making up a large proportion, while Native Hawaiian/Pacific Islander students making up the smallest. However, again, we see a shift for the STEM colleges, where Asian students seem to make up a large majority of the students.</div>"
   ]
  },
  {
   "cell_type": "markdown",
   "id": "667ed8c4-bc4e-4dee-b40f-6d765dc41896",
   "metadata": {},
   "source": [
    "<div class=\"alert alert-warning\">\n",
    "As we come to an end of our exploration of student demographics from UC Riverside, consider what we've learned about the different representations of categories, as well as what sorts of conclusions we were able to effectively draw from tabular vs. visualization methods. What more could we still do in order to more concretely explore student demographics? What type of information do you think is missing that could be useful? How might you change the way that some of these demographics are represented, if data collection could be more flexible and supportive of values that lie on a continuum or are subject to changes?\n",
    "</div>"
   ]
  },
  {
   "cell_type": "markdown",
   "id": "6a13ca49-6d7d-4112-ba18-4a8353d845e3",
   "metadata": {},
   "source": [
    "Going back to an idea we posed when starting to look into the `\"Gender\"` column: while this type of exploration is very important and can also be informative, it is also important to remember that it is not always enough to simply look at a trend like this and state it. Ultimately, it is typically very hard to encode data about humans into numbers and categories, **because in doing so, we lose information and context about the individual we are looking at.** In your analysis in the future, try to strike a balance of looking at interesting trends in the data and considering the original context of the data you're working with."
   ]
  },
  {
   "cell_type": "markdown",
   "id": "def96d13-8ae3-4942-bfbb-a711a5feac80",
   "metadata": {},
   "source": [
    "**Finally, for reference, here is the link to the Data 6 Python Reference (our Python cheat-sheet) so you can review some of the methods we've used for tables in this lab!**\n",
    "\n",
    "[Python Reference](http://data6.org/su23/reference)"
   ]
  },
  {
   "cell_type": "markdown",
   "id": "ae1572b7-e179-43e5-9944-e9fcc56a5f0e",
   "metadata": {},
   "source": [
    "---\n",
    "## Done! 😇\n",
    "\n",
    "That's it! There's nowhere for you to submit this, as labs are not assignments. However, please ask any questions you have with this notebook in lab or on Ed."
   ]
  },
  {
   "cell_type": "markdown",
   "id": "fad69802-4819-4e73-971b-187def132785",
   "metadata": {},
   "source": [
    "---\n",
    "\n",
    "To double-check your work, the cell below will rerun all of the autograder tests."
   ]
  },
  {
   "cell_type": "code",
   "execution_count": null,
   "id": "b77dbc1d-4c04-436e-afb2-53d9c98d2e53",
   "metadata": {},
   "outputs": [],
   "source": [
    "grader.check_all()"
   ]
  }
 ],
 "metadata": {
  "kernelspec": {
   "display_name": "Python 3 (ipykernel)",
   "language": "python",
   "name": "python3"
  },
  "language_info": {
   "codemirror_mode": {
    "name": "ipython",
    "version": 3
   },
   "file_extension": ".py",
   "mimetype": "text/x-python",
   "name": "python",
   "nbconvert_exporter": "python",
   "pygments_lexer": "ipython3",
   "version": "3.9.15"
  }
 },
 "nbformat": 4,
 "nbformat_minor": 5
}
