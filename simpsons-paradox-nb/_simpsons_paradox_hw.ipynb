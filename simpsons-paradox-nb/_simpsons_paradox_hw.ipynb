{
 "cells": [
  {
   "cell_type": "raw",
   "id": "22d89b73-ebd2-4988-b12c-8a722f7ea463",
   "metadata": {},
   "source": [
    "# ASSIGNMENT CONFIG\n",
    "name: lab05\n",
    "export_cell:\n",
    "    pdf: false\n",
    "    run_tests: false\n",
    "files:\n",
    "    - UCBerkeley1973_Admission.csv\n",
    "generate:\n",
    "    show_hidden: true\n",
    "    requirements: requirements.txt\n",
    "    overwrite_requirements: true\n",
    "    run_tests: false\n",
    "    template_pdf: false\n",
    "    solutions_pdf: false"
   ]
  },
  {
   "cell_type": "code",
   "execution_count": 1,
   "id": "38841746-b160-4ecb-b3ec-eb30c09893ca",
   "metadata": {},
   "outputs": [],
   "source": [
    "from datascience import *\n",
    "import numpy as np\n",
    "import matplotlib.pyplot as plt\n",
    "import pandas as pd\n",
    "plt.style.use(\"ggplot\")\n",
    "%matplotlib inline\n",
    "\n",
    "import warnings\n",
    "warnings.simplefilter('ignore')"
   ]
  },
  {
   "cell_type": "markdown",
   "id": "89480059-3c34-4be8-9ff2-26eba32b77c1",
   "metadata": {},
   "source": [
    "# Homework # – Simpson's Paradox\n",
    "\n",
    "## Data 6, Summer 2024\n",
    "\n",
    "Today, we will be getting more practice with the basic and advanced table functions, as well as the visualization methods, that we've covered in the past few labs. We'll be applying these skills to explore the statistical and sociological components of an interesting phenomenon that sometimes occurs in data called Simspon's Paradox. We'll discuss more about what this paradox entails later on, but in short, this paradox shows us the importance of considering multiple approaches to a problem in data science before accepting the results and conclusions of one method.\n",
    "\n",
    "To explore this paradox, we'll be looking into a case study regarding UC Berkeley's graduate admissions from 1973. To explore the paradox, we'll be using two sources for information and data on this case study, which include [the Wikipedia page for Simpson's paradox](https://en.wikipedia.org/wiki/Simpson%27s_paradox), as well as [this paper from Bickel et al.](https://homepage.stat.uiowa.edu/~mbognar/1030/Bickel-Berkeley.pdf) that was originally published to the American Association for the Advancement of Science journal in 1975.\n",
    "\n",
    "**TODO:** elaborate more on introduction and breakdown of notebook here later\n",
    "\n",
    "After completing this notebook, you will have learned how to:\n",
    "* Understand what Simpson's paradox is and how it occurs\n",
    "* Apply basic and advanced table methods to (dis)aggregate and visualize data\n",
    "* Analyze the effect of confounding variables on associations between data\n",
    "* Critique and consider the implications of conclusions drawn from data presented in a certain way"
   ]
  },
  {
   "cell_type": "markdown",
   "id": "f30d7133-1c4b-4f92-9cc0-6d4f1087a679",
   "metadata": {},
   "source": [
    "<hr style=\"border: 5px solid #003262;\" />\n",
    "<hr style=\"border: 1px solid #fdb515;\" />\n",
    "\n",
    "## Part 1: Understanding the Case Study"
   ]
  },
  {
   "cell_type": "markdown",
   "id": "755fd4c5-fb59-4957-82ea-afc62aae85a3",
   "metadata": {},
   "source": [
    "Let's begin exploring this paradox by going through the [Bickel et al.](https://homepage.stat.uiowa.edu/~mbognar/1030/Bickel-Berkeley.pdf) paper. We'll get an idea of what steps they took in exploring the data they had from the 1973 graduation admissions, and we'll analyze some of their findings and figures to see how they connect to the paradox."
   ]
  },
  {
   "cell_type": "markdown",
   "id": "b19dffd3-f7a8-4c31-a07a-c2ae43b31ebe",
   "metadata": {},
   "source": [
    "### Data and Assumptions"
   ]
  },
  {
   "cell_type": "markdown",
   "id": "ef8e9d5c-38a3-4bb4-8374-baa4fe449159",
   "metadata": {},
   "source": [
    "From the \"Data and Assumptions\" section on the first page, we see that the authors had data on all approximately 15,000 applications. Their main purpose of exploring this data was to see if the sex of the applicant in any way influenced the decision to admit or deny any particular student. If there was any statistically significant result from this exploration, there would be a **bias** on sex present, and from there, they might hope to explore if a **discrimination** also existed.\n",
    "\n",
    "In order to explore if the applicant's sex influenced the admission decision on said applicant, the authors started with a first approach:"
   ]
  },
  {
   "cell_type": "raw",
   "id": "e3e666d0-1c74-49e1-b2fb-7644bd9406fd",
   "metadata": {},
   "source": [
    "# BEGIN QUESTION\n",
    "name: q1_1\n",
    "manual: true"
   ]
  },
  {
   "cell_type": "markdown",
   "id": "47d7c17e-c345-452e-92e2-0167dfa3618a",
   "metadata": {},
   "source": [
    "### Question 1.1 (Discussion)\n",
    "In your own words, explain the authors' first approach in determining whether a sex bias was present, as described on page 1. Using this method, what results did they find? Does there appear to be a sex bias when using this first method? From your own judgment (and also information from the two paragraphs about the assumptions made, if you'd like), do you think this method is the most effective in exploring if a sex bias is present?"
   ]
  },
  {
   "cell_type": "raw",
   "id": "7a335477-d3ef-4957-ab4a-c42ca02763c0",
   "metadata": {},
   "source": [
    "# BEGIN SOLUTION"
   ]
  },
  {
   "cell_type": "markdown",
   "id": "2fa346ca-f264-44c0-980a-e4f06f5049a3",
   "metadata": {},
   "source": [
    "**SOLUTION:** The authors' first approach is to calculate the admission rates for male vs. female applicants aggregated across all applications. Using this method, they found that the male admission rate was 44% and the female admission rate was 35%; based solely on these two rates, there appears to be a sex bias for males and against females. However, as implied in the assumptions section, we may have reason to believe that this method isn't the most effective in this case, as there's a possibility that there may be other factors in admission that are also assocciated with the sex ratios."
   ]
  },
  {
   "cell_type": "raw",
   "id": "98cdefca-0824-4120-b4b8-e55769d6f241",
   "metadata": {},
   "source": [
    "# END SOLUTION"
   ]
  },
  {
   "cell_type": "raw",
   "id": "8b0ff139-fb03-4183-ab50-b7a39a057755",
   "metadata": {},
   "source": [
    "# END QUESTION"
   ]
  },
  {
   "cell_type": "markdown",
   "id": "b50ec3aa-2066-4f50-9abf-a615eafbf87c",
   "metadata": {},
   "source": [
    "---\n",
    "### Some Underlying Dependencies"
   ]
  },
  {
   "cell_type": "markdown",
   "id": "be5b81f2-922a-4c69-8b66-38276d39e017",
   "metadata": {},
   "source": [
    "In the \"Some Underlying Dependencies\" section on page 2, the authors bring up how their second assumption (the assumption that \"the sex ratios of applicants to the various fields of graduate study are not importantly associated with any other factors in admission\") being false results in a case of Simpson's paradox. They describe it as:"
   ]
  },
  {
   "cell_type": "markdown",
   "id": "4283d01f-4eb3-4984-ab36-b511b74e6430",
   "metadata": {},
   "source": [
    "> \"We have stumbled onto a paradox, sometimes referred to as Simpson's in this context (1) or 'spurious correlation' in others (2). It is rooted in the falsity of assumption 2 above. We have assumed that if there is a bias in the proportion of women applicants admitted it will be because of a link between sex of applicant and decision to admit. We have given much less attention to a prior linkage, that between sex of applicant and department to which admission is sought.\""
   ]
  },
  {
   "cell_type": "raw",
   "id": "9269f299-8c4a-4a04-8f74-89ff668f605d",
   "metadata": {},
   "source": [
    "# BEGIN QUESTION\n",
    "name: q1_2"
   ]
  },
  {
   "cell_type": "markdown",
   "id": "147e656d-7489-46a6-8de5-94d777b2018d",
   "metadata": {},
   "source": [
    "### Question 1.2 (Multiple Choice)\n",
    "From the statement above, which of the following options describes an **important, initially overlooked factor** that the authors believe is associated with the sex of the applicant? You should answer the question by assigning `q1_2` to `make_array(...)` where `...` is the choice of your answer (eg. `make_array(3, 4)`).\n",
    "\n",
    "1. Department the applicant applies to\n",
    "2. Whether the student was an athlete or not\n",
    "3. Decision to admit the applicant or not\n",
    "4. Race/ethnicity of the student"
   ]
  },
  {
   "cell_type": "raw",
   "id": "0e76646a-bafa-4726-a8da-8d4514fdf3de",
   "metadata": {},
   "source": [
    "# BEGIN SOLUTION"
   ]
  },
  {
   "cell_type": "code",
   "execution_count": null,
   "id": "49184d52-eba9-44fc-b3e3-cedb65a88ab5",
   "metadata": {},
   "outputs": [],
   "source": [
    "q1_2 = make_array(1) # SOLUTION"
   ]
  },
  {
   "cell_type": "raw",
   "id": "0fec3d43-f680-451d-a577-24dda0c2ff44",
   "metadata": {},
   "source": [
    "# END SOLUTION"
   ]
  },
  {
   "cell_type": "raw",
   "id": "e7baa173-35b4-4097-8010-573f3d281e1c",
   "metadata": {},
   "source": [
    "# BEGIN TESTS "
   ]
  },
  {
   "cell_type": "code",
   "execution_count": null,
   "id": "094af129-d82b-4039-ba8a-18d946767da2",
   "metadata": {},
   "outputs": [],
   "source": []
  },
  {
   "cell_type": "raw",
   "id": "324e8d57-700e-47ad-9d65-f07dd033c513",
   "metadata": {},
   "source": [
    "# END TESTS"
   ]
  },
  {
   "cell_type": "raw",
   "id": "caed011b-ead1-4f29-ae82-4b4c6ffafd0d",
   "metadata": {},
   "source": [
    "# END QUESTION"
   ]
  },
  {
   "cell_type": "markdown",
   "id": "d27acf45-5f3d-4490-85b4-f2df3a960569",
   "metadata": {},
   "source": [
    "Understanding the answer to the question above is crucial, so there were no hidden tests placed on it. As the authors describe, the paradox arises from prior linkages or associations between other variables affecting the trend between the sex of the applicant and the decision to admit them. The prior linkage that the authors discover is between the sex of the applicant and the department the applicant applies to; as they describe later on in the \"Some Underlying Dependencies\" section, different sexes tend to apply to very different departments. **In fact, they discover that in departments that are harder to get into (i.e. departments that have lower acceptance rates), there is a higher proportion of female applicants, and in departments that are easier to get into, there is a lower proportion of female applicants.**\n",
    "\n",
    "Because of this, we can see why calculating the admission rates for males vs. females across all departments aggregated together may not actually be effective. Instead, we should consider the **admission rates at a department level** in order to get a clearer idea of the true discrepancy in admission rates."
   ]
  },
  {
   "cell_type": "markdown",
   "id": "36aa1f13-3545-4e65-8233-06eaac1dd62a",
   "metadata": {},
   "source": [
    "**TODO:** add more questions to this section relating to the paper, or end off with a transition to the next part"
   ]
  },
  {
   "cell_type": "markdown",
   "id": "0f8eb59f-671b-4b97-a9d5-dbb4f1e126a6",
   "metadata": {},
   "source": [
    "<hr style=\"border: 5px solid #003262;\" />\n",
    "<hr style=\"border: 1px solid #fdb515;\" />\n",
    "\n",
    "## Part 2: Seeing Simpson's Paradox\n",
    "\n",
    "Now that we've explored some of the findings from the Bickel et al. paper, we'll be utilizing some table and visualization methods to explore the data provided on the Wikipedia page for Simpson's paradox to see if we can reproduce similar results."
   ]
  },
  {
   "cell_type": "code",
   "execution_count": 2,
   "id": "24b7e9ee-fc93-4588-b631-a363ab35ed0e",
   "metadata": {},
   "outputs": [
    {
     "data": {
      "text/html": [
       "<table border=\"1\" class=\"dataframe\">\n",
       "    <thead>\n",
       "        <tr>\n",
       "            <th>Year</th> <th>Major</th> <th>Gender</th> <th>Admission</th>\n",
       "        </tr>\n",
       "    </thead>\n",
       "    <tbody>\n",
       "        <tr>\n",
       "            <td>1973</td> <td>C    </td> <td>F     </td> <td>Rejected </td>\n",
       "        </tr>\n",
       "        <tr>\n",
       "            <td>1973</td> <td>B    </td> <td>M     </td> <td>Accepted </td>\n",
       "        </tr>\n",
       "        <tr>\n",
       "            <td>1973</td> <td>Other</td> <td>F     </td> <td>Accepted </td>\n",
       "        </tr>\n",
       "        <tr>\n",
       "            <td>1973</td> <td>Other</td> <td>M     </td> <td>Accepted </td>\n",
       "        </tr>\n",
       "        <tr>\n",
       "            <td>1973</td> <td>Other</td> <td>M     </td> <td>Rejected </td>\n",
       "        </tr>\n",
       "        <tr>\n",
       "            <td>1973</td> <td>Other</td> <td>M     </td> <td>Rejected </td>\n",
       "        </tr>\n",
       "        <tr>\n",
       "            <td>1973</td> <td>F    </td> <td>F     </td> <td>Accepted </td>\n",
       "        </tr>\n",
       "        <tr>\n",
       "            <td>1973</td> <td>Other</td> <td>M     </td> <td>Accepted </td>\n",
       "        </tr>\n",
       "        <tr>\n",
       "            <td>1973</td> <td>Other</td> <td>M     </td> <td>Rejected </td>\n",
       "        </tr>\n",
       "        <tr>\n",
       "            <td>1973</td> <td>A    </td> <td>M     </td> <td>Accepted </td>\n",
       "        </tr>\n",
       "    </tbody>\n",
       "</table>\n",
       "<p>... (12753 rows omitted)</p>"
      ],
      "text/plain": [
       "Year | Major | Gender | Admission\n",
       "1973 | C     | F      | Rejected\n",
       "1973 | B     | M      | Accepted\n",
       "1973 | Other | F      | Accepted\n",
       "1973 | Other | M      | Accepted\n",
       "1973 | Other | M      | Rejected\n",
       "1973 | Other | M      | Rejected\n",
       "1973 | F     | F      | Accepted\n",
       "1973 | Other | M      | Accepted\n",
       "1973 | Other | M      | Rejected\n",
       "1973 | A     | M      | Accepted\n",
       "... (12753 rows omitted)"
      ]
     },
     "execution_count": 2,
     "metadata": {},
     "output_type": "execute_result"
    }
   ],
   "source": [
    "cal_data  = Table.read_table(\"data/UCBerkeley1973_Admission.csv\")\n",
    "cal_data"
   ]
  },
  {
   "cell_type": "raw",
   "id": "61ef9b77-bd17-411f-9df4-c5a14378169b",
   "metadata": {},
   "source": [
    "# BEGIN QUESTION\n",
    "name: q2_1\n",
    "manual: true"
   ]
  },
  {
   "cell_type": "markdown",
   "id": "fee0451a-c2a9-4103-abdf-a5af8615b9de",
   "metadata": {},
   "source": [
    "### Question 2.1 (Discussion)\n",
    "Looking at `cal_data` first glance, what do you observe? Try exploring the dataset by what you have learned so far in class! Reflect in 2-3 sentences on what you have noticed about te data. Feel free to add/ delete more cells beyond our given cell."
   ]
  },
  {
   "cell_type": "raw",
   "id": "282abdc2-8ca7-4a74-9969-df1898df32bd",
   "metadata": {},
   "source": [
    "# BEGIN SOLUTION"
   ]
  },
  {
   "cell_type": "markdown",
   "id": "8203ef3a-df02-4a45-b23b-c5776e2dcdba",
   "metadata": {},
   "source": [
    "**SOLUTION:** The answer may vary. Looking at the data, `cal_data` has 3 columns: \"Major\", \"Gender\", \"Admission\", which all have the data type of string. Just measuring the acceptance rate of Female and Male, there seems to be higher acceptance rate for Males for UC Berkeley Admission. To compare different discrete variables such as Gender groups, Majors, and Admission results, it might be best to visualize with bar graphs. There is no specific names of the withinn the Major; There is only two gender listed in the dataset; There is only Rejected or Accepted state for Admission."
   ]
  },
  {
   "cell_type": "raw",
   "id": "af7faf1c-24b7-4660-a3fd-a34cc85262a1",
   "metadata": {},
   "source": [
    "# END SOLUTION"
   ]
  },
  {
   "cell_type": "raw",
   "id": "e045fbd9-baca-42c8-9942-a1f297780f6d",
   "metadata": {},
   "source": [
    "# END QUESTION"
   ]
  },
  {
   "cell_type": "code",
   "execution_count": null,
   "id": "78d9085f-4045-400d-8250-3264967b410c",
   "metadata": {},
   "outputs": [],
   "source": [
    "# You can use this cell to explore the `cal_data` table"
   ]
  },
  {
   "cell_type": "markdown",
   "id": "c19b8b39-6f01-47d7-a898-2f6e1f73133d",
   "metadata": {},
   "source": [
    "For this case study, we'll be doing some exploration of the rates of admission between males and females at UC Berkeley in 1973. To start off, below we calculate the raw acceptance rates for males and females:"
   ]
  },
  {
   "cell_type": "code",
   "execution_count": 3,
   "id": "2ba7f293-1960-4509-8c68-dbebd776436e",
   "metadata": {},
   "outputs": [
    {
     "name": "stdout",
     "output_type": "stream",
     "text": [
      "1973's Berkeley admission rate seems to be: female: 34.5753297848 and male: 44.2786069652\n"
     ]
    }
   ],
   "source": [
    "total_f = sum(cal_data.column(\"Gender\") == \"F\")\n",
    "total_m = sum(cal_data.column(\"Gender\") == \"M\")\n",
    "accepted_f = cal_data.where(\"Admission\", \"Accepted\").where(\"Gender\", \"F\").num_rows\n",
    "accepted_m =  cal_data.where(\"Admission\", \"Accepted\").where(\"Gender\", \"M\").num_rows\n",
    "acceptance_rate_f = accepted_f / total_f * 100\n",
    "acceptance_rate_m = accepted_m / total_m * 100\n",
    "print(\"1973's Berkeley admission rate seems to be: female:\", acceptance_rate_f, \"and male:\", acceptance_rate_m)"
   ]
  },
  {
   "cell_type": "markdown",
   "id": "25ab89ec-50dd-4fbd-b4f5-4e7a4a045910",
   "metadata": {},
   "source": [
    "Keep these rates in mind as we begin exploring some visualization and table methods to look into an effect called **\"Simpson's Paradox\"**. "
   ]
  },
  {
   "cell_type": "raw",
   "id": "fbf06245-cb0c-4a39-93c3-0b5c007dd2bc",
   "metadata": {},
   "source": [
    "# BEGIN QUESTION\n",
    "name: q2_2"
   ]
  },
  {
   "cell_type": "markdown",
   "id": "33d07bee-65f4-423d-b1e4-94a6a5dca892",
   "metadata": {},
   "source": [
    "### Question 2.2\n",
    "Using the `.pivot()` method, assign the table `admission_f_m` to one that contains the count of individuals rejected and accepted for both females and males.\n",
    "\n",
    "*Hint:* Using the `cal_data` table, we want the `\"Gender\"` column to be our columns, and the `\"Admission\"` column to be our rows."
   ]
  },
  {
   "cell_type": "raw",
   "id": "2ab28c98-4d3d-467e-8db6-a76de3ed32c7",
   "metadata": {},
   "source": [
    "# BEGIN SOLUTION"
   ]
  },
  {
   "cell_type": "code",
   "execution_count": 4,
   "id": "c247bf02-b1b4-4da5-97d8-ae02b8e633b0",
   "metadata": {},
   "outputs": [
    {
     "data": {
      "text/html": [
       "<table border=\"1\" class=\"dataframe\">\n",
       "    <thead>\n",
       "        <tr>\n",
       "            <th>Gender</th> <th>Accepted</th> <th>Rejected</th>\n",
       "        </tr>\n",
       "    </thead>\n",
       "    <tbody>\n",
       "        <tr>\n",
       "            <td>F     </td> <td>1494    </td> <td>2827    </td>\n",
       "        </tr>\n",
       "        <tr>\n",
       "            <td>M     </td> <td>3738    </td> <td>4704    </td>\n",
       "        </tr>\n",
       "    </tbody>\n",
       "</table>"
      ],
      "text/plain": [
       "Gender | Accepted | Rejected\n",
       "F      | 1494     | 2827\n",
       "M      | 3738     | 4704"
      ]
     },
     "execution_count": 4,
     "metadata": {},
     "output_type": "execute_result"
    }
   ],
   "source": [
    "admission_f_m = cal_data.pivot('Admission', 'Gender') # SOLUTION\n",
    "admission_f_m"
   ]
  },
  {
   "cell_type": "raw",
   "id": "089bda4a-6e8c-473e-b6b7-549f56c4b25e",
   "metadata": {},
   "source": [
    "# END SOLUTION"
   ]
  },
  {
   "cell_type": "raw",
   "id": "f5e888c1-9fd9-4489-a9fa-4fd3239ad412",
   "metadata": {},
   "source": [
    "# BEGIN TESTS"
   ]
  },
  {
   "cell_type": "code",
   "execution_count": null,
   "id": "68296a05-5a49-4ab7-8ba2-3e4a7b2c9893",
   "metadata": {},
   "outputs": [],
   "source": []
  },
  {
   "cell_type": "raw",
   "id": "2a884348-2ce5-4e72-bddd-57080777275f",
   "metadata": {},
   "source": [
    "# END TESTS"
   ]
  },
  {
   "cell_type": "raw",
   "id": "52240448-9cb0-4565-bea0-6a437cc80fe2",
   "metadata": {},
   "source": [
    "# END QUESTION"
   ]
  },
  {
   "cell_type": "raw",
   "id": "77dac420-5e6c-4096-a1ab-d51ca8c9e9b1",
   "metadata": {},
   "source": [
    "# BEGIN QUESTION\n",
    "name: q2_3"
   ]
  },
  {
   "cell_type": "markdown",
   "id": "4c574b12-3063-4c0e-a7e1-1e4a19640521",
   "metadata": {},
   "source": [
    "### Question 2.3\n",
    "We want to manually add a new column called `\"Acceptance Rate\"` with values of acceptance rates for females and males to the `admission_f_m` table. Below, fill in the code to calculate the female and male acceptance rates, and from there, we supply the code that creates a new column with these rates. Acceptance rate should be calculated as accepted count divided by total count!\n",
    "\n",
    "*Hint:* You may find it helpful to use the `.column()` and `.item()` methods."
   ]
  },
  {
   "cell_type": "raw",
   "id": "e9b2068c-380e-4de8-95e0-7cb64509b6b9",
   "metadata": {},
   "source": [
    "# BEGIN SOLUTION"
   ]
  },
  {
   "cell_type": "code",
   "execution_count": 5,
   "id": "f6e4fd11-eefa-46b2-8cf5-c2d047c1bffb",
   "metadata": {},
   "outputs": [
    {
     "data": {
      "text/html": [
       "<table border=\"1\" class=\"dataframe\">\n",
       "    <thead>\n",
       "        <tr>\n",
       "            <th>Gender</th> <th>Accepted</th> <th>Rejected</th> <th>Acceptance Rate</th>\n",
       "        </tr>\n",
       "    </thead>\n",
       "    <tbody>\n",
       "        <tr>\n",
       "            <td>F     </td> <td>1494    </td> <td>2827    </td> <td>0.345753       </td>\n",
       "        </tr>\n",
       "        <tr>\n",
       "            <td>M     </td> <td>3738    </td> <td>4704    </td> <td>0.442786       </td>\n",
       "        </tr>\n",
       "    </tbody>\n",
       "</table>"
      ],
      "text/plain": [
       "Gender | Accepted | Rejected | Acceptance Rate\n",
       "F      | 1494     | 2827     | 0.345753\n",
       "M      | 3738     | 4704     | 0.442786"
      ]
     },
     "execution_count": 5,
     "metadata": {},
     "output_type": "execute_result"
    }
   ],
   "source": [
    "f_acceptance_rate = admission_f_m.column(\"Accepted\").item(0) / (admission_f_m.column(\"Accepted\").item(0) + admission_f_m.column(\"Rejected\").item(0)) # SOLUTION\n",
    "m_acceptance_rate = admission_f_m.column(\"Accepted\").item(1) / (admission_f_m.column(\"Accepted\").item(1) + admission_f_m.column(\"Rejected\").item(1)) # SOLUTION\n",
    "acceptance_rates = make_array(f_acceptance_rate, m_acceptance_rate)\n",
    "admission_f_m = admission_f_m.with_column(\"Acceptance Rate\",  acceptance_rates)\n",
    "admission_f_m"
   ]
  },
  {
   "cell_type": "raw",
   "id": "338a3ee6-8c29-4ef1-80bc-ba7e6d82e440",
   "metadata": {},
   "source": [
    "# END SOLUTION"
   ]
  },
  {
   "cell_type": "raw",
   "id": "33f9a7b8-3e47-449a-9f79-2943a42f42e7",
   "metadata": {},
   "source": [
    "# BEGIN TESTS"
   ]
  },
  {
   "cell_type": "code",
   "execution_count": null,
   "id": "dfe1198f-2f10-4f88-855b-7db3a3b83d93",
   "metadata": {},
   "outputs": [],
   "source": []
  },
  {
   "cell_type": "raw",
   "id": "6949b18e-6bbe-47a4-b2a2-09513e76e0a3",
   "metadata": {},
   "source": [
    "# END TESTS"
   ]
  },
  {
   "cell_type": "raw",
   "id": "21694d96-a648-4800-b7b5-a756e2e7788e",
   "metadata": {},
   "source": [
    "# END QUESTION"
   ]
  },
  {
   "cell_type": "raw",
   "id": "61df634b-760e-46d4-8b84-2b46deaae872",
   "metadata": {},
   "source": [
    "# BEGIN QUESTION\n",
    "name: q2_4"
   ]
  },
  {
   "cell_type": "markdown",
   "id": "92c280a1-efa4-47fc-9247-1c7a1c34c32e",
   "metadata": {},
   "source": [
    "### Question 2.4\n",
    "Using the adjusted `admission_f_m`, create a bar graph comparing the acceptance rate between female and male applicants. If you are stuck, consider taking a look at Lab 3 again!"
   ]
  },
  {
   "cell_type": "raw",
   "id": "639e2e9e-891d-4459-a347-65c4d5ba5e5b",
   "metadata": {},
   "source": [
    "# BEGIN SOLUTION"
   ]
  },
  {
   "cell_type": "code",
   "execution_count": 6,
   "id": "8228b79a-37d5-4bca-9a43-d33eabae60b9",
   "metadata": {},
   "outputs": [
    {
     "data": {
      "image/png": "[encoded data removed]",
      "text/plain": [
       "<Figure size 600x400 with 1 Axes>"
      ]
     },
     "metadata": {},
     "output_type": "display_data"
    }
   ],
   "source": [
    "admission_f_m.barh(\"Gender\", \"Acceptance Rate\") # SOLUTION"
   ]
  },
  {
   "cell_type": "raw",
   "id": "0dc584ac-1cef-4483-b1e4-1dc9d277cd26",
   "metadata": {},
   "source": [
    "# END SOLUTION"
   ]
  },
  {
   "cell_type": "raw",
   "id": "bdcd18d6-b3c2-4218-b8c4-45dfb2781e69",
   "metadata": {},
   "source": [
    "# BEGIN TESTS"
   ]
  },
  {
   "cell_type": "code",
   "execution_count": null,
   "id": "cfee2e3b-7f76-486c-8e2a-1f26f8483fc5",
   "metadata": {},
   "outputs": [],
   "source": []
  },
  {
   "cell_type": "raw",
   "id": "bceaff73-3248-4977-aa48-d6d991a67e4e",
   "metadata": {},
   "source": [
    "# END TESTS"
   ]
  },
  {
   "cell_type": "raw",
   "id": "5269ff11-b23a-498d-8fcf-14ab9461c8b6",
   "metadata": {},
   "source": [
    "# END QUESTION"
   ]
  },
  {
   "cell_type": "raw",
   "id": "e606935d-0245-4d6a-a986-05302e7a0d0a",
   "metadata": {},
   "source": [
    "# BEGIN QUESTION\n",
    "name: q2_5"
   ]
  },
  {
   "cell_type": "markdown",
   "id": "b0c47221-ce3e-4f63-bb07-c4c9d7a715de",
   "metadata": {},
   "source": [
    "### Question 2.5\n",
    "Which of the following most accurately describes the takeaway from the visualization created by `admission_f_m` above? You should answer the question by assigning `q2_5` to `make_array(...)` where `...` is the choice of your answer (eg. `make_array(3)`).\n",
    "\n",
    "1. Female applicants have higher chance of being accepted.\n",
    "2. Male applicants have higher chance of being accepted.\n",
    "3. Female and male applicants have the same amount chance of being accepted."
   ]
  },
  {
   "cell_type": "raw",
   "id": "f3ac1b1f-ba36-4d60-a3f9-fe50bdc3b6bd",
   "metadata": {},
   "source": [
    "# BEGIN SOLUTION"
   ]
  },
  {
   "cell_type": "code",
   "execution_count": null,
   "id": "3ea96112-ae91-4ab2-97d0-a7558dba5777",
   "metadata": {},
   "outputs": [],
   "source": [
    "q2_5 = make_array(2) # SOLUTION"
   ]
  },
  {
   "cell_type": "raw",
   "id": "2f949a72-431d-4d95-89f0-18ce3c58d41a",
   "metadata": {},
   "source": [
    "# END SOLUTION"
   ]
  },
  {
   "cell_type": "raw",
   "id": "458443a5-56f6-4593-9e75-2dc6488d855b",
   "metadata": {},
   "source": [
    "# BEGIN TESTS"
   ]
  },
  {
   "cell_type": "code",
   "execution_count": null,
   "id": "3153bbae-8ff3-403d-9c31-a2a2553ad462",
   "metadata": {},
   "outputs": [],
   "source": []
  },
  {
   "cell_type": "raw",
   "id": "94aa7455-d75b-4a3f-a2d5-99d3b6327fc5",
   "metadata": {},
   "source": [
    "# END TESTS"
   ]
  },
  {
   "cell_type": "raw",
   "id": "e57988a9-7165-4448-9ca7-0ab86748b99d",
   "metadata": {},
   "source": [
    "# END QUESTION"
   ]
  },
  {
   "cell_type": "markdown",
   "id": "35d4eb62-116f-4202-a263-e72735b2af7a",
   "metadata": {},
   "source": [
    "We see by simply utilizing `\"Gender\"` and `\"Admission\"` to calculate overall acceptance rates for graduate admissions, the male acceptance rate seems to be higher than the female acceptance rate. However, besides `\"Gender\"` and `\"Admission\"`, there was a third column in this table: `\"Major\"`. Let's investigate how the major will take into play with admission rate between these two recorded gender. (How \"grouping\" by major as described in Simpson's Paradox will affect the applicants' acceptance rate by gender).\n",
    "\n",
    "Below, we'll be creating two different tables to analyze the (1) acceptance rates and (2) number of applicants, split by sex, to each major group. The work we'll need to do with `.group()` and `.pivot()` to create these tables is a bit more complex than what we've seen before, so let's break it down into smaller steps. We'll start by defining a function that calculates the acceptance rate. "
   ]
  },
  {
   "cell_type": "raw",
   "id": "a22049f8-013e-4851-9f6d-deca2fa4c3a3",
   "metadata": {},
   "source": [
    "# BEGIN QUESTION\n",
    "name: q2_6"
   ]
  },
  {
   "cell_type": "markdown",
   "id": "cc3919a6-19a7-4e10-a84b-a3c9b4b6b9de",
   "metadata": {},
   "source": [
    "### Question 2.6\n",
    "Performing pivot to create application count by sex and major table"
   ]
  },
  {
   "cell_type": "raw",
   "id": "e748a244-83a2-4dda-bf18-834f8d4d78a1",
   "metadata": {},
   "source": [
    "# BEGIN SOLUTION"
   ]
  },
  {
   "cell_type": "code",
   "execution_count": 7,
   "id": "1e0c7c8c-0bac-4c4b-acd4-b5ed79aed5cf",
   "metadata": {},
   "outputs": [
    {
     "data": {
      "text/html": [
       "<table border=\"1\" class=\"dataframe\">\n",
       "    <thead>\n",
       "        <tr>\n",
       "            <th>Major</th> <th>F Application Count</th> <th>M Application Count</th>\n",
       "        </tr>\n",
       "    </thead>\n",
       "    <tbody>\n",
       "        <tr>\n",
       "            <td>A    </td> <td>108                </td> <td>1138               </td>\n",
       "        </tr>\n",
       "        <tr>\n",
       "            <td>B    </td> <td>25                 </td> <td>560                </td>\n",
       "        </tr>\n",
       "        <tr>\n",
       "            <td>C    </td> <td>593                </td> <td>325                </td>\n",
       "        </tr>\n",
       "        <tr>\n",
       "            <td>D    </td> <td>375                </td> <td>417                </td>\n",
       "        </tr>\n",
       "        <tr>\n",
       "            <td>E    </td> <td>393                </td> <td>191                </td>\n",
       "        </tr>\n",
       "        <tr>\n",
       "            <td>F    </td> <td>341                </td> <td>373                </td>\n",
       "        </tr>\n",
       "        <tr>\n",
       "            <td>Other</td> <td>2486               </td> <td>5438               </td>\n",
       "        </tr>\n",
       "    </tbody>\n",
       "</table>"
      ],
      "text/plain": [
       "Major | F Application Count | M Application Count\n",
       "A     | 108                 | 1138\n",
       "B     | 25                  | 560\n",
       "C     | 593                 | 325\n",
       "D     | 375                 | 417\n",
       "E     | 393                 | 191\n",
       "F     | 341                 | 373\n",
       "Other | 2486                | 5438"
      ]
     },
     "execution_count": 7,
     "metadata": {},
     "output_type": "execute_result"
    }
   ],
   "source": [
    "num_applicants = cal_data.pivot('Gender', 'Major') # SOLUTION\n",
    "num_applicants = num_applicants.relabeled(['F', 'M'], ['F Application Count', 'M Application Count'])\n",
    "num_applicants"
   ]
  },
  {
   "cell_type": "raw",
   "id": "8bfeb75a-2a00-475b-86a5-59e101ca1fba",
   "metadata": {},
   "source": [
    "# END SOLUTION"
   ]
  },
  {
   "cell_type": "raw",
   "id": "0b09a198-2c52-4520-898d-5c316286e4eb",
   "metadata": {},
   "source": [
    "# BEGIN TESTS"
   ]
  },
  {
   "cell_type": "code",
   "execution_count": null,
   "id": "d808e170-2d9e-444c-8457-f5972c81687f",
   "metadata": {},
   "outputs": [],
   "source": []
  },
  {
   "cell_type": "raw",
   "id": "6fa1ecef-d0da-409f-b3bf-c08838f3b0b8",
   "metadata": {},
   "source": [
    "# END TESTS"
   ]
  },
  {
   "cell_type": "raw",
   "id": "d6be3acb-3b6c-4a3b-9be1-6374a39a7a7f",
   "metadata": {},
   "source": [
    "# END QUESTION"
   ]
  },
  {
   "cell_type": "raw",
   "id": "7b73b502-1201-44d5-83b9-40e4e243d578",
   "metadata": {},
   "source": [
    "# BEGIN QUESTION\n",
    "name: q2_7"
   ]
  },
  {
   "cell_type": "markdown",
   "id": "5d33695d-e200-4300-b558-7e89ca3d792c",
   "metadata": {},
   "source": [
    "### Question 2.7\n",
    "Defining acceptance rate function, to be plugged into collect argument"
   ]
  },
  {
   "cell_type": "raw",
   "id": "8421218f-3e4e-46c3-9d6a-5df041313e71",
   "metadata": {},
   "source": [
    "# BEGIN SOLUTION"
   ]
  },
  {
   "cell_type": "code",
   "execution_count": 23,
   "id": "f3443344-33f9-4e05-97c8-ed5c69d07b0b",
   "metadata": {},
   "outputs": [],
   "source": [
    "def acceptance_rate(arr):\n",
    "    temp_table = Table().with_columns('Admission', arr)\n",
    "    accepted_only = temp_table.where('Admission', 'Accepted') # SOLUTION\n",
    "    num_accepted = accepted_only.num_rows # SOLUTION\n",
    "    return num_accepted / len(arr)"
   ]
  },
  {
   "cell_type": "raw",
   "id": "fcbd1ebd-3591-47fa-beb7-ab4f97695a50",
   "metadata": {},
   "source": [
    "# END SOLUTION"
   ]
  },
  {
   "cell_type": "raw",
   "id": "d4023410-3830-455b-93c0-3af273c7b24b",
   "metadata": {},
   "source": [
    "# BEGIN TESTS"
   ]
  },
  {
   "cell_type": "code",
   "execution_count": null,
   "id": "7a083af5-41b9-4809-84d6-add558da65fd",
   "metadata": {},
   "outputs": [],
   "source": []
  },
  {
   "cell_type": "raw",
   "id": "4ad41146-dbc3-435b-b768-8f5bfeaf0b4a",
   "metadata": {},
   "source": [
    "# END TESTS"
   ]
  },
  {
   "cell_type": "raw",
   "id": "a278e793-4ffb-4407-b66e-9a016e34c85e",
   "metadata": {},
   "source": [
    "# END QUESTION"
   ]
  },
  {
   "cell_type": "raw",
   "id": "72603281-214c-416e-a47a-d57c9c9949b2",
   "metadata": {},
   "source": [
    "# BEGIN QUESTION\n",
    "name: q2_8"
   ]
  },
  {
   "cell_type": "markdown",
   "id": "348d7823-ad94-4599-9b13-e129f9e495ce",
   "metadata": {},
   "source": [
    "### Question 2.8\n",
    "Performing pivot on cal_data using acceptance_rate function"
   ]
  },
  {
   "cell_type": "raw",
   "id": "4ecff05b-d220-4cc3-8b66-70fa41c6d18b",
   "metadata": {},
   "source": [
    "# BEGIN SOLUTION"
   ]
  },
  {
   "cell_type": "code",
   "execution_count": 24,
   "id": "5cf36550-77c8-4aeb-9d4c-c334f2e02241",
   "metadata": {},
   "outputs": [
    {
     "data": {
      "text/html": [
       "<table border=\"1\" class=\"dataframe\">\n",
       "    <thead>\n",
       "        <tr>\n",
       "            <th>Major</th> <th>F Acceptance Rate</th> <th>M Acceptance Rate</th>\n",
       "        </tr>\n",
       "    </thead>\n",
       "    <tbody>\n",
       "        <tr>\n",
       "            <td>A    </td> <td>0.824074         </td> <td>0.724956         </td>\n",
       "        </tr>\n",
       "        <tr>\n",
       "            <td>B    </td> <td>0.68             </td> <td>0.630357         </td>\n",
       "        </tr>\n",
       "        <tr>\n",
       "            <td>C    </td> <td>0.338954         </td> <td>0.369231         </td>\n",
       "        </tr>\n",
       "        <tr>\n",
       "            <td>D    </td> <td>0.349333         </td> <td>0.330935         </td>\n",
       "        </tr>\n",
       "        <tr>\n",
       "            <td>E    </td> <td>0.239186         </td> <td>0.277487         </td>\n",
       "        </tr>\n",
       "        <tr>\n",
       "            <td>F    </td> <td>0.0733138        </td> <td>0.0589812        </td>\n",
       "        </tr>\n",
       "        <tr>\n",
       "            <td>Other</td> <td>0.376911         </td> <td>0.409526         </td>\n",
       "        </tr>\n",
       "    </tbody>\n",
       "</table>"
      ],
      "text/plain": [
       "Major | F Acceptance Rate | M Acceptance Rate\n",
       "A     | 0.824074          | 0.724956\n",
       "B     | 0.68              | 0.630357\n",
       "C     | 0.338954          | 0.369231\n",
       "D     | 0.349333          | 0.330935\n",
       "E     | 0.239186          | 0.277487\n",
       "F     | 0.0733138         | 0.0589812\n",
       "Other | 0.376911          | 0.409526"
      ]
     },
     "execution_count": 24,
     "metadata": {},
     "output_type": "execute_result"
    }
   ],
   "source": [
    "admission_major = cal_data.pivot('Gender', 'Major', collect = acceptance_rate, values = 'Admission') # SOLUTION\n",
    "admission_major = admission_major.relabeled(['F', 'M'], ['F Acceptance Rate', 'M Acceptance Rate'])\n",
    "admission_major"
   ]
  },
  {
   "cell_type": "raw",
   "id": "93e8cc90-cea1-4ed9-89ee-cb58b37170a3",
   "metadata": {},
   "source": [
    "# END SOLUTION"
   ]
  },
  {
   "cell_type": "raw",
   "id": "e27527fb-eb41-44cb-9482-b3a9b69ecb1c",
   "metadata": {},
   "source": [
    "# BEGIN TESTS"
   ]
  },
  {
   "cell_type": "code",
   "execution_count": null,
   "id": "b42e2720-632f-4e89-a7f1-1c74a57af759",
   "metadata": {},
   "outputs": [],
   "source": []
  },
  {
   "cell_type": "raw",
   "id": "96f4120f-053f-482c-9159-ca5a76aac976",
   "metadata": {},
   "source": [
    "# END TESTS"
   ]
  },
  {
   "cell_type": "raw",
   "id": "e8ae7476-a1eb-41f5-8664-c9e174646498",
   "metadata": {},
   "source": [
    "# END QUESTION"
   ]
  },
  {
   "cell_type": "raw",
   "id": "d9308ebb-bcc2-49b9-be4f-3ae3090a9a2e",
   "metadata": {},
   "source": [
    "# BEGIN QUESTION\n",
    "name: q2_9\n",
    "manual: true"
   ]
  },
  {
   "cell_type": "markdown",
   "id": "ef7e3611-a0a8-4dd6-a17c-b92558251d16",
   "metadata": {},
   "source": [
    "### Question 2.9\n",
    "Using `admission_major` and `num_counts`, create two separate overlaid bar charts. The first one will plot the number of applicants of males and females across the six majors, and the second will plot their acceptance rates in the majors."
   ]
  },
  {
   "cell_type": "raw",
   "id": "ebd36acb-e016-4bd6-adc8-cc07eae5922b",
   "metadata": {},
   "source": [
    "# BEGIN SOLUTION"
   ]
  },
  {
   "cell_type": "code",
   "execution_count": 10,
   "id": "5fe7b6d3-766e-4e85-aba2-3959e27ca3aa",
   "metadata": {},
   "outputs": [
    {
     "data": {
      "image/png": "[encoded data removed]",
      "text/plain": [
       "<Figure size 600x400 with 1 Axes>"
      ]
     },
     "metadata": {},
     "output_type": "display_data"
    },
    {
     "data": {
      "image/png": "[encoded data removed]",
      "text/plain": [
       "<Figure size 600x400 with 1 Axes>"
      ]
     },
     "metadata": {},
     "output_type": "display_data"
    }
   ],
   "source": [
    "admission_major.bar('Major', overlay = True) # SOLUTION\n",
    "num_applicants.bar('Major') # SOLUTION"
   ]
  },
  {
   "cell_type": "raw",
   "id": "e1749b3b-1a9e-4c49-97f7-441c0f3becaf",
   "metadata": {},
   "source": [
    "# END SOLUTION"
   ]
  },
  {
   "cell_type": "raw",
   "id": "6ab84357-47f0-4c62-8058-c39a209955f8",
   "metadata": {},
   "source": [
    "# BEGIN TESTS"
   ]
  },
  {
   "cell_type": "code",
   "execution_count": null,
   "id": "d2726434-10db-422d-9a9b-616fa24ec50f",
   "metadata": {},
   "outputs": [],
   "source": []
  },
  {
   "cell_type": "raw",
   "id": "8d1af30f-97d4-4067-9b1b-bfc573c799bf",
   "metadata": {},
   "source": [
    "# END TESTS "
   ]
  },
  {
   "cell_type": "raw",
   "id": "9ce7a44c-6664-4445-9e71-bd3af964be53",
   "metadata": {},
   "source": [
    "# END QUESTION"
   ]
  },
  {
   "cell_type": "raw",
   "id": "4b9de789-1415-4a8a-8842-dea26e50f41d",
   "metadata": {},
   "source": [
    "# BEGIN QUESTION\n",
    "name: q2_10"
   ]
  },
  {
   "cell_type": "markdown",
   "id": "896875a8-cc17-4741-a6b7-f050671310b3",
   "metadata": {},
   "source": [
    "### Question 2.10\n",
    "Which of the following multiple choice correctly describes *the visualization created above* with `admission_major` and `num_applicants`? You should answer the question by assigning `q2_10` to `make_array(...)` where `...` is the choice of your answer (eg. `make_array(3, 4)`). There can be multiple correct answers.\n",
    "\n",
    "1. Among the 6 different majors (not including `\"Other\"`, female applicants have a slightly higher chance of being accepted than male applicants in several majors\n",
    "2. Among the 6 different majors (not including `\"Other\"`), male applicants have a slightly higher chance of being accepted than female applicants in several majors.\n",
    "3. Overall, female applicants has higher chance of getting in to UC Berkeley.\n",
    "4. Overall, male applicants has higher chance of getting in to UC Berkeley. \n",
    "5. There seems to be **higher female applicants** to the major when there are **lower female acceptance rate** compared to male acceptance rate.  \n",
    "6. With the visualizatoin above, we can claim there is structrual inequity against female women applicants. "
   ]
  },
  {
   "cell_type": "raw",
   "id": "8681ff68-4b5e-49b2-85a2-2cc90cf01311",
   "metadata": {},
   "source": [
    "# BEGIN SOLUTION"
   ]
  },
  {
   "cell_type": "code",
   "execution_count": null,
   "id": "142e1b95-9c69-4b80-8d85-9a060c3c03d5",
   "metadata": {},
   "outputs": [],
   "source": [
    "q2_10 = make_array(1, 5) # SOLUTION"
   ]
  },
  {
   "cell_type": "raw",
   "id": "706dd621-a088-4d14-b83a-a49ca8ca5089",
   "metadata": {},
   "source": [
    "# END SOLUTION"
   ]
  },
  {
   "cell_type": "raw",
   "id": "8d615759-95e4-4e4e-8414-00e9f2f83d5a",
   "metadata": {},
   "source": [
    "# BEGIN TESTS"
   ]
  },
  {
   "cell_type": "code",
   "execution_count": null,
   "id": "1ad8cabd-9032-421a-a359-7647689ee805",
   "metadata": {},
   "outputs": [],
   "source": []
  },
  {
   "cell_type": "raw",
   "id": "96dd6fca-e181-4940-bebe-3d53ab83e50a",
   "metadata": {},
   "source": [
    "# END TESTS"
   ]
  },
  {
   "cell_type": "raw",
   "id": "73425555-22fe-40cd-b64f-d750af1af9e7",
   "metadata": {},
   "source": [
    "# END QUESTION"
   ]
  },
  {
   "cell_type": "markdown",
   "id": "a9b086c0-d4fb-4ed0-85fc-1d01d229b598",
   "metadata": {},
   "source": [
    "<hr style=\"border: 5px solid #003262;\" />\n",
    "<hr style=\"border: 1px solid #fdb515;\" />\n",
    "\n",
    "## Part 3: Diving Deeper Into the Data"
   ]
  },
  {
   "cell_type": "markdown",
   "id": "5855e52b-2c81-4100-a358-be2a0eba5cf4",
   "metadata": {},
   "source": [
    "This section is for students to apply some table functions in order to recreate a similar visualization to Figure 1 in the Bickel et al. paper\n",
    "\n",
    "**TODO:** Write up the text walkthrough and integrate the questions for this section; could have questions based on pivot, join, other table methods"
   ]
  },
  {
   "cell_type": "code",
   "execution_count": 17,
   "id": "04b5e1b3-5310-40b9-893d-41b010815c74",
   "metadata": {},
   "outputs": [
    {
     "data": {
      "text/html": [
       "<table border=\"1\" class=\"dataframe\">\n",
       "    <thead>\n",
       "        <tr>\n",
       "            <th>Major</th> <th>Accepted</th> <th>Rejected</th> <th>Ratio Admitted</th>\n",
       "        </tr>\n",
       "    </thead>\n",
       "    <tbody>\n",
       "        <tr>\n",
       "            <td>A    </td> <td>914     </td> <td>332     </td> <td>0.733547      </td>\n",
       "        </tr>\n",
       "        <tr>\n",
       "            <td>B    </td> <td>370     </td> <td>215     </td> <td>0.632479      </td>\n",
       "        </tr>\n",
       "        <tr>\n",
       "            <td>C    </td> <td>321     </td> <td>597     </td> <td>0.349673      </td>\n",
       "        </tr>\n",
       "        <tr>\n",
       "            <td>D    </td> <td>269     </td> <td>523     </td> <td>0.339646      </td>\n",
       "        </tr>\n",
       "        <tr>\n",
       "            <td>E    </td> <td>147     </td> <td>437     </td> <td>0.251712      </td>\n",
       "        </tr>\n",
       "        <tr>\n",
       "            <td>F    </td> <td>47      </td> <td>667     </td> <td>0.0658263     </td>\n",
       "        </tr>\n",
       "        <tr>\n",
       "            <td>Other</td> <td>3164    </td> <td>4760    </td> <td>0.399293      </td>\n",
       "        </tr>\n",
       "    </tbody>\n",
       "</table>"
      ],
      "text/plain": [
       "Major | Accepted | Rejected | Ratio Admitted\n",
       "A     | 914      | 332      | 0.733547\n",
       "B     | 370      | 215      | 0.632479\n",
       "C     | 321      | 597      | 0.349673\n",
       "D     | 269      | 523      | 0.339646\n",
       "E     | 147      | 437      | 0.251712\n",
       "F     | 47       | 667      | 0.0658263\n",
       "Other | 3164     | 4760     | 0.399293"
      ]
     },
     "execution_count": 17,
     "metadata": {},
     "output_type": "execute_result"
    }
   ],
   "source": [
    "percent_admit_test = cal_data.pivot('Admission', 'Major')\n",
    "percent_admit_array = percent_admit_test.column('Accepted') / (percent_admit_test.column('Accepted') + percent_admit_test.column('Rejected'))\n",
    "percent_admit_test = percent_admit_test.with_column('Ratio Admitted', percent_admit_array)\n",
    "percent_admit_test"
   ]
  },
  {
   "cell_type": "code",
   "execution_count": 18,
   "id": "0d11112f-a425-4ddb-ad40-a978b617888a",
   "metadata": {},
   "outputs": [
    {
     "data": {
      "text/html": [
       "<table border=\"1\" class=\"dataframe\">\n",
       "    <thead>\n",
       "        <tr>\n",
       "            <th>Major</th> <th>F Application Count</th> <th>M Application Count</th> <th>Ratio Female Applicants</th>\n",
       "        </tr>\n",
       "    </thead>\n",
       "    <tbody>\n",
       "        <tr>\n",
       "            <td>A    </td> <td>108                </td> <td>1138               </td> <td>0.0866774              </td>\n",
       "        </tr>\n",
       "        <tr>\n",
       "            <td>B    </td> <td>25                 </td> <td>560                </td> <td>0.042735               </td>\n",
       "        </tr>\n",
       "        <tr>\n",
       "            <td>C    </td> <td>593                </td> <td>325                </td> <td>0.645969               </td>\n",
       "        </tr>\n",
       "        <tr>\n",
       "            <td>D    </td> <td>375                </td> <td>417                </td> <td>0.473485               </td>\n",
       "        </tr>\n",
       "        <tr>\n",
       "            <td>E    </td> <td>393                </td> <td>191                </td> <td>0.672945               </td>\n",
       "        </tr>\n",
       "        <tr>\n",
       "            <td>F    </td> <td>341                </td> <td>373                </td> <td>0.477591               </td>\n",
       "        </tr>\n",
       "        <tr>\n",
       "            <td>Other</td> <td>2486               </td> <td>5438               </td> <td>0.31373                </td>\n",
       "        </tr>\n",
       "    </tbody>\n",
       "</table>"
      ],
      "text/plain": [
       "Major | F Application Count | M Application Count | Ratio Female Applicants\n",
       "A     | 108                 | 1138                | 0.0866774\n",
       "B     | 25                  | 560                 | 0.042735\n",
       "C     | 593                 | 325                 | 0.645969\n",
       "D     | 375                 | 417                 | 0.473485\n",
       "E     | 393                 | 191                 | 0.672945\n",
       "F     | 341                 | 373                 | 0.477591\n",
       "Other | 2486                | 5438                | 0.31373"
      ]
     },
     "execution_count": 18,
     "metadata": {},
     "output_type": "execute_result"
    }
   ],
   "source": [
    "percent_female_array = num_applicants.column('F Application Count') / (num_applicants.column('F Application Count') + num_applicants.column('M Application Count'))\n",
    "num_applicants_test = num_applicants.with_column('Ratio Female Applicants', percent_female_array)\n",
    "num_applicants_test"
   ]
  },
  {
   "cell_type": "code",
   "execution_count": 19,
   "id": "ea6038eb-9b82-4bc3-a197-be5a753cb3eb",
   "metadata": {},
   "outputs": [
    {
     "data": {
      "text/html": [
       "<table border=\"1\" class=\"dataframe\">\n",
       "    <thead>\n",
       "        <tr>\n",
       "            <th>Major</th> <th>Accepted</th> <th>Rejected</th> <th>Ratio Admitted</th> <th>F Application Count</th> <th>M Application Count</th> <th>Ratio Female Applicants</th> <th>Number Applicants</th>\n",
       "        </tr>\n",
       "    </thead>\n",
       "    <tbody>\n",
       "        <tr>\n",
       "            <td>A    </td> <td>914     </td> <td>332     </td> <td>0.733547      </td> <td>108                </td> <td>1138               </td> <td>0.0866774              </td> <td>1246             </td>\n",
       "        </tr>\n",
       "        <tr>\n",
       "            <td>B    </td> <td>370     </td> <td>215     </td> <td>0.632479      </td> <td>25                 </td> <td>560                </td> <td>0.042735               </td> <td>585              </td>\n",
       "        </tr>\n",
       "        <tr>\n",
       "            <td>C    </td> <td>321     </td> <td>597     </td> <td>0.349673      </td> <td>593                </td> <td>325                </td> <td>0.645969               </td> <td>918              </td>\n",
       "        </tr>\n",
       "        <tr>\n",
       "            <td>D    </td> <td>269     </td> <td>523     </td> <td>0.339646      </td> <td>375                </td> <td>417                </td> <td>0.473485               </td> <td>792              </td>\n",
       "        </tr>\n",
       "        <tr>\n",
       "            <td>E    </td> <td>147     </td> <td>437     </td> <td>0.251712      </td> <td>393                </td> <td>191                </td> <td>0.672945               </td> <td>584              </td>\n",
       "        </tr>\n",
       "        <tr>\n",
       "            <td>F    </td> <td>47      </td> <td>667     </td> <td>0.0658263     </td> <td>341                </td> <td>373                </td> <td>0.477591               </td> <td>714              </td>\n",
       "        </tr>\n",
       "        <tr>\n",
       "            <td>Other</td> <td>3164    </td> <td>4760    </td> <td>0.399293      </td> <td>2486               </td> <td>5438               </td> <td>0.31373                </td> <td>7924             </td>\n",
       "        </tr>\n",
       "    </tbody>\n",
       "</table>"
      ],
      "text/plain": [
       "Major | Accepted | Rejected | Ratio Admitted | F Application Count | M Application Count | Ratio Female Applicants | Number Applicants\n",
       "A     | 914      | 332      | 0.733547       | 108                 | 1138                | 0.0866774               | 1246\n",
       "B     | 370      | 215      | 0.632479       | 25                  | 560                 | 0.042735                | 585\n",
       "C     | 321      | 597      | 0.349673       | 593                 | 325                 | 0.645969                | 918\n",
       "D     | 269      | 523      | 0.339646       | 375                 | 417                 | 0.473485                | 792\n",
       "E     | 147      | 437      | 0.251712       | 393                 | 191                 | 0.672945                | 584\n",
       "F     | 47       | 667      | 0.0658263      | 341                 | 373                 | 0.477591                | 714\n",
       "Other | 3164     | 4760     | 0.399293       | 2486                | 5438                | 0.31373                 | 7924"
      ]
     },
     "execution_count": 19,
     "metadata": {},
     "output_type": "execute_result"
    }
   ],
   "source": [
    "fig1_test = percent_admit_test.join('Major', num_applicants_test)\n",
    "fig1_test = fig1_test.with_column('Number Applicants', fig1_test.column('Accepted') + fig1_test.column('Rejected'))\n",
    "fig1_test"
   ]
  },
  {
   "cell_type": "code",
   "execution_count": 20,
   "id": "9465724f-824e-42b5-b193-56294a517561",
   "metadata": {},
   "outputs": [
    {
     "data": {
      "image/png": "[encoded data removed]",
      "text/plain": [
       "<Figure size 640x480 with 1 Axes>"
      ]
     },
     "metadata": {},
     "output_type": "display_data"
    }
   ],
   "source": [
    "fig1_df = fig1_test.to_df()\n",
    "plt.scatter(data = fig1_df, x = 'Ratio Female Applicants', y = 'Ratio Admitted', sizes = fig1_df['Number Applicants'] / 10, marker = 's', facecolors = 'none', edgecolors = 'red');\n",
    "plt.xlabel('Ratio Female Applicants');\n",
    "plt.ylabel('Ratio Admitted');\n",
    "plt.title('Ratio Female Applicants vs. Ratio Admitted for the 7 Major Categories');"
   ]
  },
  {
   "cell_type": "markdown",
   "id": "7f64126e-2009-4b39-9aed-6500f919fb48",
   "metadata": {},
   "source": [
    "<hr style=\"border: 5px solid #003262;\" />\n",
    "<hr style=\"border: 1px solid #fdb515;\" />\n",
    "\n",
    "## Part 4: Grounding Analysis in Social Theory"
   ]
  },
  {
   "cell_type": "markdown",
   "id": "bf303bda-67dc-41ed-8844-0bfb11883ee2",
   "metadata": {},
   "source": [
    "### Thinking about Implications 🤔"
   ]
  },
  {
   "cell_type": "raw",
   "id": "48b5ea30-3d12-439a-8196-61978dc5972c",
   "metadata": {},
   "source": [
    "# BEGIN QUESTION\n",
    "name: q4_1\n",
    "manual: true"
   ]
  },
  {
   "cell_type": "markdown",
   "id": "64d25dc7-dd0d-4ce5-b16f-ba635c228bde",
   "metadata": {},
   "source": [
    "### Question 4.1 (Discussion)\n",
    "Consider the takeaways that you had after looking at the different visualizations you created in **Questions 2.4 and 2.6**. Based on what we've discussed regarding the various sociological paradigms, how do you think these conclusions best align with the paradigms? As a reminder, here are some brief summaries describing the four paradigms we looked at:\n",
    "* **Structural Functionalism:** society is a collection of interrelated parts that come together to form a whole, and the goal is the survival and stability of the social system.\n",
    "* **Conflict:** society is a collection of competing interests, and the theory focuses on understanding the relationships (coercion, domination, etc.) between the powerful vs. less-powerful social groups.\n",
    "* **Rational Choice:** society is comprised of logical individuals making decisions that maximize self-interest, and the theory considers to what extent certain choices benefit individuals or society.\n",
    "* **Symbolic Interactionism:** society plays out in face-to-face interactions, and the theory focuses on understanding how symbols and representations occur in small groups and reflect across society.\n",
    "\n",
    "*Hint:* The conclusions might not line up perfectly with any one of the paradigms! Just feel free to reflect on which ones they might line up best or worst with. "
   ]
  },
  {
   "cell_type": "raw",
   "id": "26a4ab40-e0f2-47c9-968c-48bebba43790",
   "metadata": {},
   "source": [
    "# BEGIN SOLUTION"
   ]
  },
  {
   "cell_type": "markdown",
   "id": "68f6f991-69d4-4e46-8904-f43c95a5a8e5",
   "metadata": {},
   "source": [
    "**SOLUTION:** The takeaway from the visualization in Question 2.4 likely best aligns with the conflict paradigm, as the consideration of calculating the aggregated average of males vs. females is primarily meant to explore the difference between the more \"powerful\" vs. less \"powerful\" gender groups in higher education. The takeaway from the visualization in Question 2.6 has aspects of the rational choice and symbolic interactionism paradigms, as it looks into which majors the different gender groups are choosing to apply to and how these decisions might be the best for them. It also breaks down the aggregated admission rates to look at the individuals at a lower, less aggregated level, in order to explore how the acceptance rates are varying by major."
   ]
  },
  {
   "cell_type": "raw",
   "id": "2eb13099-3567-432d-b20e-8293fcac378f",
   "metadata": {},
   "source": [
    "# END SOLUTION"
   ]
  },
  {
   "cell_type": "raw",
   "id": "b36ef60b-e6d7-4fe9-bd97-1d2b8ea4beae",
   "metadata": {},
   "source": [
    "# END QUESTION"
   ]
  },
  {
   "cell_type": "raw",
   "id": "0d2c6d43-2cf4-4f23-8030-b047ec81731d",
   "metadata": {},
   "source": [
    "# BEGIN QUESTION\n",
    "name: q4_2\n",
    "manual: true"
   ]
  },
  {
   "cell_type": "markdown",
   "id": "54dbf2dc-6329-4839-83e1-9965d190d6c3",
   "metadata": {},
   "source": [
    "### Question 4.2 (Discussion) \n",
    "A media company wants to make a report on UC Berkeley admissions. What would happen if they ONLY report with the visualization you created in **`Question 2.4`**? How would this report potentially impact the society we see today?"
   ]
  },
  {
   "cell_type": "raw",
   "id": "d9cbcbbd-dcbd-485e-9971-0f413284d372",
   "metadata": {},
   "source": [
    "# BEGIN SOLUTION"
   ]
  },
  {
   "cell_type": "markdown",
   "id": "1efe89cd-3ee8-4902-868b-2f2fef45523b",
   "metadata": {},
   "source": [
    "**SOLUTION:** Answer may vary. If we only report the first visualization we created, we will be creating a false narrative to an extent about systemic bias against female applicants. This can discourage some male applicants leading to further drastic acceptance rate. Or change the school policy / logistics if more audience pressures the school to take action based on the wrong analysis. Thus, whether it is leaving out certain visualizations or not recognizing certain phenomenon, data analysis can be malpracticed."
   ]
  },
  {
   "cell_type": "raw",
   "id": "0048a168-322e-4bb4-af06-c68fffe8bd66",
   "metadata": {},
   "source": [
    "# END SOLUTION"
   ]
  },
  {
   "cell_type": "raw",
   "id": "a0875028-456d-419c-a7b0-2fb1a5cf1770",
   "metadata": {},
   "source": [
    "# END QUESTION"
   ]
  },
  {
   "cell_type": "raw",
   "id": "e32ff3d7-9725-4256-a162-a183faf80f85",
   "metadata": {},
   "source": [
    "# BEGIN QUESTION\n",
    "name: q4_3\n",
    "manual: true"
   ]
  },
  {
   "cell_type": "markdown",
   "id": "287dc8ee-02b8-40dc-aee3-9e963e935306",
   "metadata": {},
   "source": [
    "### Question 4.3 (Final Reflection)"
   ]
  },
  {
   "cell_type": "raw",
   "id": "f49a1f71-d026-4de4-8b88-7a92868b01b0",
   "metadata": {},
   "source": [
    "# BEGIN SOLUTION"
   ]
  },
  {
   "cell_type": "markdown",
   "id": "b81053ba-5de5-421d-937f-2c1a46578ece",
   "metadata": {},
   "source": [
    "**SOLUTION:** Answer will vary. Student's response should indicate some understanding of ways in which the wrong conclusion can be drawn when not enough care is taken for proper data exploration and visualization. Student can also reflect on societal impacts of these incorrect conclusions being drawn."
   ]
  },
  {
   "cell_type": "raw",
   "id": "c75f2ae2-4df6-4aeb-8559-979b64411fab",
   "metadata": {},
   "source": [
    "# END SOLUTION"
   ]
  },
  {
   "cell_type": "raw",
   "id": "d2375c48-aee2-49f9-a9ef-c3d42e3a67d6",
   "metadata": {},
   "source": [
    "# END QUESTION"
   ]
  },
  {
   "cell_type": "markdown",
   "id": "ce98a085-9924-4b00-92af-0fa7ebafb097",
   "metadata": {},
   "source": [
    "---\n",
    "## Done! 😇\n",
    "\n",
    "That's it! There's nowhere for you to submit this, as labs are not assignments. However, please ask any questions you have with this notebook in lab or on Ed.\n",
    "\n",
    "There are no extra problems this week, good luck with the homework!"
   ]
  },
  {
   "cell_type": "markdown",
   "id": "2c8aba47-e313-4fe7-903c-5c9fa6e5330b",
   "metadata": {},
   "source": [
    "---\n",
    "\n",
    "To double-check your work, the cell below will rerun all of the autograder tests."
   ]
  },
  {
   "cell_type": "code",
   "execution_count": null,
   "id": "acaf60f5-a737-4b7e-9b01-c742097ec8b7",
   "metadata": {},
   "outputs": [],
   "source": [
    "grader.check_all()"
   ]
  }
 ],
 "metadata": {
  "kernelspec": {
   "display_name": "Python 3 (ipykernel)",
   "language": "python",
   "name": "python3"
  },
  "language_info": {
   "codemirror_mode": {
    "name": "ipython",
    "version": 3
   },
   "file_extension": ".py",
   "mimetype": "text/x-python",
   "name": "python",
   "nbconvert_exporter": "python",
   "pygments_lexer": "ipython3",
   "version": "3.11.9"
  }
 },
 "nbformat": 4,
 "nbformat_minor": 5
}
