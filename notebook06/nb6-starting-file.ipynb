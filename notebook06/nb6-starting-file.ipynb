{
 "cells": [
  {
   "cell_type": "raw",
   "id": "3b089a40-141a-4a76-9ff0-1ecb7f484142",
   "metadata": {},
   "source": [
    "# ASSIGNMENT CONFIG\n",
    "name: notebook06\n",
    "export_cell:\n",
    "    pdf: false\n",
    "    run_tests: false\n",
    "files:\n",
    "    - data/riverside_by_college.csv\n",
    "    - data/riverside.csv\n",
    "generate:\n",
    "    show_hidden: true\n",
    "    requirements: requirements.txt\n",
    "    overwrite_requirements: true\n",
    "    run_tests: false\n",
    "    template_pdf: false\n",
    "    solutions_pdf: false"
   ]
  },
  {
   "cell_type": "code",
   "execution_count": 1,
   "id": "27bf6c26-c5fb-4f8b-bcab-42e6f403c1d1",
   "metadata": {},
   "outputs": [],
   "source": [
    "from datascience import *\n",
    "import numpy as np\n",
    "\n",
    "import matplotlib.pyplot as plt\n",
    "plt.style.use(\"ggplot\")\n",
    "%matplotlib inline"
   ]
  },
  {
   "cell_type": "markdown",
   "id": "0ed9d56b-03c6-49dd-91b6-27563c33a1d2",
   "metadata": {},
   "source": [
    "# Notebook 6 - Group, Pivot, and Functions\n",
    "\n",
    "## Data 6, Summer 2024\n",
    "\n",
    "**TODO:** write introduction for notebook here. the purpose of this notebook is to provide students with practice examples for more complex table functions like group, pivot (maybe join and apply), as well as defining functions and maybe some additional row method questions as well. the starting file for this notebook simply contains Part 3 from Lab 4 / Notebook 5, or the notebook that works with UC Riverside data. Part 3 of that notebook features some uses of pivot and group. They're currently written as \"just run this cell\" examples for the students, but they should be restructured to be actual questions for the students to answer on their own"
   ]
  },
  {
   "cell_type": "markdown",
   "id": "299c8639-4c58-4326-b32b-3d284dcdb482",
   "metadata": {},
   "source": [
    "<div class=\"alert alert-warning\">\n",
    "The data that we'll be using in this lab contains data on <a href=https://ir.ucr.edu/stats/admission/undergraduate>University of California, Riverside's undergraduate admissions.</a> We'll be looking at this data today as we are interested in exploring the context and ethics behind education-related data (UC Riverside specifically was chosen as it was the UC that provided the most publicly accessible method of downloading the data). In this case, we are looking at the demographics of undergraduate students. This leads us to many important questions to consider: why does UC Riverside make this data publicly available? Why does it choose this format and these categories to represent students? Who or what is affected by the conclusions we make from analyzing this data? Think about these questions as you work through the lab.\n",
    "</div>"
   ]
  },
  {
   "cell_type": "markdown",
   "id": "25c6951b-2d69-4d6f-aa81-9e16ff5c12eb",
   "metadata": {},
   "source": [
    "<hr style=\"border: 5px solid #003262;\" />\n",
    "<hr style=\"border: 1px solid #fdb515;\" />\n",
    "\n",
    "## Part 3: Data Context Exploration"
   ]
  },
  {
   "cell_type": "markdown",
   "id": "961457bb-23d8-494c-9cf3-f976cfd1cc18",
   "metadata": {},
   "source": [
    "<div class=\"alert alert-warning\">\n",
    "As we saw at the end of Part 2, when working with data, it is always important to consider not only the impacts that the representation of the data can have in the real world</strong>, but also <strong>the effects that the conclusions from your data analysis and visualizations can have!</strong> While we were able to observe some interesting trends in Part 2, it is important to consider what types of conclusions we're making with our analysis and how applicable they are. In this part, we'll delve further into representations of data, while also utilizing additional data from UC Riverside broken down by college to try to analyze more interesting trends with student demographics.\n",
    "</div>"
   ]
  },
  {
   "cell_type": "markdown",
   "id": "f6ffb3e3-cc86-453c-88bf-4ddc873dc0ce",
   "metadata": {},
   "source": [
    "### A Further Look Into the `Gender` Column"
   ]
  },
  {
   "cell_type": "markdown",
   "id": "201a1095-f407-4861-b659-ed4dac6189c6",
   "metadata": {},
   "source": [
    "Let's continue with a bit more analysis on the `\"Gender\"` column. As stated above, the [source of the original data](https://ir.ucr.edu/stats/enrollment/demographic) from UC Riverside also included a second dataset that displays the same admissions data, broken down by college. An interesting question you may want to consider is why UC Riverside would make this type of breakdown available alongside the original dataset of the whole university. \n",
    "\n",
    "Let's load the dataset into a Table object below called `ucr_college`."
   ]
  },
  {
   "cell_type": "code",
   "execution_count": 2,
   "id": "3c4c2a44-fb91-4c7b-af54-5688e87388a4",
   "metadata": {},
   "outputs": [
    {
     "data": {
      "text/html": [
       "<table border=\"1\" class=\"dataframe\">\n",
       "    <thead>\n",
       "        <tr>\n",
       "            <th>Year</th> <th>College</th> <th>Level</th> <th>Original Entry Type</th> <th>New/Continuing Status</th> <th>Full-Time Status</th> <th>Gender</th> <th>IPEDS Race/Ethnicity</th> <th>Fall Headcount</th>\n",
       "        </tr>\n",
       "    </thead>\n",
       "    <tbody>\n",
       "        <tr>\n",
       "            <td>2023</td> <td>Bourns College of Engineering</td> <td>Undergraduate</td> <td>Undergraduate Frosh</td> <td>New                  </td> <td>Full-Time       </td> <td>Female</td> <td>Asian                 </td> <td>81            </td>\n",
       "        </tr>\n",
       "        <tr>\n",
       "            <td>2023</td> <td>Bourns College of Engineering</td> <td>Undergraduate</td> <td>Undergraduate Frosh</td> <td>New                  </td> <td>Full-Time       </td> <td>Female</td> <td>Black/African American</td> <td>5             </td>\n",
       "        </tr>\n",
       "        <tr>\n",
       "            <td>2023</td> <td>Bourns College of Engineering</td> <td>Undergraduate</td> <td>Undergraduate Frosh</td> <td>New                  </td> <td>Full-Time       </td> <td>Female</td> <td>Chicano/Latino        </td> <td>78            </td>\n",
       "        </tr>\n",
       "        <tr>\n",
       "            <td>2023</td> <td>Bourns College of Engineering</td> <td>Undergraduate</td> <td>Undergraduate Frosh</td> <td>New                  </td> <td>Full-Time       </td> <td>Female</td> <td>International         </td> <td>10            </td>\n",
       "        </tr>\n",
       "        <tr>\n",
       "            <td>2023</td> <td>Bourns College of Engineering</td> <td>Undergraduate</td> <td>Undergraduate Frosh</td> <td>New                  </td> <td>Full-Time       </td> <td>Female</td> <td>Two or More Races     </td> <td>7             </td>\n",
       "        </tr>\n",
       "    </tbody>\n",
       "</table>\n",
       "<p>... (16865 rows omitted)</p>"
      ],
      "text/plain": [
       "<IPython.core.display.HTML object>"
      ]
     },
     "metadata": {},
     "output_type": "display_data"
    }
   ],
   "source": [
    "ucr_college = Table.read_table(\"data/riverside_by_college.csv\")\n",
    "ucr_college.show(5)"
   ]
  },
  {
   "cell_type": "markdown",
   "id": "9d8ff8d5-e6e9-4539-9a84-7af37d54f719",
   "metadata": {},
   "source": [
    "As we can see from the `\"Year\"` column, this dataset also contains slightly more updated information, including data from 2023. Let's take a look at the way the data is represented in the `\"Gender\"` column for this dataset:"
   ]
  },
  {
   "cell_type": "code",
   "execution_count": 41,
   "id": "95bd6b09-14cc-4b15-8497-60ac2d57b028",
   "metadata": {},
   "outputs": [
    {
     "data": {
      "text/plain": [
       "array(['Female', 'Male', 'Nonbinary', 'Unknown'],\n",
       "      dtype='<U9')"
      ]
     },
     "execution_count": 41,
     "metadata": {},
     "output_type": "execute_result"
    }
   ],
   "source": [
    "np.unique(ucr_college.column(\"Gender\"))"
   ]
  },
  {
   "cell_type": "raw",
   "id": "4506997a-7854-4170-836b-e04cb8172660",
   "metadata": {},
   "source": [
    "# BEGIN QUESTION\n",
    "name: q3_1\n",
    "manual: true"
   ]
  },
  {
   "cell_type": "markdown",
   "id": "d22a4d6c-f109-46d3-a068-728d21612dff",
   "metadata": {},
   "source": [
    "### Question 3.1 (Discussion)\n",
    "It looks like this dataset contains the additional values of `\"Nonbinary\"` and `\"Unknown\"` for `\"Gender\"`. Take a look at the \"Details about the data\" section [at the bottom of the website.](https://ir.ucr.edu/stats/enrollment/demographic) How was this particular variable measured? How might this impact our comparison between the conclusions we come to with this data vs. the data we previously worked with?\n",
    "\n",
    "*Hint:* Think about what reducing the number of categories would mean."
   ]
  },
  {
   "cell_type": "raw",
   "id": "8715614c-9875-465e-a338-4903ea8b05de",
   "metadata": {},
   "source": [
    "# BEGIN SOLUTION"
   ]
  },
  {
   "cell_type": "markdown",
   "id": "636980f5-d28b-499b-9ce9-4df2a8cfda09",
   "metadata": {},
   "source": [
    "**SOLUTION:** The website states: \"Gender identity has been collected on the UC admission application only since 2016. Therefore, there is no earlier data available in the nonbinary category.\" Something to note is that these datasets are supposed to represent the same information. However, because UCR utilized two methods of representing the `\"Gender\"` column, it may not be completely appropriate to compare the raw numbers of the values alone -- some of the individuals who are in the `\"Nonbinary\"` or `\"Unknown\"` category in this dataset were likely placed into the `\"Female\"` or `\"Male\"` categories in the other dataset. Therefore, the numbers could be a bit skewed, and it may be beneficial to compare by proportions as an additional step."
   ]
  },
  {
   "cell_type": "raw",
   "id": "c37da224-03b2-43c1-9d58-96a5a2f41ec9",
   "metadata": {},
   "source": [
    "# END SOLUTION"
   ]
  },
  {
   "cell_type": "raw",
   "id": "92348ba5-b137-479f-b2ff-637fd2c3a245",
   "metadata": {},
   "source": [
    "# END QUESTION"
   ]
  },
  {
   "cell_type": "markdown",
   "id": "5f1c5f2e-1a83-4650-b657-712d8112cfde",
   "metadata": {},
   "source": [
    "Doing this type of extra basic background research on the source of our data can be incredibly helpful in our understanding of our data!"
   ]
  },
  {
   "cell_type": "markdown",
   "id": "704b9ee9-e1a0-4723-acc7-82e86b658c9d",
   "metadata": {},
   "source": [
    "---\n",
    "### Exploration of Aggregation by College"
   ]
  },
  {
   "cell_type": "markdown",
   "id": "2d382616-48eb-48f9-ba43-05fef57da1d4",
   "metadata": {},
   "source": [
    "We can also use the information at the bottom of the page of the data source to find some information about how STEM majors are classified:"
   ]
  },
  {
   "cell_type": "markdown",
   "id": "e66058d8-a252-4fca-8e52-27ea98def4bf",
   "metadata": {},
   "source": [
    "> \"STEM Majors include those in the Bourns College of Engineering (BCOE) and the College of Natural and Agricultural Sciences (CNAS).\""
   ]
  },
  {
   "cell_type": "markdown",
   "id": "01319d99-bdf5-4501-84e1-dea72b4c5547",
   "metadata": {},
   "source": [
    "Using this information, we can use the `where` method to create two different tables: one for STEM majors, and one for non-STEM majors. In the cell below, we generate the list of distinct college names at UC Riverside. As we see in the statement above, we can classify all non-STEM colleges as those in the list below, aside from the College of Engineering and the College of Natural and Agricultural Sciences."
   ]
  },
  {
   "cell_type": "code",
   "execution_count": 42,
   "id": "94c69717-5478-48e2-b5cb-0010a347b993",
   "metadata": {},
   "outputs": [
    {
     "data": {
      "text/plain": [
       "array(['Bourns College of Engineering',\n",
       "       'College of Humanities, Arts, and Social Sciences',\n",
       "       'College of Natural and Agricultural Sciences',\n",
       "       'Graduate School of Education', 'School of Business',\n",
       "       'School of Medicine', 'School of Public Policy'],\n",
       "      dtype='<U48')"
      ]
     },
     "execution_count": 42,
     "metadata": {},
     "output_type": "execute_result"
    }
   ],
   "source": [
    "np.unique(ucr_college.column(\"College\"))"
   ]
  },
  {
   "cell_type": "markdown",
   "id": "d8d690fc-6d0f-4e1c-9651-f205e045f068",
   "metadata": {},
   "source": [
    "**TODO:** We want to change Question 3.2 into a different exercise -- instead of creating separate tables by filtering out STEM vs. non-STEM, we want the students to define a new function called `is_stem`, then use this new function with the `apply` method, and finally create a pivot table using the new `Is STEM?` column and the `Gender` column, so this would be three separate questions for the students. \n",
    "\n",
    "The actual code has been written below, but we just need to restructure this section to match this new process & exercises."
   ]
  },
  {
   "cell_type": "code",
   "execution_count": 10,
   "id": "b0efafe6-d376-4491-92b4-7978c13795b0",
   "metadata": {},
   "outputs": [],
   "source": [
    "stem_colleges = [\"Bourns College of Engineering\", \"College of Natural and Agricultural Sciences\"]\n",
    "nonstem_colleges = [\"College of Humanities, Arts, and Social Sciences\", \"Graduate School of Education\", \"School of Business\", \"School of Medicine\", \"School of Public Policy\"]"
   ]
  },
  {
   "cell_type": "code",
   "execution_count": 11,
   "id": "2442aba5-1c6b-45e0-a022-576674e00950",
   "metadata": {},
   "outputs": [],
   "source": [
    "def is_stem(college):\n",
    "    return college in stem_colleges"
   ]
  },
  {
   "cell_type": "code",
   "execution_count": 13,
   "id": "e3c44bb7-e49e-45a6-ba54-9f065316d2e2",
   "metadata": {},
   "outputs": [
    {
     "data": {
      "text/html": [
       "<table border=\"1\" class=\"dataframe\">\n",
       "    <thead>\n",
       "        <tr>\n",
       "            <th>Year</th> <th>College</th> <th>Level</th> <th>Original Entry Type</th> <th>New/Continuing Status</th> <th>Full-Time Status</th> <th>Gender</th> <th>IPEDS Race/Ethnicity</th> <th>Fall Headcount</th> <th>Is STEM?</th>\n",
       "        </tr>\n",
       "    </thead>\n",
       "    <tbody>\n",
       "        <tr>\n",
       "            <td>2023</td> <td>Bourns College of Engineering</td> <td>Undergraduate</td> <td>Undergraduate Frosh</td> <td>New                  </td> <td>Full-Time       </td> <td>Female</td> <td>Asian                 </td> <td>81            </td> <td>True    </td>\n",
       "        </tr>\n",
       "        <tr>\n",
       "            <td>2023</td> <td>Bourns College of Engineering</td> <td>Undergraduate</td> <td>Undergraduate Frosh</td> <td>New                  </td> <td>Full-Time       </td> <td>Female</td> <td>Black/African American</td> <td>5             </td> <td>True    </td>\n",
       "        </tr>\n",
       "        <tr>\n",
       "            <td>2023</td> <td>Bourns College of Engineering</td> <td>Undergraduate</td> <td>Undergraduate Frosh</td> <td>New                  </td> <td>Full-Time       </td> <td>Female</td> <td>Chicano/Latino        </td> <td>78            </td> <td>True    </td>\n",
       "        </tr>\n",
       "        <tr>\n",
       "            <td>2023</td> <td>Bourns College of Engineering</td> <td>Undergraduate</td> <td>Undergraduate Frosh</td> <td>New                  </td> <td>Full-Time       </td> <td>Female</td> <td>International         </td> <td>10            </td> <td>True    </td>\n",
       "        </tr>\n",
       "        <tr>\n",
       "            <td>2023</td> <td>Bourns College of Engineering</td> <td>Undergraduate</td> <td>Undergraduate Frosh</td> <td>New                  </td> <td>Full-Time       </td> <td>Female</td> <td>Two or More Races     </td> <td>7             </td> <td>True    </td>\n",
       "        </tr>\n",
       "    </tbody>\n",
       "</table>\n",
       "<p>... (16865 rows omitted)</p>"
      ],
      "text/plain": [
       "<IPython.core.display.HTML object>"
      ]
     },
     "metadata": {},
     "output_type": "display_data"
    }
   ],
   "source": [
    "ucr_apply_test = ucr_college.with_column('Is STEM?', ucr_college.apply(is_stem, 'College'))\n",
    "ucr_apply_test.show(5)"
   ]
  },
  {
   "cell_type": "code",
   "execution_count": 14,
   "id": "d4a99d1d-e17c-494d-af45-93a494a87c44",
   "metadata": {},
   "outputs": [
    {
     "data": {
      "text/html": [
       "<table border=\"1\" class=\"dataframe\">\n",
       "    <thead>\n",
       "        <tr>\n",
       "            <th>Gender</th> <th>Non-STEM Fall Headcount</th> <th>STEM Fall Headcount</th>\n",
       "        </tr>\n",
       "    </thead>\n",
       "    <tbody>\n",
       "        <tr>\n",
       "            <td>Female   </td> <td>195432                 </td> <td>96494              </td>\n",
       "        </tr>\n",
       "        <tr>\n",
       "            <td>Male     </td> <td>136041                 </td> <td>132516             </td>\n",
       "        </tr>\n",
       "        <tr>\n",
       "            <td>Nonbinary</td> <td>1166                   </td> <td>428                </td>\n",
       "        </tr>\n",
       "        <tr>\n",
       "            <td>Unknown  </td> <td>1499                   </td> <td>1063               </td>\n",
       "        </tr>\n",
       "    </tbody>\n",
       "</table>"
      ],
      "text/plain": [
       "Gender    | Non-STEM Fall Headcount | STEM Fall Headcount\n",
       "Female    | 195432                  | 96494\n",
       "Male      | 136041                  | 132516\n",
       "Nonbinary | 1166                    | 428\n",
       "Unknown   | 1499                    | 1063"
      ]
     },
     "execution_count": 14,
     "metadata": {},
     "output_type": "execute_result"
    }
   ],
   "source": [
    "ucr_pivot_test = ucr_apply_test.pivot('Is STEM?', 'Gender', collect = np.sum, values = 'Fall Headcount').relabeled(['False', 'True'], ['Non-STEM Fall Headcount', 'STEM Fall Headcount'])\n",
    "ucr_pivot_test"
   ]
  },
  {
   "cell_type": "code",
   "execution_count": 15,
   "id": "3a96b6f9-d158-4344-9cc1-bbecab0a7b04",
   "metadata": {},
   "outputs": [
    {
     "data": {
      "image/png": "[encoded data removed]",
      "text/plain": [
       "<Figure size 600x400 with 1 Axes>"
      ]
     },
     "metadata": {},
     "output_type": "display_data"
    }
   ],
   "source": [
    "ucr_pivot_test.barh('Gender', overlay = True) # SOLUTION"
   ]
  },
  {
   "cell_type": "raw",
   "id": "98077332-15b7-4c18-b722-d91f1249107d",
   "metadata": {},
   "source": [
    "# BEGIN QUESTION\n",
    "name: q3_2"
   ]
  },
  {
   "cell_type": "markdown",
   "id": "bd6e22f6-de5f-44f4-ba0f-e91f03fd2b70",
   "metadata": {},
   "source": [
    "### Question 3.2\n",
    "In the two cells below, use the `where` method to create two different tables: one for STEM majors (`ucr_stem`), and one for non-STEM majors (`ucr_nonstem`), based on which college they belong to."
   ]
  },
  {
   "cell_type": "raw",
   "id": "5d8e49ac-09a6-4424-8674-09a99f93241f",
   "metadata": {},
   "source": [
    "# BEGIN SOLUTION"
   ]
  },
  {
   "cell_type": "code",
   "execution_count": 43,
   "id": "56ec588c-e56c-4aee-a4b1-59c62bef59fe",
   "metadata": {},
   "outputs": [
    {
     "data": {
      "text/html": [
       "<table border=\"1\" class=\"dataframe\">\n",
       "    <thead>\n",
       "        <tr>\n",
       "            <th>Year</th> <th>College</th> <th>Level</th> <th>Original Entry Type</th> <th>New/Continuing Status</th> <th>Full-Time Status</th> <th>Gender</th> <th>IPEDS Race/Ethnicity</th> <th>Fall Headcount</th>\n",
       "        </tr>\n",
       "    </thead>\n",
       "    <tbody>\n",
       "        <tr>\n",
       "            <td>2023</td> <td>Bourns College of Engineering</td> <td>Undergraduate</td> <td>Undergraduate Frosh</td> <td>New                  </td> <td>Full-Time       </td> <td>Female</td> <td>Asian                 </td> <td>81            </td>\n",
       "        </tr>\n",
       "        <tr>\n",
       "            <td>2023</td> <td>Bourns College of Engineering</td> <td>Undergraduate</td> <td>Undergraduate Frosh</td> <td>New                  </td> <td>Full-Time       </td> <td>Female</td> <td>Black/African American</td> <td>5             </td>\n",
       "        </tr>\n",
       "        <tr>\n",
       "            <td>2023</td> <td>Bourns College of Engineering</td> <td>Undergraduate</td> <td>Undergraduate Frosh</td> <td>New                  </td> <td>Full-Time       </td> <td>Female</td> <td>Chicano/Latino        </td> <td>78            </td>\n",
       "        </tr>\n",
       "    </tbody>\n",
       "</table>\n",
       "<p>... (7416 rows omitted)</p>"
      ],
      "text/plain": [
       "<IPython.core.display.HTML object>"
      ]
     },
     "metadata": {},
     "output_type": "display_data"
    }
   ],
   "source": [
    "ucr_stem = ucr_college.where(\"College\", are.contained_in([\"Bourns College of Engineering\", \"College of Natural and Agricultural Sciences\"])) # SOLUTION\n",
    "ucr_stem.show(3)"
   ]
  },
  {
   "cell_type": "code",
   "execution_count": 44,
   "id": "a89a5674-b9e5-4d4d-bc58-23b7f50efc7e",
   "metadata": {},
   "outputs": [
    {
     "data": {
      "text/html": [
       "<table border=\"1\" class=\"dataframe\">\n",
       "    <thead>\n",
       "        <tr>\n",
       "            <th>Year</th> <th>College</th> <th>Level</th> <th>Original Entry Type</th> <th>New/Continuing Status</th> <th>Full-Time Status</th> <th>Gender</th> <th>IPEDS Race/Ethnicity</th> <th>Fall Headcount</th>\n",
       "        </tr>\n",
       "    </thead>\n",
       "    <tbody>\n",
       "        <tr>\n",
       "            <td>2023</td> <td>College of Humanities, Arts, and Social Sciences</td> <td>Undergraduate</td> <td>Undergraduate Frosh</td> <td>New                  </td> <td>Full-Time       </td> <td>Female</td> <td>Asian                 </td> <td>486           </td>\n",
       "        </tr>\n",
       "        <tr>\n",
       "            <td>2023</td> <td>College of Humanities, Arts, and Social Sciences</td> <td>Undergraduate</td> <td>Undergraduate Frosh</td> <td>New                  </td> <td>Full-Time       </td> <td>Female</td> <td>Black/African American</td> <td>72            </td>\n",
       "        </tr>\n",
       "        <tr>\n",
       "            <td>2023</td> <td>College of Humanities, Arts, and Social Sciences</td> <td>Undergraduate</td> <td>Undergraduate Frosh</td> <td>New                  </td> <td>Full-Time       </td> <td>Female</td> <td>Chicano/Latino        </td> <td>867           </td>\n",
       "        </tr>\n",
       "    </tbody>\n",
       "</table>\n",
       "<p>... (9448 rows omitted)</p>"
      ],
      "text/plain": [
       "<IPython.core.display.HTML object>"
      ]
     },
     "metadata": {},
     "output_type": "display_data"
    }
   ],
   "source": [
    "ucr_nonstem = ucr_college.where(\"College\", are.contained_in([\"College of Humanities, Arts, and Social Sciences\", \"Graduate School of Education\", \"School of Business\", \"School of Medicine\", \"School of Public Policy\"])) # SOLUTION\n",
    "ucr_nonstem.show(3)"
   ]
  },
  {
   "cell_type": "raw",
   "id": "9c2e2e6f-f0f1-44b8-82e5-047aae381f0f",
   "metadata": {},
   "source": [
    "# END SOLUTION"
   ]
  },
  {
   "cell_type": "raw",
   "id": "d2f592a4-c677-464f-991b-b73d58c1e98d",
   "metadata": {},
   "source": [
    "# BEGIN TESTS"
   ]
  },
  {
   "cell_type": "code",
   "execution_count": 45,
   "id": "5a0dbc85-5451-4663-91f1-b04973d506b2",
   "metadata": {},
   "outputs": [],
   "source": [
    "assert isinstance(ucr_stem, Table)"
   ]
  },
  {
   "cell_type": "code",
   "execution_count": 46,
   "id": "4de33bf3-7fab-46e9-b2ad-e68aff92f2a6",
   "metadata": {},
   "outputs": [],
   "source": [
    "assert isinstance(ucr_nonstem, Table)"
   ]
  },
  {
   "cell_type": "code",
   "execution_count": 47,
   "id": "b3a19993-17b2-406d-b082-ba0e85286b2c",
   "metadata": {},
   "outputs": [],
   "source": [
    "assert all(x in [\"Bourns College of Engineering\", \"College of Natural and Agricultural Sciences\"] for x in ucr_stem.column('College'))"
   ]
  },
  {
   "cell_type": "code",
   "execution_count": 48,
   "id": "13c19d96-7dd0-47bd-8eee-804e09ff45d6",
   "metadata": {},
   "outputs": [],
   "source": [
    "assert all(x in [\"College of Humanities, Arts, and Social Sciences\", \"Graduate School of Education\", \"School of Business\", \"School of Medicine\", \"School of Public Policy\"] for x in ucr_nonstem.column('College'))"
   ]
  },
  {
   "cell_type": "code",
   "execution_count": 49,
   "id": "dde81f2d-d437-421d-80e0-497cabe4f075",
   "metadata": {},
   "outputs": [],
   "source": [
    "assert ucr_stem.num_rows == 7419"
   ]
  },
  {
   "cell_type": "code",
   "execution_count": 50,
   "id": "cf9c3d7a-ff22-45a1-b8c1-a6d5cef4b79a",
   "metadata": {},
   "outputs": [],
   "source": [
    "assert ucr_nonstem.num_rows == 9451"
   ]
  },
  {
   "cell_type": "raw",
   "id": "731d4816-29db-4d03-904e-e805e2f97d87",
   "metadata": {},
   "source": [
    "# END TESTS"
   ]
  },
  {
   "cell_type": "raw",
   "id": "c1ddb48f-a698-4142-a329-7ee763ecd108",
   "metadata": {},
   "source": [
    "# END QUESTION"
   ]
  },
  {
   "cell_type": "markdown",
   "id": "371b94b0-ffa4-4fa9-9a68-bd53c1c41abe",
   "metadata": {},
   "source": [
    "Now, if we wanted to do a rough tabular comparison of the STEM vs. non-STEM majors, we can group by `\"Gender\"` and compare the numbers.\n",
    "\n",
    "For now, don't worry too much about understanding the syntax for the group method: we'll cover it in the next lab! The code in the two cells below simply aggregates the data by calculating the sums of the `\"Fall Headcount\"` column for each gender category."
   ]
  },
  {
   "cell_type": "code",
   "execution_count": 51,
   "id": "4778b204-1d90-4fc0-9d63-fc761e0173b3",
   "metadata": {},
   "outputs": [
    {
     "data": {
      "text/html": [
       "<table border=\"1\" class=\"dataframe\">\n",
       "    <thead>\n",
       "        <tr>\n",
       "            <th>Gender</th> <th>Fall Headcount sum</th>\n",
       "        </tr>\n",
       "    </thead>\n",
       "    <tbody>\n",
       "        <tr>\n",
       "            <td>Male     </td> <td>132516            </td>\n",
       "        </tr>\n",
       "        <tr>\n",
       "            <td>Female   </td> <td>96494             </td>\n",
       "        </tr>\n",
       "        <tr>\n",
       "            <td>Unknown  </td> <td>1063              </td>\n",
       "        </tr>\n",
       "        <tr>\n",
       "            <td>Nonbinary</td> <td>428               </td>\n",
       "        </tr>\n",
       "    </tbody>\n",
       "</table>"
      ],
      "text/plain": [
       "Gender    | Fall Headcount sum\n",
       "Male      | 132516\n",
       "Female    | 96494\n",
       "Unknown   | 1063\n",
       "Nonbinary | 428"
      ]
     },
     "execution_count": 51,
     "metadata": {},
     "output_type": "execute_result"
    }
   ],
   "source": [
    "ucr_stem_grouped = ucr_stem.group(\"Gender\", np.sum).select([\"Gender\", \"Fall Headcount sum\"]).sort(\"Fall Headcount sum\", descending=True)\n",
    "ucr_stem_grouped "
   ]
  },
  {
   "cell_type": "code",
   "execution_count": 52,
   "id": "ac612f3c-c557-4d8d-9bec-b1b002992306",
   "metadata": {},
   "outputs": [
    {
     "data": {
      "text/html": [
       "<table border=\"1\" class=\"dataframe\">\n",
       "    <thead>\n",
       "        <tr>\n",
       "            <th>Gender</th> <th>Fall Headcount sum</th>\n",
       "        </tr>\n",
       "    </thead>\n",
       "    <tbody>\n",
       "        <tr>\n",
       "            <td>Female   </td> <td>195432            </td>\n",
       "        </tr>\n",
       "        <tr>\n",
       "            <td>Male     </td> <td>136041            </td>\n",
       "        </tr>\n",
       "        <tr>\n",
       "            <td>Unknown  </td> <td>1499              </td>\n",
       "        </tr>\n",
       "        <tr>\n",
       "            <td>Nonbinary</td> <td>1166              </td>\n",
       "        </tr>\n",
       "    </tbody>\n",
       "</table>"
      ],
      "text/plain": [
       "Gender    | Fall Headcount sum\n",
       "Female    | 195432\n",
       "Male      | 136041\n",
       "Unknown   | 1499\n",
       "Nonbinary | 1166"
      ]
     },
     "execution_count": 52,
     "metadata": {},
     "output_type": "execute_result"
    }
   ],
   "source": [
    "ucr_nonstem_grouped = ucr_nonstem.group(\"Gender\", np.sum).select([\"Gender\", \"Fall Headcount sum\"]).sort(\"Fall Headcount sum\", descending=True)\n",
    "ucr_nonstem_grouped "
   ]
  },
  {
   "cell_type": "raw",
   "id": "f7336002-9c95-460a-985a-76c64d750a1f",
   "metadata": {},
   "source": [
    "# BEGIN QUESTION\n",
    "name: q3_3\n",
    "manual: true"
   ]
  },
  {
   "cell_type": "markdown",
   "id": "481a44ee-c7ea-4e9f-a471-5449624e1cec",
   "metadata": {},
   "source": [
    "### Question 3.3 (Discussion)\n",
    "From the above two tables, we can see an interesting discrepancy that we see quite often with this type of education-related data. What do you see when we compare these two tables?"
   ]
  },
  {
   "cell_type": "raw",
   "id": "c683f7a9-cb1d-4172-b282-800e32786cbd",
   "metadata": {},
   "source": [
    "# BEGIN SOLUTION"
   ]
  },
  {
   "cell_type": "markdown",
   "id": "98183809-6a2c-404e-a8d4-2069e910b370",
   "metadata": {},
   "source": [
    "**SOLUTION:** There are more male-identifying individuals represented by the STEM majors, and more female-identifying individuals repesented by the non-STEM majors. Thanks to the other two representations of `\"Unknown\"` and `\"Nonbinary\"` though, we can also see that there are more of these individuals in the non-STEM majors table as well."
   ]
  },
  {
   "cell_type": "raw",
   "id": "871786fe-decc-4fde-92db-3924be5ae4ad",
   "metadata": {},
   "source": [
    "# END SOLUTION"
   ]
  },
  {
   "cell_type": "raw",
   "id": "3e2fb49a-90e3-45d0-9ee8-cc19b32f57fb",
   "metadata": {},
   "source": [
    "# END QUESTION"
   ]
  },
  {
   "cell_type": "markdown",
   "id": "9f90e41e-8392-454f-a755-7facc605e1b1",
   "metadata": {},
   "source": [
    "Using what we learned in Lab 3, we can also visualize the data to be able to see the trends and proportions of the data more clearly. Below, we create a joined version of the headcounts split by gender for with one column containing the fall headcounts for STEM colleges, and another containing the headcounts for non-STEM colleges. Don't worry too much about the `join` method -- we'll cover it in the next lab!"
   ]
  },
  {
   "cell_type": "code",
   "execution_count": 53,
   "id": "b00bbc4c-9466-4c75-b7d4-31789fac7d71",
   "metadata": {},
   "outputs": [
    {
     "data": {
      "text/html": [
       "<table border=\"1\" class=\"dataframe\">\n",
       "    <thead>\n",
       "        <tr>\n",
       "            <th>Gender</th> <th>STEM Fall Headcount</th> <th>Non-STEM Fall Headcount</th>\n",
       "        </tr>\n",
       "    </thead>\n",
       "    <tbody>\n",
       "        <tr>\n",
       "            <td>Female   </td> <td>96494              </td> <td>195432                 </td>\n",
       "        </tr>\n",
       "        <tr>\n",
       "            <td>Male     </td> <td>132516             </td> <td>136041                 </td>\n",
       "        </tr>\n",
       "        <tr>\n",
       "            <td>Nonbinary</td> <td>428                </td> <td>1166                   </td>\n",
       "        </tr>\n",
       "        <tr>\n",
       "            <td>Unknown  </td> <td>1063               </td> <td>1499                   </td>\n",
       "        </tr>\n",
       "    </tbody>\n",
       "</table>"
      ],
      "text/plain": [
       "<IPython.core.display.HTML object>"
      ]
     },
     "metadata": {},
     "output_type": "display_data"
    }
   ],
   "source": [
    "ucr_joined_gender = ucr_stem_grouped.join('Gender', ucr_nonstem_grouped).relabeled(['Fall Headcount sum', 'Fall Headcount sum_2'], ['STEM Fall Headcount', 'Non-STEM Fall Headcount'])\n",
    "ucr_joined_gender.show(5)"
   ]
  },
  {
   "cell_type": "raw",
   "id": "d94f38e2-2437-4df9-b84b-e47174c94274",
   "metadata": {},
   "source": [
    "# BEGIN QUESTION\n",
    "name: q3_4\n",
    "manual: true"
   ]
  },
  {
   "cell_type": "markdown",
   "id": "bc0cd6ed-9079-4f80-ae64-ba486c6443de",
   "metadata": {},
   "source": [
    "### Question 3.4\n",
    "Using the `ucr_joined_gender` table, create an overlaid bar chart plotting the breakdown of the `Gender` category between the two college types. \n",
    "\n",
    "*Hint:* Look back to how we created overlaid bar charts in Lab 3 if you're stuck!"
   ]
  },
  {
   "cell_type": "raw",
   "id": "b134f9c8-c31e-4b16-949d-fec983b21ec2",
   "metadata": {},
   "source": [
    "# BEGIN SOLUTION"
   ]
  },
  {
   "cell_type": "code",
   "execution_count": 54,
   "id": "ec48cf3b-2e3f-45cf-b5d7-7eef1a295a39",
   "metadata": {},
   "outputs": [
    {
     "data": {
      "image/png": "[encoded data removed]",
      "text/plain": [
       "<Figure size 600x400 with 1 Axes>"
      ]
     },
     "metadata": {},
     "output_type": "display_data"
    }
   ],
   "source": [
    "ucr_joined_gender.barh('Gender', overlay = True) # SOLUTION"
   ]
  },
  {
   "cell_type": "raw",
   "id": "985d2ec8-1e81-4068-a23c-18282cc23893",
   "metadata": {},
   "source": [
    "# END SOLUTION"
   ]
  },
  {
   "cell_type": "raw",
   "id": "4d9adf60-c559-4edc-9246-7cb167fe2cb3",
   "metadata": {},
   "source": [
    "# END QUESTION"
   ]
  },
  {
   "cell_type": "markdown",
   "id": "0e279eb6-9e7b-40f2-8632-15a1e7bd9003",
   "metadata": {},
   "source": [
    "<div class=\"alert alert-warning\">We looked into some aspects of the students' race/ethnicities in Part 2, but now we can dig a little deeper by performing the same process of grouping our data and visualizing the distribution between the STEM and non-STEM colleges. We start by creating the tables split by STEM and non-STEM, as well as the joined version with the headcounts of both categories. </div>"
   ]
  },
  {
   "cell_type": "code",
   "execution_count": 55,
   "id": "885929fe-dcd1-4bbb-a699-7253f20a7aac",
   "metadata": {},
   "outputs": [
    {
     "data": {
      "text/html": [
       "<table border=\"1\" class=\"dataframe\">\n",
       "    <thead>\n",
       "        <tr>\n",
       "            <th>IPEDS Race/Ethnicity</th> <th>Fall Headcount sum</th>\n",
       "        </tr>\n",
       "    </thead>\n",
       "    <tbody>\n",
       "        <tr>\n",
       "            <td>Asian                           </td> <td>89621             </td>\n",
       "        </tr>\n",
       "        <tr>\n",
       "            <td>Chicano/Latino                  </td> <td>54809             </td>\n",
       "        </tr>\n",
       "        <tr>\n",
       "            <td>White                           </td> <td>43765             </td>\n",
       "        </tr>\n",
       "        <tr>\n",
       "            <td>International                   </td> <td>18424             </td>\n",
       "        </tr>\n",
       "        <tr>\n",
       "            <td>Domestic Unknown                </td> <td>8060              </td>\n",
       "        </tr>\n",
       "        <tr>\n",
       "            <td>Black/African American          </td> <td>7889              </td>\n",
       "        </tr>\n",
       "        <tr>\n",
       "            <td>Two or More Races               </td> <td>7356              </td>\n",
       "        </tr>\n",
       "        <tr>\n",
       "            <td>American Indian/Alaskan Native  </td> <td>440               </td>\n",
       "        </tr>\n",
       "        <tr>\n",
       "            <td>Native Hawaiian/Pacific Islander</td> <td>137               </td>\n",
       "        </tr>\n",
       "    </tbody>\n",
       "</table>"
      ],
      "text/plain": [
       "IPEDS Race/Ethnicity             | Fall Headcount sum\n",
       "Asian                            | 89621\n",
       "Chicano/Latino                   | 54809\n",
       "White                            | 43765\n",
       "International                    | 18424\n",
       "Domestic Unknown                 | 8060\n",
       "Black/African American           | 7889\n",
       "Two or More Races                | 7356\n",
       "American Indian/Alaskan Native   | 440\n",
       "Native Hawaiian/Pacific Islander | 137"
      ]
     },
     "execution_count": 55,
     "metadata": {},
     "output_type": "execute_result"
    }
   ],
   "source": [
    "ucr_stem_grouped_re = ucr_stem.group(\"IPEDS Race/Ethnicity\", np.sum).select([\"IPEDS Race/Ethnicity\", \"Fall Headcount sum\"]).sort(\"Fall Headcount sum\", descending=True)\n",
    "ucr_stem_grouped_re "
   ]
  },
  {
   "cell_type": "code",
   "execution_count": 56,
   "id": "eb2a846c-c3f5-4a08-84d5-81ee644a871a",
   "metadata": {},
   "outputs": [
    {
     "data": {
      "text/html": [
       "<table border=\"1\" class=\"dataframe\">\n",
       "    <thead>\n",
       "        <tr>\n",
       "            <th>IPEDS Race/Ethnicity</th> <th>Fall Headcount sum</th>\n",
       "        </tr>\n",
       "    </thead>\n",
       "    <tbody>\n",
       "        <tr>\n",
       "            <td>Chicano/Latino                  </td> <td>112421            </td>\n",
       "        </tr>\n",
       "        <tr>\n",
       "            <td>Asian                           </td> <td>101707            </td>\n",
       "        </tr>\n",
       "        <tr>\n",
       "            <td>White                           </td> <td>64222             </td>\n",
       "        </tr>\n",
       "        <tr>\n",
       "            <td>Black/African American          </td> <td>18210             </td>\n",
       "        </tr>\n",
       "        <tr>\n",
       "            <td>International                   </td> <td>14528             </td>\n",
       "        </tr>\n",
       "        <tr>\n",
       "            <td>Domestic Unknown                </td> <td>13140             </td>\n",
       "        </tr>\n",
       "        <tr>\n",
       "            <td>Two or More Races               </td> <td>8466              </td>\n",
       "        </tr>\n",
       "        <tr>\n",
       "            <td>American Indian/Alaskan Native  </td> <td>1082              </td>\n",
       "        </tr>\n",
       "        <tr>\n",
       "            <td>Native Hawaiian/Pacific Islander</td> <td>362               </td>\n",
       "        </tr>\n",
       "    </tbody>\n",
       "</table>"
      ],
      "text/plain": [
       "IPEDS Race/Ethnicity             | Fall Headcount sum\n",
       "Chicano/Latino                   | 112421\n",
       "Asian                            | 101707\n",
       "White                            | 64222\n",
       "Black/African American           | 18210\n",
       "International                    | 14528\n",
       "Domestic Unknown                 | 13140\n",
       "Two or More Races                | 8466\n",
       "American Indian/Alaskan Native   | 1082\n",
       "Native Hawaiian/Pacific Islander | 362"
      ]
     },
     "execution_count": 56,
     "metadata": {},
     "output_type": "execute_result"
    }
   ],
   "source": [
    "ucr_nonstem_grouped_re = ucr_nonstem.group(\"IPEDS Race/Ethnicity\", np.sum).select([\"IPEDS Race/Ethnicity\", \"Fall Headcount sum\"]).sort(\"Fall Headcount sum\", descending=True)\n",
    "ucr_nonstem_grouped_re "
   ]
  },
  {
   "cell_type": "code",
   "execution_count": 57,
   "id": "54e95797-a07f-44ce-b0f0-c08ab2c66a50",
   "metadata": {},
   "outputs": [
    {
     "data": {
      "text/html": [
       "<table border=\"1\" class=\"dataframe\">\n",
       "    <thead>\n",
       "        <tr>\n",
       "            <th>IPEDS Race/Ethnicity</th> <th>STEM Fall Headcount</th> <th>Non-STEM Fall Headcount</th>\n",
       "        </tr>\n",
       "    </thead>\n",
       "    <tbody>\n",
       "        <tr>\n",
       "            <td>American Indian/Alaskan Native</td> <td>440                </td> <td>1082                   </td>\n",
       "        </tr>\n",
       "        <tr>\n",
       "            <td>Asian                         </td> <td>89621              </td> <td>101707                 </td>\n",
       "        </tr>\n",
       "        <tr>\n",
       "            <td>Black/African American        </td> <td>7889               </td> <td>18210                  </td>\n",
       "        </tr>\n",
       "        <tr>\n",
       "            <td>Chicano/Latino                </td> <td>54809              </td> <td>112421                 </td>\n",
       "        </tr>\n",
       "        <tr>\n",
       "            <td>Domestic Unknown              </td> <td>8060               </td> <td>13140                  </td>\n",
       "        </tr>\n",
       "    </tbody>\n",
       "</table>\n",
       "<p>... (4 rows omitted)</p>"
      ],
      "text/plain": [
       "<IPython.core.display.HTML object>"
      ]
     },
     "metadata": {},
     "output_type": "display_data"
    }
   ],
   "source": [
    "ucr_joined_re = ucr_stem_grouped_re.join('IPEDS Race/Ethnicity', ucr_nonstem_grouped_re).relabeled(['Fall Headcount sum', 'Fall Headcount sum_2'], ['STEM Fall Headcount', 'Non-STEM Fall Headcount'])\n",
    "ucr_joined_re.show(5)"
   ]
  },
  {
   "cell_type": "raw",
   "id": "1e658f3e-7b8c-4d42-9efb-968f70d6fb1e",
   "metadata": {},
   "source": [
    "# BEGIN QUESTION\n",
    "name: q3_5\n",
    "manual: true"
   ]
  },
  {
   "cell_type": "markdown",
   "id": "e218349c-34cc-4e7b-acd6-39512868e490",
   "metadata": {},
   "source": [
    "### Question 3.5\n",
    "As you did in Question 3.4, using `ucr_joined_re`, create an overlaid bar chart between the two colleges, this time of the race/ethnicity. What do you see when we compare these two groups of students, disaggregated by race?"
   ]
  },
  {
   "cell_type": "raw",
   "id": "1bbd6cde-2f63-46ae-925f-2bc0fc5c7bd7",
   "metadata": {},
   "source": [
    "# BEGIN SOLUTION"
   ]
  },
  {
   "cell_type": "code",
   "execution_count": 58,
   "id": "3a0d5b59-c825-49f5-8908-718056e82419",
   "metadata": {},
   "outputs": [
    {
     "data": {
      "image/png": "[encoded data removed]",
      "text/plain": [
       "<Figure size 600x450 with 1 Axes>"
      ]
     },
     "metadata": {},
     "output_type": "display_data"
    }
   ],
   "source": [
    "ucr_joined_re.barh('IPEDS Race/Ethnicity', overlay = True) # SOLUTION"
   ]
  },
  {
   "cell_type": "markdown",
   "id": "e263bb7d-96b8-455c-94bb-de56ffd4fe5d",
   "metadata": {},
   "source": [
    "**SOLUTION:** Here, we see that for non-STEM colleges, we witness a handful of the trends that we saw in Part 2, with Chicanx/Latinx and Asian students making up a large proportion, while Native Hawaiian/Pacific Islander students making up the smallest. However, again, we see a shift for the STEM colleges, where Asian students seem to make up a large majority of the students."
   ]
  },
  {
   "cell_type": "raw",
   "id": "3f20b842-736e-4e0a-8ec7-0c81cbb4ae74",
   "metadata": {},
   "source": [
    "# END SOLUTION"
   ]
  },
  {
   "cell_type": "raw",
   "id": "2debce57-ff0d-4eab-8a1c-cc6d9ecd6139",
   "metadata": {},
   "source": [
    "# END QUESTION"
   ]
  },
  {
   "cell_type": "markdown",
   "id": "667ed8c4-bc4e-4dee-b40f-6d765dc41896",
   "metadata": {},
   "source": [
    "<div class=\"alert alert-warning\">\n",
    "As we come to an end of our exploration of student demographics from UC Riverside, consider what we've learned about the different representations of categories, as well as what sorts of conclusions we were able to effectively draw from tabular vs. visualization methods. What more could we still do in order to more concretely explore student demographics? What type of information do you think is missing that could be useful? How might you change the way that some of these demographics are represented, if data collection could be more flexible and supportive of values that lie on a continuum or are subject to changes?\n",
    "</div>"
   ]
  },
  {
   "cell_type": "markdown",
   "id": "6a13ca49-6d7d-4112-ba18-4a8353d845e3",
   "metadata": {},
   "source": [
    "Going back to an idea we posed when starting to look into the `\"Gender\"` column: while this type of exploration is very important and can also be informative, it is also important to remember that it is not always enough to simply look at a trend like this and state it. Ultimately, it is typically very hard to encode data about humans into numbers and categories, **because in doing so, we lose information and context about the individual we are looking at.** In your analysis in the future, try to strike a balance of looking at interesting trends in the data and considering the original context of the data you're working with."
   ]
  },
  {
   "cell_type": "markdown",
   "id": "def96d13-8ae3-4942-bfbb-a711a5feac80",
   "metadata": {},
   "source": [
    "**Finally, for reference, here is the link to the Data 6 Python Reference (our Python cheat-sheet) so you can review some of the methods we've used for tables in this lab!**\n",
    "\n",
    "[Python Reference](http://data6.org/su23/reference)"
   ]
  },
  {
   "cell_type": "markdown",
   "id": "ae1572b7-e179-43e5-9944-e9fcc56a5f0e",
   "metadata": {},
   "source": [
    "---\n",
    "## Done! 😇\n",
    "\n",
    "That's it! There's nowhere for you to submit this, as labs are not assignments. However, please ask any questions you have with this notebook in lab or on Ed."
   ]
  },
  {
   "cell_type": "markdown",
   "id": "fad69802-4819-4e73-971b-187def132785",
   "metadata": {},
   "source": [
    "---\n",
    "\n",
    "To double-check your work, the cell below will rerun all of the autograder tests."
   ]
  },
  {
   "cell_type": "code",
   "execution_count": null,
   "id": "b77dbc1d-4c04-436e-afb2-53d9c98d2e53",
   "metadata": {},
   "outputs": [],
   "source": [
    "grader.check_all()"
   ]
  }
 ],
 "metadata": {
  "kernelspec": {
   "display_name": "Python 3 (ipykernel)",
   "language": "python",
   "name": "python3"
  },
  "language_info": {
   "codemirror_mode": {
    "name": "ipython",
    "version": 3
   },
   "file_extension": ".py",
   "mimetype": "text/x-python",
   "name": "python",
   "nbconvert_exporter": "python",
   "pygments_lexer": "ipython3",
   "version": "3.11.9"
  }
 },
 "nbformat": 4,
 "nbformat_minor": 5
}
