{
 "cells": [
  {
   "cell_type": "raw",
   "id": "22d89b73-ebd2-4988-b12c-8a722f7ea463",
   "metadata": {},
   "source": [
    "# ASSIGNMENT CONFIG\n",
    "name: lab05\n",
    "export_cell:\n",
    "    pdf: false\n",
    "    run_tests: false\n",
    "files:\n",
    "    - movies.csv\n",
    "generate:\n",
    "    show_hidden: true\n",
    "    requirements: requirements.txt\n",
    "    overwrite_requirements: true\n",
    "    run_tests: false\n",
    "    template_pdf: false\n",
    "    solutions_pdf: false"
   ]
  },
  {
   "cell_type": "code",
   "execution_count": 51,
   "id": "38841746-b160-4ecb-b3ec-eb30c09893ca",
   "metadata": {},
   "outputs": [],
   "source": [
    "from datascience import *\n",
    "import numpy as np\n",
    "import matplotlib.pyplot as plt\n",
    "plt.style.use(\"ggplot\")\n",
    "%matplotlib inline\n",
    "\n",
    "import warnings\n",
    "warnings.simplefilter('ignore')"
   ]
  },
  {
   "cell_type": "markdown",
   "id": "89480059-3c34-4be8-9ff2-26eba32b77c1",
   "metadata": {},
   "source": [
    "# Lab 5 – Advanced Table Methods\n",
    "\n",
    "## Data 6, Summer 2024\n",
    "\n",
    "Today we will be exploring some more complex table methods we can use! The `apply`, `group`, `pivot`, and `join` methods all allow us to perform different queries on our familiar tables. Understanding not only *how* each method works, but also *why* and *when* to use them are the key takeaways from this lab; by the end of it, we will be able to query tables in some pretty cool ways!\n",
    "\n",
    "These new methods allow us to do different operations than before. As such, it is becoming more and more important to remember how each method sits on our Data Science toolbelt. We should think of each new method as a **tool that serves a specific purpose**. Your job as a data scientist is not only to understand what each tool does, but when each tool is applicable in new situations!\n",
    "\n",
    "In this lab, we'll be working with a `movies` data set that contains information about various American films over time. It contains the following columns:\n",
    "1. `\"Film\"`: The name of the movie\n",
    "2. `\"Genre\"`: The genre of the movie\n",
    "3. `\"Year\"`: The year the movie was released\n",
    "4. `\"Lead Studio\"`: The primary movie studio responsible for producing the movie\n",
    "5. `\"Audience score %\"`: The score, out of 100%, given to the movie by viewers\n",
    "6. `\"Rotten Tomatoes %\"`: The score, out of 100%, given to the movies by the website [Rotten Tomatoes](https://www.rottentomatoes.com/)\n",
    "7. `\"Worldwide Gross (Millions)\"`: The total gross revenue, in millions of dollars, that the movie made\n",
    "8. `\"Quality\"`: Descriptive ranking of the movie based on audience score\n",
    "\n",
    "Let's load the dataset into a new table, `movies`, to get practice with the more advanced table methods."
   ]
  },
  {
   "cell_type": "code",
   "execution_count": null,
   "id": "f5a7d9ca-7097-43d0-9d26-2ef954c642f1",
   "metadata": {},
   "outputs": [],
   "source": [
    "movies = Table.read_table(\"data/movies.csv\")\n",
    "movies.show(5)"
   ]
  },
  {
   "cell_type": "markdown",
   "id": "f30d7133-1c4b-4f92-9cc0-6d4f1087a679",
   "metadata": {},
   "source": [
    "<hr style=\"border: 5px solid #003262;\" />\n",
    "<hr style=\"border: 1px solid #fdb515;\" />\n",
    "\n",
    "## Advanced Table Methods"
   ]
  },
  {
   "cell_type": "markdown",
   "id": "b74fdc37-0a14-42fa-959e-e15021c4b18d",
   "metadata": {},
   "source": [
    "### The [apply](http://data8.org/datascience/_autosummary/datascience.tables.Table.apply.html#datascience.tables.Table.apply) method\n",
    "\n",
    "The `apply` method allows us to map a function's behavior onto an entire column of a table. We can use built-in Python functions (like `max`) or we can define our own functions and then *apply* those functions to the columns of a table.\n",
    "\n",
    "The `apply` method takes at least 2 arguments. The first is a function, and the rest are as many column labels you need to run that function. The number of columns you need to specify is dependent on the number of arguments the function has. For example, if the function you provide needs two inputs, you need to list two columns for it to work on.\n",
    "\n",
    "`apply` returns a NumPy array of the transformed values. We can ask questions like \"How can I categorize the items in this column?\" (like converting grade percentages into letter grades from lecture). We can also make modifications to a table, like rounding all the values in a column to a certain accuracy.\n",
    "\n",
    "### Example Use\n",
    "We can see some examples of `apply` at work. Let's use `apply` to take the average of the two score percentages, `\"Audience score %\"` and `\"Rotten Tomatoes %\"`."
   ]
  },
  {
   "cell_type": "code",
   "execution_count": null,
   "id": "eaf09efc-2e92-4711-9782-242bf99af5ea",
   "metadata": {},
   "outputs": [],
   "source": [
    "def average_score(audience_score, rt_score):\n",
    "    \"Computes the average score between the audience score and Rotten Tomatoes score\"\n",
    "    return (audience_score + rt_score) / 2"
   ]
  },
  {
   "cell_type": "code",
   "execution_count": null,
   "id": "75403876-7f64-47f9-86a9-460a204dc2f2",
   "metadata": {},
   "outputs": [],
   "source": [
    "average_scores = movies.apply(average_score, \"Audience score %\", \"Rotten Tomatoes %\")\n",
    "average_scores"
   ]
  },
  {
   "cell_type": "markdown",
   "id": "3fdd9b1c-774a-4802-b194-06c9ddadac01",
   "metadata": {},
   "source": [
    "Now, let's add a new column called `\"Average score %\"` and populate it with the information we just assigned to `average_scores`. We'll re-assign this new table to `movies`."
   ]
  },
  {
   "cell_type": "code",
   "execution_count": null,
   "id": "1527ce1a-b498-4b8f-99a1-8d5f78f0a57d",
   "metadata": {},
   "outputs": [],
   "source": [
    "movies = movies.with_column(\"Average score %\", average_scores)\n",
    "movies.show(5)"
   ]
  },
  {
   "cell_type": "markdown",
   "id": "cd0ac9ec-ba8d-470e-ae83-896525577327",
   "metadata": {},
   "source": [
    "We can use `apply` in this way to add columns to a table that transforms something in the table to something that more people can understand more easily!\n",
    "\n",
    "### Input Type and Output Type\n",
    "\n",
    "Very quickly, we should talk about **input type** and **output type**. **Input type** is the *type* of the arguments in a function. A function can take in as input any of the types we have talked about so far in this class (int, str, boolean, etc.). The input type is very important when using the table methods we talk about today, because there can be behavior we do not expect if we give a function the wrong input type. Let's see an example of this behavior when we try to use our `average_score` function on a row that has an **input type** of `str` instead of `int`:"
   ]
  },
  {
   "cell_type": "code",
   "execution_count": null,
   "id": "b03decbc-20ac-4614-bfbc-d76ad34640af",
   "metadata": {},
   "outputs": [],
   "source": [
    "movies.apply(average_score, \"Genre\", \"Lead Studio\")"
   ]
  },
  {
   "cell_type": "markdown",
   "id": "dd94010e-a539-42ce-b945-d35ac36da255",
   "metadata": {},
   "source": [
    "The error message does not make it *explicitly* clear that the function you provided got an incorrect input type, but if you are using a table method and the error message seems to indicate incompatible types interacting with each other, that may be the issue. You can see this on the **last line of the error message**:\n",
    "\n",
    "```python\n",
    "TypeError: unsupported operand type(s) for /: 'str' and 'int'\n",
    "```\n",
    "\n",
    "In simple terms, it means you're trying to *divide a string by an integer*, which you cannot do in Python."
   ]
  },
  {
   "cell_type": "raw",
   "id": "5979d83a-4b45-432b-a8b7-77b4b579cd98",
   "metadata": {},
   "source": [
    "# BEGIN QUESTION\n",
    "name: q1_1"
   ]
  },
  {
   "cell_type": "markdown",
   "id": "d0547db0-5cc8-4232-a424-ef8b0c8fc4d1",
   "metadata": {},
   "source": [
    "### Question 1.1\n",
    "Fill in the function `convert_to_dollars` which converts a dollar amount from *millions of dollars* to *dollars*. Then, use the `apply` method to convert all values from the `\"Worldwide Gross (Millions)\"` column into dollars. Finally, create a new column in the `movies` table called `\"Worldwide Gross\"` using the array resulting from your call to `apply`.\n",
    "\n",
    "*Note*: The code for this question requires several steps. Feel free to create new cells to experiment!"
   ]
  },
  {
   "cell_type": "raw",
   "id": "81129feb-9c1f-422c-82e9-1a66cd0fa684",
   "metadata": {},
   "source": [
    "# BEGIN SOLUTION"
   ]
  },
  {
   "cell_type": "code",
   "execution_count": null,
   "id": "1fd86992-216f-4b56-b292-878829de6f78",
   "metadata": {},
   "outputs": [],
   "source": [
    "def convert_to_dollars(dollar_millions):\n",
    "    \"Converts a dollar amount from millions of dollars to dollars\"\n",
    "    ...\n",
    "\n",
    "dollars = ...\n",
    "movies = ...\n",
    "movies"
   ]
  },
  {
   "cell_type": "raw",
   "id": "42c77318-d83c-4f4c-875e-a7415e02077d",
   "metadata": {},
   "source": [
    "# END SOLUTION"
   ]
  },
  {
   "cell_type": "raw",
   "id": "b034a305-ce18-460f-9b30-5c33a5c001ce",
   "metadata": {},
   "source": [
    "# BEGIN TESTS"
   ]
  },
  {
   "cell_type": "code",
   "execution_count": null,
   "id": "85b1a634-d13a-4e4c-aea7-ce8560d30e39",
   "metadata": {},
   "outputs": [],
   "source": []
  },
  {
   "cell_type": "raw",
   "id": "3a065278-bfed-4039-99b3-2c466b61a7da",
   "metadata": {},
   "source": [
    "# END TESTS"
   ]
  },
  {
   "cell_type": "raw",
   "id": "f37a1d3a-a463-46c9-85ef-399c8fd3558a",
   "metadata": {},
   "source": [
    "# END QUESTION"
   ]
  },
  {
   "cell_type": "markdown",
   "id": "7ab287ea-dd98-4ed2-9b5e-8db4b63d41be",
   "metadata": {},
   "source": [
    "---\n",
    "### The [group](http://data8.org/datascience/_autosummary/datascience.tables.Table.group.html#datascience.tables.Table.group) method\n",
    "\n",
    "The `group` method is very helpful for organizing a table before asking more questions about it. you can think of the `group` method as organizing rows into bins based on one of their values. All the rows that share a column value go in the same bin! We saw this in action in Lab 3 when we grouped tables in order to visualize certain variables like `\"Month\"` or `\"Binge Drink\"` in the BRFSS data set. Now, we will learn how to use the `group` method ourselves.\n",
    "\n",
    "`group` takes in 1-2 arguments. The first is a column label to group by, and the second is an optional function argument to group on, which defaults to counting the number of rows in the bin. We will see some examples of how this optional argument works below.\n",
    "\n",
    "> For a visualization of the `.group` method, check out the [Data 8 Table Visualizer](http://www.data8.org/interactive_table_functions/)\n",
    "\n",
    "Let's use the `group` method to organize our movies by `Genre` so that we can see which genres are in our table:"
   ]
  },
  {
   "cell_type": "code",
   "execution_count": null,
   "id": "05106448-e595-4aee-9c0a-ade9b30062e2",
   "metadata": {},
   "outputs": [],
   "source": [
    "movies_by_genre = movies.group(\"Genre\")\n",
    "movies_by_genre"
   ]
  },
  {
   "cell_type": "raw",
   "id": "1c008b0c-b886-41f1-9247-0bcfac1ff509",
   "metadata": {},
   "source": [
    "# BEGIN QUESTION\n",
    "name: q1_2"
   ]
  },
  {
   "cell_type": "markdown",
   "id": "ba365faa-5df1-410e-814b-39491afddf30",
   "metadata": {},
   "source": [
    "### Question 1.2\n",
    "What if we want to group by movie *quality*? Fill in the following cell with code that will assign `quality_groups` to a grouped table based on the `\"Quality\"` column."
   ]
  },
  {
   "cell_type": "raw",
   "id": "290ac1b0-1c30-4fa9-9493-667ef40f7f4e",
   "metadata": {},
   "source": [
    "# BEGIN SOLUTION"
   ]
  },
  {
   "cell_type": "code",
   "execution_count": null,
   "id": "d5f3e468-8e8e-48f5-8d56-ad4e72939e3b",
   "metadata": {},
   "outputs": [],
   "source": [
    "quality_groups = ...\n",
    "quality_groups"
   ]
  },
  {
   "cell_type": "raw",
   "id": "9c1ce2f8-7b1d-452a-bc62-24261afe46eb",
   "metadata": {},
   "source": [
    "# END SOLUTION"
   ]
  },
  {
   "cell_type": "raw",
   "id": "2ca653b3-3c9b-4951-9369-9d113049f50b",
   "metadata": {},
   "source": [
    "# BEGIN TESTS"
   ]
  },
  {
   "cell_type": "code",
   "execution_count": null,
   "id": "8f9b7c63-6f6c-4685-bbb4-e99b48813064",
   "metadata": {},
   "outputs": [],
   "source": []
  },
  {
   "cell_type": "raw",
   "id": "fb9dfe82-846b-4ed7-bfe7-31000e3ebbd0",
   "metadata": {},
   "source": [
    "# END TESTS"
   ]
  },
  {
   "cell_type": "raw",
   "id": "1999e4cd-44d8-450c-a3ba-d0c8a0799d54",
   "metadata": {},
   "source": [
    "# END QUESTION"
   ]
  },
  {
   "cell_type": "markdown",
   "id": "32c7690d-7936-44d0-bbbb-5ea600514bbd",
   "metadata": {},
   "source": [
    "We can use the optional `collect` argument to ask more complex questions instead of just asking for the number of rows in each bin. For example, to see the average `\"Audience Score %\"` of each bin, we can use `np.mean` or `np.average`.\n",
    "\n",
    "*Note*: For our purposes, `np.mean` and `np.average` are exactly the same and you can use them interchangeably in the call to `group`. However, the function you choose will impact the **column names** of the resulting table."
   ]
  },
  {
   "cell_type": "code",
   "execution_count": null,
   "id": "55b6399b-3415-47f0-8633-a017af63680f",
   "metadata": {},
   "outputs": [],
   "source": [
    "quality_group_ratings = movies.group(\"Quality\", np.average)\n",
    "quality_group_ratings"
   ]
  },
  {
   "cell_type": "markdown",
   "id": "998c76b9-0391-4a64-b2c1-927e289baeaf",
   "metadata": {},
   "source": [
    "### Shortcomings of `collect` argument\n",
    "\n",
    "Look at the `quality_group_rating` table above -- notice that we cannot specify which column we want the average of. As you can see, the `group` method will take the average of every column. For columns where it is **possible to take the average** (columns with the correct input type), it does so. For columns where taking the average doesn't work (with strings in this case), Python outputs nothing for those column averages.\n",
    "\n",
    "Also, the column labels in this new table now have `average` at the end **except** the column label you grouped on. The name of the function you choose to group on will appear at the end of every label in the resulting table. **Like most table methods, the original table you are grouping does not change unless you reassign it**.\n",
    "\n",
    "To get only the column we wanted the average of, we can use the `select` method to get the `Quality` and the `Audience score % average`:"
   ]
  },
  {
   "cell_type": "code",
   "execution_count": null,
   "id": "4367100f-711a-4c1a-9bb6-5c489beefae5",
   "metadata": {},
   "outputs": [],
   "source": [
    "quality_ratings = quality_group_ratings.select(\"Quality\", \"Audience score % average\")\n",
    "quality_ratings"
   ]
  },
  {
   "cell_type": "raw",
   "id": "259e5624-646d-4b38-afb3-211681e587e6",
   "metadata": {},
   "source": [
    "# BEGIN QUESTION\n",
    "name: q1_3"
   ]
  },
  {
   "cell_type": "markdown",
   "id": "018b918f-65ea-4d53-be31-9bafa2a4c075",
   "metadata": {},
   "source": [
    "### Question 1.3\n",
    "The table defaults to sort on the column you grouped on, which in this case is alphabetical order for strings. Oscar asks you to sort the `quality_ratings` table in decreasing order based on the average audience score. \n",
    "\n",
    "Write a line of code below that assigns `ratings_sorted` to a table that matches Oscar's request."
   ]
  },
  {
   "cell_type": "raw",
   "id": "1404ab23-d961-4118-8ed3-587b48c3fa51",
   "metadata": {},
   "source": [
    "# BEGIN SOLUTION"
   ]
  },
  {
   "cell_type": "code",
   "execution_count": null,
   "id": "2ef40936-5778-4d38-9de1-e36f19dbe3c1",
   "metadata": {},
   "outputs": [],
   "source": [
    "ratings_sorted = ...\n",
    "ratings_sorted"
   ]
  },
  {
   "cell_type": "raw",
   "id": "f6398698-050e-4f01-a3b3-f4f985a78633",
   "metadata": {},
   "source": [
    "# END SOLUTION"
   ]
  },
  {
   "cell_type": "raw",
   "id": "b157ceb5-ab7f-40f9-9eac-9b0afdc82dc5",
   "metadata": {},
   "source": [
    "# BEGIN TESTS"
   ]
  },
  {
   "cell_type": "code",
   "execution_count": null,
   "id": "fd176905-282e-43ba-a0b6-d3c1f39ea66d",
   "metadata": {},
   "outputs": [],
   "source": []
  },
  {
   "cell_type": "raw",
   "id": "6f5ed45a-1f3e-4584-b049-79f4310ff11b",
   "metadata": {},
   "source": [
    "# END TESTS"
   ]
  },
  {
   "cell_type": "raw",
   "id": "3ee5a773-ea10-4fba-b84a-18f2e74fe006",
   "metadata": {},
   "source": [
    "# END QUESTION"
   ]
  },
  {
   "cell_type": "raw",
   "id": "1c266e44-be2a-4bfc-abd9-37e819ab9dfe",
   "metadata": {},
   "source": [
    "# BEGIN QUESTION\n",
    "name: q1_4"
   ]
  },
  {
   "cell_type": "markdown",
   "id": "b26b8d56-dfed-433a-bd56-3a595e8e549d",
   "metadata": {},
   "source": [
    "### Question 1.4\n",
    "After hearing that you have a handy `movies` table, Rebecca asks you the following question:\n",
    ">*Do well-liked movies make money?*\n",
    "\n",
    "It's your job to answer Rebecca's question. To do so, create a new table called `money_by_quality` with the following **two columns**:\n",
    "1. `\"Quality\"`: String describing the quality of a given movie\n",
    "2. `\"Worldwide Gross (Millions) mean\"`: The average gross revenue for each movie quality\n",
    "\n",
    "*Hint*: You may find the previous calls to `group` helpful."
   ]
  },
  {
   "cell_type": "raw",
   "id": "fa40e822-9a2f-4dfe-853d-fe2039a6882a",
   "metadata": {},
   "source": [
    "# BEGIN SOLUTION"
   ]
  },
  {
   "cell_type": "code",
   "execution_count": null,
   "id": "9f91aaae-97a6-4636-ac4c-2185bd459eee",
   "metadata": {},
   "outputs": [],
   "source": [
    "money_by_quality = ...\n",
    "money_by_quality"
   ]
  },
  {
   "cell_type": "raw",
   "id": "08a2c026-c8f8-44a7-9144-44ea9d948ee2",
   "metadata": {},
   "source": [
    "# END SOLUTION"
   ]
  },
  {
   "cell_type": "raw",
   "id": "d92ac58d-cf20-4bfa-b2f9-c93864b56d8c",
   "metadata": {},
   "source": [
    "# BEGIN TESTS"
   ]
  },
  {
   "cell_type": "code",
   "execution_count": null,
   "id": "4265f9b0-1773-4157-82a9-33d7b8608d08",
   "metadata": {},
   "outputs": [],
   "source": []
  },
  {
   "cell_type": "raw",
   "id": "30600ef3-dfe4-4c4e-a75c-78b0b02b8fce",
   "metadata": {},
   "source": [
    "# END TESTS"
   ]
  },
  {
   "cell_type": "raw",
   "id": "fbeeb827-7610-4cf5-b44c-87af8633b9b5",
   "metadata": {},
   "source": [
    "# END QUESTION"
   ]
  },
  {
   "cell_type": "markdown",
   "id": "27edbaf4-451b-44cd-89fd-076b7a02bf36",
   "metadata": {},
   "source": [
    "Look at that! Using the `group` method, we found that **\"Great\"** movies make an average of 215 million dollars while **\"Okay\"** movies only make an average of 71.7 million dollars. Let's report back to Rebecca!"
   ]
  },
  {
   "cell_type": "markdown",
   "id": "07ccc448-2e15-4716-aee3-840b81d7d886",
   "metadata": {},
   "source": [
    "---\n",
    "### The [pivot](http://data8.org/datascience/_autosummary/datascience.tables.Table.pivot.html#datascience.tables.Table.pivot) method\n",
    "\n",
    "The `pivot` method allows us to see the *intersection* of two of our column labels. `pivot` essentially sorts the contents of the dataset based on the combination of the two column labels you pivot on. All the table's rows that share values in the pivoting columns all go into the same bin, and this happens for all combinations of the first and second column you are pivoting on.\n",
    "\n",
    "The `pivot` method has 4 important arguments, 2 of which are mandatory and 2 of which are optional:\n",
    "\n",
    "| **Argument** | **Description** |\n",
    "| --- | --- |\n",
    "| `columns` | The label whose unique values will appear as the **columns** of the outputted pivot table |\n",
    "| `rows` | The label whose unique values will appear as the **rows** of the outputted pivot table |\n",
    "| *Optional:* `values` | Values to use when aggregating |\n",
    "| *Optional:* `collect` | Function used to aggregate the `values` provided in the previous argument |\n",
    "\n",
    "You must use the two `values` and `collect` arguments together, one does not work without the other.\n",
    "\n",
    "> For a visualization of the `.pivot` method, check out the [Data 8 Table Visualizer](http://www.data8.org/interactive_table_functions/)\n",
    "\n",
    "The best way to understand how `pivot` works is to look at some examples and talk about what happens. Here we will pivot the `movies` table on its `Genre` and `Quality` column labels to see how many of each type of *genre* are in each category of *quality*:"
   ]
  },
  {
   "cell_type": "code",
   "execution_count": null,
   "id": "efb759f6-57cf-41c3-89ed-75c5270bbbf9",
   "metadata": {},
   "outputs": [],
   "source": [
    "genre_quality_pivot = movies.pivot(\"Genre\", \"Quality\")\n",
    "genre_quality_pivot"
   ]
  },
  {
   "cell_type": "markdown",
   "id": "2bc1d73f-fd44-4c7b-a2c5-648528368c26",
   "metadata": {},
   "source": [
    "The way we can read this table is almost how we read a graph in a math class. To see how many **Good Comedies** there are, we look at the row corresponding to `Good` and the column corresponding to `Comedy`, so there are 18 **Good Comedies**.\n",
    "\n",
    "The default behavior of `pivot` is to just count the rows that appear at each intersection of the pivot. However, we can ask it to count another value in the table using any function we want! For example, if we want to know **the maximum amount of money** each intersection made instead of **how many** movies appear in each intersection, we can do that as well!"
   ]
  },
  {
   "cell_type": "code",
   "execution_count": null,
   "id": "0c2e31fb-6fd7-4118-99e7-e3ea593ff72a",
   "metadata": {},
   "outputs": [],
   "source": [
    "genre_quality_average_grosses = movies.pivot(\"Genre\", \"Quality\", values=\"Worldwide Gross (Millions)\", collect=max)\n",
    "genre_quality_average_grosses"
   ]
  },
  {
   "cell_type": "markdown",
   "id": "d5a0e32b-29a3-4725-b09f-7becc7d836a6",
   "metadata": {},
   "source": [
    "Based on this small dataset, it seems that the highest grossing film is not actually a \"Great\" film but rather a \"Good\" one. Run the following cell to find out what film it actually is!"
   ]
  },
  {
   "cell_type": "markdown",
   "id": "56bd714d-da11-4dff-979b-889af28f30ac",
   "metadata": {},
   "source": [
    "movies.where(\"Worldwide Gross (Millions)\", 709.82)"
   ]
  },
  {
   "cell_type": "markdown",
   "id": "0f62109d-fe22-4bcb-9321-3a26e5ac6dde",
   "metadata": {},
   "source": [
    "Ah, Twilight! Who can resist Robert Pattinson and Taylor Lautner?"
   ]
  },
  {
   "cell_type": "raw",
   "id": "301246d0-8d74-433b-b980-0b2a0ce04f06",
   "metadata": {},
   "source": [
    "# BEGIN QUESTION\n",
    "name: q1_5"
   ]
  },
  {
   "cell_type": "markdown",
   "id": "58da1120-dc8b-4993-8364-9b676098daaa",
   "metadata": {},
   "source": [
    "### Question 1.5 (Does Studio Matter?)\n",
    "Now, let's write a query that can tell us what genre of movie each studio tends to make, and how much those movies made in total. We can use the `pivot` method just like we did above to see the breakdown of movies by studio and genre, and then aggregate those rows by adding up the worldwide gross of each intersection!\n",
    "\n",
    "Assign `column_label` and `row_label` to column labels of `movies_with_qualities` that make the resulting `pivot` call have studios as the rows and genres as the columns.\n",
    "\n",
    "Assign `value_to_collect` to a column label that we can use to collect the data we need to ultimately see the total amount of money made by each intersection of genre and studio.\n",
    "\n",
    "Assign `collection_function` to a function you know that can add up all the movie earnings at each intersection"
   ]
  },
  {
   "cell_type": "raw",
   "id": "708071bc-01e3-4dcd-a86f-576e3390b98e",
   "metadata": {},
   "source": [
    "# BEGIN SOLUTION"
   ]
  },
  {
   "cell_type": "code",
   "execution_count": null,
   "id": "cf9504a1-2d49-4334-877b-e843220982b8",
   "metadata": {},
   "outputs": [],
   "source": [
    "column_label = ...\n",
    "row_label = ...\n",
    "value_to_collect = ...\n",
    "collection_function = ...\n",
    "\n",
    "studio_genre_total_gross = movies.pivot(column_label, row_label, value_to_collect, collection_function)\n",
    "studio_genre_total_gross"
   ]
  },
  {
   "cell_type": "raw",
   "id": "4bf85eed-158e-46f2-bedd-4383ee6e3e53",
   "metadata": {},
   "source": [
    "# END SOLUTION"
   ]
  },
  {
   "cell_type": "raw",
   "id": "5ba60cfb-db05-4d47-bf8a-83e18088c9d3",
   "metadata": {},
   "source": [
    "# BEGIN TESTS"
   ]
  },
  {
   "cell_type": "code",
   "execution_count": null,
   "id": "909e6965-da30-4f32-a546-4319c55fe846",
   "metadata": {},
   "outputs": [],
   "source": []
  },
  {
   "cell_type": "raw",
   "id": "762259fe-2a83-4c4d-b7b8-d49aab100a79",
   "metadata": {},
   "source": [
    "# END TESTS "
   ]
  },
  {
   "cell_type": "raw",
   "id": "c6be510d-8bc7-49b7-98c2-426f34e6ff7a",
   "metadata": {},
   "source": [
    "# END QUESTION"
   ]
  },
  {
   "cell_type": "markdown",
   "id": "717d1ec8-c113-4f1d-afa9-c049ee30b176",
   "metadata": {},
   "source": [
    "---\n",
    "### The [join](http://data8.org/datascience/_autosummary/datascience.tables.Table.join.html#datascience.tables.Table.join) method\n",
    "\n",
    "The last method we will talk about in this lab is the `join` method. This method allows us to combine two different tables together!\n",
    "\n",
    "The `join` method takes in 2 mandatory arguments and 1 optional argument:\n",
    "\n",
    "| **Column Name** | **Description** |\n",
    "| --- | --- |\n",
    "| `column_label` | a column to use to join |\n",
    "| `other` | another table |\n",
    "| *Optional:* `other_label` | `other`'s label to join on (if not the same as `column_label`) |\n",
    "\n",
    "If `other` has a label in common with the table you are joining with and this common label is the one you want to join on, then you do not need to use the optional argument. If you want to join on another column label or if neither table has a column label in common, then you can use the optional `other_label`.\n",
    "\n",
    "The way join works takes some getting used to, so let's look at some examples of `join` at work!\n",
    "\n",
    "We have the `dogs` and `owners` tables below, take a look at them a bit before we move on so you understand what data they contain:"
   ]
  },
  {
   "cell_type": "code",
   "execution_count": null,
   "id": "64467c37-2b0e-4a52-a1d4-8431bcb2e66e",
   "metadata": {},
   "outputs": [],
   "source": [
    "dogs = Table().with_columns(\n",
    "    \"Name\", np.array([\"Spot\", \"Rex\", \"Fluffy\", \"Doge\"]),\n",
    "    \"Breed\", np.array([\"Golden Retriever\", \"Cockapoo\", \"Corgi\", \"Coin\"]),\n",
    "    \"Owner\", np.array([\"James\", \"Will\", \"Josh\", \"Sandra\"]),\n",
    ")\n",
    "dogs"
   ]
  },
  {
   "cell_type": "code",
   "execution_count": null,
   "id": "3bace0e9-f80e-459c-8ffc-4f9343fc207a",
   "metadata": {},
   "outputs": [],
   "source": [
    "owners = Table().with_columns(\n",
    "    \"Owner\", np.array([\"James\", \"Josh\", \"Sandra\", \"Will\"]),\n",
    "    \"Owner Age\", np.array([18, 21, 20, 21])\n",
    ")\n",
    "owners"
   ]
  },
  {
   "cell_type": "markdown",
   "id": "d206a946-54cd-4efe-9543-108065b836ab",
   "metadata": {},
   "source": [
    "As you can see, we have a column in common: `Owner`. Let's join these two tables together so that we can have all the doggy data in one place!"
   ]
  },
  {
   "cell_type": "code",
   "execution_count": null,
   "id": "9dd69d76-4161-465d-bc12-ca46bc217272",
   "metadata": {},
   "outputs": [],
   "source": [
    "doggy_data = dogs.join(\"Owner\", owners)\n",
    "doggy_data"
   ]
  },
  {
   "cell_type": "markdown",
   "id": "944eaee5-b3b2-4508-818c-d98f49313cd8",
   "metadata": {},
   "source": [
    "This table now has all of our information in one place, which makes using it easier!\n",
    "\n",
    "Now let's take a look at a more common example, where the column labels being named differently can cause a problem. We will use the exact same `dogs` and `owners` tables, but we will change a column label on `owners`:"
   ]
  },
  {
   "cell_type": "code",
   "execution_count": null,
   "id": "7cb8e46e-a53e-48d7-92ee-cbb77941bb1d",
   "metadata": {},
   "outputs": [],
   "source": [
    "owners_new_label = owners.relabeled(\"Owner\", \"Name\")\n",
    "\n",
    "display(dogs, owners_new_label)"
   ]
  },
  {
   "cell_type": "markdown",
   "id": "2cfa1a32-219f-4614-a9c8-c81f9703b867",
   "metadata": {},
   "source": [
    "Now if we try to use the `join` method like we did last time, we run into an issue..."
   ]
  },
  {
   "cell_type": "code",
   "execution_count": null,
   "id": "89f15b0f-62ef-4311-bad3-eb65ea45806c",
   "metadata": {},
   "outputs": [],
   "source": [
    "doggy_data = dogs.join(\"Owner\", owners_new_label)\n",
    "doggy_data"
   ]
  },
  {
   "cell_type": "markdown",
   "id": "9ae50d50-c783-462c-b3f7-dc42274c6549",
   "metadata": {},
   "source": [
    "Because the `owners` table does not have a column label called `Owner`, we may try to use the one column label they do have in common: `Name`..."
   ]
  },
  {
   "cell_type": "code",
   "execution_count": null,
   "id": "38c307d0-1c75-487f-a40a-997ef79fd045",
   "metadata": {},
   "outputs": [],
   "source": [
    "doggy_data = dogs.join(\"Name\", owners_new_label)\n",
    "doggy_data"
   ]
  },
  {
   "cell_type": "markdown",
   "id": "3db6c7f7-1b2f-44b0-9c63-9eaf240a0f91",
   "metadata": {},
   "source": [
    "...but this doesn't appear to work either. This is not an error, there is simply no table outputted by this join call!\n",
    "\n",
    "This `join` call does not do what we want, because the `dogs` `Name` corresponds to the **dog's** name, but the `owners` `Name` corresponds to the **Owner's** name! No dog and owner have any of the same names, so there is no data to output in this `join` call!\n",
    "\n",
    "Instead, we have to make sure we join on the `Owner` column from `dogs` and the `Name` column from `owners`! We can do this using the third *optional* argument in the `join` method:"
   ]
  },
  {
   "cell_type": "code",
   "execution_count": null,
   "id": "1c159cd5-a060-4a98-9157-1face67af9e1",
   "metadata": {},
   "outputs": [],
   "source": [
    "doggy_data = dogs.join(\"Owner\", owners_new_label, \"Name\")\n",
    "doggy_data"
   ]
  },
  {
   "cell_type": "markdown",
   "id": "71b8bbd2-66b9-4f88-a382-5f235fc4bda2",
   "metadata": {},
   "source": [
    "In this table, the `Name` column now refers to the name of the dog, and the `Owner` column corresponds to the name of the owner!"
   ]
  },
  {
   "cell_type": "raw",
   "id": "895bdc79-453e-48aa-aff0-108ab97ad616",
   "metadata": {},
   "source": [
    "# BEGIN QUESTION\n",
    "name: q1_6"
   ]
  },
  {
   "cell_type": "markdown",
   "id": "3eb515a7-27bd-4c4b-8a32-74e11fbc44d5",
   "metadata": {},
   "source": [
    "### Question 1.6 (A Slightly Different `Join`)\n",
    "The `join` method can also change the number of rows in its output. If there are multiple rows in one table that match with one row in the other, the `join` method will include rows for each of these matches in the output. Also, if there is a row in a table with no match in the other, there will be no row in the output that represents this row. Let's implement both these situations in practice and see how they work:"
   ]
  },
  {
   "cell_type": "code",
   "execution_count": null,
   "id": "28b120d5-5c47-4904-8f37-76b89564ac42",
   "metadata": {},
   "outputs": [],
   "source": [
    "# Just run this cell\n",
    "# This new dogs table has a new extra dogs\n",
    "more_dogs = dogs.with_rows(make_array(make_array(\"Clifford\", \"Big Red\", \"Sandra\"), make_array(\"Doug\", \"Golden Retriever\", \"Russell\")))\n",
    "more_dogs"
   ]
  },
  {
   "cell_type": "markdown",
   "id": "2699c600-32fb-4d93-a4f0-a707191e2cab",
   "metadata": {},
   "source": [
    "**Task**: Before we exectute the join between these tables, we should be able to calculate how many rows should there be in the output. Assign the variable `more_dog_owner_rows` to the number of rows that should result from joining `more_dogs` with `owners_new_label`. Run the cell below to see them again for clarity:"
   ]
  },
  {
   "cell_type": "code",
   "execution_count": null,
   "id": "934ed0ae-661f-4b3a-a638-c86d06e3560f",
   "metadata": {},
   "outputs": [],
   "source": [
    "display(more_dogs, owners_new_label)"
   ]
  },
  {
   "cell_type": "raw",
   "id": "fe9b16f1-5f9b-413d-a4c2-0bcd01bd9e21",
   "metadata": {},
   "source": [
    "# BEGIN SOLUTION"
   ]
  },
  {
   "cell_type": "code",
   "execution_count": null,
   "id": "15f94996-1b4a-4d03-b0fd-dc36e9d2e9af",
   "metadata": {},
   "outputs": [],
   "source": [
    "more_dog_owner_rows = ...\n",
    "more_dog_owner_rows"
   ]
  },
  {
   "cell_type": "raw",
   "id": "219306bc-ddc7-446f-ab29-483f8214421f",
   "metadata": {},
   "source": [
    "# END SOLUTION"
   ]
  },
  {
   "cell_type": "raw",
   "id": "4c241861-7aac-4e5f-98c5-d78b0ad85d42",
   "metadata": {},
   "source": [
    "# BEGIN TESTS"
   ]
  },
  {
   "cell_type": "code",
   "execution_count": null,
   "id": "614569f1-2e1b-4603-a2ea-88eb46d58524",
   "metadata": {},
   "outputs": [],
   "source": []
  },
  {
   "cell_type": "raw",
   "id": "b3121b96-cb8b-4057-afa5-51523efd04be",
   "metadata": {},
   "source": [
    "# END TESTS"
   ]
  },
  {
   "cell_type": "raw",
   "id": "e067471d-7659-4e03-a829-04f39596b870",
   "metadata": {},
   "source": [
    "# END QUESTION"
   ]
  },
  {
   "cell_type": "markdown",
   "id": "14e51e2c-a75b-4542-b02e-4de3e82f050f",
   "metadata": {},
   "source": [
    "#### Confirm your answer\n",
    "\n",
    "Remember, each row in the `more_dogs` table only gets a row in the output if it matches a row in `owners_new_label`"
   ]
  },
  {
   "cell_type": "code",
   "execution_count": null,
   "id": "252694c2-59c5-4a44-a096-0573dce10ee0",
   "metadata": {},
   "outputs": [],
   "source": [
    "# If an owner in the table has 2 dogs, both dogs should appear in the output\n",
    "# If a dog has no owner in the owners table, the dog does not appear in the output\n",
    "complex_doggy_data = more_dogs.join(\"Owner\", owners_new_label, \"Name\")\n",
    "complex_doggy_data"
   ]
  },
  {
   "cell_type": "code",
   "execution_count": null,
   "id": "ca8040ed-11e3-4cb4-8e1b-9c8dd5e99ddd",
   "metadata": {},
   "outputs": [],
   "source": [
    "# Doug is not in the new table, and both Sandra's dogs are present for a total of 5 rows\n",
    "complex_doggy_data.num_rows"
   ]
  },
  {
   "cell_type": "markdown",
   "id": "9cbaff31-15c7-4f28-b1d9-a68fe8ccf968",
   "metadata": {},
   "source": [
    "As we expect, both `Spot` and `Clifford` appear as Sandra's dogs, but `Doug` does not appear in the table (fear not, he still has an owner, but `Russell` is not in the owners table)."
   ]
  },
  {
   "cell_type": "markdown",
   "id": "ce98a085-9924-4b00-92af-0fa7ebafb097",
   "metadata": {},
   "source": [
    "---\n",
    "## Done! 😇\n",
    "\n",
    "That's it! There's nowhere for you to submit this, as labs are not assignments. However, please ask any questions you have with this notebook in lab or on Ed.\n",
    "\n",
    "There are no extra problems this week, good luck with the homework!"
   ]
  },
  {
   "cell_type": "markdown",
   "id": "2c8aba47-e313-4fe7-903c-5c9fa6e5330b",
   "metadata": {},
   "source": [
    "---\n",
    "\n",
    "To double-check your work, the cell below will rerun all of the autograder tests."
   ]
  },
  {
   "cell_type": "code",
   "execution_count": null,
   "id": "acaf60f5-a737-4b7e-9b01-c742097ec8b7",
   "metadata": {},
   "outputs": [],
   "source": [
    "grader.check_all()"
   ]
  }
 ],
 "metadata": {
  "kernelspec": {
   "display_name": "Python 3 (ipykernel)",
   "language": "python",
   "name": "python3"
  },
  "language_info": {
   "codemirror_mode": {
    "name": "ipython",
    "version": 3
   },
   "file_extension": ".py",
   "mimetype": "text/x-python",
   "name": "python",
   "nbconvert_exporter": "python",
   "pygments_lexer": "ipython3",
   "version": "3.11.9"
  }
 },
 "nbformat": 4,
 "nbformat_minor": 5
}
