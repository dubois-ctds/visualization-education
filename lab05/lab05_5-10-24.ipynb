{
 "cells": [
  {
   "cell_type": "raw",
   "id": "22d89b73-ebd2-4988-b12c-8a722f7ea463",
   "metadata": {},
   "source": [
    "# ASSIGNMENT CONFIG\n",
    "name: lab05\n",
    "export_cell:\n",
    "    pdf: false\n",
    "    run_tests: false\n",
    "files:\n",
    "    - admission_major.csv\n",
    "    - admission.csv\n",
    "    - averages.csv\n",
    "    - bachelors.csv\n",
    "    - clean_data.csv\n",
    "    - education.csv\n",
    "    - experience_age_avg.csv\n",
    "    - experience_age_salary_avg.csv\n",
    "    - gender.csv\n",
    "    - hs.csv\n",
    "    - masters.csv\n",
    "    - phd.csv\n",
    "    - Salary_Data.csv\n",
    "    - UCBerkeley1973_Admission.csv\n",
    "generate:\n",
    "    show_hidden: true\n",
    "    requirements: requirements.txt\n",
    "    overwrite_requirements: true\n",
    "    run_tests: false\n",
    "    template_pdf: false\n",
    "    solutions_pdf: false"
   ]
  },
  {
   "cell_type": "code",
   "execution_count": 51,
   "id": "38841746-b160-4ecb-b3ec-eb30c09893ca",
   "metadata": {},
   "outputs": [],
   "source": [
    "from datascience import *\n",
    "import numpy as np\n",
    "import matplotlib.pyplot as plt\n",
    "plt.style.use(\"ggplot\")\n",
    "%matplotlib inline\n",
    "\n",
    "import warnings\n",
    "warnings.simplefilter('ignore')"
   ]
  },
  {
   "cell_type": "markdown",
   "id": "89480059-3c34-4be8-9ff2-26eba32b77c1",
   "metadata": {},
   "source": [
    "# Lab 5 – Advanced Table Methods\n",
    "\n",
    "## Data 6, Summer 2024\n",
    "\n",
    "Today we will be exploring some more complex table methods we can use! The `apply`, `group`, `pivot`, and `join` methods all allow us to perform different queries on our familiar tables. Understanding not only *how* each method works, but also *why* and *when* to use them are the key takeaways from this lab; by the end of it, we will be able to query tables in some pretty cool ways!\n",
    "\n",
    "These new methods allow us to do different operations than before. As such, it is becoming more and more important to remember how each method sits on our Data Science toolbelt. We should think of each new method as a **tool that serves a specific purpose**. Your job as a data scientist is not only to understand what each tool does, but when each tool is applicable in new situations!\n",
    "\n",
    "In this lab, we'll be working with a `movies` data set that contains information about various American films over time. It contains the following columns:\n",
    "1. `\"Film\"`: The name of the movie\n",
    "2. `\"Genre\"`: The genre of the movie\n",
    "3. `\"Year\"`: The year the movie was released\n",
    "4. `\"Lead Studio\"`: The primary movie studio responsible for producing the movie\n",
    "5. `\"Audience score %\"`: The score, out of 100%, given to the movie by viewers\n",
    "6. `\"Rotten Tomatoes %\"`: The score, out of 100%, given to the movies by the website [Rotten Tomatoes](https://www.rottentomatoes.com/)\n",
    "7. `\"Worldwide Gross (Millions)\"`: The total gross revenue, in millions of dollars, that the movie made\n",
    "8. `\"Quality\"`: Descriptive ranking of the movie based on audience score\n",
    "\n",
    "Let's load the dataset into a new table, `movies`, to get practice with the more advanced table methods."
   ]
  },
  {
   "cell_type": "code",
   "execution_count": null,
   "id": "f5a7d9ca-7097-43d0-9d26-2ef954c642f1",
   "metadata": {},
   "outputs": [],
   "source": [
    "movies = Table.read_table(\"data/movies.csv\")\n",
    "movies.show(5)"
   ]
  },
  {
   "cell_type": "markdown",
   "id": "f30d7133-1c4b-4f92-9cc0-6d4f1087a679",
   "metadata": {},
   "source": [
    "<hr style=\"border: 5px solid #003262;\" />\n",
    "<hr style=\"border: 1px solid #fdb515;\" />\n",
    "\n",
    "## Part 1: Advanced Table Methods"
   ]
  },
  {
   "cell_type": "markdown",
   "id": "b74fdc37-0a14-42fa-959e-e15021c4b18d",
   "metadata": {},
   "source": [
    "### The [apply](http://data8.org/datascience/_autosummary/datascience.tables.Table.apply.html#datascience.tables.Table.apply) method\n",
    "\n",
    "The `apply` method allows us to map a function's behavior onto an entire column of a table. We can use built-in Python functions (like `max`) or we can define our own functions and then *apply* those functions to the columns of a table.\n",
    "\n",
    "The `apply` method takes at least 2 arguments. The first is a function, and the rest are as many column labels you need to run that function. The number of columns you need to specify is dependent on the number of arguments the function has. For example, if the function you provide needs two inputs, you need to list two columns for it to work on.\n",
    "\n",
    "`apply` returns a NumPy array of the transformed values. We can ask questions like \"How can I categorize the items in this column?\" (like converting grade percentages into letter grades from lecture). We can also make modifications to a table, like rounding all the values in a column to a certain accuracy.\n",
    "\n",
    "### Example Use\n",
    "We can see some examples of `apply` at work. Let's use `apply` to take the average of the two score percentages, `\"Audience score %\"` and `\"Rotten Tomatoes %\"`."
   ]
  },
  {
   "cell_type": "code",
   "execution_count": null,
   "id": "eaf09efc-2e92-4711-9782-242bf99af5ea",
   "metadata": {},
   "outputs": [],
   "source": [
    "def average_score(audience_score, rt_score):\n",
    "    \"Computes the average score between the audience score and Rotten Tomatoes score\"\n",
    "    return (audience_score + rt_score) / 2"
   ]
  },
  {
   "cell_type": "code",
   "execution_count": null,
   "id": "75403876-7f64-47f9-86a9-460a204dc2f2",
   "metadata": {},
   "outputs": [],
   "source": [
    "average_scores = movies.apply(average_score, \"Audience score %\", \"Rotten Tomatoes %\")\n",
    "average_scores"
   ]
  },
  {
   "cell_type": "markdown",
   "id": "3fdd9b1c-774a-4802-b194-06c9ddadac01",
   "metadata": {},
   "source": [
    "Now, let's add a new column called `\"Average score %\"` and populate it with the information we just assigned to `average_scores`. We'll re-assign this new table to `movies`."
   ]
  },
  {
   "cell_type": "code",
   "execution_count": null,
   "id": "1527ce1a-b498-4b8f-99a1-8d5f78f0a57d",
   "metadata": {},
   "outputs": [],
   "source": [
    "movies = movies.with_column(\"Average score %\", average_scores)\n",
    "movies.show(5)"
   ]
  },
  {
   "cell_type": "markdown",
   "id": "cd0ac9ec-ba8d-470e-ae83-896525577327",
   "metadata": {},
   "source": [
    "We can use `apply` in this way to add columns to a table that transforms something in the table to something that more people can understand more easily!\n",
    "\n",
    "### Input Type and Output Type\n",
    "\n",
    "Very quickly, we should talk about **input type** and **output type**. **Input type** is the *type* of the arguments in a function. A function can take in as input any of the types we have talked about so far in this class (int, str, boolean, etc.). The input type is very important when using the table methods we talk about today, because there can be behavior we do not expect if we give a function the wrong input type. Let's see an example of this behavior when we try to use our `average_score` function on a row that has an **input type** of `str` instead of `int`:"
   ]
  },
  {
   "cell_type": "code",
   "execution_count": null,
   "id": "b03decbc-20ac-4614-bfbc-d76ad34640af",
   "metadata": {},
   "outputs": [],
   "source": [
    "movies.apply(average_score, \"Genre\", \"Lead Studio\")"
   ]
  },
  {
   "cell_type": "markdown",
   "id": "dd94010e-a539-42ce-b945-d35ac36da255",
   "metadata": {},
   "source": [
    "The error message does not make it *explicitly* clear that the function you provided got an incorrect input type, but if you are using a table method and the error message seems to indicate incompatible types interacting with each other, that may be the issue. You can see this on the **last line of the error message**:\n",
    "\n",
    "```python\n",
    "TypeError: unsupported operand type(s) for /: 'str' and 'int'\n",
    "```\n",
    "\n",
    "In simple terms, it means you're trying to *divide a string by an integer*, which you cannot do in Python."
   ]
  },
  {
   "cell_type": "raw",
   "id": "5979d83a-4b45-432b-a8b7-77b4b579cd98",
   "metadata": {},
   "source": [
    "# BEGIN QUESTION\n",
    "name: q1_1"
   ]
  },
  {
   "cell_type": "markdown",
   "id": "d0547db0-5cc8-4232-a424-ef8b0c8fc4d1",
   "metadata": {},
   "source": [
    "### Question 1.1\n",
    "Fill in the function `convert_to_dollars` which converts a dollar amount from *millions of dollars* to *dollars*. Then, use the `apply` method to convert all values from the `\"Worldwide Gross (Millions)\"` column into dollars. Finally, create a new column in the `movies` table called `\"Worldwide Gross\"` using the array resulting from your call to `apply`.\n",
    "\n",
    "*Note*: The code for this question requires several steps. Feel free to create new cells to experiment!"
   ]
  },
  {
   "cell_type": "raw",
   "id": "81129feb-9c1f-422c-82e9-1a66cd0fa684",
   "metadata": {},
   "source": [
    "# BEGIN SOLUTION"
   ]
  },
  {
   "cell_type": "code",
   "execution_count": null,
   "id": "1fd86992-216f-4b56-b292-878829de6f78",
   "metadata": {},
   "outputs": [],
   "source": [
    "def convert_to_dollars(dollar_millions):\n",
    "    \"Converts a dollar amount from millions of dollars to dollars\"\n",
    "    ...\n",
    "\n",
    "dollars = ...\n",
    "movies = ...\n",
    "movies"
   ]
  },
  {
   "cell_type": "raw",
   "id": "42c77318-d83c-4f4c-875e-a7415e02077d",
   "metadata": {},
   "source": [
    "# END SOLUTION"
   ]
  },
  {
   "cell_type": "raw",
   "id": "b034a305-ce18-460f-9b30-5c33a5c001ce",
   "metadata": {},
   "source": [
    "# BEGIN TESTS"
   ]
  },
  {
   "cell_type": "code",
   "execution_count": null,
   "id": "85b1a634-d13a-4e4c-aea7-ce8560d30e39",
   "metadata": {},
   "outputs": [],
   "source": []
  },
  {
   "cell_type": "raw",
   "id": "3a065278-bfed-4039-99b3-2c466b61a7da",
   "metadata": {},
   "source": [
    "# END TESTS"
   ]
  },
  {
   "cell_type": "raw",
   "id": "f37a1d3a-a463-46c9-85ef-399c8fd3558a",
   "metadata": {},
   "source": [
    "# END QUESTION"
   ]
  },
  {
   "cell_type": "markdown",
   "id": "7ab287ea-dd98-4ed2-9b5e-8db4b63d41be",
   "metadata": {},
   "source": [
    "---\n",
    "### The [group](http://data8.org/datascience/_autosummary/datascience.tables.Table.group.html#datascience.tables.Table.group) method\n",
    "\n",
    "The `group` method is very helpful for organizing a table before asking more questions about it. you can think of the `group` method as organizing rows into bins based on one of their values. All the rows that share a column value go in the same bin! We saw this in action in Lab 3 when we grouped tables in order to visualize certain variables like `\"Month\"` or `\"Binge Drink\"` in the BRFSS data set. Now, we will learn how to use the `group` method ourselves.\n",
    "\n",
    "`group` takes in 1-2 arguments. The first is a column label to group by, and the second is an optional function argument to group on, which defaults to counting the number of rows in the bin. We will see some examples of how this optional argument works below.\n",
    "\n",
    "> For a visualization of the `.group` method, check out the [Data 8 Table Visualizer](http://www.data8.org/interactive_table_functions/)\n",
    "\n",
    "Let's use the `group` method to organize our movies by `Genre` so that we can see which genres are in our table:"
   ]
  },
  {
   "cell_type": "code",
   "execution_count": null,
   "id": "05106448-e595-4aee-9c0a-ade9b30062e2",
   "metadata": {},
   "outputs": [],
   "source": [
    "movies_by_genre = movies.group(\"Genre\")\n",
    "movies_by_genre"
   ]
  },
  {
   "cell_type": "raw",
   "id": "1c008b0c-b886-41f1-9247-0bcfac1ff509",
   "metadata": {},
   "source": [
    "# BEGIN QUESTION\n",
    "name: q1_2"
   ]
  },
  {
   "cell_type": "markdown",
   "id": "ba365faa-5df1-410e-814b-39491afddf30",
   "metadata": {},
   "source": [
    "### Question 1.2\n",
    "What if we want to group by movie *quality*? Fill in the following cell with code that will assign `quality_groups` to a grouped table based on the `\"Quality\"` column."
   ]
  },
  {
   "cell_type": "raw",
   "id": "290ac1b0-1c30-4fa9-9493-667ef40f7f4e",
   "metadata": {},
   "source": [
    "# BEGIN SOLUTION"
   ]
  },
  {
   "cell_type": "code",
   "execution_count": null,
   "id": "d5f3e468-8e8e-48f5-8d56-ad4e72939e3b",
   "metadata": {},
   "outputs": [],
   "source": [
    "quality_groups = ...\n",
    "quality_groups"
   ]
  },
  {
   "cell_type": "raw",
   "id": "9c1ce2f8-7b1d-452a-bc62-24261afe46eb",
   "metadata": {},
   "source": [
    "# END SOLUTION"
   ]
  },
  {
   "cell_type": "raw",
   "id": "2ca653b3-3c9b-4951-9369-9d113049f50b",
   "metadata": {},
   "source": [
    "# BEGIN TESTS"
   ]
  },
  {
   "cell_type": "code",
   "execution_count": null,
   "id": "8f9b7c63-6f6c-4685-bbb4-e99b48813064",
   "metadata": {},
   "outputs": [],
   "source": []
  },
  {
   "cell_type": "raw",
   "id": "fb9dfe82-846b-4ed7-bfe7-31000e3ebbd0",
   "metadata": {},
   "source": [
    "# END TESTS"
   ]
  },
  {
   "cell_type": "raw",
   "id": "1999e4cd-44d8-450c-a3ba-d0c8a0799d54",
   "metadata": {},
   "source": [
    "# END QUESTION"
   ]
  },
  {
   "cell_type": "markdown",
   "id": "32c7690d-7936-44d0-bbbb-5ea600514bbd",
   "metadata": {},
   "source": [
    "We can use the optional `collect` argument to ask more complex questions instead of just asking for the number of rows in each bin. For example, to see the average `\"Audience Score %\"` of each bin, we can use `np.mean` or `np.average`.\n",
    "\n",
    "*Note*: For our purposes, `np.mean` and `np.average` are exactly the same and you can use them interchangeably in the call to `group`. However, the function you choose will impact the **column names** of the resulting table."
   ]
  },
  {
   "cell_type": "code",
   "execution_count": null,
   "id": "55b6399b-3415-47f0-8633-a017af63680f",
   "metadata": {},
   "outputs": [],
   "source": [
    "quality_group_ratings = movies.group(\"Quality\", np.average)\n",
    "quality_group_ratings"
   ]
  },
  {
   "cell_type": "markdown",
   "id": "998c76b9-0391-4a64-b2c1-927e289baeaf",
   "metadata": {},
   "source": [
    "### Shortcomings of `collect` argument\n",
    "\n",
    "Look at the `quality_group_rating` table above -- notice that we cannot specify which column we want the average of. As you can see, the `group` method will take the average of every column. For columns where it is **possible to take the average** (columns with the correct input type), it does so. For columns where taking the average doesn't work (with strings in this case), Python outputs nothing for those column averages.\n",
    "\n",
    "Also, the column labels in this new table now have `average` at the end **except** the column label you grouped on. The name of the function you choose to group on will appear at the end of every label in the resulting table. **Like most table methods, the original table you are grouping does not change unless you reassign it**.\n",
    "\n",
    "To get only the column we wanted the average of, we can use the `select` method to get the `Quality` and the `Audience score % average`:"
   ]
  },
  {
   "cell_type": "code",
   "execution_count": null,
   "id": "4367100f-711a-4c1a-9bb6-5c489beefae5",
   "metadata": {},
   "outputs": [],
   "source": [
    "quality_ratings = quality_group_ratings.select(\"Quality\", \"Audience score % average\")\n",
    "quality_ratings"
   ]
  },
  {
   "cell_type": "raw",
   "id": "259e5624-646d-4b38-afb3-211681e587e6",
   "metadata": {},
   "source": [
    "# BEGIN QUESTION\n",
    "name: q1_3"
   ]
  },
  {
   "cell_type": "markdown",
   "id": "018b918f-65ea-4d53-be31-9bafa2a4c075",
   "metadata": {},
   "source": [
    "### Question 1.3\n",
    "The table defaults to sort on the column you grouped on, which in this case is alphabetical order for strings. Oscar asks you to sort the `quality_ratings` table in decreasing order based on the average audience score. \n",
    "\n",
    "Write a line of code below that assigns `ratings_sorted` to a table that matches Oscar's request."
   ]
  },
  {
   "cell_type": "raw",
   "id": "1404ab23-d961-4118-8ed3-587b48c3fa51",
   "metadata": {},
   "source": [
    "# BEGIN SOLUTION"
   ]
  },
  {
   "cell_type": "code",
   "execution_count": null,
   "id": "2ef40936-5778-4d38-9de1-e36f19dbe3c1",
   "metadata": {},
   "outputs": [],
   "source": [
    "ratings_sorted = ...\n",
    "ratings_sorted"
   ]
  },
  {
   "cell_type": "raw",
   "id": "f6398698-050e-4f01-a3b3-f4f985a78633",
   "metadata": {},
   "source": [
    "# END SOLUTION"
   ]
  },
  {
   "cell_type": "raw",
   "id": "b157ceb5-ab7f-40f9-9eac-9b0afdc82dc5",
   "metadata": {},
   "source": [
    "# BEGIN TESTS"
   ]
  },
  {
   "cell_type": "code",
   "execution_count": null,
   "id": "fd176905-282e-43ba-a0b6-d3c1f39ea66d",
   "metadata": {},
   "outputs": [],
   "source": []
  },
  {
   "cell_type": "raw",
   "id": "6f5ed45a-1f3e-4584-b049-79f4310ff11b",
   "metadata": {},
   "source": [
    "# END TESTS"
   ]
  },
  {
   "cell_type": "raw",
   "id": "3ee5a773-ea10-4fba-b84a-18f2e74fe006",
   "metadata": {},
   "source": [
    "# END QUESTION"
   ]
  },
  {
   "cell_type": "raw",
   "id": "1c266e44-be2a-4bfc-abd9-37e819ab9dfe",
   "metadata": {},
   "source": [
    "# BEGIN QUESTION\n",
    "name: q1_4"
   ]
  },
  {
   "cell_type": "markdown",
   "id": "b26b8d56-dfed-433a-bd56-3a595e8e549d",
   "metadata": {},
   "source": [
    "### Question 1.4\n",
    "After hearing that you have a handy `movies` table, Rebecca asks you the following question:\n",
    ">*Do well-liked movies make money?*\n",
    "\n",
    "It's your job to answer Rebecca's question. To do so, create a new table called `money_by_quality` with the following **two columns**:\n",
    "1. `\"Quality\"`: String describing the quality of a given movie\n",
    "2. `\"Worldwide Gross (Millions) mean\"`: The average gross revenue for each movie quality\n",
    "\n",
    "*Hint*: You may find the previous calls to `group` helpful."
   ]
  },
  {
   "cell_type": "raw",
   "id": "fa40e822-9a2f-4dfe-853d-fe2039a6882a",
   "metadata": {},
   "source": [
    "# BEGIN SOLUTION"
   ]
  },
  {
   "cell_type": "code",
   "execution_count": null,
   "id": "9f91aaae-97a6-4636-ac4c-2185bd459eee",
   "metadata": {},
   "outputs": [],
   "source": [
    "money_by_quality = ...\n",
    "money_by_quality"
   ]
  },
  {
   "cell_type": "raw",
   "id": "08a2c026-c8f8-44a7-9144-44ea9d948ee2",
   "metadata": {},
   "source": [
    "# END SOLUTION"
   ]
  },
  {
   "cell_type": "raw",
   "id": "d92ac58d-cf20-4bfa-b2f9-c93864b56d8c",
   "metadata": {},
   "source": [
    "# BEGIN TESTS"
   ]
  },
  {
   "cell_type": "code",
   "execution_count": null,
   "id": "4265f9b0-1773-4157-82a9-33d7b8608d08",
   "metadata": {},
   "outputs": [],
   "source": []
  },
  {
   "cell_type": "raw",
   "id": "30600ef3-dfe4-4c4e-a75c-78b0b02b8fce",
   "metadata": {},
   "source": [
    "# END TESTS"
   ]
  },
  {
   "cell_type": "raw",
   "id": "fbeeb827-7610-4cf5-b44c-87af8633b9b5",
   "metadata": {},
   "source": [
    "# END QUESTION"
   ]
  },
  {
   "cell_type": "markdown",
   "id": "27edbaf4-451b-44cd-89fd-076b7a02bf36",
   "metadata": {},
   "source": [
    "Look at that! Using the `group` method, we found that **\"Great\"** movies make an average of 215 million dollars while **\"Okay\"** movies only make an average of 71.7 million dollars. Let's report back to Rebecca!"
   ]
  },
  {
   "cell_type": "markdown",
   "id": "07ccc448-2e15-4716-aee3-840b81d7d886",
   "metadata": {},
   "source": [
    "---\n",
    "### The [pivot](http://data8.org/datascience/_autosummary/datascience.tables.Table.pivot.html#datascience.tables.Table.pivot) method\n",
    "\n",
    "The `pivot` method allows us to see the *intersection* of two of our column labels. `pivot` essentially sorts the contents of the dataset based on the combination of the two column labels you pivot on. All the table's rows that share values in the pivoting columns all go into the same bin, and this happens for all combinations of the first and second column you are pivoting on.\n",
    "\n",
    "The `pivot` method has 4 important arguments, 2 of which are mandatory and 2 of which are optional:\n",
    "\n",
    "| **Argument** | **Description** |\n",
    "| --- | --- |\n",
    "| `columns` | The label whose unique values will appear as the **columns** of the outputted pivot table |\n",
    "| `rows` | The label whose unique values will appear as the **rows** of the outputted pivot table |\n",
    "| *Optional:* `values` | Values to use when aggregating |\n",
    "| *Optional:* `collect` | Function used to aggregate the `values` provided in the previous argument |\n",
    "\n",
    "You must use the two `values` and `collect` arguments together, one does not work without the other.\n",
    "\n",
    "> For a visualization of the `.pivot` method, check out the [Data 8 Table Visualizer](http://www.data8.org/interactive_table_functions/)\n",
    "\n",
    "The best way to understand how `pivot` works is to look at some examples and talk about what happens. Here we will pivot the `movies` table on its `Genre` and `Quality` column labels to see how many of each type of *genre* are in each category of *quality*:"
   ]
  },
  {
   "cell_type": "code",
   "execution_count": null,
   "id": "efb759f6-57cf-41c3-89ed-75c5270bbbf9",
   "metadata": {},
   "outputs": [],
   "source": [
    "genre_quality_pivot = movies.pivot(\"Genre\", \"Quality\")\n",
    "genre_quality_pivot"
   ]
  },
  {
   "cell_type": "markdown",
   "id": "2bc1d73f-fd44-4c7b-a2c5-648528368c26",
   "metadata": {},
   "source": [
    "The way we can read this table is almost how we read a graph in a math class. To see how many **Good Comedies** there are, we look at the row corresponding to `Good` and the column corresponding to `Comedy`, so there are 18 **Good Comedies**.\n",
    "\n",
    "The default behavior of `pivot` is to just count the rows that appear at each intersection of the pivot. However, we can ask it to count another value in the table using any function we want! For example, if we want to know **the maximum amount of money** each intersection made instead of **how many** movies appear in each intersection, we can do that as well!"
   ]
  },
  {
   "cell_type": "code",
   "execution_count": null,
   "id": "0c2e31fb-6fd7-4118-99e7-e3ea593ff72a",
   "metadata": {},
   "outputs": [],
   "source": [
    "genre_quality_average_grosses = movies.pivot(\"Genre\", \"Quality\", values=\"Worldwide Gross (Millions)\", collect=max)\n",
    "genre_quality_average_grosses"
   ]
  },
  {
   "cell_type": "markdown",
   "id": "d5a0e32b-29a3-4725-b09f-7becc7d836a6",
   "metadata": {},
   "source": [
    "Based on this small dataset, it seems that the highest grossing film is not actually a \"Great\" film but rather a \"Good\" one. Run the following cell to find out what film it actually is!"
   ]
  },
  {
   "cell_type": "markdown",
   "id": "56bd714d-da11-4dff-979b-889af28f30ac",
   "metadata": {},
   "source": [
    "movies.where(\"Worldwide Gross (Millions)\", 709.82)"
   ]
  },
  {
   "cell_type": "markdown",
   "id": "0f62109d-fe22-4bcb-9321-3a26e5ac6dde",
   "metadata": {},
   "source": [
    "Ah, Twilight! Who can resist Robert Pattinson and Taylor Lautner?"
   ]
  },
  {
   "cell_type": "raw",
   "id": "301246d0-8d74-433b-b980-0b2a0ce04f06",
   "metadata": {},
   "source": [
    "# BEGIN QUESTION\n",
    "name: q1_5"
   ]
  },
  {
   "cell_type": "markdown",
   "id": "58da1120-dc8b-4993-8364-9b676098daaa",
   "metadata": {},
   "source": [
    "### Question 1.5 (Does Studio Matter?)\n",
    "Now, let's write a query that can tell us what genre of movie each studio tends to make, and how much those movies made in total. We can use the `pivot` method just like we did above to see the breakdown of movies by studio and genre, and then aggregate those rows by adding up the worldwide gross of each intersection!\n",
    "\n",
    "Assign `column_label` and `row_label` to column labels of `movies_with_qualities` that make the resulting `pivot` call have studios as the rows and genres as the columns.\n",
    "\n",
    "Assign `value_to_collect` to a column label that we can use to collect the data we need to ultimately see the total amount of money made by each intersection of genre and studio.\n",
    "\n",
    "Assign `collection_function` to a function you know that can add up all the movie earnings at each intersection"
   ]
  },
  {
   "cell_type": "raw",
   "id": "708071bc-01e3-4dcd-a86f-576e3390b98e",
   "metadata": {},
   "source": [
    "# BEGIN SOLUTION"
   ]
  },
  {
   "cell_type": "code",
   "execution_count": null,
   "id": "cf9504a1-2d49-4334-877b-e843220982b8",
   "metadata": {},
   "outputs": [],
   "source": [
    "column_label = ...\n",
    "row_label = ...\n",
    "value_to_collect = ...\n",
    "collection_function = ...\n",
    "\n",
    "studio_genre_total_gross = movies.pivot(column_label, row_label, value_to_collect, collection_function)\n",
    "studio_genre_total_gross"
   ]
  },
  {
   "cell_type": "raw",
   "id": "4bf85eed-158e-46f2-bedd-4383ee6e3e53",
   "metadata": {},
   "source": [
    "# END SOLUTION"
   ]
  },
  {
   "cell_type": "raw",
   "id": "5ba60cfb-db05-4d47-bf8a-83e18088c9d3",
   "metadata": {},
   "source": [
    "# BEGIN TESTS"
   ]
  },
  {
   "cell_type": "code",
   "execution_count": null,
   "id": "909e6965-da30-4f32-a546-4319c55fe846",
   "metadata": {},
   "outputs": [],
   "source": []
  },
  {
   "cell_type": "raw",
   "id": "762259fe-2a83-4c4d-b7b8-d49aab100a79",
   "metadata": {},
   "source": [
    "# END TESTS "
   ]
  },
  {
   "cell_type": "raw",
   "id": "c6be510d-8bc7-49b7-98c2-426f34e6ff7a",
   "metadata": {},
   "source": [
    "# END QUESTION"
   ]
  },
  {
   "cell_type": "markdown",
   "id": "717d1ec8-c113-4f1d-afa9-c049ee30b176",
   "metadata": {},
   "source": [
    "---\n",
    "### The [join](http://data8.org/datascience/_autosummary/datascience.tables.Table.join.html#datascience.tables.Table.join) method\n",
    "\n",
    "The last method we will talk about in this lab is the `join` method. This method allows us to combine two different tables together!\n",
    "\n",
    "The `join` method takes in 2 mandatory arguments and 1 optional argument:\n",
    "\n",
    "| **Column Name** | **Description** |\n",
    "| --- | --- |\n",
    "| `column_label` | a column to use to join |\n",
    "| `other` | another table |\n",
    "| *Optional:* `other_label` | `other`'s label to join on (if not the same as `column_label`) |\n",
    "\n",
    "If `other` has a label in common with the table you are joining with and this common label is the one you want to join on, then you do not need to use the optional argument. If you want to join on another column label or if neither table has a column label in common, then you can use the optional `other_label`.\n",
    "\n",
    "The way join works takes some getting used to, so let's look at some examples of `join` at work!\n",
    "\n",
    "We have the `dogs` and `owners` tables below, take a look at them a bit before we move on so you understand what data they contain:"
   ]
  },
  {
   "cell_type": "code",
   "execution_count": null,
   "id": "64467c37-2b0e-4a52-a1d4-8431bcb2e66e",
   "metadata": {},
   "outputs": [],
   "source": [
    "dogs = Table().with_columns(\n",
    "    \"Name\", np.array([\"Spot\", \"Rex\", \"Fluffy\", \"Doge\"]),\n",
    "    \"Breed\", np.array([\"Golden Retriever\", \"Cockapoo\", \"Corgi\", \"Coin\"]),\n",
    "    \"Owner\", np.array([\"James\", \"Will\", \"Josh\", \"Sandra\"]),\n",
    ")\n",
    "dogs"
   ]
  },
  {
   "cell_type": "code",
   "execution_count": null,
   "id": "3bace0e9-f80e-459c-8ffc-4f9343fc207a",
   "metadata": {},
   "outputs": [],
   "source": [
    "owners = Table().with_columns(\n",
    "    \"Owner\", np.array([\"James\", \"Josh\", \"Sandra\", \"Will\"]),\n",
    "    \"Owner Age\", np.array([18, 21, 20, 21])\n",
    ")\n",
    "owners"
   ]
  },
  {
   "cell_type": "markdown",
   "id": "d206a946-54cd-4efe-9543-108065b836ab",
   "metadata": {},
   "source": [
    "As you can see, we have a column in common: `Owner`. Let's join these two tables together so that we can have all the doggy data in one place!"
   ]
  },
  {
   "cell_type": "code",
   "execution_count": null,
   "id": "9dd69d76-4161-465d-bc12-ca46bc217272",
   "metadata": {},
   "outputs": [],
   "source": [
    "doggy_data = dogs.join(\"Owner\", owners)\n",
    "doggy_data"
   ]
  },
  {
   "cell_type": "markdown",
   "id": "944eaee5-b3b2-4508-818c-d98f49313cd8",
   "metadata": {},
   "source": [
    "This table now has all of our information in one place, which makes using it easier!\n",
    "\n",
    "Now let's take a look at a more common example, where the column labels being named differently can cause a problem. We will use the exact same `dogs` and `owners` tables, but we will change a column label on `owners`:"
   ]
  },
  {
   "cell_type": "code",
   "execution_count": null,
   "id": "7cb8e46e-a53e-48d7-92ee-cbb77941bb1d",
   "metadata": {},
   "outputs": [],
   "source": [
    "owners_new_label = owners.relabeled(\"Owner\", \"Name\")\n",
    "\n",
    "display(dogs, owners_new_label)"
   ]
  },
  {
   "cell_type": "markdown",
   "id": "2cfa1a32-219f-4614-a9c8-c81f9703b867",
   "metadata": {},
   "source": [
    "Now if we try to use the `join` method like we did last time, we run into an issue..."
   ]
  },
  {
   "cell_type": "code",
   "execution_count": null,
   "id": "89f15b0f-62ef-4311-bad3-eb65ea45806c",
   "metadata": {},
   "outputs": [],
   "source": [
    "doggy_data = dogs.join(\"Owner\", owners_new_label)\n",
    "doggy_data"
   ]
  },
  {
   "cell_type": "markdown",
   "id": "9ae50d50-c783-462c-b3f7-dc42274c6549",
   "metadata": {},
   "source": [
    "Because the `owners` table does not have a column label called `Owner`, we may try to use the one column label they do have in common: `Name`..."
   ]
  },
  {
   "cell_type": "code",
   "execution_count": null,
   "id": "38c307d0-1c75-487f-a40a-997ef79fd045",
   "metadata": {},
   "outputs": [],
   "source": [
    "doggy_data = dogs.join(\"Name\", owners_new_label)\n",
    "doggy_data"
   ]
  },
  {
   "cell_type": "markdown",
   "id": "3db6c7f7-1b2f-44b0-9c63-9eaf240a0f91",
   "metadata": {},
   "source": [
    "...but this doesn't appear to work either. This is not an error, there is simply no table outputted by this join call!\n",
    "\n",
    "This `join` call does not do what we want, because the `dogs` `Name` corresponds to the **dog's** name, but the `owners` `Name` corresponds to the **Owner's** name! No dog and owner have any of the same names, so there is no data to output in this `join` call!\n",
    "\n",
    "Instead, we have to make sure we join on the `Owner` column from `dogs` and the `Name` column from `owners`! We can do this using the third *optional* argument in the `join` method:"
   ]
  },
  {
   "cell_type": "code",
   "execution_count": null,
   "id": "1c159cd5-a060-4a98-9157-1face67af9e1",
   "metadata": {},
   "outputs": [],
   "source": [
    "doggy_data = dogs.join(\"Owner\", owners_new_label, \"Name\")\n",
    "doggy_data"
   ]
  },
  {
   "cell_type": "markdown",
   "id": "71b8bbd2-66b9-4f88-a382-5f235fc4bda2",
   "metadata": {},
   "source": [
    "In this table, the `Name` column now refers to the name of the dog, and the `Owner` column corresponds to the name of the owner!"
   ]
  },
  {
   "cell_type": "raw",
   "id": "895bdc79-453e-48aa-aff0-108ab97ad616",
   "metadata": {},
   "source": [
    "# BEGIN QUESTION\n",
    "name: q1_6"
   ]
  },
  {
   "cell_type": "markdown",
   "id": "3eb515a7-27bd-4c4b-8a32-74e11fbc44d5",
   "metadata": {},
   "source": [
    "### Question 1.6 (A Slightly Different `Join`)\n",
    "The `join` method can also change the number of rows in its output. If there are multiple rows in one table that match with one row in the other, the `join` method will include rows for each of these matches in the output. Also, if there is a row in a table with no match in the other, there will be no row in the output that represents this row. Let's implement both these situations in practice and see how they work:"
   ]
  },
  {
   "cell_type": "code",
   "execution_count": null,
   "id": "28b120d5-5c47-4904-8f37-76b89564ac42",
   "metadata": {},
   "outputs": [],
   "source": [
    "# Just run this cell\n",
    "# This new dogs table has a new extra dogs\n",
    "more_dogs = dogs.with_rows(make_array(make_array(\"Clifford\", \"Big Red\", \"Sandra\"), make_array(\"Doug\", \"Golden Retriever\", \"Russell\")))\n",
    "more_dogs"
   ]
  },
  {
   "cell_type": "markdown",
   "id": "2699c600-32fb-4d93-a4f0-a707191e2cab",
   "metadata": {},
   "source": [
    "**Task**: Before we exectute the join between these tables, we should be able to calculate how many rows should there be in the output. Assign the variable `more_dog_owner_rows` to the number of rows that should result from joining `more_dogs` with `owners_new_label`. Run the cell below to see them again for clarity:"
   ]
  },
  {
   "cell_type": "code",
   "execution_count": null,
   "id": "934ed0ae-661f-4b3a-a638-c86d06e3560f",
   "metadata": {},
   "outputs": [],
   "source": [
    "display(more_dogs, owners_new_label)"
   ]
  },
  {
   "cell_type": "raw",
   "id": "fe9b16f1-5f9b-413d-a4c2-0bcd01bd9e21",
   "metadata": {},
   "source": [
    "# BEGIN SOLUTION"
   ]
  },
  {
   "cell_type": "code",
   "execution_count": null,
   "id": "15f94996-1b4a-4d03-b0fd-dc36e9d2e9af",
   "metadata": {},
   "outputs": [],
   "source": [
    "more_dog_owner_rows = ...\n",
    "more_dog_owner_rows"
   ]
  },
  {
   "cell_type": "raw",
   "id": "219306bc-ddc7-446f-ab29-483f8214421f",
   "metadata": {},
   "source": [
    "# END SOLUTION"
   ]
  },
  {
   "cell_type": "raw",
   "id": "4c241861-7aac-4e5f-98c5-d78b0ad85d42",
   "metadata": {},
   "source": [
    "# BEGIN TESTS"
   ]
  },
  {
   "cell_type": "code",
   "execution_count": null,
   "id": "614569f1-2e1b-4603-a2ea-88eb46d58524",
   "metadata": {},
   "outputs": [],
   "source": []
  },
  {
   "cell_type": "raw",
   "id": "b3121b96-cb8b-4057-afa5-51523efd04be",
   "metadata": {},
   "source": [
    "# END TESTS"
   ]
  },
  {
   "cell_type": "raw",
   "id": "e067471d-7659-4e03-a829-04f39596b870",
   "metadata": {},
   "source": [
    "# END QUESTION"
   ]
  },
  {
   "cell_type": "markdown",
   "id": "14e51e2c-a75b-4542-b02e-4de3e82f050f",
   "metadata": {},
   "source": [
    "#### Confirm your answer\n",
    "\n",
    "Remember, each row in the `more_dogs` table only gets a row in the output if it matches a row in `owners_new_label`"
   ]
  },
  {
   "cell_type": "code",
   "execution_count": null,
   "id": "252694c2-59c5-4a44-a096-0573dce10ee0",
   "metadata": {},
   "outputs": [],
   "source": [
    "# If an owner in the table has 2 dogs, both dogs should appear in the output\n",
    "# If a dog has no owner in the owners table, the dog does not appear in the output\n",
    "complex_doggy_data = more_dogs.join(\"Owner\", owners_new_label, \"Name\")\n",
    "complex_doggy_data"
   ]
  },
  {
   "cell_type": "code",
   "execution_count": null,
   "id": "ca8040ed-11e3-4cb4-8e1b-9c8dd5e99ddd",
   "metadata": {},
   "outputs": [],
   "source": [
    "# Doug is not in the new table, and both Sandra's dogs are present for a total of 5 rows\n",
    "complex_doggy_data.num_rows"
   ]
  },
  {
   "cell_type": "markdown",
   "id": "9cbaff31-15c7-4f28-b1d9-a68fe8ccf968",
   "metadata": {},
   "source": [
    "As we expect, both `Spot` and `Clifford` appear as Sandra's dogs, but `Doug` does not appear in the table (fear not, he still has an owner, but `Russell` is not in the owners table)."
   ]
  },
  {
   "cell_type": "markdown",
   "id": "0f8eb59f-671b-4b97-a9d5-dbb4f1e126a6",
   "metadata": {},
   "source": [
    "<hr style=\"border: 5px solid #003262;\" />\n",
    "<hr style=\"border: 1px solid #fdb515;\" />\n",
    "\n",
    "## Part 2: Real-World Risks within Data"
   ]
  },
  {
   "cell_type": "markdown",
   "id": "f2de60ed-c99a-4231-9d7d-de723e26b934",
   "metadata": {},
   "source": [
    "Now, we are going to look at a very interesting dataset, the 1973's UC Berkeley Admission for data analysis! Through out this part, we will be working with `UCBerkeley1973_Admission.csv` file."
   ]
  },
  {
   "cell_type": "code",
   "execution_count": 52,
   "id": "24b7e9ee-fc93-4588-b631-a363ab35ed0e",
   "metadata": {},
   "outputs": [
    {
     "data": {
      "text/html": [
       "<table border=\"1\" class=\"dataframe\">\n",
       "    <thead>\n",
       "        <tr>\n",
       "            <th>Year</th> <th>Major</th> <th>Gender</th> <th>Admission</th>\n",
       "        </tr>\n",
       "    </thead>\n",
       "    <tbody>\n",
       "        <tr>\n",
       "            <td>1973</td> <td>C    </td> <td>F     </td> <td>Rejected </td>\n",
       "        </tr>\n",
       "        <tr>\n",
       "            <td>1973</td> <td>B    </td> <td>M     </td> <td>Accepted </td>\n",
       "        </tr>\n",
       "        <tr>\n",
       "            <td>1973</td> <td>Other</td> <td>F     </td> <td>Accepted </td>\n",
       "        </tr>\n",
       "        <tr>\n",
       "            <td>1973</td> <td>Other</td> <td>M     </td> <td>Accepted </td>\n",
       "        </tr>\n",
       "        <tr>\n",
       "            <td>1973</td> <td>Other</td> <td>M     </td> <td>Rejected </td>\n",
       "        </tr>\n",
       "        <tr>\n",
       "            <td>1973</td> <td>Other</td> <td>M     </td> <td>Rejected </td>\n",
       "        </tr>\n",
       "        <tr>\n",
       "            <td>1973</td> <td>F    </td> <td>F     </td> <td>Accepted </td>\n",
       "        </tr>\n",
       "        <tr>\n",
       "            <td>1973</td> <td>Other</td> <td>M     </td> <td>Accepted </td>\n",
       "        </tr>\n",
       "        <tr>\n",
       "            <td>1973</td> <td>Other</td> <td>M     </td> <td>Rejected </td>\n",
       "        </tr>\n",
       "        <tr>\n",
       "            <td>1973</td> <td>A    </td> <td>M     </td> <td>Accepted </td>\n",
       "        </tr>\n",
       "    </tbody>\n",
       "</table>\n",
       "<p>... (12753 rows omitted)</p>"
      ],
      "text/plain": [
       "Year | Major | Gender | Admission\n",
       "1973 | C     | F      | Rejected\n",
       "1973 | B     | M      | Accepted\n",
       "1973 | Other | F      | Accepted\n",
       "1973 | Other | M      | Accepted\n",
       "1973 | Other | M      | Rejected\n",
       "1973 | Other | M      | Rejected\n",
       "1973 | F     | F      | Accepted\n",
       "1973 | Other | M      | Accepted\n",
       "1973 | Other | M      | Rejected\n",
       "1973 | A     | M      | Accepted\n",
       "... (12753 rows omitted)"
      ]
     },
     "execution_count": 52,
     "metadata": {},
     "output_type": "execute_result"
    }
   ],
   "source": [
    "cal_data  = Table.read_table(\"data/UCBerkeley1973_Admission.csv\")\n",
    "cal_data"
   ]
  },
  {
   "cell_type": "raw",
   "id": "61ef9b77-bd17-411f-9df4-c5a14378169b",
   "metadata": {},
   "source": [
    "# BEGIN QUESTION\n",
    "name: q2_1\n",
    "manual: true"
   ]
  },
  {
   "cell_type": "markdown",
   "id": "fee0451a-c2a9-4103-abdf-a5af8615b9de",
   "metadata": {},
   "source": [
    "### Question 2.1 (Discussion)\n",
    "Looking at `cal_data` first glance, what do you observe? Try exploring the dataset by what you have learned so far in class! Reflect in 2-3 sentences on what you have noticed about te data. Feel free to add/ delete more cells beyond our given cell."
   ]
  },
  {
   "cell_type": "raw",
   "id": "282abdc2-8ca7-4a74-9969-df1898df32bd",
   "metadata": {},
   "source": [
    "# BEGIN SOLUTION"
   ]
  },
  {
   "cell_type": "markdown",
   "id": "8203ef3a-df02-4a45-b23b-c5776e2dcdba",
   "metadata": {},
   "source": [
    "**SOLUTION:** The answer may vary. Looking at the data, `cal_data` has 3 columns: \"Major\", \"Gender\", \"Admission\", which all have the data type of string. Just measuring the acceptance rate of Female and Male, there seems to be higher acceptance rate for Males for UC Berkeley Admission. To compare different discrete variables such as Gender groups, Majors, and Admission results, it might be best to visualize with bar graphs. There is no specific names of the withinn the Major; There is only two gender listed in the dataset; There is only Rejected or Accepted state for Admission."
   ]
  },
  {
   "cell_type": "raw",
   "id": "af7faf1c-24b7-4660-a3fd-a34cc85262a1",
   "metadata": {},
   "source": [
    "# END SOLUTION"
   ]
  },
  {
   "cell_type": "raw",
   "id": "e045fbd9-baca-42c8-9942-a1f297780f6d",
   "metadata": {},
   "source": [
    "# END QUESTION"
   ]
  },
  {
   "cell_type": "code",
   "execution_count": null,
   "id": "78d9085f-4045-400d-8250-3264967b410c",
   "metadata": {},
   "outputs": [],
   "source": [
    "# You can use this cell to explore the `cal_data` table"
   ]
  },
  {
   "cell_type": "markdown",
   "id": "c19b8b39-6f01-47d7-a898-2f6e1f73133d",
   "metadata": {},
   "source": [
    "For this case study, we'll be doing some exploration of the rates of admission between males and females at UC Berkeley in 1973. To start off, below we calculate the raw acceptance rates for males and females:"
   ]
  },
  {
   "cell_type": "code",
   "execution_count": 53,
   "id": "2ba7f293-1960-4509-8c68-dbebd776436e",
   "metadata": {},
   "outputs": [
    {
     "name": "stdout",
     "output_type": "stream",
     "text": [
      "1973's Berkeley admission rate seems to be: female: 34.5753297848 and male: 44.2786069652\n"
     ]
    }
   ],
   "source": [
    "total_f = sum(cal_data.column(\"Gender\") == \"F\")\n",
    "total_m = sum(cal_data.column(\"Gender\") == \"M\")\n",
    "accepted_f = cal_data.where(\"Admission\", \"Accepted\").where(\"Gender\", \"F\").num_rows\n",
    "accepted_m =  cal_data.where(\"Admission\", \"Accepted\").where(\"Gender\", \"M\").num_rows\n",
    "acceptance_rate_f = accepted_f / total_f * 100\n",
    "acceptance_rate_m = accepted_m / total_m * 100\n",
    "print(\"1973's Berkeley admission rate seems to be: female:\", acceptance_rate_f, \"and male:\", acceptance_rate_m)"
   ]
  },
  {
   "cell_type": "markdown",
   "id": "25ab89ec-50dd-4fbd-b4f5-4e7a4a045910",
   "metadata": {},
   "source": [
    "Keep these rates in mind as we begin exploring some visualization and table methods to look into an effect called **\"Simpson's Paradox\"**. "
   ]
  },
  {
   "cell_type": "markdown",
   "id": "00843185-3535-4045-9303-5c242559d35a",
   "metadata": {},
   "source": [
    "---\n",
    "### Simpson's Paradox\n",
    "According to [Wikipedia](https://en.wikipedia.org/wiki/Simpson%27s_paradox), Simpson's Paradox \"is a phenomenon in probability and statistics in which a trend appears in several groups of data but disappears or reverses when the groups are combined.\"\n",
    "\n",
    "At first glance of the UC Berkeley Admission dataset, it seems male have higher chance being accepted. However, when looked closer by major (department), a different story emergered. We found that females were equal or more likely to be accepted when looked at each department. In fact, a [study](https://homepage.stat.uiowa.edu/~mbognar/1030/Bickel-Berkeley.pdf) found that female applicants disproportionately applied to highly competitive majors with low acceptance rates (e.g., English), while men more often applied to less competitive majors with higher acceptance rates. *More female applicants applying to competitive programs skewed the combined data, creating the appearance of bias against female applicants, when in many cases, women were either equally likely or more likely to be admitted compared to men in the same department.*"
   ]
  },
  {
   "cell_type": "markdown",
   "id": "71820295-a6c8-44dc-99c6-01983e6f89eb",
   "metadata": {},
   "source": [
    "Now let's see this phenomenon in practice! \n",
    "\n",
    "We have manipulated the `cal_data` and got the numbers for rejected and accepted count for both female and male in our 1973 admission data and stored to `\"admission.csv\"`. Let's read the `\"admission.csv\"` in the below cell. "
   ]
  },
  {
   "cell_type": "raw",
   "id": "fbf06245-cb0c-4a39-93c3-0b5c007dd2bc",
   "metadata": {},
   "source": [
    "# BEGIN QUESTION\n",
    "name: q2_2"
   ]
  },
  {
   "cell_type": "markdown",
   "id": "33d07bee-65f4-423d-b1e4-94a6a5dca892",
   "metadata": {},
   "source": [
    "### Question 2.2\n",
    "Using the `.pivot()` method, assign the table `admission_f_m` to one that contains the count of individuals rejected and accepted for both females and males.\n",
    "\n",
    "*Hint:* Using the `cal_data` table, we want the `\"Gender\"` column to be our columns, and the `\"Admission\"` column to be our rows."
   ]
  },
  {
   "cell_type": "raw",
   "id": "2ab28c98-4d3d-467e-8db6-a76de3ed32c7",
   "metadata": {},
   "source": [
    "# BEGIN SOLUTION"
   ]
  },
  {
   "cell_type": "code",
   "execution_count": 59,
   "id": "c247bf02-b1b4-4da5-97d8-ae02b8e633b0",
   "metadata": {},
   "outputs": [
    {
     "data": {
      "text/html": [
       "<table border=\"1\" class=\"dataframe\">\n",
       "    <thead>\n",
       "        <tr>\n",
       "            <th>Gender</th> <th>Accepted</th> <th>Rejected</th>\n",
       "        </tr>\n",
       "    </thead>\n",
       "    <tbody>\n",
       "        <tr>\n",
       "            <td>F     </td> <td>1494    </td> <td>2827    </td>\n",
       "        </tr>\n",
       "        <tr>\n",
       "            <td>M     </td> <td>3738    </td> <td>4704    </td>\n",
       "        </tr>\n",
       "    </tbody>\n",
       "</table>"
      ],
      "text/plain": [
       "Gender | Accepted | Rejected\n",
       "F      | 1494     | 2827\n",
       "M      | 3738     | 4704"
      ]
     },
     "execution_count": 59,
     "metadata": {},
     "output_type": "execute_result"
    }
   ],
   "source": [
    "admission_f_m = cal_data.pivot('Admission', 'Gender') # SOLUTION\n",
    "admission_f_m"
   ]
  },
  {
   "cell_type": "raw",
   "id": "089bda4a-6e8c-473e-b6b7-549f56c4b25e",
   "metadata": {},
   "source": [
    "# END SOLUTION"
   ]
  },
  {
   "cell_type": "raw",
   "id": "f5e888c1-9fd9-4489-a9fa-4fd3239ad412",
   "metadata": {},
   "source": [
    "# BEGIN TESTS"
   ]
  },
  {
   "cell_type": "code",
   "execution_count": null,
   "id": "68296a05-5a49-4ab7-8ba2-3e4a7b2c9893",
   "metadata": {},
   "outputs": [],
   "source": []
  },
  {
   "cell_type": "raw",
   "id": "2a884348-2ce5-4e72-bddd-57080777275f",
   "metadata": {},
   "source": [
    "# END TESTS"
   ]
  },
  {
   "cell_type": "raw",
   "id": "52240448-9cb0-4565-bea0-6a437cc80fe2",
   "metadata": {},
   "source": [
    "# END QUESTION"
   ]
  },
  {
   "cell_type": "raw",
   "id": "77dac420-5e6c-4096-a1ab-d51ca8c9e9b1",
   "metadata": {},
   "source": [
    "# BEGIN QUESTION\n",
    "name: q2_3"
   ]
  },
  {
   "cell_type": "markdown",
   "id": "4c574b12-3063-4c0e-a7e1-1e4a19640521",
   "metadata": {},
   "source": [
    "### Question 2.3\n",
    "We want to manually add a new column called `\"Acceptance Rate\"` with values of acceptance rates for females and males to the `admission_f_m` table. Below, fill in the code to calculate the female and male acceptance rates, and from there, we supply the code that creates a new column with these rates. Acceptance rate should be calculated as accepted count divided by total count!\n",
    "\n",
    "*Hint:* You may find it helpful to use the `.column()` and `.item()` methods."
   ]
  },
  {
   "cell_type": "raw",
   "id": "e9b2068c-380e-4de8-95e0-7cb64509b6b9",
   "metadata": {},
   "source": [
    "# BEGIN SOLUTION"
   ]
  },
  {
   "cell_type": "code",
   "execution_count": 62,
   "id": "f6e4fd11-eefa-46b2-8cf5-c2d047c1bffb",
   "metadata": {},
   "outputs": [
    {
     "data": {
      "text/html": [
       "<table border=\"1\" class=\"dataframe\">\n",
       "    <thead>\n",
       "        <tr>\n",
       "            <th>Gender</th> <th>Accepted</th> <th>Rejected</th> <th>Acceptance Rate</th>\n",
       "        </tr>\n",
       "    </thead>\n",
       "    <tbody>\n",
       "        <tr>\n",
       "            <td>F     </td> <td>1494    </td> <td>2827    </td> <td>0.345753       </td>\n",
       "        </tr>\n",
       "        <tr>\n",
       "            <td>M     </td> <td>3738    </td> <td>4704    </td> <td>0.442786       </td>\n",
       "        </tr>\n",
       "    </tbody>\n",
       "</table>"
      ],
      "text/plain": [
       "Gender | Accepted | Rejected | Acceptance Rate\n",
       "F      | 1494     | 2827     | 0.345753\n",
       "M      | 3738     | 4704     | 0.442786"
      ]
     },
     "execution_count": 62,
     "metadata": {},
     "output_type": "execute_result"
    }
   ],
   "source": [
    "f_acceptance_rate = admission_f_m.column(\"Accepted\").item(0) / (admission_f_m.column(\"Accepted\").item(0) + admission_f_m.column(\"Rejected\").item(0)) # SOLUTION\n",
    "m_acceptance_rate = admission_f_m.column(\"Accepted\").item(1) / (admission_f_m.column(\"Accepted\").item(1) + admission_f_m.column(\"Rejected\").item(1)) # SOLUTION\n",
    "acceptance_rates = make_array(f_acceptance_rate, m_acceptance_rate)\n",
    "admission_f_m = admission_f_m.with_column(\"Acceptance Rate\",  acceptance_rates)\n",
    "admission_f_m"
   ]
  },
  {
   "cell_type": "raw",
   "id": "338a3ee6-8c29-4ef1-80bc-ba7e6d82e440",
   "metadata": {},
   "source": [
    "# END SOLUTION"
   ]
  },
  {
   "cell_type": "raw",
   "id": "33f9a7b8-3e47-449a-9f79-2943a42f42e7",
   "metadata": {},
   "source": [
    "# BEGIN TESTS"
   ]
  },
  {
   "cell_type": "code",
   "execution_count": null,
   "id": "dfe1198f-2f10-4f88-855b-7db3a3b83d93",
   "metadata": {},
   "outputs": [],
   "source": []
  },
  {
   "cell_type": "raw",
   "id": "6949b18e-6bbe-47a4-b2a2-09513e76e0a3",
   "metadata": {},
   "source": [
    "# END TESTS"
   ]
  },
  {
   "cell_type": "raw",
   "id": "21694d96-a648-4800-b7b5-a756e2e7788e",
   "metadata": {},
   "source": [
    "# END QUESTION"
   ]
  },
  {
   "cell_type": "raw",
   "id": "61df634b-760e-46d4-8b84-2b46deaae872",
   "metadata": {},
   "source": [
    "# BEGIN QUESTION\n",
    "name: q2_4"
   ]
  },
  {
   "cell_type": "markdown",
   "id": "92c280a1-efa4-47fc-9247-1c7a1c34c32e",
   "metadata": {},
   "source": [
    "### Question 2.4\n",
    "Using the adjusted `admission_f_m`, create a bar graph comparing the acceptance rate between female and male applicants. If you are stuck, consider taking a look at Lab 3 again!"
   ]
  },
  {
   "cell_type": "raw",
   "id": "639e2e9e-891d-4459-a347-65c4d5ba5e5b",
   "metadata": {},
   "source": [
    "# BEGIN SOLUTION"
   ]
  },
  {
   "cell_type": "code",
   "execution_count": 63,
   "id": "8228b79a-37d5-4bca-9a43-d33eabae60b9",
   "metadata": {},
   "outputs": [
    {
     "data": {
      "image/png": "[encoded data removed]",
      "text/plain": [
       "<Figure size 600x400 with 1 Axes>"
      ]
     },
     "metadata": {},
     "output_type": "display_data"
    }
   ],
   "source": [
    "admission_f_m.barh(\"Gender\", \"Acceptance Rate\") # SOLUTION"
   ]
  },
  {
   "cell_type": "raw",
   "id": "0dc584ac-1cef-4483-b1e4-1dc9d277cd26",
   "metadata": {},
   "source": [
    "# END SOLUTION"
   ]
  },
  {
   "cell_type": "raw",
   "id": "bdcd18d6-b3c2-4218-b8c4-45dfb2781e69",
   "metadata": {},
   "source": [
    "# BEGIN TESTS"
   ]
  },
  {
   "cell_type": "code",
   "execution_count": null,
   "id": "cfee2e3b-7f76-486c-8e2a-1f26f8483fc5",
   "metadata": {},
   "outputs": [],
   "source": []
  },
  {
   "cell_type": "raw",
   "id": "bceaff73-3248-4977-aa48-d6d991a67e4e",
   "metadata": {},
   "source": [
    "# END TESTS"
   ]
  },
  {
   "cell_type": "raw",
   "id": "5269ff11-b23a-498d-8fcf-14ab9461c8b6",
   "metadata": {},
   "source": [
    "# END QUESTION"
   ]
  },
  {
   "cell_type": "raw",
   "id": "e606935d-0245-4d6a-a986-05302e7a0d0a",
   "metadata": {},
   "source": [
    "# BEGIN QUESTION\n",
    "name: q2_5"
   ]
  },
  {
   "cell_type": "markdown",
   "id": "b0c47221-ce3e-4f63-bb07-c4c9d7a715de",
   "metadata": {},
   "source": [
    "### Question 2.5\n",
    "Which of the following most accurately describes the takeaway from the visualization created by `admission_f_m` above? You should answer the question by assigning `q2_5` to `make_array(...)` where `...` is the choice of your answer (eg. `make_array(3)`).\n",
    "\n",
    "1. Female applicants have higher chance of being accepted.\n",
    "2. Male applicants have higher chance of being accepted.\n",
    "3. Female and male applicants have the same amount chance of being accepted."
   ]
  },
  {
   "cell_type": "raw",
   "id": "f3ac1b1f-ba36-4d60-a3f9-fe50bdc3b6bd",
   "metadata": {},
   "source": [
    "# BEGIN SOLUTION"
   ]
  },
  {
   "cell_type": "code",
   "execution_count": null,
   "id": "3ea96112-ae91-4ab2-97d0-a7558dba5777",
   "metadata": {},
   "outputs": [],
   "source": [
    "q2_5 = make_array(2) # SOLUTION"
   ]
  },
  {
   "cell_type": "raw",
   "id": "2f949a72-431d-4d95-89f0-18ce3c58d41a",
   "metadata": {},
   "source": [
    "# END SOLUTION"
   ]
  },
  {
   "cell_type": "raw",
   "id": "458443a5-56f6-4593-9e75-2dc6488d855b",
   "metadata": {},
   "source": [
    "# BEGIN TESTS"
   ]
  },
  {
   "cell_type": "code",
   "execution_count": null,
   "id": "3153bbae-8ff3-403d-9c31-a2a2553ad462",
   "metadata": {},
   "outputs": [],
   "source": []
  },
  {
   "cell_type": "raw",
   "id": "94aa7455-d75b-4a3f-a2d5-99d3b6327fc5",
   "metadata": {},
   "source": [
    "# END TESTS"
   ]
  },
  {
   "cell_type": "raw",
   "id": "e57988a9-7165-4448-9ca7-0ab86748b99d",
   "metadata": {},
   "source": [
    "# END QUESTION"
   ]
  },
  {
   "cell_type": "markdown",
   "id": "35d4eb62-116f-4202-a263-e72735b2af7a",
   "metadata": {},
   "source": [
    "We see by simply utilizing `\"Gender\"` and `\"Admission\"` to calculate overall acceptance rates for graduate admissions, the male acceptance rate seems to be higher than the female acceptance rate. However, besides `\"Gender\"` and `\"Admission\"`, there was a third column in this table: `\"Major\"`. Let's investigate how the major will take into play with admission rate between these two recorded gender. (How \"grouping\" by major as described in Simpson's Paradox will affect the applicants' acceptance rate by gender).\n",
    "\n",
    "Below, we create two different tables using more complex functionalities of `.group()` and `.pivot()`. Take a look at the information we have gained using the `\"Major\"` feature below:"
   ]
  },
  {
   "cell_type": "code",
   "execution_count": 47,
   "id": "b6aa4daa-b11a-4556-ac41-cbcc942102fb",
   "metadata": {},
   "outputs": [
    {
     "data": {
      "text/html": [
       "<table border=\"1\" class=\"dataframe\">\n",
       "    <thead>\n",
       "        <tr>\n",
       "            <th>Major</th> <th>F Acceptance Rate</th> <th>M Acceptance Rate</th>\n",
       "        </tr>\n",
       "    </thead>\n",
       "    <tbody>\n",
       "        <tr>\n",
       "            <td>A    </td> <td>0.824074         </td> <td>0.724956         </td>\n",
       "        </tr>\n",
       "        <tr>\n",
       "            <td>B    </td> <td>0.68             </td> <td>0.630357         </td>\n",
       "        </tr>\n",
       "        <tr>\n",
       "            <td>C    </td> <td>0.338954         </td> <td>0.369231         </td>\n",
       "        </tr>\n",
       "        <tr>\n",
       "            <td>D    </td> <td>0.349333         </td> <td>0.330935         </td>\n",
       "        </tr>\n",
       "        <tr>\n",
       "            <td>E    </td> <td>0.239186         </td> <td>0.277487         </td>\n",
       "        </tr>\n",
       "        <tr>\n",
       "            <td>F    </td> <td>0.0733138        </td> <td>0.0589812        </td>\n",
       "        </tr>\n",
       "        <tr>\n",
       "            <td>Other</td> <td>0.376911         </td> <td>0.409526         </td>\n",
       "        </tr>\n",
       "    </tbody>\n",
       "</table>"
      ],
      "text/plain": [
       "Major | F Acceptance Rate | M Acceptance Rate\n",
       "A     | 0.824074          | 0.724956\n",
       "B     | 0.68              | 0.630357\n",
       "C     | 0.338954          | 0.369231\n",
       "D     | 0.349333          | 0.330935\n",
       "E     | 0.239186          | 0.277487\n",
       "F     | 0.0733138         | 0.0589812\n",
       "Other | 0.376911          | 0.409526"
      ]
     },
     "execution_count": 47,
     "metadata": {},
     "output_type": "execute_result"
    }
   ],
   "source": [
    "admission_major = cal_data.pivot('Gender', 'Major', collect = lambda x: sum(x == 'Accepted') / len(x), values = 'Admission')\n",
    "admission_major = admission_major.relabeled(['F', 'M'], ['F Acceptance Rate', 'M Acceptance Rate'])\n",
    "admission_major"
   ]
  },
  {
   "cell_type": "code",
   "execution_count": 48,
   "id": "4fa59b77-086a-40bc-abd7-bf6dc73dcc78",
   "metadata": {},
   "outputs": [
    {
     "data": {
      "text/html": [
       "<table border=\"1\" class=\"dataframe\">\n",
       "    <thead>\n",
       "        <tr>\n",
       "            <th>Major</th> <th>F Application Count</th> <th>M Application Count</th>\n",
       "        </tr>\n",
       "    </thead>\n",
       "    <tbody>\n",
       "        <tr>\n",
       "            <td>A    </td> <td>108                </td> <td>1138               </td>\n",
       "        </tr>\n",
       "        <tr>\n",
       "            <td>B    </td> <td>25                 </td> <td>560                </td>\n",
       "        </tr>\n",
       "        <tr>\n",
       "            <td>C    </td> <td>593                </td> <td>325                </td>\n",
       "        </tr>\n",
       "        <tr>\n",
       "            <td>D    </td> <td>375                </td> <td>417                </td>\n",
       "        </tr>\n",
       "        <tr>\n",
       "            <td>E    </td> <td>393                </td> <td>191                </td>\n",
       "        </tr>\n",
       "        <tr>\n",
       "            <td>F    </td> <td>341                </td> <td>373                </td>\n",
       "        </tr>\n",
       "        <tr>\n",
       "            <td>Other</td> <td>2486               </td> <td>5438               </td>\n",
       "        </tr>\n",
       "    </tbody>\n",
       "</table>"
      ],
      "text/plain": [
       "Major | F Application Count | M Application Count\n",
       "A     | 108                 | 1138\n",
       "B     | 25                  | 560\n",
       "C     | 593                 | 325\n",
       "D     | 375                 | 417\n",
       "E     | 393                 | 191\n",
       "F     | 341                 | 373\n",
       "Other | 2486                | 5438"
      ]
     },
     "execution_count": 48,
     "metadata": {},
     "output_type": "execute_result"
    }
   ],
   "source": [
    "num_applicants = cal_data.group(['Major', 'Gender']).pivot('Gender', 'Major', collect = np.sum, values = 'count')\n",
    "num_applicants = num_applicants.relabeled(['F', 'M'], ['F Application Count', 'M Application Count'])\n",
    "num_applicants"
   ]
  },
  {
   "cell_type": "markdown",
   "id": "fdc396d8-7c96-4a90-974b-512cca03b0b9",
   "metadata": {},
   "source": [
    "#### BREAK FOR FIGURE 1 TEST\n",
    "This is test code to see if we could create Figure 1 from [this paper](https://homepage.stat.uiowa.edu/~mbognar/1030/Bickel-Berkeley.pdf) using the data we had access to."
   ]
  },
  {
   "cell_type": "code",
   "execution_count": 77,
   "id": "624cb23a-0d17-4d78-924c-f9133deaffcf",
   "metadata": {},
   "outputs": [
    {
     "data": {
      "text/html": [
       "<table border=\"1\" class=\"dataframe\">\n",
       "    <thead>\n",
       "        <tr>\n",
       "            <th>Major</th> <th>Accepted</th> <th>Rejected</th> <th>Percent Admitted</th>\n",
       "        </tr>\n",
       "    </thead>\n",
       "    <tbody>\n",
       "        <tr>\n",
       "            <td>A    </td> <td>914     </td> <td>332     </td> <td>0.733547        </td>\n",
       "        </tr>\n",
       "        <tr>\n",
       "            <td>B    </td> <td>370     </td> <td>215     </td> <td>0.632479        </td>\n",
       "        </tr>\n",
       "        <tr>\n",
       "            <td>C    </td> <td>321     </td> <td>597     </td> <td>0.349673        </td>\n",
       "        </tr>\n",
       "        <tr>\n",
       "            <td>D    </td> <td>269     </td> <td>523     </td> <td>0.339646        </td>\n",
       "        </tr>\n",
       "        <tr>\n",
       "            <td>E    </td> <td>147     </td> <td>437     </td> <td>0.251712        </td>\n",
       "        </tr>\n",
       "        <tr>\n",
       "            <td>F    </td> <td>47      </td> <td>667     </td> <td>0.0658263       </td>\n",
       "        </tr>\n",
       "        <tr>\n",
       "            <td>Other</td> <td>3164    </td> <td>4760    </td> <td>0.399293        </td>\n",
       "        </tr>\n",
       "    </tbody>\n",
       "</table>"
      ],
      "text/plain": [
       "Major | Accepted | Rejected | Percent Admitted\n",
       "A     | 914      | 332      | 0.733547\n",
       "B     | 370      | 215      | 0.632479\n",
       "C     | 321      | 597      | 0.349673\n",
       "D     | 269      | 523      | 0.339646\n",
       "E     | 147      | 437      | 0.251712\n",
       "F     | 47       | 667      | 0.0658263\n",
       "Other | 3164     | 4760     | 0.399293"
      ]
     },
     "execution_count": 77,
     "metadata": {},
     "output_type": "execute_result"
    }
   ],
   "source": [
    "percent_admit_test = cal_data.pivot('Admission', 'Major')\n",
    "percent_admit_array = percent_admit_test.column('Accepted') / (percent_admit_test.column('Accepted') + percent_admit_test.column('Rejected'))\n",
    "percent_admit_test = percent_admit_test.with_column('Percent Admitted', percent_admit_array)\n",
    "percent_admit_test"
   ]
  },
  {
   "cell_type": "code",
   "execution_count": 67,
   "id": "8e90c32b-307f-43d7-b8d1-978db11f27cf",
   "metadata": {},
   "outputs": [
    {
     "data": {
      "text/html": [
       "<table border=\"1\" class=\"dataframe\">\n",
       "    <thead>\n",
       "        <tr>\n",
       "            <th>Major</th> <th>F Application Count</th> <th>M Application Count</th> <th>Percent Female Applicants</th>\n",
       "        </tr>\n",
       "    </thead>\n",
       "    <tbody>\n",
       "        <tr>\n",
       "            <td>A    </td> <td>108                </td> <td>1138               </td> <td>0.0866774                </td>\n",
       "        </tr>\n",
       "        <tr>\n",
       "            <td>B    </td> <td>25                 </td> <td>560                </td> <td>0.042735                 </td>\n",
       "        </tr>\n",
       "        <tr>\n",
       "            <td>C    </td> <td>593                </td> <td>325                </td> <td>0.645969                 </td>\n",
       "        </tr>\n",
       "        <tr>\n",
       "            <td>D    </td> <td>375                </td> <td>417                </td> <td>0.473485                 </td>\n",
       "        </tr>\n",
       "        <tr>\n",
       "            <td>E    </td> <td>393                </td> <td>191                </td> <td>0.672945                 </td>\n",
       "        </tr>\n",
       "        <tr>\n",
       "            <td>F    </td> <td>341                </td> <td>373                </td> <td>0.477591                 </td>\n",
       "        </tr>\n",
       "        <tr>\n",
       "            <td>Other</td> <td>2486               </td> <td>5438               </td> <td>0.31373                  </td>\n",
       "        </tr>\n",
       "    </tbody>\n",
       "</table>"
      ],
      "text/plain": [
       "Major | F Application Count | M Application Count | Percent Female Applicants\n",
       "A     | 108                 | 1138                | 0.0866774\n",
       "B     | 25                  | 560                 | 0.042735\n",
       "C     | 593                 | 325                 | 0.645969\n",
       "D     | 375                 | 417                 | 0.473485\n",
       "E     | 393                 | 191                 | 0.672945\n",
       "F     | 341                 | 373                 | 0.477591\n",
       "Other | 2486                | 5438                | 0.31373"
      ]
     },
     "execution_count": 67,
     "metadata": {},
     "output_type": "execute_result"
    }
   ],
   "source": [
    "percent_female_array = num_applicants.column('F Application Count') / (num_applicants.column('F Application Count') + num_applicants.column('M Application Count'))\n",
    "num_applicants_test = num_applicants.with_column('Percent Female Applicants', percent_female_array)\n",
    "num_applicants_test"
   ]
  },
  {
   "cell_type": "code",
   "execution_count": 80,
   "id": "1a4e11ee-21fa-4e10-80ef-affc0d33abac",
   "metadata": {},
   "outputs": [
    {
     "data": {
      "text/html": [
       "<table border=\"1\" class=\"dataframe\">\n",
       "    <thead>\n",
       "        <tr>\n",
       "            <th>Major</th> <th>Accepted</th> <th>Rejected</th> <th>Percent Admitted</th> <th>F Application Count</th> <th>M Application Count</th> <th>Percent Female Applicants</th> <th>Number Applicants</th>\n",
       "        </tr>\n",
       "    </thead>\n",
       "    <tbody>\n",
       "        <tr>\n",
       "            <td>A    </td> <td>914     </td> <td>332     </td> <td>0.733547        </td> <td>108                </td> <td>1138               </td> <td>0.0866774                </td> <td>1246             </td>\n",
       "        </tr>\n",
       "        <tr>\n",
       "            <td>B    </td> <td>370     </td> <td>215     </td> <td>0.632479        </td> <td>25                 </td> <td>560                </td> <td>0.042735                 </td> <td>585              </td>\n",
       "        </tr>\n",
       "        <tr>\n",
       "            <td>C    </td> <td>321     </td> <td>597     </td> <td>0.349673        </td> <td>593                </td> <td>325                </td> <td>0.645969                 </td> <td>918              </td>\n",
       "        </tr>\n",
       "        <tr>\n",
       "            <td>D    </td> <td>269     </td> <td>523     </td> <td>0.339646        </td> <td>375                </td> <td>417                </td> <td>0.473485                 </td> <td>792              </td>\n",
       "        </tr>\n",
       "        <tr>\n",
       "            <td>E    </td> <td>147     </td> <td>437     </td> <td>0.251712        </td> <td>393                </td> <td>191                </td> <td>0.672945                 </td> <td>584              </td>\n",
       "        </tr>\n",
       "        <tr>\n",
       "            <td>F    </td> <td>47      </td> <td>667     </td> <td>0.0658263       </td> <td>341                </td> <td>373                </td> <td>0.477591                 </td> <td>714              </td>\n",
       "        </tr>\n",
       "        <tr>\n",
       "            <td>Other</td> <td>3164    </td> <td>4760    </td> <td>0.399293        </td> <td>2486               </td> <td>5438               </td> <td>0.31373                  </td> <td>7924             </td>\n",
       "        </tr>\n",
       "    </tbody>\n",
       "</table>"
      ],
      "text/plain": [
       "Major | Accepted | Rejected | Percent Admitted | F Application Count | M Application Count | Percent Female Applicants | Number Applicants\n",
       "A     | 914      | 332      | 0.733547         | 108                 | 1138                | 0.0866774                 | 1246\n",
       "B     | 370      | 215      | 0.632479         | 25                  | 560                 | 0.042735                  | 585\n",
       "C     | 321      | 597      | 0.349673         | 593                 | 325                 | 0.645969                  | 918\n",
       "D     | 269      | 523      | 0.339646         | 375                 | 417                 | 0.473485                  | 792\n",
       "E     | 147      | 437      | 0.251712         | 393                 | 191                 | 0.672945                  | 584\n",
       "F     | 47       | 667      | 0.0658263        | 341                 | 373                 | 0.477591                  | 714\n",
       "Other | 3164     | 4760     | 0.399293         | 2486                | 5438                | 0.31373                   | 7924"
      ]
     },
     "execution_count": 80,
     "metadata": {},
     "output_type": "execute_result"
    }
   ],
   "source": [
    "fig1_test = percent_admit_test.join('Major', num_applicants_test)\n",
    "fig1_test = fig1_test.with_column('Number Applicants', fig1_test.column('Accepted') + fig1_test.column('Rejected'))\n",
    "fig1_test"
   ]
  },
  {
   "cell_type": "code",
   "execution_count": 81,
   "id": "6c4b6c95-8632-46e3-9966-73fd6dc41151",
   "metadata": {},
   "outputs": [
    {
     "data": {
      "image/png": "[encoded data removed]",
      "text/plain": [
       "<Figure size 500x500 with 1 Axes>"
      ]
     },
     "metadata": {},
     "output_type": "display_data"
    }
   ],
   "source": [
    "fig1_test.scatter('Percent Female Applicants', 'Percent Admitted', sizes = 'Number Applicants')"
   ]
  },
  {
   "cell_type": "markdown",
   "id": "23ac8ba8-64f4-4e43-a99a-399097143b52",
   "metadata": {},
   "source": [
    "#### BREAK DONE"
   ]
  },
  {
   "cell_type": "raw",
   "id": "d9308ebb-bcc2-49b9-be4f-3ae3090a9a2e",
   "metadata": {},
   "source": [
    "# BEGIN QUESTION\n",
    "name: q2_6\n",
    "manual: true"
   ]
  },
  {
   "cell_type": "markdown",
   "id": "ef7e3611-a0a8-4dd6-a17c-b92558251d16",
   "metadata": {},
   "source": [
    "### Question 2.6\n",
    "Using `admission_major` and `num_counts`, create two separate overlaid bar charts. The first one will plot the number of applicants of males and females across the six majors, and the second will plot their acceptance rates in the majors."
   ]
  },
  {
   "cell_type": "raw",
   "id": "ebd36acb-e016-4bd6-adc8-cc07eae5922b",
   "metadata": {},
   "source": [
    "# BEGIN SOLUTION"
   ]
  },
  {
   "cell_type": "code",
   "execution_count": 65,
   "id": "5fe7b6d3-766e-4e85-aba2-3959e27ca3aa",
   "metadata": {},
   "outputs": [
    {
     "data": {
      "image/png": "[encoded data removed]",
      "text/plain": [
       "<Figure size 600x400 with 1 Axes>"
      ]
     },
     "metadata": {},
     "output_type": "display_data"
    },
    {
     "data": {
      "image/png": "[encoded data removed]",
      "text/plain": [
       "<Figure size 600x400 with 1 Axes>"
      ]
     },
     "metadata": {},
     "output_type": "display_data"
    }
   ],
   "source": [
    "#admission_major = Table.read_table(path + 'admission_major.csv')\n",
    "#num_applicants = Table.read_table(path + 'num_applicants.csv')\n",
    "\n",
    "admission_major.bar('Major', overlay = True) # SOLUTION\n",
    "num_applicants.bar('Major') # SOLUTION"
   ]
  },
  {
   "cell_type": "raw",
   "id": "e1749b3b-1a9e-4c49-97f7-441c0f3becaf",
   "metadata": {},
   "source": [
    "# END SOLUTION"
   ]
  },
  {
   "cell_type": "raw",
   "id": "6ab84357-47f0-4c62-8058-c39a209955f8",
   "metadata": {},
   "source": [
    "# BEGIN TESTS"
   ]
  },
  {
   "cell_type": "code",
   "execution_count": null,
   "id": "d2726434-10db-422d-9a9b-616fa24ec50f",
   "metadata": {},
   "outputs": [],
   "source": []
  },
  {
   "cell_type": "raw",
   "id": "8d1af30f-97d4-4067-9b1b-bfc573c799bf",
   "metadata": {},
   "source": [
    "# END TESTS "
   ]
  },
  {
   "cell_type": "raw",
   "id": "9ce7a44c-6664-4445-9e71-bd3af964be53",
   "metadata": {},
   "source": [
    "# END QUESTION"
   ]
  },
  {
   "cell_type": "raw",
   "id": "4b9de789-1415-4a8a-8842-dea26e50f41d",
   "metadata": {},
   "source": [
    "# BEGIN QUESTION\n",
    "name: q2_7"
   ]
  },
  {
   "cell_type": "markdown",
   "id": "896875a8-cc17-4741-a6b7-f050671310b3",
   "metadata": {},
   "source": [
    "### Question 2.7\n",
    "Which of the following multiple choice correcrly describes *the visualization created above* with `admission_major` and `num_applicants`? You should answer the question by assigning `q2_7` to `make_array(...)` where `...` is the choice of your answer (eg. `make_array(3, 4)`). Your choice can be can multiple.\n",
    "\n",
    "1. Among the 6 different majors (not including `\"Other\"`, female applicants have a slightly higher chance of being accepted than male applicants in several majors\n",
    "2. Among the 6 different majors (not including `\"Other\"`), male applicants have a slightly higher chance of being accepted than female applicants in several majors.\n",
    "3. Overall, female applicants has higher chance of getting in to UC Berkeley.\n",
    "4. Overall, male applicants has higher chance of getting in to UC Berkeley. \n",
    "5. There seems to be **higher female applicants** to the major when there are **lower female acceptance rate** compared to male acceptance rate.  \n",
    "6. With the visualizatoin above, we can claim there is structrual inequity against female women applicants. "
   ]
  },
  {
   "cell_type": "raw",
   "id": "8681ff68-4b5e-49b2-85a2-2cc90cf01311",
   "metadata": {},
   "source": [
    "# BEGIN SOLUTION"
   ]
  },
  {
   "cell_type": "code",
   "execution_count": null,
   "id": "142e1b95-9c69-4b80-8d85-9a060c3c03d5",
   "metadata": {},
   "outputs": [],
   "source": [
    "q2_7 = make_array(1, 5) # SOLUTION"
   ]
  },
  {
   "cell_type": "raw",
   "id": "706dd621-a088-4d14-b83a-a49ca8ca5089",
   "metadata": {},
   "source": [
    "# END SOLUTION"
   ]
  },
  {
   "cell_type": "raw",
   "id": "8d615759-95e4-4e4e-8414-00e9f2f83d5a",
   "metadata": {},
   "source": [
    "# BEGIN TESTS"
   ]
  },
  {
   "cell_type": "code",
   "execution_count": null,
   "id": "1ad8cabd-9032-421a-a359-7647689ee805",
   "metadata": {},
   "outputs": [],
   "source": []
  },
  {
   "cell_type": "raw",
   "id": "96dd6fca-e181-4940-bebe-3d53ab83e50a",
   "metadata": {},
   "source": [
    "# END TESTS"
   ]
  },
  {
   "cell_type": "raw",
   "id": "73425555-22fe-40cd-b64f-d750af1af9e7",
   "metadata": {},
   "source": [
    "# END QUESTION"
   ]
  },
  {
   "cell_type": "markdown",
   "id": "bf303bda-67dc-41ed-8844-0bfb11883ee2",
   "metadata": {},
   "source": [
    "---\n",
    "### Thinking about Implications 🤔"
   ]
  },
  {
   "cell_type": "raw",
   "id": "48b5ea30-3d12-439a-8196-61978dc5972c",
   "metadata": {},
   "source": [
    "# BEGIN QUESTION\n",
    "name: q2_8\n",
    "manual: true"
   ]
  },
  {
   "cell_type": "markdown",
   "id": "64d25dc7-dd0d-4ce5-b16f-ba635c228bde",
   "metadata": {},
   "source": [
    "### Question 2.8 (Discussion)\n",
    "Consider the takeaways that you had after looking at the different visualizations you created in **Questions 2.4 and 2.6**. Based on what we've discussed regarding the various sociological paradigms, how do you think these conclusions best align with the paradigms?\n",
    "\n",
    "*Hint:* The conclusions might not line up perfectly with any one of the paradigms! Just feel free to reflect on which ones they might line up best or worst with. "
   ]
  },
  {
   "cell_type": "raw",
   "id": "26a4ab40-e0f2-47c9-968c-48bebba43790",
   "metadata": {},
   "source": [
    "# BEGIN SOLUTION"
   ]
  },
  {
   "cell_type": "markdown",
   "id": "68f6f991-69d4-4e46-8904-f43c95a5a8e5",
   "metadata": {},
   "source": [
    "**SOLUTION:** The takeaway from the visualization in Question 2.4 likely best aligns with the conflict paradigm, as the consideration of calculating the aggregated average of males vs. females is primarily meant to explore the difference between the more \"powerful\" vs. less \"powerful\" gender groups in higher education. The takeaway from the visualization in Question 2.6 has aspects of the rational choice and symbolic interactionism paradigms, as it looks into which majors the different gender groups are choosing to apply to and how these decisions might be the best for them. It also breaks down the aggregated admission rates to look at the individuals at a lower, less aggregated level, in order to explore how the acceptance rates are varying by major."
   ]
  },
  {
   "cell_type": "raw",
   "id": "2eb13099-3567-432d-b20e-8293fcac378f",
   "metadata": {},
   "source": [
    "# END SOLUTION"
   ]
  },
  {
   "cell_type": "raw",
   "id": "b36ef60b-e6d7-4fe9-bd97-1d2b8ea4beae",
   "metadata": {},
   "source": [
    "# END QUESTION"
   ]
  },
  {
   "cell_type": "raw",
   "id": "0d2c6d43-2cf4-4f23-8030-b047ec81731d",
   "metadata": {},
   "source": [
    "# BEGIN QUESTION\n",
    "name: q2_9\n",
    "manual: true"
   ]
  },
  {
   "cell_type": "markdown",
   "id": "54dbf2dc-6329-4839-83e1-9965d190d6c3",
   "metadata": {},
   "source": [
    "### Question 2.9 (Discussion) \n",
    "A media company wants to make a report on UC Berkeley admissions. What would happen if they ONLY report with the visualization you created in **`Question 2.4`**? How would this report potentially impact the society we see today?"
   ]
  },
  {
   "cell_type": "raw",
   "id": "d9cbcbbd-dcbd-485e-9971-0f413284d372",
   "metadata": {},
   "source": [
    "# BEGIN SOLUTION"
   ]
  },
  {
   "cell_type": "markdown",
   "id": "1efe89cd-3ee8-4902-868b-2f2fef45523b",
   "metadata": {},
   "source": [
    "**SOLUTION:** Answer may vary. If we only report the first visualization we created, we will be creating a false narrative to an extent about systemic bias against female applicants. This can discourage some male applicants leading to further drastic acceptance rate. Or change the school policy / logistics if more audience pressures the school to take action based on the wrong analysis. Thus, whether it is leaving out certain visualizations or not recognizing certain phenomenon, data analysis can be malpracticed."
   ]
  },
  {
   "cell_type": "raw",
   "id": "0048a168-322e-4bb4-af06-c68fffe8bd66",
   "metadata": {},
   "source": [
    "# END SOLUTION"
   ]
  },
  {
   "cell_type": "raw",
   "id": "a0875028-456d-419c-a7b0-2fb1a5cf1770",
   "metadata": {},
   "source": [
    "# END QUESTION"
   ]
  },
  {
   "cell_type": "raw",
   "id": "e32ff3d7-9725-4256-a162-a183faf80f85",
   "metadata": {},
   "source": [
    "# BEGIN QUESTION\n",
    "name: q2_10\n",
    "manual: true"
   ]
  },
  {
   "cell_type": "markdown",
   "id": "287dc8ee-02b8-40dc-aee3-9e963e935306",
   "metadata": {},
   "source": [
    "### Question 2.10 (Final Reflection)"
   ]
  },
  {
   "cell_type": "raw",
   "id": "f49a1f71-d026-4de4-8b88-7a92868b01b0",
   "metadata": {},
   "source": [
    "# BEGIN SOLUTION"
   ]
  },
  {
   "cell_type": "markdown",
   "id": "b81053ba-5de5-421d-937f-2c1a46578ece",
   "metadata": {},
   "source": [
    "**SOLUTION:** Answer will vary. Student's response should indicate some understanding of ways in which the wrong conclusion can be drawn when not enough care is taken for proper data exploration and visualization. Student can also reflect on societal impacts of these incorrect conclusions being drawn."
   ]
  },
  {
   "cell_type": "raw",
   "id": "c75f2ae2-4df6-4aeb-8559-979b64411fab",
   "metadata": {},
   "source": [
    "# END SOLUTION"
   ]
  },
  {
   "cell_type": "raw",
   "id": "d2375c48-aee2-49f9-a9ef-c3d42e3a67d6",
   "metadata": {},
   "source": [
    "# END QUESTION"
   ]
  },
  {
   "cell_type": "markdown",
   "id": "ce98a085-9924-4b00-92af-0fa7ebafb097",
   "metadata": {},
   "source": [
    "---\n",
    "## Done! 😇\n",
    "\n",
    "That's it! There's nowhere for you to submit this, as labs are not assignments. However, please ask any questions you have with this notebook in lab or on Ed.\n",
    "\n",
    "There are no extra problems this week, good luck with the homework!"
   ]
  },
  {
   "cell_type": "markdown",
   "id": "2c8aba47-e313-4fe7-903c-5c9fa6e5330b",
   "metadata": {},
   "source": [
    "---\n",
    "\n",
    "To double-check your work, the cell below will rerun all of the autograder tests."
   ]
  },
  {
   "cell_type": "code",
   "execution_count": null,
   "id": "acaf60f5-a737-4b7e-9b01-c742097ec8b7",
   "metadata": {},
   "outputs": [],
   "source": [
    "grader.check_all()"
   ]
  }
 ],
 "metadata": {
  "kernelspec": {
   "display_name": "Python 3 (ipykernel)",
   "language": "python",
   "name": "python3"
  },
  "language_info": {
   "codemirror_mode": {
    "name": "ipython",
    "version": 3
   },
   "file_extension": ".py",
   "mimetype": "text/x-python",
   "name": "python",
   "nbconvert_exporter": "python",
   "pygments_lexer": "ipython3",
   "version": "3.9.15"
  }
 },
 "nbformat": 4,
 "nbformat_minor": 5
}
