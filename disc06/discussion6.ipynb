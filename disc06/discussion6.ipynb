{
 "cells": [
  {
   "cell_type": "code",
   "execution_count": 6,
   "id": "596858ae-18ba-47d0-9e0c-136d502365d0",
   "metadata": {},
   "outputs": [],
   "source": [
    "from datascience import *"
   ]
  },
  {
   "cell_type": "markdown",
   "id": "75fb4cf0-f956-4299-aab6-407c3a9c802d",
   "metadata": {},
   "source": [
    "# Discussion 6"
   ]
  },
  {
   "cell_type": "markdown",
   "id": "8f2fe7aa-09cf-46ed-84b2-ffbbea34edfd",
   "metadata": {},
   "source": [
    "## Question 1"
   ]
  },
  {
   "cell_type": "code",
   "execution_count": 11,
   "id": "75b1720d-a910-42d8-bcd0-468bfa07222f",
   "metadata": {},
   "outputs": [
    {
     "data": {
      "text/html": [
       "<table border=\"1\" class=\"dataframe\">\n",
       "    <thead>\n",
       "        <tr>\n",
       "            <th>student_name</th> <th>student_year</th> <th>num_semesters</th> <th>num_units</th> <th>total_cost</th>\n",
       "        </tr>\n",
       "    </thead>\n",
       "    <tbody>\n",
       "        <tr>\n",
       "            <td>Taylor      </td> <td>1st year       </td> <td>2            </td> <td>26       </td> <td>20042.6   </td>\n",
       "        </tr>\n",
       "        <tr>\n",
       "            <td>Mayra       </td> <td>Junior Transfer</td> <td>2            </td> <td>32       </td> <td>21519.9   </td>\n",
       "        </tr>\n",
       "        <tr>\n",
       "            <td>Jacob       </td> <td>3rd year       </td> <td>6            </td> <td>88       </td> <td>47364.2   </td>\n",
       "        </tr>\n",
       "        <tr>\n",
       "            <td>Angeline    </td> <td>5th year       </td> <td>10           </td> <td>149      </td> <td>87274.6   </td>\n",
       "        </tr>\n",
       "        <tr>\n",
       "            <td>Collin      </td> <td>2nd            </td> <td>4            </td> <td>61       </td> <td>37482     </td>\n",
       "        </tr>\n",
       "    </tbody>\n",
       "</table>"
      ],
      "text/plain": [
       "student_name | student_year    | num_semesters | num_units | total_cost\n",
       "Taylor       | 1st year        | 2             | 26        | 20042.6\n",
       "Mayra        | Junior Transfer | 2             | 32        | 21519.9\n",
       "Jacob        | 3rd year        | 6             | 88        | 47364.2\n",
       "Angeline     | 5th year        | 10            | 149       | 87274.6\n",
       "Collin       | 2nd             | 4             | 61        | 37482"
      ]
     },
     "execution_count": 11,
     "metadata": {},
     "output_type": "execute_result"
    }
   ],
   "source": [
    "cost = Table.read_table(\"cost.csv\")\n",
    "cost"
   ]
  },
  {
   "cell_type": "markdown",
   "id": "4434ec04-8cc2-4343-ae8c-e3be39a68cae",
   "metadata": {},
   "source": [
    "### a. Calculate avg units per semester"
   ]
  },
  {
   "cell_type": "code",
   "execution_count": 12,
   "id": "84412827-1ff7-46f7-b0c8-3a8d0bd317af",
   "metadata": {},
   "outputs": [
    {
     "data": {
      "text/plain": [
       "array([ 13.        ,  16.        ,  14.66666667,  14.9       ,  15.25      ])"
      ]
     },
     "execution_count": 12,
     "metadata": {},
     "output_type": "execute_result"
    }
   ],
   "source": [
    "cost.column(\"num_units\") / cost.column(\"num_semesters\")"
   ]
  },
  {
   "cell_type": "markdown",
   "id": "923efab5-feef-4805-8dc2-17682f564081",
   "metadata": {},
   "source": [
    "### b. Define function to calculate avg cost per semester"
   ]
  },
  {
   "cell_type": "code",
   "execution_count": 18,
   "id": "25c89b10-0285-4f4d-b134-931d5ebffdd9",
   "metadata": {},
   "outputs": [],
   "source": [
    "def cost_per_semester(semesters, cost):\n",
    "    return cost / semesters\n",
    "    "
   ]
  },
  {
   "cell_type": "markdown",
   "id": "10caa198-91e0-4024-9e7e-0de736896c34",
   "metadata": {},
   "source": [
    "### c. Apply function and add new column to table"
   ]
  },
  {
   "cell_type": "code",
   "execution_count": 20,
   "id": "4f22e4c0-8818-4295-8a3c-405c772d06eb",
   "metadata": {},
   "outputs": [
    {
     "data": {
      "text/html": [
       "<table border=\"1\" class=\"dataframe\">\n",
       "    <thead>\n",
       "        <tr>\n",
       "            <th>student_name</th> <th>student_year</th> <th>num_semesters</th> <th>num_units</th> <th>total_cost</th> <th>cost_per_semester</th>\n",
       "        </tr>\n",
       "    </thead>\n",
       "    <tbody>\n",
       "        <tr>\n",
       "            <td>Taylor      </td> <td>1st year       </td> <td>2            </td> <td>26       </td> <td>20042.6   </td> <td>10021.3          </td>\n",
       "        </tr>\n",
       "        <tr>\n",
       "            <td>Mayra       </td> <td>Junior Transfer</td> <td>2            </td> <td>32       </td> <td>21519.9   </td> <td>10759.9          </td>\n",
       "        </tr>\n",
       "        <tr>\n",
       "            <td>Jacob       </td> <td>3rd year       </td> <td>6            </td> <td>88       </td> <td>47364.2   </td> <td>7894.03          </td>\n",
       "        </tr>\n",
       "        <tr>\n",
       "            <td>Angeline    </td> <td>5th year       </td> <td>10           </td> <td>149      </td> <td>87274.6   </td> <td>8727.46          </td>\n",
       "        </tr>\n",
       "        <tr>\n",
       "            <td>Collin      </td> <td>2nd            </td> <td>4            </td> <td>61       </td> <td>37482     </td> <td>9370.5           </td>\n",
       "        </tr>\n",
       "    </tbody>\n",
       "</table>"
      ],
      "text/plain": [
       "student_name | student_year    | num_semesters | num_units | total_cost | cost_per_semester\n",
       "Taylor       | 1st year        | 2             | 26        | 20042.6    | 10021.3\n",
       "Mayra        | Junior Transfer | 2             | 32        | 21519.9    | 10759.9\n",
       "Jacob        | 3rd year        | 6             | 88        | 47364.2    | 7894.03\n",
       "Angeline     | 5th year        | 10            | 149       | 87274.6    | 8727.46\n",
       "Collin       | 2nd             | 4             | 61        | 37482      | 9370.5"
      ]
     },
     "execution_count": 20,
     "metadata": {},
     "output_type": "execute_result"
    }
   ],
   "source": [
    "cost_per_sem = cost.apply(cost_per_semester, \"num_semesters\", \"total_cost\")\n",
    "cost = cost.with_column(\"cost_per_semester\", cost_per_sem)\n",
    "cost"
   ]
  },
  {
   "cell_type": "markdown",
   "id": "961e0183-f07b-4dae-b180-bffada3ac751",
   "metadata": {},
   "source": [
    "## Question 2"
   ]
  },
  {
   "cell_type": "code",
   "execution_count": 21,
   "id": "53dab6ef-03cc-45d3-9fb8-85106693cd5b",
   "metadata": {},
   "outputs": [
    {
     "data": {
      "text/html": [
       "<table border=\"1\" class=\"dataframe\">\n",
       "    <thead>\n",
       "        <tr>\n",
       "            <th>department</th> <th>num_students</th> <th>num_classes</th> <th>total_funding</th> <th>is_STEM?</th>\n",
       "        </tr>\n",
       "    </thead>\n",
       "    <tbody>\n",
       "        <tr>\n",
       "            <td>CDSS      </td> <td>837         </td> <td>103        </td> <td>1148364      </td> <td>True    </td>\n",
       "        </tr>\n",
       "        <tr>\n",
       "            <td>EECS      </td> <td>653         </td> <td>95         </td> <td>780335       </td> <td>True    </td>\n",
       "        </tr>\n",
       "        <tr>\n",
       "            <td>Sociology </td> <td>235         </td> <td>36         </td> <td>251685       </td> <td>False   </td>\n",
       "        </tr>\n",
       "        <tr>\n",
       "            <td>Economics </td> <td>359         </td> <td>78         </td> <td>600248       </td> <td>True    </td>\n",
       "        </tr>\n",
       "        <tr>\n",
       "            <td>English   </td> <td>113         </td> <td>23         </td> <td>99327        </td> <td>False   </td>\n",
       "        </tr>\n",
       "    </tbody>\n",
       "</table>"
      ],
      "text/plain": [
       "department | num_students | num_classes | total_funding | is_STEM?\n",
       "CDSS       | 837          | 103         | 1148364       | True\n",
       "EECS       | 653          | 95          | 780335        | True\n",
       "Sociology  | 235          | 36          | 251685        | False\n",
       "Economics  | 359          | 78          | 600248        | True\n",
       "English    | 113          | 23          | 99327         | False"
      ]
     },
     "execution_count": 21,
     "metadata": {},
     "output_type": "execute_result"
    }
   ],
   "source": [
    "departments = Table.read_table(\"departments.csv\")\n",
    "departments"
   ]
  },
  {
   "cell_type": "markdown",
   "id": "ba5d07f2-08f1-480f-a51b-2b99491fb913",
   "metadata": {},
   "source": [
    "### a. Calculate students per class and funding per class"
   ]
  },
  {
   "cell_type": "code",
   "execution_count": 22,
   "id": "639ba9d5-4c06-4441-a285-da94de0d87fe",
   "metadata": {},
   "outputs": [
    {
     "data": {
      "text/plain": [
       "array([ 8.12621359,  6.87368421,  6.52777778,  4.6025641 ,  4.91304348])"
      ]
     },
     "execution_count": 22,
     "metadata": {},
     "output_type": "execute_result"
    }
   ],
   "source": [
    "departments.column(\"num_students\") / departments.column(\"num_classes\")"
   ]
  },
  {
   "cell_type": "code",
   "execution_count": 23,
   "id": "5532ffc5-64f0-48c8-8b8b-c7dffc5fa467",
   "metadata": {},
   "outputs": [
    {
     "data": {
      "text/plain": [
       "array([ 11149.16504854,   8214.05263158,   6991.25      ,   7695.48717949,\n",
       "         4318.56521739])"
      ]
     },
     "execution_count": 23,
     "metadata": {},
     "output_type": "execute_result"
    }
   ],
   "source": [
    "departments.column(\"total_funding\") / departments.column(\"num_classes\")"
   ]
  },
  {
   "cell_type": "markdown",
   "id": "cbfa6d7c-342e-4ed6-8c24-f419d0857e68",
   "metadata": {},
   "source": [
    "### b. Table that groups STEM and non-STEM departments"
   ]
  },
  {
   "cell_type": "code",
   "execution_count": 24,
   "id": "ab0c0fd6-03c9-4644-b76f-59c79c467034",
   "metadata": {},
   "outputs": [
    {
     "data": {
      "text/html": [
       "<table border=\"1\" class=\"dataframe\">\n",
       "    <thead>\n",
       "        <tr>\n",
       "            <th>is_STEM?</th> <th>department sum</th> <th>num_students sum</th> <th>num_classes sum</th> <th>total_funding sum</th>\n",
       "        </tr>\n",
       "    </thead>\n",
       "    <tbody>\n",
       "        <tr>\n",
       "            <td>False   </td> <td>              </td> <td>348             </td> <td>59             </td> <td>351012           </td>\n",
       "        </tr>\n",
       "        <tr>\n",
       "            <td>True    </td> <td>              </td> <td>1849            </td> <td>276            </td> <td>2528947          </td>\n",
       "        </tr>\n",
       "    </tbody>\n",
       "</table>"
      ],
      "text/plain": [
       "is_STEM? | department sum | num_students sum | num_classes sum | total_funding sum\n",
       "False    |                | 348              | 59              | 351012\n",
       "True     |                | 1849             | 276             | 2528947"
      ]
     },
     "execution_count": 24,
     "metadata": {},
     "output_type": "execute_result"
    }
   ],
   "source": [
    "departments.group(\"is_STEM?\", sum)"
   ]
  },
  {
   "cell_type": "markdown",
   "id": "ca1d6b6b-aa6d-4472-b611-2c751d2f44e4",
   "metadata": {},
   "source": [
    "### c. Pivot table to show funding"
   ]
  },
  {
   "cell_type": "code",
   "execution_count": 29,
   "id": "0a4bedb1-d996-462f-82d7-3a3ed24dd6fc",
   "metadata": {},
   "outputs": [
    {
     "data": {
      "text/html": [
       "<table border=\"1\" class=\"dataframe\">\n",
       "    <thead>\n",
       "        <tr>\n",
       "            <th>is_STEM?</th> <th>CDSS</th> <th>EECS</th> <th>Economics</th> <th>English</th> <th>Sociology</th>\n",
       "        </tr>\n",
       "    </thead>\n",
       "    <tbody>\n",
       "        <tr>\n",
       "            <td>False   </td> <td>0      </td> <td>0     </td> <td>0        </td> <td>99327  </td> <td>251685   </td>\n",
       "        </tr>\n",
       "        <tr>\n",
       "            <td>True    </td> <td>1148364</td> <td>780335</td> <td>600248   </td> <td>0      </td> <td>0        </td>\n",
       "        </tr>\n",
       "    </tbody>\n",
       "</table>"
      ],
      "text/plain": [
       "is_STEM? | CDSS    | EECS   | Economics | English | Sociology\n",
       "False    | 0       | 0      | 0         | 99327   | 251685\n",
       "True     | 1148364 | 780335 | 600248    | 0       | 0"
      ]
     },
     "execution_count": 29,
     "metadata": {},
     "output_type": "execute_result"
    }
   ],
   "source": [
    "departments.pivot(\"department\", \"is_STEM?\", \"total_funding\", sum)"
   ]
  },
  {
   "cell_type": "code",
   "execution_count": null,
   "id": "a5edc0ee-7a45-4b2d-9654-8028b4bf0178",
   "metadata": {},
   "outputs": [],
   "source": []
  }
 ],
 "metadata": {
  "kernelspec": {
   "display_name": "Python 3 (ipykernel)",
   "language": "python",
   "name": "python3"
  },
  "language_info": {
   "codemirror_mode": {
    "name": "ipython",
    "version": 3
   },
   "file_extension": ".py",
   "mimetype": "text/x-python",
   "name": "python",
   "nbconvert_exporter": "python",
   "pygments_lexer": "ipython3",
   "version": "3.11.9"
  }
 },
 "nbformat": 4,
 "nbformat_minor": 5
}
